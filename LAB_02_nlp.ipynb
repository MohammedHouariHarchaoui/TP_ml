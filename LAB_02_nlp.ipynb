{
 "cells": [
  {
   "cell_type": "markdown",
   "id": "dacc06e0",
   "metadata": {},
   "source": [
    "# Lab 02 : Sentiment analysis enhancement"
   ]
  },
  {
   "cell_type": "markdown",
   "id": "4152ca6c",
   "metadata": {},
   "source": [
    "## 1. Import packages"
   ]
  },
  {
   "cell_type": "code",
   "execution_count": 1,
   "id": "cb56da4b",
   "metadata": {},
   "outputs": [],
   "source": [
    "import nltk\n",
    "import sklearn\n",
    "import scipy\n",
    "import numpy as np\n",
    "import pandas as pd\n",
    "import tensorflow as tf\n",
    "import gensim\n",
    "import warnings\n",
    "warnings.filterwarnings('ignore')"
   ]
  },
  {
   "cell_type": "markdown",
   "id": "14f7da72",
   "metadata": {},
   "source": [
    "## 2. Data preparation"
   ]
  },
  {
   "cell_type": "markdown",
   "id": "3b719797",
   "metadata": {},
   "source": [
    "> ### 2.1 Data lecture"
   ]
  },
  {
   "cell_type": "markdown",
   "id": "0d9dced1",
   "metadata": {},
   "source": [
    "> ##### 2.1.1 Importing the sentiment analysis dataset"
   ]
  },
  {
   "cell_type": "code",
   "execution_count": 2,
   "id": "1ca24e39",
   "metadata": {},
   "outputs": [
    {
     "data": {
      "text/html": [
       "<div>\n",
       "<style scoped>\n",
       "    .dataframe tbody tr th:only-of-type {\n",
       "        vertical-align: middle;\n",
       "    }\n",
       "\n",
       "    .dataframe tbody tr th {\n",
       "        vertical-align: top;\n",
       "    }\n",
       "\n",
       "    .dataframe thead th {\n",
       "        text-align: right;\n",
       "    }\n",
       "</style>\n",
       "<table border=\"1\" class=\"dataframe\">\n",
       "  <thead>\n",
       "    <tr style=\"text-align: right;\">\n",
       "      <th></th>\n",
       "      <th>Sentence</th>\n",
       "      <th>Sentiment</th>\n",
       "    </tr>\n",
       "  </thead>\n",
       "  <tbody>\n",
       "    <tr>\n",
       "      <th>0</th>\n",
       "      <td>The GeoSolutions technology will leverage Benefon 's GPS solutions by providing Location Based Search Technology , a Communities Platform , location relevant multimedia content and a new and powerful commercial model .</td>\n",
       "      <td>positive</td>\n",
       "    </tr>\n",
       "    <tr>\n",
       "      <th>1</th>\n",
       "      <td>$ESI on lows, down $1.50 to $2.50 BK a real possibility</td>\n",
       "      <td>negative</td>\n",
       "    </tr>\n",
       "    <tr>\n",
       "      <th>2</th>\n",
       "      <td>For the last quarter of 2010 , Componenta 's net sales doubled to EUR131m from EUR76m for the same period a year earlier , while it moved to a zero pre-tax profit from a pre-tax loss of EUR7m .</td>\n",
       "      <td>positive</td>\n",
       "    </tr>\n",
       "    <tr>\n",
       "      <th>3</th>\n",
       "      <td>According to the Finnish-Russian Chamber of Commerce , all the major construction companies of Finland are operating in Russia .</td>\n",
       "      <td>neutral</td>\n",
       "    </tr>\n",
       "    <tr>\n",
       "      <th>4</th>\n",
       "      <td>The Swedish buyout firm has sold its remaining 22.4 percent stake , almost eighteen months after taking the company public in Finland .</td>\n",
       "      <td>neutral</td>\n",
       "    </tr>\n",
       "    <tr>\n",
       "      <th>...</th>\n",
       "      <td>...</td>\n",
       "      <td>...</td>\n",
       "    </tr>\n",
       "    <tr>\n",
       "      <th>5837</th>\n",
       "      <td>RISING costs have forced packaging producer Huhtamaki to axe 90 jobs at its Hampshire manufacturing plant .</td>\n",
       "      <td>negative</td>\n",
       "    </tr>\n",
       "    <tr>\n",
       "      <th>5838</th>\n",
       "      <td>Nordic Walking was first used as a summer training method by cross-country skiers .</td>\n",
       "      <td>neutral</td>\n",
       "    </tr>\n",
       "    <tr>\n",
       "      <th>5839</th>\n",
       "      <td>According shipping company Viking Line , the EU decision will have a significant financial impact .</td>\n",
       "      <td>neutral</td>\n",
       "    </tr>\n",
       "    <tr>\n",
       "      <th>5840</th>\n",
       "      <td>In the building and home improvement trade , sales decreased by 22.5 % to EUR 201.4 mn .</td>\n",
       "      <td>neutral</td>\n",
       "    </tr>\n",
       "    <tr>\n",
       "      <th>5841</th>\n",
       "      <td>HELSINKI AFX - KCI Konecranes said it has won an order for four hot metal ladle cranes from Indian steel producer Bhushan Steel and Strips Ltd. .</td>\n",
       "      <td>positive</td>\n",
       "    </tr>\n",
       "  </tbody>\n",
       "</table>\n",
       "<p>5842 rows × 2 columns</p>\n",
       "</div>"
      ],
      "text/plain": [
       "                                                                                                                                                                                                                        Sentence  \\\n",
       "0     The GeoSolutions technology will leverage Benefon 's GPS solutions by providing Location Based Search Technology , a Communities Platform , location relevant multimedia content and a new and powerful commercial model .   \n",
       "1                                                                                                                                                                        $ESI on lows, down $1.50 to $2.50 BK a real possibility   \n",
       "2                              For the last quarter of 2010 , Componenta 's net sales doubled to EUR131m from EUR76m for the same period a year earlier , while it moved to a zero pre-tax profit from a pre-tax loss of EUR7m .   \n",
       "3                                                                                               According to the Finnish-Russian Chamber of Commerce , all the major construction companies of Finland are operating in Russia .   \n",
       "4                                                                                        The Swedish buyout firm has sold its remaining 22.4 percent stake , almost eighteen months after taking the company public in Finland .   \n",
       "...                                                                                                                                                                                                                          ...   \n",
       "5837                                                                                                                 RISING costs have forced packaging producer Huhtamaki to axe 90 jobs at its Hampshire manufacturing plant .   \n",
       "5838                                                                                                                                         Nordic Walking was first used as a summer training method by cross-country skiers .   \n",
       "5839                                                                                                                         According shipping company Viking Line , the EU decision will have a significant financial impact .   \n",
       "5840                                                                                                                                    In the building and home improvement trade , sales decreased by 22.5 % to EUR 201.4 mn .   \n",
       "5841                                                                           HELSINKI AFX - KCI Konecranes said it has won an order for four hot metal ladle cranes from Indian steel producer Bhushan Steel and Strips Ltd. .   \n",
       "\n",
       "     Sentiment  \n",
       "0     positive  \n",
       "1     negative  \n",
       "2     positive  \n",
       "3      neutral  \n",
       "4      neutral  \n",
       "...        ...  \n",
       "5837  negative  \n",
       "5838   neutral  \n",
       "5839   neutral  \n",
       "5840   neutral  \n",
       "5841  positive  \n",
       "\n",
       "[5842 rows x 2 columns]"
      ]
     },
     "execution_count": 2,
     "metadata": {},
     "output_type": "execute_result"
    }
   ],
   "source": [
    "df = pd.read_csv('finance_sentiment.csv')\n",
    "\n",
    "pd.set_option('display.max_colwidth', None)\n",
    "df"
   ]
  },
  {
   "cell_type": "markdown",
   "id": "4a039269",
   "metadata": {},
   "source": [
    "> ##### 2.1.2 Splitting the dataset into train and test"
   ]
  },
  {
   "cell_type": "code",
   "execution_count": 3,
   "id": "b192db18",
   "metadata": {},
   "outputs": [],
   "source": [
    "from sklearn.model_selection import train_test_split"
   ]
  },
  {
   "cell_type": "code",
   "execution_count": 4,
   "id": "b1c8521b",
   "metadata": {},
   "outputs": [],
   "source": [
    "X = df['Sentence']\n",
    "y = df['Sentiment']"
   ]
  },
  {
   "cell_type": "code",
   "execution_count": 5,
   "id": "ce9c675e",
   "metadata": {},
   "outputs": [],
   "source": [
    "X_train, X_test, y_train, y_test = train_test_split(X, y, test_size=0.3, random_state=0, stratify=y)"
   ]
  },
  {
   "cell_type": "code",
   "execution_count": 6,
   "id": "63149c62",
   "metadata": {},
   "outputs": [
    {
     "data": {
      "text/plain": [
       "(((4089,), (4089,)), ((1753,), (1753,)))"
      ]
     },
     "execution_count": 6,
     "metadata": {},
     "output_type": "execute_result"
    }
   ],
   "source": [
    "((X_train.shape, y_train.shape), (X_test.shape, y_test.shape))"
   ]
  },
  {
   "cell_type": "markdown",
   "id": "7f427933",
   "metadata": {},
   "source": [
    "**Stratify** parameter is used to ensure that the distribution of target classes (positive, negative, neutral) is preserved in both the training (70% of each class samples) and testing set (30% of each class samples), especially when dealing with imbalanced data (860 negative samples, 1852 positive ones, and 3130 neutral ones)"
   ]
  },
  {
   "cell_type": "markdown",
   "id": "7989a54f",
   "metadata": {},
   "source": [
    "> ##### 2.1.3 Train and transformation of labels using LabelBinarizer "
   ]
  },
  {
   "cell_type": "code",
   "execution_count": 7,
   "id": "50347fd3",
   "metadata": {},
   "outputs": [],
   "source": [
    "from sklearn.preprocessing import LabelBinarizer"
   ]
  },
  {
   "cell_type": "code",
   "execution_count": 8,
   "id": "6dac7534",
   "metadata": {},
   "outputs": [
    {
     "data": {
      "text/html": [
       "<style>#sk-container-id-1 {color: black;}#sk-container-id-1 pre{padding: 0;}#sk-container-id-1 div.sk-toggleable {background-color: white;}#sk-container-id-1 label.sk-toggleable__label {cursor: pointer;display: block;width: 100%;margin-bottom: 0;padding: 0.3em;box-sizing: border-box;text-align: center;}#sk-container-id-1 label.sk-toggleable__label-arrow:before {content: \"▸\";float: left;margin-right: 0.25em;color: #696969;}#sk-container-id-1 label.sk-toggleable__label-arrow:hover:before {color: black;}#sk-container-id-1 div.sk-estimator:hover label.sk-toggleable__label-arrow:before {color: black;}#sk-container-id-1 div.sk-toggleable__content {max-height: 0;max-width: 0;overflow: hidden;text-align: left;background-color: #f0f8ff;}#sk-container-id-1 div.sk-toggleable__content pre {margin: 0.2em;color: black;border-radius: 0.25em;background-color: #f0f8ff;}#sk-container-id-1 input.sk-toggleable__control:checked~div.sk-toggleable__content {max-height: 200px;max-width: 100%;overflow: auto;}#sk-container-id-1 input.sk-toggleable__control:checked~label.sk-toggleable__label-arrow:before {content: \"▾\";}#sk-container-id-1 div.sk-estimator input.sk-toggleable__control:checked~label.sk-toggleable__label {background-color: #d4ebff;}#sk-container-id-1 div.sk-label input.sk-toggleable__control:checked~label.sk-toggleable__label {background-color: #d4ebff;}#sk-container-id-1 input.sk-hidden--visually {border: 0;clip: rect(1px 1px 1px 1px);clip: rect(1px, 1px, 1px, 1px);height: 1px;margin: -1px;overflow: hidden;padding: 0;position: absolute;width: 1px;}#sk-container-id-1 div.sk-estimator {font-family: monospace;background-color: #f0f8ff;border: 1px dotted black;border-radius: 0.25em;box-sizing: border-box;margin-bottom: 0.5em;}#sk-container-id-1 div.sk-estimator:hover {background-color: #d4ebff;}#sk-container-id-1 div.sk-parallel-item::after {content: \"\";width: 100%;border-bottom: 1px solid gray;flex-grow: 1;}#sk-container-id-1 div.sk-label:hover label.sk-toggleable__label {background-color: #d4ebff;}#sk-container-id-1 div.sk-serial::before {content: \"\";position: absolute;border-left: 1px solid gray;box-sizing: border-box;top: 0;bottom: 0;left: 50%;z-index: 0;}#sk-container-id-1 div.sk-serial {display: flex;flex-direction: column;align-items: center;background-color: white;padding-right: 0.2em;padding-left: 0.2em;position: relative;}#sk-container-id-1 div.sk-item {position: relative;z-index: 1;}#sk-container-id-1 div.sk-parallel {display: flex;align-items: stretch;justify-content: center;background-color: white;position: relative;}#sk-container-id-1 div.sk-item::before, #sk-container-id-1 div.sk-parallel-item::before {content: \"\";position: absolute;border-left: 1px solid gray;box-sizing: border-box;top: 0;bottom: 0;left: 50%;z-index: -1;}#sk-container-id-1 div.sk-parallel-item {display: flex;flex-direction: column;z-index: 1;position: relative;background-color: white;}#sk-container-id-1 div.sk-parallel-item:first-child::after {align-self: flex-end;width: 50%;}#sk-container-id-1 div.sk-parallel-item:last-child::after {align-self: flex-start;width: 50%;}#sk-container-id-1 div.sk-parallel-item:only-child::after {width: 0;}#sk-container-id-1 div.sk-dashed-wrapped {border: 1px dashed gray;margin: 0 0.4em 0.5em 0.4em;box-sizing: border-box;padding-bottom: 0.4em;background-color: white;}#sk-container-id-1 div.sk-label label {font-family: monospace;font-weight: bold;display: inline-block;line-height: 1.2em;}#sk-container-id-1 div.sk-label-container {text-align: center;}#sk-container-id-1 div.sk-container {/* jupyter's `normalize.less` sets `[hidden] { display: none; }` but bootstrap.min.css set `[hidden] { display: none !important; }` so we also need the `!important` here to be able to override the default hidden behavior on the sphinx rendered scikit-learn.org. See: https://github.com/scikit-learn/scikit-learn/issues/21755 */display: inline-block !important;position: relative;}#sk-container-id-1 div.sk-text-repr-fallback {display: none;}</style><div id=\"sk-container-id-1\" class=\"sk-top-container\"><div class=\"sk-text-repr-fallback\"><pre>LabelBinarizer()</pre><b>In a Jupyter environment, please rerun this cell to show the HTML representation or trust the notebook. <br />On GitHub, the HTML representation is unable to render, please try loading this page with nbviewer.org.</b></div><div class=\"sk-container\" hidden><div class=\"sk-item\"><div class=\"sk-estimator sk-toggleable\"><input class=\"sk-toggleable__control sk-hidden--visually\" id=\"sk-estimator-id-1\" type=\"checkbox\" checked><label for=\"sk-estimator-id-1\" class=\"sk-toggleable__label sk-toggleable__label-arrow\">LabelBinarizer</label><div class=\"sk-toggleable__content\"><pre>LabelBinarizer()</pre></div></div></div></div></div>"
      ],
      "text/plain": [
       "LabelBinarizer()"
      ]
     },
     "execution_count": 8,
     "metadata": {},
     "output_type": "execute_result"
    }
   ],
   "source": [
    "label_binarizer = LabelBinarizer()\n",
    "label_binarizer.fit(y_train)"
   ]
  },
  {
   "cell_type": "code",
   "execution_count": 9,
   "id": "7d6147bc",
   "metadata": {},
   "outputs": [
    {
     "data": {
      "text/plain": [
       "array(['negative', 'neutral', 'positive'], dtype='<U8')"
      ]
     },
     "execution_count": 9,
     "metadata": {},
     "output_type": "execute_result"
    }
   ],
   "source": [
    "label_binarizer.classes_"
   ]
  },
  {
   "cell_type": "code",
   "execution_count": 10,
   "id": "65c1b192",
   "metadata": {},
   "outputs": [
    {
     "data": {
      "text/plain": [
       "array([[0, 0, 1],\n",
       "       [0, 1, 0],\n",
       "       [0, 0, 1],\n",
       "       ...,\n",
       "       [0, 0, 1],\n",
       "       [0, 1, 0],\n",
       "       [0, 0, 1]])"
      ]
     },
     "execution_count": 10,
     "metadata": {},
     "output_type": "execute_result"
    }
   ],
   "source": [
    "y_train_one_hot = label_binarizer.transform(y_train)\n",
    "y_train_one_hot"
   ]
  },
  {
   "cell_type": "code",
   "execution_count": 11,
   "id": "4bba4b13",
   "metadata": {},
   "outputs": [
    {
     "data": {
      "text/plain": [
       "array([[0, 1, 0],\n",
       "       [0, 1, 0],\n",
       "       [0, 1, 0],\n",
       "       ...,\n",
       "       [0, 1, 0],\n",
       "       [1, 0, 0],\n",
       "       [0, 0, 1]])"
      ]
     },
     "execution_count": 11,
     "metadata": {},
     "output_type": "execute_result"
    }
   ],
   "source": [
    "y_test_one_hot = label_binarizer.transform(y_test)\n",
    "y_test_one_hot"
   ]
  },
  {
   "cell_type": "markdown",
   "id": "e646109b",
   "metadata": {},
   "source": [
    "> ### 2.2 Words’ encoding using TF-IDF"
   ]
  },
  {
   "cell_type": "code",
   "execution_count": 12,
   "id": "2fdd4d21",
   "metadata": {},
   "outputs": [],
   "source": [
    "from sklearn.naive_bayes import MultinomialNB\n",
    "from sklearn.feature_extraction.text import TfidfVectorizer\n",
    "import timeit\n",
    "from sklearn.metrics import accuracy_score, classification_report"
   ]
  },
  {
   "cell_type": "code",
   "execution_count": 13,
   "id": "011d1cf6",
   "metadata": {},
   "outputs": [],
   "source": [
    "tfidf_vectorizer = TfidfVectorizer(max_features=5000)  \n",
    "X_train_tfidf = tfidf_vectorizer.fit_transform(X_train)\n",
    "X_test_tfidf = tfidf_vectorizer.transform(X_test)"
   ]
  },
  {
   "cell_type": "markdown",
   "id": "99107994",
   "metadata": {},
   "source": [
    "> ## 3 Train a Multinomial naive bayes"
   ]
  },
  {
   "cell_type": "code",
   "execution_count": 14,
   "id": "b3aa8111",
   "metadata": {
    "scrolled": true
   },
   "outputs": [
    {
     "data": {
      "text/html": [
       "<style>#sk-container-id-2 {color: black;}#sk-container-id-2 pre{padding: 0;}#sk-container-id-2 div.sk-toggleable {background-color: white;}#sk-container-id-2 label.sk-toggleable__label {cursor: pointer;display: block;width: 100%;margin-bottom: 0;padding: 0.3em;box-sizing: border-box;text-align: center;}#sk-container-id-2 label.sk-toggleable__label-arrow:before {content: \"▸\";float: left;margin-right: 0.25em;color: #696969;}#sk-container-id-2 label.sk-toggleable__label-arrow:hover:before {color: black;}#sk-container-id-2 div.sk-estimator:hover label.sk-toggleable__label-arrow:before {color: black;}#sk-container-id-2 div.sk-toggleable__content {max-height: 0;max-width: 0;overflow: hidden;text-align: left;background-color: #f0f8ff;}#sk-container-id-2 div.sk-toggleable__content pre {margin: 0.2em;color: black;border-radius: 0.25em;background-color: #f0f8ff;}#sk-container-id-2 input.sk-toggleable__control:checked~div.sk-toggleable__content {max-height: 200px;max-width: 100%;overflow: auto;}#sk-container-id-2 input.sk-toggleable__control:checked~label.sk-toggleable__label-arrow:before {content: \"▾\";}#sk-container-id-2 div.sk-estimator input.sk-toggleable__control:checked~label.sk-toggleable__label {background-color: #d4ebff;}#sk-container-id-2 div.sk-label input.sk-toggleable__control:checked~label.sk-toggleable__label {background-color: #d4ebff;}#sk-container-id-2 input.sk-hidden--visually {border: 0;clip: rect(1px 1px 1px 1px);clip: rect(1px, 1px, 1px, 1px);height: 1px;margin: -1px;overflow: hidden;padding: 0;position: absolute;width: 1px;}#sk-container-id-2 div.sk-estimator {font-family: monospace;background-color: #f0f8ff;border: 1px dotted black;border-radius: 0.25em;box-sizing: border-box;margin-bottom: 0.5em;}#sk-container-id-2 div.sk-estimator:hover {background-color: #d4ebff;}#sk-container-id-2 div.sk-parallel-item::after {content: \"\";width: 100%;border-bottom: 1px solid gray;flex-grow: 1;}#sk-container-id-2 div.sk-label:hover label.sk-toggleable__label {background-color: #d4ebff;}#sk-container-id-2 div.sk-serial::before {content: \"\";position: absolute;border-left: 1px solid gray;box-sizing: border-box;top: 0;bottom: 0;left: 50%;z-index: 0;}#sk-container-id-2 div.sk-serial {display: flex;flex-direction: column;align-items: center;background-color: white;padding-right: 0.2em;padding-left: 0.2em;position: relative;}#sk-container-id-2 div.sk-item {position: relative;z-index: 1;}#sk-container-id-2 div.sk-parallel {display: flex;align-items: stretch;justify-content: center;background-color: white;position: relative;}#sk-container-id-2 div.sk-item::before, #sk-container-id-2 div.sk-parallel-item::before {content: \"\";position: absolute;border-left: 1px solid gray;box-sizing: border-box;top: 0;bottom: 0;left: 50%;z-index: -1;}#sk-container-id-2 div.sk-parallel-item {display: flex;flex-direction: column;z-index: 1;position: relative;background-color: white;}#sk-container-id-2 div.sk-parallel-item:first-child::after {align-self: flex-end;width: 50%;}#sk-container-id-2 div.sk-parallel-item:last-child::after {align-self: flex-start;width: 50%;}#sk-container-id-2 div.sk-parallel-item:only-child::after {width: 0;}#sk-container-id-2 div.sk-dashed-wrapped {border: 1px dashed gray;margin: 0 0.4em 0.5em 0.4em;box-sizing: border-box;padding-bottom: 0.4em;background-color: white;}#sk-container-id-2 div.sk-label label {font-family: monospace;font-weight: bold;display: inline-block;line-height: 1.2em;}#sk-container-id-2 div.sk-label-container {text-align: center;}#sk-container-id-2 div.sk-container {/* jupyter's `normalize.less` sets `[hidden] { display: none; }` but bootstrap.min.css set `[hidden] { display: none !important; }` so we also need the `!important` here to be able to override the default hidden behavior on the sphinx rendered scikit-learn.org. See: https://github.com/scikit-learn/scikit-learn/issues/21755 */display: inline-block !important;position: relative;}#sk-container-id-2 div.sk-text-repr-fallback {display: none;}</style><div id=\"sk-container-id-2\" class=\"sk-top-container\"><div class=\"sk-text-repr-fallback\"><pre>MultinomialNB()</pre><b>In a Jupyter environment, please rerun this cell to show the HTML representation or trust the notebook. <br />On GitHub, the HTML representation is unable to render, please try loading this page with nbviewer.org.</b></div><div class=\"sk-container\" hidden><div class=\"sk-item\"><div class=\"sk-estimator sk-toggleable\"><input class=\"sk-toggleable__control sk-hidden--visually\" id=\"sk-estimator-id-2\" type=\"checkbox\" checked><label for=\"sk-estimator-id-2\" class=\"sk-toggleable__label sk-toggleable__label-arrow\">MultinomialNB</label><div class=\"sk-toggleable__content\"><pre>MultinomialNB()</pre></div></div></div></div></div>"
      ],
      "text/plain": [
       "MultinomialNB()"
      ]
     },
     "execution_count": 14,
     "metadata": {},
     "output_type": "execute_result"
    }
   ],
   "source": [
    "M_NB = MultinomialNB()\n",
    "M_NB.fit(X_train_tfidf, y_train)"
   ]
  },
  {
   "cell_type": "code",
   "execution_count": 15,
   "id": "e72a1f99",
   "metadata": {},
   "outputs": [],
   "source": [
    "predictions = M_NB.predict(X_test_tfidf)"
   ]
  },
  {
   "cell_type": "code",
   "execution_count": 16,
   "id": "6c1c1f5c",
   "metadata": {},
   "outputs": [
    {
     "name": "stdout",
     "output_type": "stream",
     "text": [
      "m1 0.0015656000000001669\n",
      "              precision    recall  f1-score   support\n",
      "\n",
      "    negative       0.71      0.04      0.07       258\n",
      "     neutral       0.66      0.96      0.78       939\n",
      "    positive       0.72      0.49      0.58       556\n",
      "\n",
      "    accuracy                           0.68      1753\n",
      "   macro avg       0.70      0.50      0.48      1753\n",
      "weighted avg       0.69      0.68      0.62      1753\n",
      "\n"
     ]
    }
   ],
   "source": [
    "t = timeit.default_timer()\n",
    "Ypred = M_NB.predict(X_test_tfidf)\n",
    "print('m1', timeit.default_timer()-t)\n",
    "print(classification_report(y_test, Ypred, zero_division=0))"
   ]
  },
  {
   "cell_type": "markdown",
   "id": "31196f8a",
   "metadata": {},
   "source": [
    "> ## 4. Processing data"
   ]
  },
  {
   "cell_type": "code",
   "execution_count": 17,
   "id": "b043fdc9",
   "metadata": {},
   "outputs": [],
   "source": [
    "import nltk\n",
    "import string\n",
    "from nltk.corpus import stopwords\n",
    "from nltk.stem import WordNetLemmatizer\n",
    "from nltk.tokenize import word_tokenize"
   ]
  },
  {
   "cell_type": "code",
   "execution_count": 18,
   "id": "f7ccb247",
   "metadata": {},
   "outputs": [
    {
     "name": "stderr",
     "output_type": "stream",
     "text": [
      "[nltk_data] Downloading package punkt to\n",
      "[nltk_data]     C:\\Users\\T470P\\AppData\\Roaming\\nltk_data...\n",
      "[nltk_data]   Package punkt is already up-to-date!\n",
      "[nltk_data] Downloading package stopwords to\n",
      "[nltk_data]     C:\\Users\\T470P\\AppData\\Roaming\\nltk_data...\n",
      "[nltk_data]   Package stopwords is already up-to-date!\n",
      "[nltk_data] Downloading package wordnet to\n",
      "[nltk_data]     C:\\Users\\T470P\\AppData\\Roaming\\nltk_data...\n",
      "[nltk_data]   Package wordnet is already up-to-date!\n",
      "[nltk_data] Downloading package omw-1.4 to\n",
      "[nltk_data]     C:\\Users\\T470P\\AppData\\Roaming\\nltk_data...\n",
      "[nltk_data]   Package omw-1.4 is already up-to-date!\n"
     ]
    },
    {
     "data": {
      "text/plain": [
       "True"
      ]
     },
     "execution_count": 18,
     "metadata": {},
     "output_type": "execute_result"
    }
   ],
   "source": [
    "nltk.download('punkt')\n",
    "nltk.download('stopwords')\n",
    "nltk.download('wordnet')\n",
    "nltk.download('omw-1.4')"
   ]
  },
  {
   "cell_type": "code",
   "execution_count": 19,
   "id": "7352401a",
   "metadata": {},
   "outputs": [],
   "source": [
    "stop_words = set(stopwords.words('english'))"
   ]
  },
  {
   "cell_type": "code",
   "execution_count": 20,
   "id": "8eed713f",
   "metadata": {},
   "outputs": [],
   "source": [
    "lemmatizer = WordNetLemmatizer()"
   ]
  },
  {
   "cell_type": "code",
   "execution_count": 21,
   "id": "6e2d7161",
   "metadata": {},
   "outputs": [],
   "source": [
    "import re\n",
    "def preprocess_text(text):\n",
    "    text = text.lower()\n",
    "    text = text.translate(str.maketrans(\"\", \"\", string.punctuation))\n",
    "    text = re.sub(r'\\d+', '', text)\n",
    "    tokens = word_tokenize(text)\n",
    "    tokens = [lemmatizer.lemmatize(token) for token in tokens if token.lower() not in stop_words]\n",
    "    preprocessed_text = ' '.join(tokens)\n",
    "    return preprocessed_text"
   ]
  },
  {
   "cell_type": "code",
   "execution_count": 22,
   "id": "67e01315",
   "metadata": {
    "scrolled": false
   },
   "outputs": [],
   "source": [
    "X_train_processed = X_train.apply(preprocess_text)"
   ]
  },
  {
   "cell_type": "code",
   "execution_count": 23,
   "id": "24881114",
   "metadata": {},
   "outputs": [],
   "source": [
    "X_test_processed = X_test.apply(preprocess_text)"
   ]
  },
  {
   "cell_type": "code",
   "execution_count": 24,
   "id": "b7418eb6",
   "metadata": {},
   "outputs": [
    {
     "data": {
      "text/plain": [
       "5557    The Nokian tyre proves its high safety excellently in the important driving qualities stability with mark 1.4 , handling 1.5 and braking on wet road with 1.9 .\n",
       "4417                                                                                               The use case dramatically narrows if you go only with the hot s Ltd.\n",
       "5037         In January-September 2007 , the group 's net sales from continuing operations rose to EUR 213.1 mn from EUR 172.6 mn in the corresponding period in 2006 .\n",
       "3644                                                                                         Exel Composites ' long-term growth prospects remain favourable , however .\n",
       "3072                                                 The Dutch broker noted that Nokian Tyres reported a good first quarter in 2006 , above or in line with consensus .\n",
       "                                                                                     ...                                                                               \n",
       "3275                                                The company is also seeking possibilities to relocate the Luumaki personnel , some 50 people , to other UPM mills .\n",
       "3699                                                               The authorization is in force for a period of 18 months from the resolution by the General Meeting .\n",
       "979                                                                                               After Barclays and Bank of America, Citigroup has blockchain in sight\n",
       "2894                                                                Technopolis has set aside a plot of land measuring 4.6 hectares to build the park , Mikkonen said .\n",
       "1986                                                                                                                             NYSE owner ICE considers offer for LSE\n",
       "Name: Sentence, Length: 4089, dtype: object"
      ]
     },
     "execution_count": 24,
     "metadata": {},
     "output_type": "execute_result"
    }
   ],
   "source": [
    "X_train"
   ]
  },
  {
   "cell_type": "code",
   "execution_count": 25,
   "id": "6d58dfb4",
   "metadata": {
    "scrolled": true
   },
   "outputs": [
    {
     "data": {
      "text/plain": [
       "5557    nokian tyre prof high safety excellently important driving quality stability mark handling braking wet road\n",
       "4417                                                                        use case dramatically narrow go hot ltd\n",
       "5037                   januaryseptember group net sale continuing operation rose eur mn eur mn corresponding period\n",
       "3644                                              exel composite longterm growth prospect remain favourable however\n",
       "3072                                      dutch broker noted nokian tyre reported good first quarter line consensus\n",
       "                                                           ...                                                     \n",
       "3275                                    company also seeking possibility relocate luumaki personnel people upm mill\n",
       "3699                                                    authorization force period month resolution general meeting\n",
       "979                                                                barclays bank america citigroup blockchain sight\n",
       "2894                                     technopolis set aside plot land measuring hectare build park mikkonen said\n",
       "1986                                                                             nyse owner ice considers offer lse\n",
       "Name: Sentence, Length: 4089, dtype: object"
      ]
     },
     "execution_count": 25,
     "metadata": {},
     "output_type": "execute_result"
    }
   ],
   "source": [
    "X_train_processed"
   ]
  },
  {
   "cell_type": "markdown",
   "id": "4f0a560a",
   "metadata": {},
   "source": [
    "> ## 5. Word2Vec transformation"
   ]
  },
  {
   "cell_type": "code",
   "execution_count": 26,
   "id": "fd3b9b18",
   "metadata": {},
   "outputs": [],
   "source": [
    "from gensim.models import Word2Vec\n",
    "\n",
    "X_train_tokenized = [text.split() for text in X_train_processed]\n",
    "X_test_tokenized = [text.split() for text in X_test_processed]"
   ]
  },
  {
   "cell_type": "code",
   "execution_count": 27,
   "id": "4bd2b2aa",
   "metadata": {},
   "outputs": [],
   "source": [
    "w2vec = Word2Vec(sentences=X_train_tokenized, vector_size=100, window=5, min_count=1)"
   ]
  },
  {
   "cell_type": "code",
   "execution_count": 28,
   "id": "da76fa82",
   "metadata": {},
   "outputs": [],
   "source": [
    "def document_vector(tokens, model):\n",
    "    vectors = [model.wv[token] for token in tokens if token in model.wv]\n",
    "    if not vectors:\n",
    "        # If no valid vectors are found, return a vector of zeros\n",
    "        return np.zeros(model.vector_size)\n",
    "    vector = np.mean(vectors, axis=0)\n",
    "    return vector"
   ]
  },
  {
   "cell_type": "code",
   "execution_count": 29,
   "id": "74c81df9",
   "metadata": {},
   "outputs": [],
   "source": [
    "X_train_w2vec = np.array([document_vector(tokens, w2vec) for tokens in X_train_tokenized])\n",
    "X_test_w2vec = np.array([document_vector(tokens, w2vec) for tokens in X_test_tokenized])"
   ]
  },
  {
   "cell_type": "code",
   "execution_count": 30,
   "id": "1b750de8",
   "metadata": {},
   "outputs": [],
   "source": [
    "from sklearn.preprocessing import LabelEncoder\n",
    "\n",
    "label_encoder = LabelEncoder()\n",
    "y_train_encoded = label_encoder.fit_transform(y_train)\n",
    "y_test_encoded = label_encoder.transform(y_test)"
   ]
  },
  {
   "cell_type": "markdown",
   "id": "1cd0d8cf",
   "metadata": {},
   "source": [
    "> ## 6. Testing models"
   ]
  },
  {
   "cell_type": "code",
   "execution_count": 85,
   "id": "f080aab6",
   "metadata": {},
   "outputs": [
    {
     "data": {
      "text/html": [
       "<style>#sk-container-id-7 {color: black;}#sk-container-id-7 pre{padding: 0;}#sk-container-id-7 div.sk-toggleable {background-color: white;}#sk-container-id-7 label.sk-toggleable__label {cursor: pointer;display: block;width: 100%;margin-bottom: 0;padding: 0.3em;box-sizing: border-box;text-align: center;}#sk-container-id-7 label.sk-toggleable__label-arrow:before {content: \"▸\";float: left;margin-right: 0.25em;color: #696969;}#sk-container-id-7 label.sk-toggleable__label-arrow:hover:before {color: black;}#sk-container-id-7 div.sk-estimator:hover label.sk-toggleable__label-arrow:before {color: black;}#sk-container-id-7 div.sk-toggleable__content {max-height: 0;max-width: 0;overflow: hidden;text-align: left;background-color: #f0f8ff;}#sk-container-id-7 div.sk-toggleable__content pre {margin: 0.2em;color: black;border-radius: 0.25em;background-color: #f0f8ff;}#sk-container-id-7 input.sk-toggleable__control:checked~div.sk-toggleable__content {max-height: 200px;max-width: 100%;overflow: auto;}#sk-container-id-7 input.sk-toggleable__control:checked~label.sk-toggleable__label-arrow:before {content: \"▾\";}#sk-container-id-7 div.sk-estimator input.sk-toggleable__control:checked~label.sk-toggleable__label {background-color: #d4ebff;}#sk-container-id-7 div.sk-label input.sk-toggleable__control:checked~label.sk-toggleable__label {background-color: #d4ebff;}#sk-container-id-7 input.sk-hidden--visually {border: 0;clip: rect(1px 1px 1px 1px);clip: rect(1px, 1px, 1px, 1px);height: 1px;margin: -1px;overflow: hidden;padding: 0;position: absolute;width: 1px;}#sk-container-id-7 div.sk-estimator {font-family: monospace;background-color: #f0f8ff;border: 1px dotted black;border-radius: 0.25em;box-sizing: border-box;margin-bottom: 0.5em;}#sk-container-id-7 div.sk-estimator:hover {background-color: #d4ebff;}#sk-container-id-7 div.sk-parallel-item::after {content: \"\";width: 100%;border-bottom: 1px solid gray;flex-grow: 1;}#sk-container-id-7 div.sk-label:hover label.sk-toggleable__label {background-color: #d4ebff;}#sk-container-id-7 div.sk-serial::before {content: \"\";position: absolute;border-left: 1px solid gray;box-sizing: border-box;top: 0;bottom: 0;left: 50%;z-index: 0;}#sk-container-id-7 div.sk-serial {display: flex;flex-direction: column;align-items: center;background-color: white;padding-right: 0.2em;padding-left: 0.2em;position: relative;}#sk-container-id-7 div.sk-item {position: relative;z-index: 1;}#sk-container-id-7 div.sk-parallel {display: flex;align-items: stretch;justify-content: center;background-color: white;position: relative;}#sk-container-id-7 div.sk-item::before, #sk-container-id-7 div.sk-parallel-item::before {content: \"\";position: absolute;border-left: 1px solid gray;box-sizing: border-box;top: 0;bottom: 0;left: 50%;z-index: -1;}#sk-container-id-7 div.sk-parallel-item {display: flex;flex-direction: column;z-index: 1;position: relative;background-color: white;}#sk-container-id-7 div.sk-parallel-item:first-child::after {align-self: flex-end;width: 50%;}#sk-container-id-7 div.sk-parallel-item:last-child::after {align-self: flex-start;width: 50%;}#sk-container-id-7 div.sk-parallel-item:only-child::after {width: 0;}#sk-container-id-7 div.sk-dashed-wrapped {border: 1px dashed gray;margin: 0 0.4em 0.5em 0.4em;box-sizing: border-box;padding-bottom: 0.4em;background-color: white;}#sk-container-id-7 div.sk-label label {font-family: monospace;font-weight: bold;display: inline-block;line-height: 1.2em;}#sk-container-id-7 div.sk-label-container {text-align: center;}#sk-container-id-7 div.sk-container {/* jupyter's `normalize.less` sets `[hidden] { display: none; }` but bootstrap.min.css set `[hidden] { display: none !important; }` so we also need the `!important` here to be able to override the default hidden behavior on the sphinx rendered scikit-learn.org. See: https://github.com/scikit-learn/scikit-learn/issues/21755 */display: inline-block !important;position: relative;}#sk-container-id-7 div.sk-text-repr-fallback {display: none;}</style><div id=\"sk-container-id-7\" class=\"sk-top-container\"><div class=\"sk-text-repr-fallback\"><pre>GaussianNB()</pre><b>In a Jupyter environment, please rerun this cell to show the HTML representation or trust the notebook. <br />On GitHub, the HTML representation is unable to render, please try loading this page with nbviewer.org.</b></div><div class=\"sk-container\" hidden><div class=\"sk-item\"><div class=\"sk-estimator sk-toggleable\"><input class=\"sk-toggleable__control sk-hidden--visually\" id=\"sk-estimator-id-7\" type=\"checkbox\" checked><label for=\"sk-estimator-id-7\" class=\"sk-toggleable__label sk-toggleable__label-arrow\">GaussianNB</label><div class=\"sk-toggleable__content\"><pre>GaussianNB()</pre></div></div></div></div></div>"
      ],
      "text/plain": [
       "GaussianNB()"
      ]
     },
     "execution_count": 85,
     "metadata": {},
     "output_type": "execute_result"
    }
   ],
   "source": [
    "gnb = GaussianNB()\n",
    "gnb.fit(X_train_w2vec, y_train)"
   ]
  },
  {
   "cell_type": "code",
   "execution_count": 86,
   "id": "60d63200",
   "metadata": {},
   "outputs": [],
   "source": [
    "predictions = gnb.predict(X_test_w2vec)"
   ]
  },
  {
   "cell_type": "code",
   "execution_count": 88,
   "id": "d20c6ea0",
   "metadata": {},
   "outputs": [
    {
     "name": "stdout",
     "output_type": "stream",
     "text": [
      "m1 0.006486400000085268\n",
      "              precision    recall  f1-score   support\n",
      "\n",
      "    negative       0.25      0.29      0.27       258\n",
      "     neutral       0.60      0.68      0.63       939\n",
      "    positive       0.37      0.26      0.30       556\n",
      "\n",
      "    accuracy                           0.49      1753\n",
      "   macro avg       0.41      0.41      0.40      1753\n",
      "weighted avg       0.47      0.49      0.48      1753\n",
      "\n"
     ]
    }
   ],
   "source": [
    "t = timeit.default_timer()\n",
    "Ypred = gnb.predict(X_test_w2vec)\n",
    "print('m1', timeit.default_timer()-t)\n",
    "print(classification_report(y_test, Ypred, zero_division=0))"
   ]
  },
  {
   "cell_type": "code",
   "execution_count": 95,
   "id": "d8ed54b2",
   "metadata": {},
   "outputs": [],
   "source": [
    "import time\n",
    "from sklearn.metrics import accuracy_score, f1_score\n",
    "from sklearn.preprocessing import LabelEncoder\n",
    "\n",
    "\n",
    "def evaluate_classification_models(X_train, X_test, y_train, y_test):\n",
    "    from sklearn.tree import DecisionTreeClassifier\n",
    "    from sklearn.ensemble import RandomForestClassifier\n",
    "    from xgboost import XGBClassifier\n",
    "    import seaborn as sns\n",
    "    import matplotlib.pyplot as plt\n",
    "    from sklearn.svm import SVC\n",
    "    from sklearn.neighbors import KNeighborsClassifier\n",
    "    from sklearn.neural_network import MLPClassifier\n",
    "    from sklearn.naive_bayes import GaussianNB\n",
    "    from sklearn.ensemble import AdaBoostClassifier\n",
    "    from sklearn.ensemble import GradientBoostingClassifier\n",
    "\n",
    "    ml_names = ['Decision Tree Classifier', 'Random Forest Classifier',\n",
    "                'XGBoost Classifier', 'Support Vector Classifier', 'KNN Classifier',\n",
    "                'Gaussian Naive Bayes', 'AdaBoost', 'Gradient Boosting'] \n",
    "\n",
    "    ml_models = [\n",
    "        DecisionTreeClassifier(),\n",
    "        RandomForestClassifier(random_state=42),\n",
    "        XGBClassifier(random_state=42),\n",
    "        SVC(kernel='rbf', probability=True),\n",
    "        KNeighborsClassifier(),\n",
    "        GaussianNB(),\n",
    "        AdaBoostClassifier(random_state=42),\n",
    "        GradientBoostingClassifier(random_state=42)\n",
    "    ]\n",
    "\n",
    "    results = pd.DataFrame(columns=['Model', 'Train Accuracy', 'Test Accuracy', 'Train F1 Score', 'Test F1 Score', 'Training Time'])\n",
    "\n",
    "\n",
    "    for model_name, model in zip(ml_names, ml_models):\n",
    "        start_time = time.time()  \n",
    "        model.fit(X_train, y_train)\n",
    "        end_time = time.time()  \n",
    "        training_time = end_time - start_time  \n",
    "\n",
    "        y_train_pred = model.predict(X_train)\n",
    "        y_test_pred = model.predict(X_test)\n",
    "\n",
    "        train_acc = accuracy_score(y_train, y_train_pred)\n",
    "        test_acc = accuracy_score(y_test, y_test_pred)\n",
    "        train_f1 = f1_score(y_train, y_train_pred, average='weighted')\n",
    "        test_f1 = f1_score(y_test, y_test_pred, average='weighted')\n",
    "\n",
    "        results = results.append({\n",
    "            'Model': model_name,\n",
    "            'Train Accuracy': train_acc,\n",
    "            'Test Accuracy': test_acc,\n",
    "            'Train F1 Score': train_f1,\n",
    "            'Test F1 Score': test_f1,\n",
    "            'Training Time': training_time\n",
    "        }, ignore_index=True)\n",
    "\n",
    "    results = results.sort_values(by=['Test F1 Score', 'Training Time'], ascending=[False, True])\n",
    "\n",
    "    bar_width = 0.35\n",
    "    x = np.arange(len(results['Model']))\n",
    "    sns.set(style=\"whitegrid\")\n",
    "    palette = sns.color_palette(\"pastel\")\n",
    "    fig, ax = plt.subplots()\n",
    "    train_f1_bars = ax.bar(x - bar_width/2, results['Train F1 Score'], bar_width, label='Train F1 Score', color=palette[0])\n",
    "    test_f1_bars = ax.bar(x + bar_width/2, results['Test F1 Score'], bar_width, label='Test F1 Score', color=palette[1])\n",
    "    ax.set_xlabel('Model')\n",
    "    ax.set_ylabel('F1 Score')\n",
    "    ax.set_title('Train F1 Score and Test F1 Score for Different Models')\n",
    "    ax.set_xticks(x)\n",
    "    ax.set_xticklabels(results['Model'])\n",
    "    plt.xticks(rotation=45)\n",
    "    ax.legend()\n",
    "    plt.show()\n",
    "\n",
    "    return results"
   ]
  },
  {
   "cell_type": "code",
   "execution_count": 96,
   "id": "4c11ef51",
   "metadata": {},
   "outputs": [
    {
     "data": {
      "image/png": "[encoded data removed]",
      "text/plain": [
       "<Figure size 640x480 with 1 Axes>"
      ]
     },
     "metadata": {},
     "output_type": "display_data"
    },
    {
     "data": {
      "text/html": [
       "<div>\n",
       "<style scoped>\n",
       "    .dataframe tbody tr th:only-of-type {\n",
       "        vertical-align: middle;\n",
       "    }\n",
       "\n",
       "    .dataframe tbody tr th {\n",
       "        vertical-align: top;\n",
       "    }\n",
       "\n",
       "    .dataframe thead th {\n",
       "        text-align: right;\n",
       "    }\n",
       "</style>\n",
       "<table border=\"1\" class=\"dataframe\">\n",
       "  <thead>\n",
       "    <tr style=\"text-align: right;\">\n",
       "      <th></th>\n",
       "      <th>Model</th>\n",
       "      <th>Train Accuracy</th>\n",
       "      <th>Test Accuracy</th>\n",
       "      <th>Train F1 Score</th>\n",
       "      <th>Test F1 Score</th>\n",
       "      <th>Training Time</th>\n",
       "    </tr>\n",
       "  </thead>\n",
       "  <tbody>\n",
       "    <tr>\n",
       "      <th>5</th>\n",
       "      <td>Gaussian Naive Bayes</td>\n",
       "      <td>0.459526</td>\n",
       "      <td>0.486594</td>\n",
       "      <td>0.458584</td>\n",
       "      <td>0.475509</td>\n",
       "      <td>0.000000</td>\n",
       "    </tr>\n",
       "    <tr>\n",
       "      <th>7</th>\n",
       "      <td>Gradient Boosting</td>\n",
       "      <td>0.695035</td>\n",
       "      <td>0.528237</td>\n",
       "      <td>0.656198</td>\n",
       "      <td>0.454862</td>\n",
       "      <td>115.938646</td>\n",
       "    </tr>\n",
       "    <tr>\n",
       "      <th>2</th>\n",
       "      <td>XGBoost Classifier</td>\n",
       "      <td>0.940572</td>\n",
       "      <td>0.474615</td>\n",
       "      <td>0.937753</td>\n",
       "      <td>0.445769</td>\n",
       "      <td>6.601394</td>\n",
       "    </tr>\n",
       "    <tr>\n",
       "      <th>4</th>\n",
       "      <td>KNN Classifier</td>\n",
       "      <td>0.631695</td>\n",
       "      <td>0.475185</td>\n",
       "      <td>0.608882</td>\n",
       "      <td>0.443126</td>\n",
       "      <td>0.000000</td>\n",
       "    </tr>\n",
       "    <tr>\n",
       "      <th>6</th>\n",
       "      <td>AdaBoost</td>\n",
       "      <td>0.563463</td>\n",
       "      <td>0.524244</td>\n",
       "      <td>0.488101</td>\n",
       "      <td>0.435374</td>\n",
       "      <td>6.779680</td>\n",
       "    </tr>\n",
       "    <tr>\n",
       "      <th>1</th>\n",
       "      <td>Random Forest Classifier</td>\n",
       "      <td>0.940572</td>\n",
       "      <td>0.467199</td>\n",
       "      <td>0.938471</td>\n",
       "      <td>0.425539</td>\n",
       "      <td>12.046679</td>\n",
       "    </tr>\n",
       "    <tr>\n",
       "      <th>0</th>\n",
       "      <td>Decision Tree Classifier</td>\n",
       "      <td>0.940572</td>\n",
       "      <td>0.383343</td>\n",
       "      <td>0.943700</td>\n",
       "      <td>0.392804</td>\n",
       "      <td>1.548535</td>\n",
       "    </tr>\n",
       "    <tr>\n",
       "      <th>3</th>\n",
       "      <td>Support Vector Classifier</td>\n",
       "      <td>0.538518</td>\n",
       "      <td>0.530519</td>\n",
       "      <td>0.400377</td>\n",
       "      <td>0.386635</td>\n",
       "      <td>7.215428</td>\n",
       "    </tr>\n",
       "  </tbody>\n",
       "</table>\n",
       "</div>"
      ],
      "text/plain": [
       "                       Model  Train Accuracy  Test Accuracy  Train F1 Score  \\\n",
       "5       Gaussian Naive Bayes        0.459526       0.486594        0.458584   \n",
       "7          Gradient Boosting        0.695035       0.528237        0.656198   \n",
       "2         XGBoost Classifier        0.940572       0.474615        0.937753   \n",
       "4             KNN Classifier        0.631695       0.475185        0.608882   \n",
       "6                   AdaBoost        0.563463       0.524244        0.488101   \n",
       "1   Random Forest Classifier        0.940572       0.467199        0.938471   \n",
       "0   Decision Tree Classifier        0.940572       0.383343        0.943700   \n",
       "3  Support Vector Classifier        0.538518       0.530519        0.400377   \n",
       "\n",
       "   Test F1 Score  Training Time  \n",
       "5       0.475509       0.000000  \n",
       "7       0.454862     115.938646  \n",
       "2       0.445769       6.601394  \n",
       "4       0.443126       0.000000  \n",
       "6       0.435374       6.779680  \n",
       "1       0.425539      12.046679  \n",
       "0       0.392804       1.548535  \n",
       "3       0.386635       7.215428  "
      ]
     },
     "execution_count": 96,
     "metadata": {},
     "output_type": "execute_result"
    }
   ],
   "source": [
    "evaluate_classification_models(X_train_w2vec, X_test_w2vec, y_train_encoded, y_test_encoded)"
   ]
  },
  {
   "cell_type": "markdown",
   "id": "5cd4e92c",
   "metadata": {},
   "source": [
    "> ## 7. Testing KNN on tf-idf"
   ]
  },
  {
   "cell_type": "code",
   "execution_count": 114,
   "id": "4b4171a5",
   "metadata": {},
   "outputs": [
    {
     "name": "stdout",
     "output_type": "stream",
     "text": [
      "Accuracy: 0.62\n",
      "              precision    recall  f1-score   support\n",
      "\n",
      "    negative       0.32      0.24      0.27       258\n",
      "     neutral       0.65      0.87      0.74       939\n",
      "    positive       0.66      0.37      0.48       556\n",
      "\n",
      "    accuracy                           0.62      1753\n",
      "   macro avg       0.54      0.49      0.50      1753\n",
      "weighted avg       0.61      0.62      0.59      1753\n",
      "\n"
     ]
    }
   ],
   "source": [
    "from sklearn.neighbors import KNeighborsClassifier\n",
    "\n",
    "knn_classifier = KNeighborsClassifier(n_neighbors=5)\n",
    "knn_classifier.fit(X_train_tfidf, y_train)\n",
    "\n",
    "predictions = knn_classifier.predict(X_test_tfidf)\n",
    "\n",
    "accuracy = accuracy_score(y_test, predictions)\n",
    "print(f'Accuracy: {accuracy:.2f}')\n",
    "print(classification_report(y_test, predictions))"
   ]
  },
  {
   "cell_type": "markdown",
   "id": "0e06432c",
   "metadata": {},
   "source": [
    "> #### 9.1 Fine tunning KNN"
   ]
  },
  {
   "cell_type": "code",
   "execution_count": 123,
   "id": "896bcf8a",
   "metadata": {},
   "outputs": [
    {
     "name": "stdout",
     "output_type": "stream",
     "text": [
      "Best Parameters:  {'metric': 'euclidean', 'n_neighbors': 26, 'weights': 'uniform'}\n",
      "Best Accuracy: 0.67\n",
      "Accuracy: 0.68\n",
      "              precision    recall  f1-score   support\n",
      "\n",
      "    negative       0.66      0.14      0.24       258\n",
      "     neutral       0.68      0.92      0.78       939\n",
      "    positive       0.67      0.51      0.58       556\n",
      "\n",
      "    accuracy                           0.68      1753\n",
      "   macro avg       0.67      0.52      0.53      1753\n",
      "weighted avg       0.67      0.68      0.64      1753\n",
      "\n"
     ]
    }
   ],
   "source": [
    "from sklearn.model_selection import GridSearchCV\n",
    "\n",
    "param_grid = {\n",
    "    'n_neighbors': np.array(range(10,30)),\n",
    "    'weights': ['uniform', 'distance'],\n",
    "    'metric': ['euclidean', 'manhattan']\n",
    "}\n",
    "\n",
    "knn_classifier = KNeighborsClassifier()\n",
    "\n",
    "grid_search = GridSearchCV(knn_classifier, param_grid, cv=5, scoring='accuracy', n_jobs=-1)\n",
    "\n",
    "grid_search.fit(X_train_tfidf, y_train)\n",
    "\n",
    "print(\"Best Parameters: \", grid_search.best_params_)\n",
    "print(\"Best Accuracy: {:.2f}\".format(grid_search.best_score_))\n",
    "\n",
    "best_knn_model = grid_search.best_estimator_\n",
    "predictions = best_knn_model.predict(X_test_tfidf)\n",
    "\n",
    "accuracy = accuracy_score(y_test, predictions)\n",
    "print(f'Accuracy: {accuracy:.2f}')\n",
    "print(classification_report(y_test, predictions))"
   ]
  },
  {
   "cell_type": "markdown",
   "id": "20d39f13",
   "metadata": {},
   "source": [
    "> ## 8. Testing Decision tree on TF-IDF"
   ]
  },
  {
   "cell_type": "code",
   "execution_count": 116,
   "id": "971c987c",
   "metadata": {},
   "outputs": [
    {
     "name": "stdout",
     "output_type": "stream",
     "text": [
      "Accuracy: 0.55\n",
      "              precision    recall  f1-score   support\n",
      "\n",
      "    negative       0.21      0.27      0.24       258\n",
      "     neutral       0.63      0.64      0.64       939\n",
      "    positive       0.61      0.53      0.56       556\n",
      "\n",
      "    accuracy                           0.55      1753\n",
      "   macro avg       0.49      0.48      0.48      1753\n",
      "weighted avg       0.56      0.55      0.55      1753\n",
      "\n"
     ]
    }
   ],
   "source": [
    "from sklearn.tree import DecisionTreeClassifier\n",
    "\n",
    "tree_classifier = DecisionTreeClassifier()\n",
    "tree_classifier.fit(X_train_tfidf, y_train)\n",
    "predictions = tree_classifier.predict(X_test_tfidf)\n",
    "\n",
    "accuracy = accuracy_score(y_test, predictions)\n",
    "print(f'Accuracy: {accuracy:.2f}')\n",
    "print(classification_report(y_test, predictions))"
   ]
  },
  {
   "cell_type": "markdown",
   "id": "9dc3c476",
   "metadata": {},
   "source": [
    "> ## 9. Testing RandomForest on TF-IDF"
   ]
  },
  {
   "cell_type": "code",
   "execution_count": 117,
   "id": "09405bf1",
   "metadata": {},
   "outputs": [
    {
     "name": "stdout",
     "output_type": "stream",
     "text": [
      "Accuracy: 0.63\n",
      "              precision    recall  f1-score   support\n",
      "\n",
      "    negative       0.16      0.10      0.12       258\n",
      "     neutral       0.65      0.82      0.72       939\n",
      "    positive       0.76      0.54      0.63       556\n",
      "\n",
      "    accuracy                           0.63      1753\n",
      "   macro avg       0.52      0.49      0.49      1753\n",
      "weighted avg       0.61      0.63      0.61      1753\n",
      "\n"
     ]
    }
   ],
   "source": [
    "from sklearn.ensemble import RandomForestClassifier\n",
    "\n",
    "rf_classifier = RandomForestClassifier(n_estimators=100)\n",
    "\n",
    "rf_classifier.fit(X_train_tfidf, y_train)\n",
    "predictions = rf_classifier.predict(X_test_tfidf)\n",
    "\n",
    "accuracy = accuracy_score(y_test, predictions)\n",
    "print(f'Accuracy: {accuracy:.2f}')\n",
    "print(classification_report(y_test, predictions))"
   ]
  },
  {
   "cell_type": "markdown",
   "id": "9e0d36e3",
   "metadata": {},
   "source": [
    "> ## 11. Neural networks"
   ]
  },
  {
   "cell_type": "code",
   "execution_count": null,
   "id": "4688b5ac",
   "metadata": {},
   "outputs": [],
   "source": []
  },
  {
   "cell_type": "code",
   "execution_count": null,
   "id": "dffab318",
   "metadata": {},
   "outputs": [],
   "source": []
  },
  {
   "cell_type": "code",
   "execution_count": null,
   "id": "0d2613cd",
   "metadata": {},
   "outputs": [],
   "source": []
  },
  {
   "cell_type": "code",
   "execution_count": 126,
   "id": "822e9250",
   "metadata": {},
   "outputs": [],
   "source": [
    "from tensorflow.keras.layers import Input, Dense\n",
    "from tensorflow.keras.models import Model"
   ]
  },
  {
   "cell_type": "code",
   "execution_count": 127,
   "id": "e14dafdc",
   "metadata": {},
   "outputs": [],
   "source": [
    "def create_MLP_model(input_shape):\n",
    "    \n",
    "    input_layer = Input(shape=input_shape, name='input_layer')\n",
    "    hidden_layer = Dense(5, activation='relu', name='hidden_layer')(input_layer)\n",
    "    output_layer = Dense(len(label_binarizer.classes_), activation='softmax', name='output_layer')(hidden_layer)\n",
    "    model = Model(inputs=input_layer, outputs=output_layer, name='simple_model')\n",
    "    return model"
   ]
  },
  {
   "cell_type": "code",
   "execution_count": 128,
   "id": "1816382a",
   "metadata": {},
   "outputs": [
    {
     "name": "stdout",
     "output_type": "stream",
     "text": [
      "Model: \"simple_model\"\n",
      "_________________________________________________________________\n",
      " Layer (type)                Output Shape              Param #   \n",
      "=================================================================\n",
      " input_layer (InputLayer)    [(None, 4089, 5000)]      0         \n",
      "                                                                 \n",
      " hidden_layer (Dense)        (None, 4089, 5)           25005     \n",
      "                                                                 \n",
      " output_layer (Dense)        (None, 4089, 3)           18        \n",
      "                                                                 \n",
      "=================================================================\n",
      "Total params: 25,023\n",
      "Trainable params: 25,023\n",
      "Non-trainable params: 0\n",
      "_________________________________________________________________\n"
     ]
    }
   ],
   "source": [
    "W2VCent_MLP = create_MLP_model(X_train_tfidf.shape)\n",
    "W2VCent_MLP.summary()"
   ]
  },
  {
   "cell_type": "code",
   "execution_count": null,
   "id": "07616097",
   "metadata": {},
   "outputs": [],
   "source": []
  },
  {
   "cell_type": "code",
   "execution_count": null,
   "id": "24fd9823",
   "metadata": {},
   "outputs": [],
   "source": []
  },
  {
   "cell_type": "code",
   "execution_count": null,
   "id": "ccd16112",
   "metadata": {},
   "outputs": [],
   "source": []
  },
  {
   "cell_type": "code",
   "execution_count": null,
   "id": "6e933303",
   "metadata": {},
   "outputs": [],
   "source": []
  },
  {
   "cell_type": "code",
   "execution_count": null,
   "id": "78adf7be",
   "metadata": {},
   "outputs": [],
   "source": []
  },
  {
   "cell_type": "code",
   "execution_count": 129,
   "id": "a019fa05",
   "metadata": {},
   "outputs": [],
   "source": [
    "from keras.metrics import Precision, Recall"
   ]
  },
  {
   "cell_type": "markdown",
   "id": "07fd1cb0",
   "metadata": {},
   "source": [
    "> ## 4 Train a RNN"
   ]
  },
  {
   "cell_type": "code",
   "execution_count": 37,
   "id": "367f82e6",
   "metadata": {},
   "outputs": [],
   "source": [
    "from tensorflow.keras.preprocessing.text import Tokenizer\n",
    "from tensorflow.keras.preprocessing.sequence import pad_sequences\n",
    "from tensorflow.keras.models import Sequential\n",
    "from tensorflow.keras.layers import Embedding, SimpleRNN, Dense"
   ]
  },
  {
   "cell_type": "code",
   "execution_count": 39,
   "id": "ed554752",
   "metadata": {},
   "outputs": [],
   "source": [
    "max_words = 5000\n",
    "max_len = 100\n",
    "\n",
    "tokenizer = Tokenizer(num_words=max_words)\n",
    "tokenizer.fit_on_texts(X_train)\n",
    "X_train_seq = tokenizer.texts_to_sequences(X_train)\n",
    "X_test_seq = tokenizer.texts_to_sequences(X_test)\n",
    "\n",
    "X_train_pad = pad_sequences(X_train_seq, maxlen=max_len)\n",
    "X_test_pad = pad_sequences(X_test_seq, maxlen=max_len)"
   ]
  },
  {
   "cell_type": "code",
   "execution_count": 45,
   "id": "9ee9bbb4",
   "metadata": {
    "scrolled": false
   },
   "outputs": [
    {
     "name": "stdout",
     "output_type": "stream",
     "text": [
      "Epoch 1/5\n",
      "115/115 [==============================] - 3s 14ms/step - loss: 0.9641 - accuracy: 0.5571 - val_loss: 0.9413 - val_accuracy: 0.5452\n",
      "Epoch 2/5\n",
      "115/115 [==============================] - 1s 12ms/step - loss: 0.7093 - accuracy: 0.7049 - val_loss: 0.9016 - val_accuracy: 0.6088\n",
      "Epoch 3/5\n",
      "115/115 [==============================] - 1s 12ms/step - loss: 0.3426 - accuracy: 0.8715 - val_loss: 1.1256 - val_accuracy: 0.5452\n",
      "Epoch 4/5\n",
      "115/115 [==============================] - 1s 12ms/step - loss: 0.2228 - accuracy: 0.9054 - val_loss: 1.7021 - val_accuracy: 0.5379\n",
      "Epoch 5/5\n",
      "115/115 [==============================] - 1s 12ms/step - loss: 0.2025 - accuracy: 0.9133 - val_loss: 1.2968 - val_accuracy: 0.5428\n",
      "55/55 [==============================] - 0s 5ms/step\n",
      "Accuracy: 0.00\n"
     ]
    },
    {
     "ename": "ValueError",
     "evalue": "Mix of label input types (string and number)",
     "output_type": "error",
     "traceback": [
      "\u001b[1;31m---------------------------------------------------------------------------\u001b[0m",
      "\u001b[1;31mValueError\u001b[0m                                Traceback (most recent call last)",
      "\u001b[1;32m~\\AppData\\Local\\Temp\\ipykernel_26144\\620237118.py\u001b[0m in \u001b[0;36m<module>\u001b[1;34m\u001b[0m\n\u001b[0;32m     21\u001b[0m \u001b[1;33m\u001b[0m\u001b[0m\n\u001b[0;32m     22\u001b[0m \u001b[1;31m# Additional metrics and details\u001b[0m\u001b[1;33m\u001b[0m\u001b[1;33m\u001b[0m\u001b[0m\n\u001b[1;32m---> 23\u001b[1;33m \u001b[0mprint\u001b[0m\u001b[1;33m(\u001b[0m\u001b[0mclassification_report\u001b[0m\u001b[1;33m(\u001b[0m\u001b[0mtrue_labels\u001b[0m\u001b[1;33m,\u001b[0m \u001b[0mpredicted_labels\u001b[0m\u001b[1;33m)\u001b[0m\u001b[1;33m)\u001b[0m\u001b[1;33m\u001b[0m\u001b[1;33m\u001b[0m\u001b[0m\n\u001b[0m",
      "\u001b[1;32m~\\anaconda3\\lib\\site-packages\\sklearn\\utils\\_param_validation.py\u001b[0m in \u001b[0;36mwrapper\u001b[1;34m(*args, **kwargs)\u001b[0m\n\u001b[0;32m    212\u001b[0m                     )\n\u001b[0;32m    213\u001b[0m                 ):\n\u001b[1;32m--> 214\u001b[1;33m                     \u001b[1;32mreturn\u001b[0m \u001b[0mfunc\u001b[0m\u001b[1;33m(\u001b[0m\u001b[1;33m*\u001b[0m\u001b[0margs\u001b[0m\u001b[1;33m,\u001b[0m \u001b[1;33m**\u001b[0m\u001b[0mkwargs\u001b[0m\u001b[1;33m)\u001b[0m\u001b[1;33m\u001b[0m\u001b[1;33m\u001b[0m\u001b[0m\n\u001b[0m\u001b[0;32m    215\u001b[0m             \u001b[1;32mexcept\u001b[0m \u001b[0mInvalidParameterError\u001b[0m \u001b[1;32mas\u001b[0m \u001b[0me\u001b[0m\u001b[1;33m:\u001b[0m\u001b[1;33m\u001b[0m\u001b[1;33m\u001b[0m\u001b[0m\n\u001b[0;32m    216\u001b[0m                 \u001b[1;31m# When the function is just a wrapper around an estimator, we allow\u001b[0m\u001b[1;33m\u001b[0m\u001b[1;33m\u001b[0m\u001b[0m\n",
      "\u001b[1;32m~\\anaconda3\\lib\\site-packages\\sklearn\\metrics\\_classification.py\u001b[0m in \u001b[0;36mclassification_report\u001b[1;34m(y_true, y_pred, labels, target_names, sample_weight, digits, output_dict, zero_division)\u001b[0m\n\u001b[0;32m   2546\u001b[0m \u001b[1;33m\u001b[0m\u001b[0m\n\u001b[0;32m   2547\u001b[0m     \u001b[1;32mif\u001b[0m \u001b[0mlabels\u001b[0m \u001b[1;32mis\u001b[0m \u001b[1;32mNone\u001b[0m\u001b[1;33m:\u001b[0m\u001b[1;33m\u001b[0m\u001b[1;33m\u001b[0m\u001b[0m\n\u001b[1;32m-> 2548\u001b[1;33m         \u001b[0mlabels\u001b[0m \u001b[1;33m=\u001b[0m \u001b[0munique_labels\u001b[0m\u001b[1;33m(\u001b[0m\u001b[0my_true\u001b[0m\u001b[1;33m,\u001b[0m \u001b[0my_pred\u001b[0m\u001b[1;33m)\u001b[0m\u001b[1;33m\u001b[0m\u001b[1;33m\u001b[0m\u001b[0m\n\u001b[0m\u001b[0;32m   2549\u001b[0m         \u001b[0mlabels_given\u001b[0m \u001b[1;33m=\u001b[0m \u001b[1;32mFalse\u001b[0m\u001b[1;33m\u001b[0m\u001b[1;33m\u001b[0m\u001b[0m\n\u001b[0;32m   2550\u001b[0m     \u001b[1;32melse\u001b[0m\u001b[1;33m:\u001b[0m\u001b[1;33m\u001b[0m\u001b[1;33m\u001b[0m\u001b[0m\n",
      "\u001b[1;32m~\\anaconda3\\lib\\site-packages\\sklearn\\utils\\multiclass.py\u001b[0m in \u001b[0;36munique_labels\u001b[1;34m(*ys)\u001b[0m\n\u001b[0;32m    113\u001b[0m     \u001b[1;31m# Check that we don't mix string type with number type\u001b[0m\u001b[1;33m\u001b[0m\u001b[1;33m\u001b[0m\u001b[0m\n\u001b[0;32m    114\u001b[0m     \u001b[1;32mif\u001b[0m \u001b[0mlen\u001b[0m\u001b[1;33m(\u001b[0m\u001b[0mset\u001b[0m\u001b[1;33m(\u001b[0m\u001b[0misinstance\u001b[0m\u001b[1;33m(\u001b[0m\u001b[0mlabel\u001b[0m\u001b[1;33m,\u001b[0m \u001b[0mstr\u001b[0m\u001b[1;33m)\u001b[0m \u001b[1;32mfor\u001b[0m \u001b[0mlabel\u001b[0m \u001b[1;32min\u001b[0m \u001b[0mys_labels\u001b[0m\u001b[1;33m)\u001b[0m\u001b[1;33m)\u001b[0m \u001b[1;33m>\u001b[0m \u001b[1;36m1\u001b[0m\u001b[1;33m:\u001b[0m\u001b[1;33m\u001b[0m\u001b[1;33m\u001b[0m\u001b[0m\n\u001b[1;32m--> 115\u001b[1;33m         \u001b[1;32mraise\u001b[0m \u001b[0mValueError\u001b[0m\u001b[1;33m(\u001b[0m\u001b[1;34m\"Mix of label input types (string and number)\"\u001b[0m\u001b[1;33m)\u001b[0m\u001b[1;33m\u001b[0m\u001b[1;33m\u001b[0m\u001b[0m\n\u001b[0m\u001b[0;32m    116\u001b[0m \u001b[1;33m\u001b[0m\u001b[0m\n\u001b[0;32m    117\u001b[0m     \u001b[1;32mreturn\u001b[0m \u001b[0mxp\u001b[0m\u001b[1;33m.\u001b[0m\u001b[0masarray\u001b[0m\u001b[1;33m(\u001b[0m\u001b[0msorted\u001b[0m\u001b[1;33m(\u001b[0m\u001b[0mys_labels\u001b[0m\u001b[1;33m)\u001b[0m\u001b[1;33m)\u001b[0m\u001b[1;33m\u001b[0m\u001b[1;33m\u001b[0m\u001b[0m\n",
      "\u001b[1;31mValueError\u001b[0m: Mix of label input types (string and number)"
     ]
    }
   ],
   "source": [
    "embedding_dim = 50\n",
    "rnn_units = 50\n",
    "\n",
    "model = Sequential()\n",
    "model.add(Embedding(input_dim=max_words, output_dim=embedding_dim, input_length=max_len))\n",
    "model.add(SimpleRNN(units=rnn_units))\n",
    "model.add(Dense(3, activation='softmax'))  # Adjust to the number of output classes (3 in this case)\n",
    "\n",
    "model.compile(optimizer='adam', loss='categorical_crossentropy', metrics=['accuracy'])\n",
    "\n",
    "# Train the model\n",
    "model.fit(X_train_pad, y_train_one_hot, epochs=5, batch_size=32, validation_split=0.1)\n",
    "\n",
    "# Evaluate the model\n",
    "predictions = model.predict(X_test_pad)\n",
    "predicted_labels = predictions.argmax(axis=1)\n",
    "true_labels = y_test.values\n",
    "\n",
    "accuracy = accuracy_score(true_labels, predicted_labels)\n",
    "print(f'Accuracy: {accuracy:.2f}')\n",
    "\n",
    "# Additional metrics and details\n",
    "print(classification_report(true_labels, predicted_labels))"
   ]
  },
  {
   "cell_type": "code",
   "execution_count": 44,
   "id": "b6ed4b09",
   "metadata": {},
   "outputs": [
    {
     "data": {
      "text/plain": [
       "array([1, 1, 1, ..., 1, 0, 2], dtype=int64)"
      ]
     },
     "execution_count": 44,
     "metadata": {},
     "output_type": "execute_result"
    }
   ],
   "source": [
    "predicted_labels "
   ]
  },
  {
   "cell_type": "code",
   "execution_count": null,
   "id": "9eba73f0",
   "metadata": {},
   "outputs": [],
   "source": []
  },
  {
   "cell_type": "code",
   "execution_count": null,
   "id": "df58b06c",
   "metadata": {},
   "outputs": [],
   "source": []
  },
  {
   "cell_type": "code",
   "execution_count": null,
   "id": "2d0c7215",
   "metadata": {},
   "outputs": [],
   "source": []
  },
  {
   "cell_type": "code",
   "execution_count": null,
   "id": "597b90f1",
   "metadata": {},
   "outputs": [],
   "source": []
  },
  {
   "cell_type": "code",
   "execution_count": null,
   "id": "2b068cd5",
   "metadata": {},
   "outputs": [],
   "source": []
  },
  {
   "cell_type": "code",
   "execution_count": null,
   "id": "ffa409b0",
   "metadata": {},
   "outputs": [],
   "source": []
  },
  {
   "cell_type": "markdown",
   "id": "c32c9d10",
   "metadata": {},
   "source": [
    "> ##### 2.2.1 Define the token pattern"
   ]
  },
  {
   "cell_type": "code",
   "execution_count": 12,
   "id": "a4789303",
   "metadata": {},
   "outputs": [],
   "source": [
    "import re"
   ]
  },
  {
   "cell_type": "code",
   "execution_count": 13,
   "id": "7c5bdd98",
   "metadata": {},
   "outputs": [],
   "source": [
    "token_pattern = re.compile(r'(?u)\\b\\w\\w+\\b')"
   ]
  },
  {
   "cell_type": "markdown",
   "id": "25f6916b",
   "metadata": {},
   "source": [
    "> ##### 2.2.2 Define the tokenizer function"
   ]
  },
  {
   "cell_type": "code",
   "execution_count": 14,
   "id": "bd159119",
   "metadata": {},
   "outputs": [],
   "source": [
    "tokenizer = token_pattern.findall    #it should be tokenizer = lambda x: token_pattern.findall.lower(x) for considering \n",
    "                                     #the case of caracters but as specification in helping notebook we keep it sample"
   ]
  },
  {
   "cell_type": "markdown",
   "id": "791397ae",
   "metadata": {},
   "source": [
    "> ##### 2.2.3 Example"
   ]
  },
  {
   "cell_type": "code",
   "execution_count": 15,
   "id": "db62627c",
   "metadata": {},
   "outputs": [
    {
     "data": {
      "text/plain": [
       "['The', 'students', 'are', 'trying', 'to', 'understand', 'this', 'code']"
      ]
     },
     "execution_count": 15,
     "metadata": {},
     "output_type": "execute_result"
    }
   ],
   "source": [
    "tokens = tokenizer('The students are trying to understand this code')\n",
    "tokens"
   ]
  },
  {
   "cell_type": "markdown",
   "id": "eca44049",
   "metadata": {},
   "source": [
    "> ##### 2.2.4 Tokens of the train and test data"
   ]
  },
  {
   "cell_type": "code",
   "execution_count": 16,
   "id": "14051e18",
   "metadata": {},
   "outputs": [],
   "source": [
    "tokenized_X_train = [tokenizer(sentence) for sentence in X_train]\n",
    "\n",
    "tokenized_X_test = [tokenizer(sentence) for sentence in X_test]"
   ]
  },
  {
   "cell_type": "markdown",
   "id": "c8bfabee",
   "metadata": {},
   "source": [
    "> ##### 2.2.5 Trainning of a Word2Vec model of Gensim (window of 3, minimum count of 1 and vector of size 5)"
   ]
  },
  {
   "cell_type": "code",
   "execution_count": 17,
   "id": "9329a9ee",
   "metadata": {},
   "outputs": [],
   "source": [
    "from gensim.models import Word2Vec"
   ]
  },
  {
   "cell_type": "code",
   "execution_count": 18,
   "id": "539566f6",
   "metadata": {},
   "outputs": [],
   "source": [
    "word2VecModel = Word2Vec(sentences=tokenized_X_train, window=3, min_count=1, vector_size=5)"
   ]
  },
  {
   "cell_type": "code",
   "execution_count": 19,
   "id": "a8bbf7e1",
   "metadata": {},
   "outputs": [
    {
     "name": "stdout",
     "output_type": "stream",
     "text": [
      "[ 1.780261   3.3669786  3.5438445 -4.36402   -1.8800552]\n"
     ]
    }
   ],
   "source": [
    "word_vector = word2VecModel.wv['the']\n",
    "print(word_vector)"
   ]
  },
  {
   "cell_type": "markdown",
   "id": "07ad732f",
   "metadata": {},
   "source": [
    "> ##### 2.2.6 Trainning of a fastText model of Gensim (window of 3, minimum count of 1 and vector of size 5)"
   ]
  },
  {
   "cell_type": "code",
   "execution_count": 20,
   "id": "96b2e0c7",
   "metadata": {},
   "outputs": [],
   "source": [
    "from gensim.models import FastText"
   ]
  },
  {
   "cell_type": "code",
   "execution_count": 21,
   "id": "216ed5c0",
   "metadata": {},
   "outputs": [],
   "source": [
    "fastTextModel = FastText(sentences=tokenized_X_train, window=3, min_count=1, vector_size=5)"
   ]
  },
  {
   "cell_type": "code",
   "execution_count": 22,
   "id": "c16face9",
   "metadata": {},
   "outputs": [],
   "source": [
    "FastText??"
   ]
  },
  {
   "cell_type": "code",
   "execution_count": 23,
   "id": "ff725a04",
   "metadata": {},
   "outputs": [
    {
     "name": "stdout",
     "output_type": "stream",
     "text": [
      "[-2.7882      0.07629752  4.465865    6.246724   -4.1574626 ]\n"
     ]
    }
   ],
   "source": [
    "word_vector = fastTextModel.wv['the']\n",
    "print(word_vector)"
   ]
  },
  {
   "cell_type": "markdown",
   "id": "96572845",
   "metadata": {},
   "source": [
    "> ### 2.3 Supporting functions"
   ]
  },
  {
   "cell_type": "markdown",
   "id": "c922e7bc",
   "metadata": {},
   "source": [
    "> ##### 2.3.1 Tokenstem function"
   ]
  },
  {
   "cell_type": "code",
   "execution_count": 24,
   "id": "5f33e6b6",
   "metadata": {},
   "outputs": [],
   "source": [
    "from nltk.stem.porter import PorterStemmer\n",
    "from nltk.corpus import stopwords"
   ]
  },
  {
   "cell_type": "code",
   "execution_count": 25,
   "id": "a8c40699",
   "metadata": {},
   "outputs": [],
   "source": [
    "def tokenstem(sentence, tokenizer=tokenizer):\n",
    "    # Tokenize the sentence using the provided tokenizer\n",
    "    tokens = tokenizer(sentence)  #it should be tokens = tokenizer(sentence.lower()) but because word2vec and fasttext were \n",
    "                                  #trained on words without changing their case to lowercase (as you specified in the helping \n",
    "                                  #notebook)\n",
    "    porter_stemmer = PorterStemmer()\n",
    "    \n",
    "    # Filter out stop words and apply stemming\n",
    "    filtered_tokens = [porter_stemmer.stem(token) for token in tokens if token not in stopwords.words('english')]\n",
    "    \n",
    "    return filtered_tokens"
   ]
  },
  {
   "cell_type": "code",
   "execution_count": 26,
   "id": "8cc70d1b",
   "metadata": {},
   "outputs": [
    {
     "data": {
      "text/plain": [
       "\"The GeoSolutions technology will leverage Benefon 's GPS solutions by providing Location Based Search Technology , a Communities Platform , location relevant multimedia content and a new and powerful commercial model .\""
      ]
     },
     "execution_count": 26,
     "metadata": {},
     "output_type": "execute_result"
    }
   ],
   "source": [
    "X_train[0]"
   ]
  },
  {
   "cell_type": "code",
   "execution_count": 27,
   "id": "2b8f61b5",
   "metadata": {},
   "outputs": [
    {
     "data": {
      "text/plain": [
       "['the',\n",
       " 'geosolut',\n",
       " 'technolog',\n",
       " 'leverag',\n",
       " 'benefon',\n",
       " 'gp',\n",
       " 'solut',\n",
       " 'provid',\n",
       " 'locat',\n",
       " 'base',\n",
       " 'search',\n",
       " 'technolog',\n",
       " 'commun',\n",
       " 'platform',\n",
       " 'locat',\n",
       " 'relev',\n",
       " 'multimedia',\n",
       " 'content',\n",
       " 'new',\n",
       " 'power',\n",
       " 'commerci',\n",
       " 'model']"
      ]
     },
     "execution_count": 27,
     "metadata": {},
     "output_type": "execute_result"
    }
   ],
   "source": [
    "tokenstem(X_train[0])"
   ]
  },
  {
   "cell_type": "markdown",
   "id": "10b780b5",
   "metadata": {},
   "source": [
    "> ##### 2.3.2 sentvectEncode(wv, sentWords, mx=20) function"
   ]
  },
  {
   "cell_type": "code",
   "execution_count": 28,
   "id": "4a4367c2",
   "metadata": {},
   "outputs": [],
   "source": [
    "def sentvectEncode(wv, sentWords, mx=20):\n",
    "    \n",
    "    def encode_word(word):\n",
    "        try:\n",
    "            return wv[word]\n",
    "        except KeyError:\n",
    "            # If the word is not in the vocabulary, return a list of zeros\n",
    "            return [0.0]*5\n",
    "\n",
    "    def encode_sentence(sentence, encoding_type):\n",
    "        if encoding_type == \"centroid\":\n",
    "            # Encode sentence using the centroid of its words\n",
    "            sentence_encoding = np.mean([encode_word(word) for word in sentence], axis=0)\n",
    "            return sentence_encoding\n",
    "        \n",
    "        elif encoding_type == \"concat\":\n",
    "            # Encode sentence using the consecutive codes of its words\n",
    "            sentence_encoding = [encode_word(word) for word in sentence]\n",
    "            sentence_encoding = np.concatenate(sentence_encoding, axis=None)[:mx*5]\n",
    "            # Add padding if needed\n",
    "            padding_size = mx*5 - len(sentence_encoding)\n",
    "            sentence_encoding = np.pad(sentence_encoding, (0, padding_size), mode='constant')\n",
    "            return sentence_encoding\n",
    "        \n",
    "        elif encoding_type == \"matrix\":\n",
    "            # Encode sentence as a matrix of the codes of its words\n",
    "            sentence_encoding = [encode_word(word) for word in sentence]\n",
    "            sentence_encoding = np.array(sentence_encoding)[:mx]\n",
    "            # Add padding if needed\n",
    "            padding_size = mx - len(sentence_encoding)\n",
    "            sentence_encoding = np.pad(sentence_encoding, ((0, padding_size), (0, 0)), mode='constant')\n",
    "            return sentence_encoding\n",
    "        \n",
    "        else:\n",
    "            raise ValueError(\"Invalid encoding_type. Use 'centroid', 'concat', or 'matrix'.\")\n",
    "\n",
    "    # Encode each sentence for centroids, concats, and matrix\n",
    "    centroids = [encode_sentence(sentence, \"centroid\") for sentence in sentWords]\n",
    "    concats = [encode_sentence(sentence, \"concat\") for sentence in sentWords]\n",
    "    matrices = [encode_sentence(sentence, \"matrix\") for sentence in sentWords]\n",
    "\n",
    "    return np.array(centroids), np.array(concats), np.array(matrices)"
   ]
  },
  {
   "cell_type": "code",
   "execution_count": 30,
   "id": "862f8ac1",
   "metadata": {},
   "outputs": [
    {
     "data": {
      "text/plain": [
       "(array([[ 0.7813827 ,  0.9610716 ,  1.1360633 , -1.1499141 ,  0.33174372]],\n",
       "       dtype=float32),\n",
       " array([[-0.1022083 ,  0.07747053, -0.06075456, -0.13807598,  0.1391804 ,\n",
       "          1.2445565 ,  1.6190995 ,  1.7351817 , -1.6570852 ,  0.37773404,\n",
       "          2.589678  ,  3.1488593 ,  3.3049576 , -3.5141745 ,  1.0754915 ,\n",
       "         -0.04013517, -0.14218691,  0.19993149, -0.20376183,  0.03503063,\n",
       "          0.21502243,  0.10211563,  0.5010003 , -0.23647301,  0.03128191,\n",
       "          0.        ,  0.        ,  0.        ,  0.        ,  0.        ,\n",
       "          0.        ,  0.        ,  0.        ,  0.        ,  0.        ,\n",
       "          0.        ,  0.        ,  0.        ,  0.        ,  0.        ,\n",
       "          0.        ,  0.        ,  0.        ,  0.        ,  0.        ,\n",
       "          0.        ,  0.        ,  0.        ,  0.        ,  0.        ,\n",
       "          0.        ,  0.        ,  0.        ,  0.        ,  0.        ,\n",
       "          0.        ,  0.        ,  0.        ,  0.        ,  0.        ,\n",
       "          0.        ,  0.        ,  0.        ,  0.        ,  0.        ,\n",
       "          0.        ,  0.        ,  0.        ,  0.        ,  0.        ,\n",
       "          0.        ,  0.        ,  0.        ,  0.        ,  0.        ,\n",
       "          0.        ,  0.        ,  0.        ,  0.        ,  0.        ,\n",
       "          0.        ,  0.        ,  0.        ,  0.        ,  0.        ,\n",
       "          0.        ,  0.        ,  0.        ,  0.        ,  0.        ,\n",
       "          0.        ,  0.        ,  0.        ,  0.        ,  0.        ,\n",
       "          0.        ,  0.        ,  0.        ,  0.        ,  0.        ]],\n",
       "       dtype=float32),\n",
       " array([[[-0.1022083 ,  0.07747053, -0.06075456, -0.13807598,\n",
       "           0.1391804 ],\n",
       "         [ 1.2445565 ,  1.6190995 ,  1.7351817 , -1.6570852 ,\n",
       "           0.37773404],\n",
       "         [ 2.589678  ,  3.1488593 ,  3.3049576 , -3.5141745 ,\n",
       "           1.0754915 ],\n",
       "         [-0.04013517, -0.14218691,  0.19993149, -0.20376183,\n",
       "           0.03503063],\n",
       "         [ 0.21502243,  0.10211563,  0.5010003 , -0.23647301,\n",
       "           0.03128191],\n",
       "         [ 0.        ,  0.        ,  0.        ,  0.        ,\n",
       "           0.        ],\n",
       "         [ 0.        ,  0.        ,  0.        ,  0.        ,\n",
       "           0.        ],\n",
       "         [ 0.        ,  0.        ,  0.        ,  0.        ,\n",
       "           0.        ],\n",
       "         [ 0.        ,  0.        ,  0.        ,  0.        ,\n",
       "           0.        ],\n",
       "         [ 0.        ,  0.        ,  0.        ,  0.        ,\n",
       "           0.        ],\n",
       "         [ 0.        ,  0.        ,  0.        ,  0.        ,\n",
       "           0.        ],\n",
       "         [ 0.        ,  0.        ,  0.        ,  0.        ,\n",
       "           0.        ],\n",
       "         [ 0.        ,  0.        ,  0.        ,  0.        ,\n",
       "           0.        ],\n",
       "         [ 0.        ,  0.        ,  0.        ,  0.        ,\n",
       "           0.        ],\n",
       "         [ 0.        ,  0.        ,  0.        ,  0.        ,\n",
       "           0.        ],\n",
       "         [ 0.        ,  0.        ,  0.        ,  0.        ,\n",
       "           0.        ],\n",
       "         [ 0.        ,  0.        ,  0.        ,  0.        ,\n",
       "           0.        ],\n",
       "         [ 0.        ,  0.        ,  0.        ,  0.        ,\n",
       "           0.        ],\n",
       "         [ 0.        ,  0.        ,  0.        ,  0.        ,\n",
       "           0.        ],\n",
       "         [ 0.        ,  0.        ,  0.        ,  0.        ,\n",
       "           0.        ]]], dtype=float32))"
      ]
     },
     "execution_count": 30,
     "metadata": {},
     "output_type": "execute_result"
    }
   ],
   "source": [
    "sentvectEncode(word2VecModel.wv, [['GeoSolutions', 'technology', 'will', 'leverage', 'Benefon']])"
   ]
  },
  {
   "cell_type": "markdown",
   "id": "7d3364ec",
   "metadata": {},
   "source": [
    "> ### 2.4 Sentence representation"
   ]
  },
  {
   "cell_type": "markdown",
   "id": "cc2e4ca0",
   "metadata": {},
   "source": [
    "> ##### 2.4.1 Trainning of a CountVectorizer"
   ]
  },
  {
   "cell_type": "code",
   "execution_count": 31,
   "id": "4e3d15dc",
   "metadata": {},
   "outputs": [],
   "source": [
    "from sklearn.feature_extraction.text import CountVectorizer"
   ]
  },
  {
   "cell_type": "code",
   "execution_count": 32,
   "id": "3710c8c4",
   "metadata": {},
   "outputs": [
    {
     "data": {
      "text/html": [
       "<style>#sk-container-id-2 {color: black;}#sk-container-id-2 pre{padding: 0;}#sk-container-id-2 div.sk-toggleable {background-color: white;}#sk-container-id-2 label.sk-toggleable__label {cursor: pointer;display: block;width: 100%;margin-bottom: 0;padding: 0.3em;box-sizing: border-box;text-align: center;}#sk-container-id-2 label.sk-toggleable__label-arrow:before {content: \"▸\";float: left;margin-right: 0.25em;color: #696969;}#sk-container-id-2 label.sk-toggleable__label-arrow:hover:before {color: black;}#sk-container-id-2 div.sk-estimator:hover label.sk-toggleable__label-arrow:before {color: black;}#sk-container-id-2 div.sk-toggleable__content {max-height: 0;max-width: 0;overflow: hidden;text-align: left;background-color: #f0f8ff;}#sk-container-id-2 div.sk-toggleable__content pre {margin: 0.2em;color: black;border-radius: 0.25em;background-color: #f0f8ff;}#sk-container-id-2 input.sk-toggleable__control:checked~div.sk-toggleable__content {max-height: 200px;max-width: 100%;overflow: auto;}#sk-container-id-2 input.sk-toggleable__control:checked~label.sk-toggleable__label-arrow:before {content: \"▾\";}#sk-container-id-2 div.sk-estimator input.sk-toggleable__control:checked~label.sk-toggleable__label {background-color: #d4ebff;}#sk-container-id-2 div.sk-label input.sk-toggleable__control:checked~label.sk-toggleable__label {background-color: #d4ebff;}#sk-container-id-2 input.sk-hidden--visually {border: 0;clip: rect(1px 1px 1px 1px);clip: rect(1px, 1px, 1px, 1px);height: 1px;margin: -1px;overflow: hidden;padding: 0;position: absolute;width: 1px;}#sk-container-id-2 div.sk-estimator {font-family: monospace;background-color: #f0f8ff;border: 1px dotted black;border-radius: 0.25em;box-sizing: border-box;margin-bottom: 0.5em;}#sk-container-id-2 div.sk-estimator:hover {background-color: #d4ebff;}#sk-container-id-2 div.sk-parallel-item::after {content: \"\";width: 100%;border-bottom: 1px solid gray;flex-grow: 1;}#sk-container-id-2 div.sk-label:hover label.sk-toggleable__label {background-color: #d4ebff;}#sk-container-id-2 div.sk-serial::before {content: \"\";position: absolute;border-left: 1px solid gray;box-sizing: border-box;top: 0;bottom: 0;left: 50%;z-index: 0;}#sk-container-id-2 div.sk-serial {display: flex;flex-direction: column;align-items: center;background-color: white;padding-right: 0.2em;padding-left: 0.2em;position: relative;}#sk-container-id-2 div.sk-item {position: relative;z-index: 1;}#sk-container-id-2 div.sk-parallel {display: flex;align-items: stretch;justify-content: center;background-color: white;position: relative;}#sk-container-id-2 div.sk-item::before, #sk-container-id-2 div.sk-parallel-item::before {content: \"\";position: absolute;border-left: 1px solid gray;box-sizing: border-box;top: 0;bottom: 0;left: 50%;z-index: -1;}#sk-container-id-2 div.sk-parallel-item {display: flex;flex-direction: column;z-index: 1;position: relative;background-color: white;}#sk-container-id-2 div.sk-parallel-item:first-child::after {align-self: flex-end;width: 50%;}#sk-container-id-2 div.sk-parallel-item:last-child::after {align-self: flex-start;width: 50%;}#sk-container-id-2 div.sk-parallel-item:only-child::after {width: 0;}#sk-container-id-2 div.sk-dashed-wrapped {border: 1px dashed gray;margin: 0 0.4em 0.5em 0.4em;box-sizing: border-box;padding-bottom: 0.4em;background-color: white;}#sk-container-id-2 div.sk-label label {font-family: monospace;font-weight: bold;display: inline-block;line-height: 1.2em;}#sk-container-id-2 div.sk-label-container {text-align: center;}#sk-container-id-2 div.sk-container {/* jupyter's `normalize.less` sets `[hidden] { display: none; }` but bootstrap.min.css set `[hidden] { display: none !important; }` so we also need the `!important` here to be able to override the default hidden behavior on the sphinx rendered scikit-learn.org. See: https://github.com/scikit-learn/scikit-learn/issues/21755 */display: inline-block !important;position: relative;}#sk-container-id-2 div.sk-text-repr-fallback {display: none;}</style><div id=\"sk-container-id-2\" class=\"sk-top-container\"><div class=\"sk-text-repr-fallback\"><pre>CountVectorizer(max_features=3000,\n",
       "                tokenizer=&lt;built-in method findall of re.Pattern object at 0x0000028F9A7AE920&gt;)</pre><b>In a Jupyter environment, please rerun this cell to show the HTML representation or trust the notebook. <br />On GitHub, the HTML representation is unable to render, please try loading this page with nbviewer.org.</b></div><div class=\"sk-container\" hidden><div class=\"sk-item\"><div class=\"sk-estimator sk-toggleable\"><input class=\"sk-toggleable__control sk-hidden--visually\" id=\"sk-estimator-id-2\" type=\"checkbox\" checked><label for=\"sk-estimator-id-2\" class=\"sk-toggleable__label sk-toggleable__label-arrow\">CountVectorizer</label><div class=\"sk-toggleable__content\"><pre>CountVectorizer(max_features=3000,\n",
       "                tokenizer=&lt;built-in method findall of re.Pattern object at 0x0000028F9A7AE920&gt;)</pre></div></div></div></div></div>"
      ],
      "text/plain": [
       "CountVectorizer(max_features=3000,\n",
       "                tokenizer=<built-in method findall of re.Pattern object at 0x0000028F9A7AE920>)"
      ]
     },
     "execution_count": 32,
     "metadata": {},
     "output_type": "execute_result"
    }
   ],
   "source": [
    "preprocessed_train_corpus = [' '.join(tokenstem(sentence)) for sentence in X_train]\n",
    "\n",
    "max_features = 3000\n",
    "count_vectorizer = CountVectorizer(tokenizer=tokenizer, max_features=max_features)\n",
    "count_vectorizer.fit(preprocessed_train_corpus)"
   ]
  },
  {
   "cell_type": "markdown",
   "id": "8b1d1819",
   "metadata": {},
   "source": [
    "> ##### 2.4.2 Generate TF representations of the training and testing datasets"
   ]
  },
  {
   "cell_type": "code",
   "execution_count": 33,
   "id": "99a0b55d",
   "metadata": {},
   "outputs": [],
   "source": [
    "preprocessed_train_corpus = [' '.join(tokenstem(sentence)) for sentence in X_train]\n",
    "preprocessed_test_corpus = [' '.join(tokenstem(sentence)) for sentence in X_test]\n",
    "\n",
    "X_train_count = count_vectorizer.transform(preprocessed_train_corpus)\n",
    "X_test_count = count_vectorizer.transform(preprocessed_test_corpus)"
   ]
  },
  {
   "cell_type": "markdown",
   "id": "476ddb87",
   "metadata": {},
   "source": [
    "> ##### 2.4.3 Generate word2Vec and fastText representations representations of the training"
   ]
  },
  {
   "cell_type": "code",
   "execution_count": 34,
   "id": "681ceec6",
   "metadata": {},
   "outputs": [],
   "source": [
    "tokenized_X_train = [tokenstem(sentence) for sentence in X_train]\n",
    "tokenized_X_test = [tokenstem(sentence) for sentence in X_test]"
   ]
  },
  {
   "cell_type": "code",
   "execution_count": 35,
   "id": "db20bdd5",
   "metadata": {},
   "outputs": [],
   "source": [
    "#Generate encodings for Word2Vec on training and testing dataset\n",
    "word2vec_centroids_train, word2vec_concats_train, word2vec_matrix_train = sentvectEncode(word2VecModel.wv, tokenized_X_train)\n",
    "word2vec_centroids_test, word2vec_concats_test, word2vec_matrix_test = sentvectEncode(word2VecModel.wv, tokenized_X_test)"
   ]
  },
  {
   "cell_type": "code",
   "execution_count": 36,
   "id": "334f9a06",
   "metadata": {},
   "outputs": [],
   "source": [
    "# Generate encodings for FastText on training and testing dataset\n",
    "fasttext_centroids_train, fasttext_concats_train, fasttext_matrix_train = sentvectEncode(fastTextModel.wv, tokenized_X_train)\n",
    "fasttext_centroids_test, fasttext_concats_test, fasttext_matrix_test = sentvectEncode(fastTextModel.wv, tokenized_X_test)"
   ]
  },
  {
   "cell_type": "markdown",
   "id": "58b915dc",
   "metadata": {},
   "source": [
    "## 3. Training"
   ]
  },
  {
   "cell_type": "markdown",
   "id": "8797d926",
   "metadata": {},
   "source": [
    "> ### 3.1 F-based/MultinomialNB"
   ]
  },
  {
   "cell_type": "markdown",
   "id": "f9e7ff9c",
   "metadata": {},
   "source": [
    "> ##### 3.1.1 Train Multinomial Naive Bayes model on the TF representation"
   ]
  },
  {
   "cell_type": "code",
   "execution_count": 37,
   "id": "16513b56",
   "metadata": {},
   "outputs": [],
   "source": [
    "from sklearn.naive_bayes import MultinomialNB\n",
    "from sklearn.metrics import accuracy_score"
   ]
  },
  {
   "cell_type": "code",
   "execution_count": 38,
   "id": "b365e6f4",
   "metadata": {},
   "outputs": [],
   "source": [
    "TF_MNB = MultinomialNB()\n",
    "TF_MNB.fit(X_train_count, y_train)\n",
    "\n",
    "train_predictions = TF_MNB.predict(X_train_count)\n",
    "test_predictions = TF_MNB.predict(X_test_count)"
   ]
  },
  {
   "cell_type": "code",
   "execution_count": 39,
   "id": "64a31903",
   "metadata": {},
   "outputs": [
    {
     "name": "stdout",
     "output_type": "stream",
     "text": [
      "Training Accuracy: 0.805575935436537\n"
     ]
    }
   ],
   "source": [
    "train_accuracy = accuracy_score(y_train, train_predictions)\n",
    "print(\"Training Accuracy:\", train_accuracy)"
   ]
  },
  {
   "cell_type": "markdown",
   "id": "2a2f5902",
   "metadata": {},
   "source": [
    "> ##### 3.1.2 Test"
   ]
  },
  {
   "cell_type": "code",
   "execution_count": 40,
   "id": "d71b313f",
   "metadata": {},
   "outputs": [
    {
     "name": "stdout",
     "output_type": "stream",
     "text": [
      "Test Accuracy: 0.6765544780376498\n"
     ]
    }
   ],
   "source": [
    "test_accuracy = accuracy_score(y_test, test_predictions)\n",
    "print(\"Test Accuracy:\", test_accuracy)"
   ]
  },
  {
   "cell_type": "markdown",
   "id": "73e5d534",
   "metadata": {},
   "source": [
    "> ##### 3.1.3 Confusion matrix"
   ]
  },
  {
   "cell_type": "code",
   "execution_count": 41,
   "id": "36f6a26c",
   "metadata": {},
   "outputs": [],
   "source": [
    "from sklearn.metrics import confusion_matrix, classification_report\n",
    "import seaborn as sns\n",
    "import matplotlib.pyplot as plt"
   ]
  },
  {
   "cell_type": "code",
   "execution_count": 42,
   "id": "c3fbfc06",
   "metadata": {},
   "outputs": [
    {
     "data": {
      "image/png": "[encoded data removed]",
      "text/plain": [
       "<Figure size 400x400 with 1 Axes>"
      ]
     },
     "metadata": {},
     "output_type": "display_data"
    }
   ],
   "source": [
    "conf_matrix = confusion_matrix(y_test, test_predictions)\n",
    "plt.figure(figsize=(4, 4))\n",
    "sns.heatmap(conf_matrix, annot=True, fmt='d', cmap='Blues', cbar=False,\n",
    "            xticklabels=label_binarizer.classes_, yticklabels=label_binarizer.classes_)\n",
    "plt.title('Confusion Matrix')\n",
    "plt.xlabel('Predicted')\n",
    "plt.ylabel('True')\n",
    "plt.show()"
   ]
  },
  {
   "cell_type": "markdown",
   "id": "b3027700",
   "metadata": {},
   "source": [
    "> ##### 3.1.4 Classification report"
   ]
  },
  {
   "cell_type": "code",
   "execution_count": 43,
   "id": "c73ce1a3",
   "metadata": {},
   "outputs": [
    {
     "name": "stdout",
     "output_type": "stream",
     "text": [
      "Classification Report:\n",
      "              precision    recall  f1-score   support\n",
      "\n",
      "    negative       0.42      0.50      0.46       258\n",
      "     neutral       0.75      0.76      0.76       939\n",
      "    positive       0.69      0.62      0.65       556\n",
      "\n",
      "    accuracy                           0.68      1753\n",
      "   macro avg       0.62      0.63      0.62      1753\n",
      "weighted avg       0.68      0.68      0.68      1753\n",
      "\n"
     ]
    }
   ],
   "source": [
    "class_report = classification_report(y_test, test_predictions)\n",
    "print(\"Classification Report:\")\n",
    "print(class_report)"
   ]
  },
  {
   "cell_type": "markdown",
   "id": "bdd9475d",
   "metadata": {},
   "source": [
    "> ### 3.2 Vector-based/MLP"
   ]
  },
  {
   "cell_type": "markdown",
   "id": "b8eaa55a",
   "metadata": {},
   "source": [
    "> ##### 3.2.1 MLP Function "
   ]
  },
  {
   "cell_type": "code",
   "execution_count": 44,
   "id": "c85a4d9b",
   "metadata": {},
   "outputs": [],
   "source": [
    "from tensorflow.keras.layers import Input, Dense\n",
    "from tensorflow.keras.models import Model"
   ]
  },
  {
   "cell_type": "code",
   "execution_count": 45,
   "id": "548b0e63",
   "metadata": {},
   "outputs": [],
   "source": [
    "def create_MLP_model(input_shape):\n",
    "    \n",
    "    input_layer = Input(shape=input_shape, name='input_layer')\n",
    "    hidden_layer = Dense(5, activation='relu', name='hidden_layer')(input_layer)\n",
    "    output_layer = Dense(len(label_binarizer.classes_), activation='softmax', name='output_layer')(hidden_layer)\n",
    "    model = Model(inputs=input_layer, outputs=output_layer, name='simple_model')\n",
    "    return model"
   ]
  },
  {
   "cell_type": "markdown",
   "id": "60d22f85",
   "metadata": {},
   "source": [
    "> ##### 3.2.2 W2VCent_MLP word2vec centroid with MLP"
   ]
  },
  {
   "cell_type": "code",
   "execution_count": 46,
   "id": "46318ff1",
   "metadata": {},
   "outputs": [
    {
     "name": "stdout",
     "output_type": "stream",
     "text": [
      "Model: \"simple_model\"\n",
      "_________________________________________________________________\n",
      " Layer (type)                Output Shape              Param #   \n",
      "=================================================================\n",
      " input_layer (InputLayer)    [(None, 5)]               0         \n",
      "                                                                 \n",
      " hidden_layer (Dense)        (None, 5)                 30        \n",
      "                                                                 \n",
      " output_layer (Dense)        (None, 3)                 18        \n",
      "                                                                 \n",
      "=================================================================\n",
      "Total params: 48\n",
      "Trainable params: 48\n",
      "Non-trainable params: 0\n",
      "_________________________________________________________________\n"
     ]
    }
   ],
   "source": [
    "W2VCent_MLP = create_MLP_model(word2vec_centroids_train.shape[1])\n",
    "W2VCent_MLP.summary()"
   ]
  },
  {
   "cell_type": "code",
   "execution_count": 47,
   "id": "ddc426ce",
   "metadata": {},
   "outputs": [],
   "source": [
    "from keras.metrics import Precision, Recall"
   ]
  },
  {
   "cell_type": "code",
   "execution_count": 48,
   "id": "0272827f",
   "metadata": {},
   "outputs": [
    {
     "name": "stdout",
     "output_type": "stream",
     "text": [
      "Epoch 1/100\n",
      "128/128 [==============================] - 1s 4ms/step - loss: 1.1012 - accuracy: 0.3989 - precision: 0.4000 - recall: 4.8912e-04 - val_loss: 1.0655 - val_accuracy: 0.5351 - val_precision: 0.0000e+00 - val_recall: 0.0000e+00\n",
      "Epoch 2/100\n",
      "128/128 [==============================] - 0s 2ms/step - loss: 1.0513 - accuracy: 0.5358 - precision: 0.0000e+00 - recall: 0.0000e+00 - val_loss: 1.0348 - val_accuracy: 0.5357 - val_precision: 0.0000e+00 - val_recall: 0.0000e+00\n",
      "Epoch 3/100\n",
      "128/128 [==============================] - 0s 2ms/step - loss: 1.0262 - accuracy: 0.5358 - precision: 0.0000e+00 - recall: 0.0000e+00 - val_loss: 1.0157 - val_accuracy: 0.5357 - val_precision: 0.0000e+00 - val_recall: 0.0000e+00\n",
      "Epoch 4/100\n",
      "128/128 [==============================] - 0s 2ms/step - loss: 1.0097 - accuracy: 0.5358 - precision: 0.0000e+00 - recall: 0.0000e+00 - val_loss: 1.0024 - val_accuracy: 0.5357 - val_precision: 0.0000e+00 - val_recall: 0.0000e+00\n",
      "Epoch 5/100\n",
      "128/128 [==============================] - 0s 2ms/step - loss: 0.9979 - accuracy: 0.5358 - precision: 0.5000 - recall: 4.8912e-04 - val_loss: 0.9925 - val_accuracy: 0.5351 - val_precision: 0.7500 - val_recall: 0.0034\n",
      "Epoch 6/100\n",
      "128/128 [==============================] - 0s 2ms/step - loss: 0.9887 - accuracy: 0.5358 - precision: 0.5635 - recall: 0.0543 - val_loss: 0.9851 - val_accuracy: 0.5357 - val_precision: 0.5266 - val_recall: 0.1187\n",
      "Epoch 7/100\n",
      "128/128 [==============================] - 0s 2ms/step - loss: 0.9739 - accuracy: 0.5422 - precision: 0.5636 - recall: 0.3967 - val_loss: 0.9628 - val_accuracy: 0.5488 - val_precision: 0.5707 - val_recall: 0.5134\n",
      "Epoch 8/100\n",
      "128/128 [==============================] - 0s 2ms/step - loss: 0.9590 - accuracy: 0.5566 - precision: 0.5730 - recall: 0.5028 - val_loss: 0.9559 - val_accuracy: 0.5585 - val_precision: 0.5733 - val_recall: 0.5020\n",
      "Epoch 9/100\n",
      "128/128 [==============================] - 0s 2ms/step - loss: 0.9537 - accuracy: 0.5618 - precision: 0.5793 - recall: 0.5045 - val_loss: 0.9558 - val_accuracy: 0.5579 - val_precision: 0.5985 - val_recall: 0.4193\n",
      "Epoch 10/100\n",
      "128/128 [==============================] - 0s 2ms/step - loss: 0.9515 - accuracy: 0.5625 - precision: 0.5812 - recall: 0.4891 - val_loss: 0.9493 - val_accuracy: 0.5608 - val_precision: 0.5758 - val_recall: 0.5026\n",
      "Epoch 11/100\n",
      "128/128 [==============================] - 0s 2ms/step - loss: 0.9490 - accuracy: 0.5625 - precision: 0.5804 - recall: 0.5031 - val_loss: 0.9471 - val_accuracy: 0.5613 - val_precision: 0.5782 - val_recall: 0.5060\n",
      "Epoch 12/100\n",
      "128/128 [==============================] - 0s 2ms/step - loss: 0.9469 - accuracy: 0.5615 - precision: 0.5825 - recall: 0.4911 - val_loss: 0.9453 - val_accuracy: 0.5619 - val_precision: 0.5788 - val_recall: 0.5071\n",
      "Epoch 13/100\n",
      "128/128 [==============================] - 0s 2ms/step - loss: 0.9456 - accuracy: 0.5610 - precision: 0.5870 - recall: 0.4940 - val_loss: 0.9441 - val_accuracy: 0.5625 - val_precision: 0.5793 - val_recall: 0.5128\n",
      "Epoch 14/100\n",
      "128/128 [==============================] - 0s 2ms/step - loss: 0.9440 - accuracy: 0.5622 - precision: 0.5865 - recall: 0.5060 - val_loss: 0.9428 - val_accuracy: 0.5590 - val_precision: 0.5894 - val_recall: 0.4758\n",
      "Epoch 15/100\n",
      "128/128 [==============================] - 0s 2ms/step - loss: 0.9431 - accuracy: 0.5615 - precision: 0.5875 - recall: 0.4925 - val_loss: 0.9420 - val_accuracy: 0.5585 - val_precision: 0.5946 - val_recall: 0.4678\n",
      "Epoch 16/100\n",
      "128/128 [==============================] - 0s 2ms/step - loss: 0.9415 - accuracy: 0.5615 - precision: 0.5941 - recall: 0.4808 - val_loss: 0.9401 - val_accuracy: 0.5608 - val_precision: 0.5838 - val_recall: 0.5048\n",
      "Epoch 17/100\n",
      "128/128 [==============================] - 0s 2ms/step - loss: 0.9409 - accuracy: 0.5605 - precision: 0.5886 - recall: 0.4945 - val_loss: 0.9390 - val_accuracy: 0.5602 - val_precision: 0.5910 - val_recall: 0.4872\n",
      "Epoch 18/100\n",
      "128/128 [==============================] - 0s 2ms/step - loss: 0.9399 - accuracy: 0.5608 - precision: 0.5924 - recall: 0.4891 - val_loss: 0.9382 - val_accuracy: 0.5602 - val_precision: 0.5911 - val_recall: 0.4906\n",
      "Epoch 19/100\n",
      "128/128 [==============================] - 0s 2ms/step - loss: 0.9387 - accuracy: 0.5608 - precision: 0.5956 - recall: 0.4722 - val_loss: 0.9381 - val_accuracy: 0.5636 - val_precision: 0.5808 - val_recall: 0.5106\n",
      "Epoch 20/100\n",
      "128/128 [==============================] - 0s 2ms/step - loss: 0.9388 - accuracy: 0.5603 - precision: 0.5886 - recall: 0.4982 - val_loss: 0.9369 - val_accuracy: 0.5596 - val_precision: 0.5957 - val_recall: 0.4758\n",
      "Epoch 21/100\n",
      "128/128 [==============================] - 0s 2ms/step - loss: 0.9378 - accuracy: 0.5610 - precision: 0.5944 - recall: 0.4818 - val_loss: 0.9357 - val_accuracy: 0.5608 - val_precision: 0.5932 - val_recall: 0.4883\n",
      "Epoch 22/100\n",
      "128/128 [==============================] - 0s 2ms/step - loss: 0.9375 - accuracy: 0.5605 - precision: 0.5940 - recall: 0.4828 - val_loss: 0.9356 - val_accuracy: 0.5590 - val_precision: 0.5993 - val_recall: 0.4683\n",
      "Epoch 23/100\n",
      "128/128 [==============================] - 0s 2ms/step - loss: 0.9367 - accuracy: 0.5603 - precision: 0.5935 - recall: 0.4828 - val_loss: 0.9345 - val_accuracy: 0.5602 - val_precision: 0.5959 - val_recall: 0.4752\n",
      "Epoch 24/100\n",
      "128/128 [==============================] - 0s 2ms/step - loss: 0.9363 - accuracy: 0.5600 - precision: 0.5981 - recall: 0.4837 - val_loss: 0.9339 - val_accuracy: 0.5602 - val_precision: 0.5959 - val_recall: 0.4752\n",
      "Epoch 25/100\n",
      "128/128 [==============================] - 0s 2ms/step - loss: 0.9357 - accuracy: 0.5598 - precision: 0.5966 - recall: 0.4757 - val_loss: 0.9330 - val_accuracy: 0.5608 - val_precision: 0.5962 - val_recall: 0.4792\n",
      "Epoch 26/100\n",
      "128/128 [==============================] - 0s 2ms/step - loss: 0.9351 - accuracy: 0.5598 - precision: 0.5983 - recall: 0.4823 - val_loss: 0.9326 - val_accuracy: 0.5602 - val_precision: 0.6019 - val_recall: 0.4718\n",
      "Epoch 27/100\n",
      "128/128 [==============================] - 0s 2ms/step - loss: 0.9348 - accuracy: 0.5600 - precision: 0.5994 - recall: 0.4705 - val_loss: 0.9320 - val_accuracy: 0.5613 - val_precision: 0.5937 - val_recall: 0.4934\n",
      "Epoch 28/100\n",
      "128/128 [==============================] - 0s 2ms/step - loss: 0.9344 - accuracy: 0.5605 - precision: 0.5975 - recall: 0.4766 - val_loss: 0.9316 - val_accuracy: 0.5608 - val_precision: 0.5977 - val_recall: 0.4797\n",
      "Epoch 29/100\n",
      "128/128 [==============================] - 0s 2ms/step - loss: 0.9338 - accuracy: 0.5608 - precision: 0.5973 - recall: 0.4744 - val_loss: 0.9311 - val_accuracy: 0.5608 - val_precision: 0.5984 - val_recall: 0.4752\n",
      "Epoch 30/100\n",
      "128/128 [==============================] - 0s 2ms/step - loss: 0.9336 - accuracy: 0.5600 - precision: 0.5996 - recall: 0.4747 - val_loss: 0.9307 - val_accuracy: 0.5608 - val_precision: 0.5971 - val_recall: 0.4769\n",
      "Epoch 31/100\n",
      "128/128 [==============================] - 0s 2ms/step - loss: 0.9331 - accuracy: 0.5598 - precision: 0.6025 - recall: 0.4708 - val_loss: 0.9304 - val_accuracy: 0.5619 - val_precision: 0.5938 - val_recall: 0.4912\n",
      "Epoch 32/100\n",
      "128/128 [==============================] - 0s 2ms/step - loss: 0.9328 - accuracy: 0.5613 - precision: 0.6001 - recall: 0.4771 - val_loss: 0.9298 - val_accuracy: 0.5590 - val_precision: 0.6015 - val_recall: 0.4666\n",
      "Epoch 33/100\n",
      "128/128 [==============================] - 0s 2ms/step - loss: 0.9327 - accuracy: 0.5598 - precision: 0.6002 - recall: 0.4715 - val_loss: 0.9299 - val_accuracy: 0.5602 - val_precision: 0.6037 - val_recall: 0.4632\n",
      "Epoch 34/100\n",
      "128/128 [==============================] - 0s 2ms/step - loss: 0.9319 - accuracy: 0.5610 - precision: 0.5988 - recall: 0.4774 - val_loss: 0.9319 - val_accuracy: 0.5522 - val_precision: 0.6168 - val_recall: 0.4261\n",
      "Epoch 35/100\n",
      "128/128 [==============================] - 0s 2ms/step - loss: 0.9323 - accuracy: 0.5627 - precision: 0.6057 - recall: 0.4595 - val_loss: 0.9298 - val_accuracy: 0.5619 - val_precision: 0.6040 - val_recall: 0.4604\n",
      "Epoch 36/100\n",
      "128/128 [==============================] - 0s 2ms/step - loss: 0.9318 - accuracy: 0.5659 - precision: 0.5997 - recall: 0.4766 - val_loss: 0.9294 - val_accuracy: 0.5613 - val_precision: 0.6072 - val_recall: 0.4524\n",
      "Epoch 37/100\n"
     ]
    },
    {
     "name": "stdout",
     "output_type": "stream",
     "text": [
      "128/128 [==============================] - 0s 2ms/step - loss: 0.9317 - accuracy: 0.5644 - precision: 0.6062 - recall: 0.4642 - val_loss: 0.9287 - val_accuracy: 0.5642 - val_precision: 0.6051 - val_recall: 0.4615\n",
      "Epoch 38/100\n",
      "128/128 [==============================] - 0s 2ms/step - loss: 0.9310 - accuracy: 0.5640 - precision: 0.6060 - recall: 0.4656 - val_loss: 0.9277 - val_accuracy: 0.5625 - val_precision: 0.5987 - val_recall: 0.4775\n",
      "Epoch 39/100\n",
      "128/128 [==============================] - 0s 2ms/step - loss: 0.9311 - accuracy: 0.5654 - precision: 0.5991 - recall: 0.4766 - val_loss: 0.9274 - val_accuracy: 0.5608 - val_precision: 0.6004 - val_recall: 0.4740\n",
      "Epoch 40/100\n",
      "128/128 [==============================] - 0s 2ms/step - loss: 0.9306 - accuracy: 0.5640 - precision: 0.6054 - recall: 0.4629 - val_loss: 0.9270 - val_accuracy: 0.5636 - val_precision: 0.5973 - val_recall: 0.4780\n",
      "Epoch 41/100\n",
      "128/128 [==============================] - 0s 2ms/step - loss: 0.9305 - accuracy: 0.5632 - precision: 0.6040 - recall: 0.4730 - val_loss: 0.9269 - val_accuracy: 0.5619 - val_precision: 0.6029 - val_recall: 0.4695\n",
      "Epoch 42/100\n",
      "128/128 [==============================] - 0s 2ms/step - loss: 0.9303 - accuracy: 0.5649 - precision: 0.6083 - recall: 0.4595 - val_loss: 0.9266 - val_accuracy: 0.5625 - val_precision: 0.5967 - val_recall: 0.4752\n",
      "Epoch 43/100\n",
      "128/128 [==============================] - 0s 2ms/step - loss: 0.9303 - accuracy: 0.5669 - precision: 0.6036 - recall: 0.4766 - val_loss: 0.9269 - val_accuracy: 0.5613 - val_precision: 0.6087 - val_recall: 0.4569\n",
      "Epoch 44/100\n",
      "128/128 [==============================] - 0s 3ms/step - loss: 0.9298 - accuracy: 0.5637 - precision: 0.6113 - recall: 0.4581 - val_loss: 0.9260 - val_accuracy: 0.5636 - val_precision: 0.5983 - val_recall: 0.4758\n",
      "Epoch 45/100\n",
      "128/128 [==============================] - 0s 3ms/step - loss: 0.9302 - accuracy: 0.5642 - precision: 0.6040 - recall: 0.4688 - val_loss: 0.9258 - val_accuracy: 0.5653 - val_precision: 0.5999 - val_recall: 0.4746\n",
      "Epoch 46/100\n",
      "128/128 [==============================] - 0s 3ms/step - loss: 0.9294 - accuracy: 0.5635 - precision: 0.6047 - recall: 0.4625 - val_loss: 0.9254 - val_accuracy: 0.5642 - val_precision: 0.6006 - val_recall: 0.4735\n",
      "Epoch 47/100\n",
      "128/128 [==============================] - 0s 4ms/step - loss: 0.9297 - accuracy: 0.5644 - precision: 0.6052 - recall: 0.4678 - val_loss: 0.9258 - val_accuracy: 0.5636 - val_precision: 0.6106 - val_recall: 0.4552\n",
      "Epoch 48/100\n",
      "128/128 [==============================] - 0s 4ms/step - loss: 0.9295 - accuracy: 0.5632 - precision: 0.6098 - recall: 0.4598 - val_loss: 0.9253 - val_accuracy: 0.5625 - val_precision: 0.6037 - val_recall: 0.4683\n",
      "Epoch 49/100\n",
      "128/128 [==============================] - 0s 4ms/step - loss: 0.9292 - accuracy: 0.5644 - precision: 0.6050 - recall: 0.4637 - val_loss: 0.9252 - val_accuracy: 0.5613 - val_precision: 0.6019 - val_recall: 0.4683\n",
      "Epoch 50/100\n",
      "128/128 [==============================] - 0s 4ms/step - loss: 0.9287 - accuracy: 0.5642 - precision: 0.6063 - recall: 0.4686 - val_loss: 0.9259 - val_accuracy: 0.5556 - val_precision: 0.6115 - val_recall: 0.4507\n",
      "Epoch 51/100\n",
      "128/128 [==============================] - 0s 4ms/step - loss: 0.9289 - accuracy: 0.5657 - precision: 0.6079 - recall: 0.4576 - val_loss: 0.9249 - val_accuracy: 0.5608 - val_precision: 0.6025 - val_recall: 0.4643\n",
      "Epoch 52/100\n",
      "128/128 [==============================] - 0s 4ms/step - loss: 0.9286 - accuracy: 0.5666 - precision: 0.6045 - recall: 0.4617 - val_loss: 0.9247 - val_accuracy: 0.5619 - val_precision: 0.6091 - val_recall: 0.4569\n",
      "Epoch 53/100\n",
      "128/128 [==============================] - 0s 4ms/step - loss: 0.9284 - accuracy: 0.5640 - precision: 0.6092 - recall: 0.4559 - val_loss: 0.9244 - val_accuracy: 0.5602 - val_precision: 0.6003 - val_recall: 0.4678\n",
      "Epoch 54/100\n",
      "128/128 [==============================] - 0s 4ms/step - loss: 0.9286 - accuracy: 0.5662 - precision: 0.6075 - recall: 0.4664 - val_loss: 0.9247 - val_accuracy: 0.5585 - val_precision: 0.6043 - val_recall: 0.4609\n",
      "Epoch 55/100\n",
      "128/128 [==============================] - 0s 4ms/step - loss: 0.9283 - accuracy: 0.5671 - precision: 0.6076 - recall: 0.4632 - val_loss: 0.9246 - val_accuracy: 0.5585 - val_precision: 0.6065 - val_recall: 0.4564\n",
      "Epoch 56/100\n",
      "128/128 [==============================] - 0s 3ms/step - loss: 0.9280 - accuracy: 0.5654 - precision: 0.6098 - recall: 0.4644 - val_loss: 0.9260 - val_accuracy: 0.5533 - val_precision: 0.6208 - val_recall: 0.4324\n",
      "Epoch 57/100\n",
      "128/128 [==============================] - 0s 2ms/step - loss: 0.9281 - accuracy: 0.5676 - precision: 0.6130 - recall: 0.4532 - val_loss: 0.9239 - val_accuracy: 0.5659 - val_precision: 0.6026 - val_recall: 0.4740\n",
      "Epoch 58/100\n",
      "128/128 [==============================] - 0s 2ms/step - loss: 0.9282 - accuracy: 0.5664 - precision: 0.6059 - recall: 0.4715 - val_loss: 0.9245 - val_accuracy: 0.5568 - val_precision: 0.6170 - val_recall: 0.4438\n",
      "Epoch 59/100\n",
      "128/128 [==============================] - 0s 2ms/step - loss: 0.9279 - accuracy: 0.5657 - precision: 0.6137 - recall: 0.4522 - val_loss: 0.9235 - val_accuracy: 0.5665 - val_precision: 0.6025 - val_recall: 0.4746\n",
      "Epoch 60/100\n",
      "128/128 [==============================] - 0s 3ms/step - loss: 0.9272 - accuracy: 0.5664 - precision: 0.6076 - recall: 0.4639 - val_loss: 0.9253 - val_accuracy: 0.5533 - val_precision: 0.6214 - val_recall: 0.4381\n",
      "Epoch 61/100\n",
      "128/128 [==============================] - 0s 2ms/step - loss: 0.9277 - accuracy: 0.5662 - precision: 0.6102 - recall: 0.4605 - val_loss: 0.9242 - val_accuracy: 0.5556 - val_precision: 0.6170 - val_recall: 0.4438\n",
      "Epoch 62/100\n",
      "128/128 [==============================] - 0s 2ms/step - loss: 0.9275 - accuracy: 0.5664 - precision: 0.6119 - recall: 0.4519 - val_loss: 0.9233 - val_accuracy: 0.5670 - val_precision: 0.6013 - val_recall: 0.4758\n",
      "Epoch 63/100\n",
      "128/128 [==============================] - 0s 2ms/step - loss: 0.9271 - accuracy: 0.5652 - precision: 0.6061 - recall: 0.4632 - val_loss: 0.9243 - val_accuracy: 0.5550 - val_precision: 0.6168 - val_recall: 0.4444\n",
      "Epoch 64/100\n",
      "128/128 [==============================] - 0s 2ms/step - loss: 0.9275 - accuracy: 0.5647 - precision: 0.6122 - recall: 0.4544 - val_loss: 0.9237 - val_accuracy: 0.5585 - val_precision: 0.6121 - val_recall: 0.4546\n",
      "Epoch 65/100\n",
      "128/128 [==============================] - 0s 2ms/step - loss: 0.9273 - accuracy: 0.5664 - precision: 0.6091 - recall: 0.4649 - val_loss: 0.9242 - val_accuracy: 0.5539 - val_precision: 0.6197 - val_recall: 0.4370\n",
      "Epoch 66/100\n",
      "128/128 [==============================] - 0s 2ms/step - loss: 0.9271 - accuracy: 0.5657 - precision: 0.6139 - recall: 0.4541 - val_loss: 0.9234 - val_accuracy: 0.5568 - val_precision: 0.6135 - val_recall: 0.4546\n",
      "Epoch 67/100\n",
      "128/128 [==============================] - 0s 2ms/step - loss: 0.9275 - accuracy: 0.5654 - precision: 0.6106 - recall: 0.4563 - val_loss: 0.9233 - val_accuracy: 0.5568 - val_precision: 0.6112 - val_recall: 0.4546\n",
      "Epoch 68/100\n",
      "128/128 [==============================] - 0s 2ms/step - loss: 0.9271 - accuracy: 0.5649 - precision: 0.6147 - recall: 0.4527 - val_loss: 0.9228 - val_accuracy: 0.5590 - val_precision: 0.6027 - val_recall: 0.4621\n",
      "Epoch 69/100\n",
      "128/128 [==============================] - 0s 2ms/step - loss: 0.9271 - accuracy: 0.5679 - precision: 0.6114 - recall: 0.4610 - val_loss: 0.9235 - val_accuracy: 0.5556 - val_precision: 0.6150 - val_recall: 0.4501\n",
      "Epoch 70/100\n",
      "128/128 [==============================] - 0s 2ms/step - loss: 0.9271 - accuracy: 0.5635 - precision: 0.6130 - recall: 0.4532 - val_loss: 0.9227 - val_accuracy: 0.5568 - val_precision: 0.6031 - val_recall: 0.4621\n",
      "Epoch 71/100\n",
      "128/128 [==============================] - 0s 2ms/step - loss: 0.9271 - accuracy: 0.5681 - precision: 0.6108 - recall: 0.4571 - val_loss: 0.9225 - val_accuracy: 0.5590 - val_precision: 0.6042 - val_recall: 0.4632\n",
      "Epoch 72/100\n",
      "128/128 [==============================] - 0s 2ms/step - loss: 0.9266 - accuracy: 0.5654 - precision: 0.6110 - recall: 0.4610 - val_loss: 0.9238 - val_accuracy: 0.5539 - val_precision: 0.6241 - val_recall: 0.4347\n",
      "Epoch 73/100\n",
      "128/128 [==============================] - 0s 2ms/step - loss: 0.9269 - accuracy: 0.5671 - precision: 0.6128 - recall: 0.4551 - val_loss: 0.9239 - val_accuracy: 0.5533 - val_precision: 0.6237 - val_recall: 0.4330\n",
      "Epoch 74/100\n",
      "128/128 [==============================] - 0s 2ms/step - loss: 0.9270 - accuracy: 0.5652 - precision: 0.6147 - recall: 0.4546 - val_loss: 0.9229 - val_accuracy: 0.5562 - val_precision: 0.6179 - val_recall: 0.4455\n",
      "Epoch 75/100\n",
      "128/128 [==============================] - 0s 2ms/step - loss: 0.9267 - accuracy: 0.5659 - precision: 0.6100 - recall: 0.4583 - val_loss: 0.9230 - val_accuracy: 0.5562 - val_precision: 0.6164 - val_recall: 0.4472\n",
      "Epoch 76/100\n",
      "128/128 [==============================] - 0s 2ms/step - loss: 0.9266 - accuracy: 0.5664 - precision: 0.6127 - recall: 0.4561 - val_loss: 0.9227 - val_accuracy: 0.5562 - val_precision: 0.6123 - val_recall: 0.4541\n",
      "Epoch 77/100\n",
      "128/128 [==============================] - 0s 2ms/step - loss: 0.9266 - accuracy: 0.5649 - precision: 0.6145 - recall: 0.4449 - val_loss: 0.9221 - val_accuracy: 0.5647 - val_precision: 0.6032 - val_recall: 0.4735\n",
      "Epoch 78/100\n",
      "128/128 [==============================] - 0s 3ms/step - loss: 0.9268 - accuracy: 0.5676 - precision: 0.6135 - recall: 0.4546 - val_loss: 0.9221 - val_accuracy: 0.5579 - val_precision: 0.6055 - val_recall: 0.4632\n",
      "Epoch 79/100\n",
      "128/128 [==============================] - 0s 3ms/step - loss: 0.9264 - accuracy: 0.5642 - precision: 0.6153 - recall: 0.4541 - val_loss: 0.9223 - val_accuracy: 0.5568 - val_precision: 0.6085 - val_recall: 0.4592\n",
      "Epoch 80/100\n",
      "128/128 [==============================] - 0s 3ms/step - loss: 0.9266 - accuracy: 0.5654 - precision: 0.6138 - recall: 0.4551 - val_loss: 0.9223 - val_accuracy: 0.5562 - val_precision: 0.6148 - val_recall: 0.4489\n",
      "Epoch 81/100\n",
      "128/128 [==============================] - 0s 2ms/step - loss: 0.9264 - accuracy: 0.5659 - precision: 0.6142 - recall: 0.4559 - val_loss: 0.9218 - val_accuracy: 0.5579 - val_precision: 0.6082 - val_recall: 0.4649\n",
      "Epoch 82/100\n",
      "128/128 [==============================] - 0s 3ms/step - loss: 0.9263 - accuracy: 0.5647 - precision: 0.6146 - recall: 0.4524 - val_loss: 0.9223 - val_accuracy: 0.5556 - val_precision: 0.6151 - val_recall: 0.4495\n",
      "Epoch 83/100\n",
      "128/128 [==============================] - 0s 3ms/step - loss: 0.9261 - accuracy: 0.5647 - precision: 0.6167 - recall: 0.4510 - val_loss: 0.9218 - val_accuracy: 0.5573 - val_precision: 0.6077 - val_recall: 0.4621\n",
      "Epoch 84/100\n",
      "128/128 [==============================] - 0s 3ms/step - loss: 0.9259 - accuracy: 0.5640 - precision: 0.6110 - recall: 0.4598 - val_loss: 0.9233 - val_accuracy: 0.5533 - val_precision: 0.6229 - val_recall: 0.4353\n",
      "Epoch 85/100\n",
      "128/128 [==============================] - 0s 3ms/step - loss: 0.9262 - accuracy: 0.5649 - precision: 0.6190 - recall: 0.4473 - val_loss: 0.9221 - val_accuracy: 0.5568 - val_precision: 0.6124 - val_recall: 0.4524\n",
      "Epoch 86/100\n",
      "128/128 [==============================] - 0s 3ms/step - loss: 0.9260 - accuracy: 0.5671 - precision: 0.6142 - recall: 0.4559 - val_loss: 0.9216 - val_accuracy: 0.5573 - val_precision: 0.6080 - val_recall: 0.4609\n",
      "Epoch 87/100\n",
      "128/128 [==============================] - 0s 3ms/step - loss: 0.9263 - accuracy: 0.5662 - precision: 0.6130 - recall: 0.4471 - val_loss: 0.9215 - val_accuracy: 0.5585 - val_precision: 0.6093 - val_recall: 0.4626\n",
      "Epoch 88/100\n",
      "128/128 [==============================] - 0s 3ms/step - loss: 0.9260 - accuracy: 0.5654 - precision: 0.6117 - recall: 0.4612 - val_loss: 0.9245 - val_accuracy: 0.5476 - val_precision: 0.6281 - val_recall: 0.4153\n",
      "Epoch 89/100\n",
      "128/128 [==============================] - 0s 3ms/step - loss: 0.9261 - accuracy: 0.5657 - precision: 0.6158 - recall: 0.4468 - val_loss: 0.9253 - val_accuracy: 0.5471 - val_precision: 0.6325 - val_recall: 0.4124\n",
      "Epoch 90/100\n",
      "128/128 [==============================] - 0s 3ms/step - loss: 0.9262 - accuracy: 0.5679 - precision: 0.6192 - recall: 0.4478 - val_loss: 0.9217 - val_accuracy: 0.5562 - val_precision: 0.6090 - val_recall: 0.4575\n",
      "Epoch 91/100\n",
      "128/128 [==============================] - 0s 3ms/step - loss: 0.9258 - accuracy: 0.5652 - precision: 0.6153 - recall: 0.4529 - val_loss: 0.9215 - val_accuracy: 0.5568 - val_precision: 0.6099 - val_recall: 0.4575\n",
      "Epoch 92/100\n",
      "128/128 [==============================] - 0s 2ms/step - loss: 0.9260 - accuracy: 0.5664 - precision: 0.6157 - recall: 0.4431 - val_loss: 0.9214 - val_accuracy: 0.5590 - val_precision: 0.6081 - val_recall: 0.4718\n",
      "Epoch 93/100\n",
      "128/128 [==============================] - 0s 2ms/step - loss: 0.9263 - accuracy: 0.5666 - precision: 0.6118 - recall: 0.4571 - val_loss: 0.9217 - val_accuracy: 0.5579 - val_precision: 0.6146 - val_recall: 0.4529\n",
      "Epoch 94/100\n",
      "128/128 [==============================] - 0s 2ms/step - loss: 0.9257 - accuracy: 0.5664 - precision: 0.6141 - recall: 0.4534 - val_loss: 0.9222 - val_accuracy: 0.5562 - val_precision: 0.6175 - val_recall: 0.4438\n",
      "Epoch 95/100\n",
      "128/128 [==============================] - 0s 2ms/step - loss: 0.9263 - accuracy: 0.5662 - precision: 0.6158 - recall: 0.4488 - val_loss: 0.9218 - val_accuracy: 0.5568 - val_precision: 0.6144 - val_recall: 0.4518\n",
      "Epoch 96/100\n",
      "128/128 [==============================] - 0s 2ms/step - loss: 0.9259 - accuracy: 0.5635 - precision: 0.6172 - recall: 0.4573 - val_loss: 0.9227 - val_accuracy: 0.5539 - val_precision: 0.6209 - val_recall: 0.4364\n",
      "Epoch 97/100\n",
      "128/128 [==============================] - 0s 2ms/step - loss: 0.9259 - accuracy: 0.5664 - precision: 0.6176 - recall: 0.4502 - val_loss: 0.9223 - val_accuracy: 0.5562 - val_precision: 0.6206 - val_recall: 0.4404\n",
      "Epoch 98/100\n",
      "128/128 [==============================] - 0s 2ms/step - loss: 0.9256 - accuracy: 0.5642 - precision: 0.6134 - recall: 0.4590 - val_loss: 0.9233 - val_accuracy: 0.5488 - val_precision: 0.6250 - val_recall: 0.4250\n",
      "Epoch 99/100\n",
      "128/128 [==============================] - 0s 2ms/step - loss: 0.9257 - accuracy: 0.5657 - precision: 0.6178 - recall: 0.4458 - val_loss: 0.9214 - val_accuracy: 0.5562 - val_precision: 0.6115 - val_recall: 0.4552\n",
      "Epoch 100/100\n",
      "128/128 [==============================] - 0s 2ms/step - loss: 0.9258 - accuracy: 0.5666 - precision: 0.6178 - recall: 0.4541 - val_loss: 0.9216 - val_accuracy: 0.5568 - val_precision: 0.6112 - val_recall: 0.4501\n"
     ]
    }
   ],
   "source": [
    "W2VCent_MLP.compile(optimizer='adam', loss=tf.keras.losses.CategoricalCrossentropy(), metrics=['accuracy', Precision(), Recall()])\n",
    "history = W2VCent_MLP.fit(word2vec_centroids_train, y_train_one_hot, validation_data=(word2vec_centroids_test, y_test_one_hot), epochs=100)"
   ]
  },
  {
   "cell_type": "code",
   "execution_count": 49,
   "id": "e992574b",
   "metadata": {},
   "outputs": [],
   "source": [
    "def plot_training_history(history):\n",
    "    # Create a subplot with two columns and two lines\n",
    "    fig, axes = plt.subplots(nrows=1, ncols=2, figsize=(12, 5))\n",
    "\n",
    "    # Plot training & validation accuracy values\n",
    "    axes[0].plot(history.history['accuracy'], label='Train')\n",
    "    axes[0].plot(history.history['val_accuracy'], label='Validation')\n",
    "    axes[0].set_title('Model Accuracy')\n",
    "    axes[0].set_xlabel('Epoch')\n",
    "    axes[0].set_ylabel('Accuracy')\n",
    "    axes[0].legend(loc='upper left')\n",
    "\n",
    "    # Plot training & validation loss values\n",
    "    axes[1].plot(history.history['loss'], label='Train')\n",
    "    axes[1].plot(history.history['val_loss'], label='Validation')\n",
    "    axes[1].set_title('Model Loss')\n",
    "    axes[1].set_xlabel('Epoch')\n",
    "    axes[1].set_ylabel('Loss')\n",
    "    axes[1].legend(loc='upper left')\n",
    "\n",
    "    # Adjust layout\n",
    "    plt.tight_layout()\n",
    "    plt.show()"
   ]
  },
  {
   "cell_type": "code",
   "execution_count": 50,
   "id": "6d349208",
   "metadata": {
    "scrolled": false
   },
   "outputs": [
    {
     "data": {
      "image/png": "[encoded data removed]",
      "text/plain": [
       "<Figure size 1200x500 with 2 Axes>"
      ]
     },
     "metadata": {},
     "output_type": "display_data"
    }
   ],
   "source": [
    "plot_training_history(history)"
   ]
  },
  {
   "cell_type": "code",
   "execution_count": 51,
   "id": "4b42c3b4",
   "metadata": {},
   "outputs": [
    {
     "name": "stdout",
     "output_type": "stream",
     "text": [
      "55/55 [==============================] - 0s 2ms/step - loss: 0.9216 - accuracy: 0.5568 - precision: 0.6112 - recall: 0.4501\n",
      "Test Accuracy: 0.5567598342895508\n",
      "Test precision: 0.6111541390419006\n",
      "Test recal: 0.4500855803489685\n"
     ]
    }
   ],
   "source": [
    "loss, accuracy , precision, recall = W2VCent_MLP.evaluate(word2vec_centroids_test, y_test_one_hot)\n",
    "print(\"Test Accuracy:\", accuracy)\n",
    "print(\"Test precision:\", precision)\n",
    "print(\"Test recal:\", recall)"
   ]
  },
  {
   "cell_type": "markdown",
   "id": "4e161313",
   "metadata": {},
   "source": [
    "> ##### 3.2.3 W2VConcat_MLP word2vec concatenation with MLP"
   ]
  },
  {
   "cell_type": "code",
   "execution_count": 52,
   "id": "d614dc13",
   "metadata": {},
   "outputs": [
    {
     "name": "stdout",
     "output_type": "stream",
     "text": [
      "Model: \"simple_model\"\n",
      "_________________________________________________________________\n",
      " Layer (type)                Output Shape              Param #   \n",
      "=================================================================\n",
      " input_layer (InputLayer)    [(None, 100)]             0         \n",
      "                                                                 \n",
      " hidden_layer (Dense)        (None, 5)                 505       \n",
      "                                                                 \n",
      " output_layer (Dense)        (None, 3)                 18        \n",
      "                                                                 \n",
      "=================================================================\n",
      "Total params: 523\n",
      "Trainable params: 523\n",
      "Non-trainable params: 0\n",
      "_________________________________________________________________\n"
     ]
    }
   ],
   "source": [
    "W2VConcat_MLP= create_MLP_model(word2vec_concats_train.shape[1])\n",
    "W2VConcat_MLP.summary()"
   ]
  },
  {
   "cell_type": "code",
   "execution_count": 53,
   "id": "2b62fc6b",
   "metadata": {},
   "outputs": [
    {
     "name": "stdout",
     "output_type": "stream",
     "text": [
      "Epoch 1/100\n",
      "128/128 [==============================] - 1s 4ms/step - loss: 1.1046 - accuracy: 0.4236 - precision_1: 0.3496 - recall_1: 0.0597 - val_loss: 1.0170 - val_accuracy: 0.5294 - val_precision_1: 0.5835 - val_recall_1: 0.1614\n",
      "Epoch 2/100\n",
      "128/128 [==============================] - 0s 2ms/step - loss: 0.9968 - accuracy: 0.5344 - precision_1: 0.6075 - recall_1: 0.2377 - val_loss: 0.9824 - val_accuracy: 0.5339 - val_precision_1: 0.6449 - val_recall_1: 0.2539\n",
      "Epoch 3/100\n",
      "128/128 [==============================] - 0s 2ms/step - loss: 0.9731 - accuracy: 0.5361 - precision_1: 0.6476 - recall_1: 0.2517 - val_loss: 0.9677 - val_accuracy: 0.5351 - val_precision_1: 0.6447 - val_recall_1: 0.2847\n",
      "Epoch 4/100\n",
      "128/128 [==============================] - 0s 2ms/step - loss: 0.9623 - accuracy: 0.5363 - precision_1: 0.6491 - recall_1: 0.2683 - val_loss: 0.9597 - val_accuracy: 0.5357 - val_precision_1: 0.6578 - val_recall_1: 0.2675\n",
      "Epoch 5/100\n",
      "128/128 [==============================] - 0s 2ms/step - loss: 0.9544 - accuracy: 0.5358 - precision_1: 0.6681 - recall_1: 0.2614 - val_loss: 0.9549 - val_accuracy: 0.5362 - val_precision_1: 0.6808 - val_recall_1: 0.2664\n",
      "Epoch 6/100\n",
      "128/128 [==============================] - 0s 2ms/step - loss: 0.9492 - accuracy: 0.5358 - precision_1: 0.6663 - recall_1: 0.2680 - val_loss: 0.9512 - val_accuracy: 0.5362 - val_precision_1: 0.6935 - val_recall_1: 0.2607\n",
      "Epoch 7/100\n",
      "128/128 [==============================] - 0s 2ms/step - loss: 0.9451 - accuracy: 0.5358 - precision_1: 0.6821 - recall_1: 0.2602 - val_loss: 0.9489 - val_accuracy: 0.5362 - val_precision_1: 0.6848 - val_recall_1: 0.2653\n",
      "Epoch 8/100\n",
      "128/128 [==============================] - 0s 3ms/step - loss: 0.9419 - accuracy: 0.5366 - precision_1: 0.6840 - recall_1: 0.2695 - val_loss: 0.9474 - val_accuracy: 0.5368 - val_precision_1: 0.6904 - val_recall_1: 0.2596\n",
      "Epoch 9/100\n",
      "128/128 [==============================] - 0s 2ms/step - loss: 0.9385 - accuracy: 0.5385 - precision_1: 0.6910 - recall_1: 0.2729 - val_loss: 0.9455 - val_accuracy: 0.5379 - val_precision_1: 0.6818 - val_recall_1: 0.2750\n",
      "Epoch 10/100\n",
      "128/128 [==============================] - 0s 2ms/step - loss: 0.9351 - accuracy: 0.5395 - precision_1: 0.6912 - recall_1: 0.2803 - val_loss: 0.9451 - val_accuracy: 0.5379 - val_precision_1: 0.6877 - val_recall_1: 0.2738\n",
      "Epoch 11/100\n",
      "128/128 [==============================] - 0s 2ms/step - loss: 0.9314 - accuracy: 0.5441 - precision_1: 0.6821 - recall_1: 0.3055 - val_loss: 0.9434 - val_accuracy: 0.5385 - val_precision_1: 0.6952 - val_recall_1: 0.2641\n",
      "Epoch 12/100\n",
      "128/128 [==============================] - 0s 2ms/step - loss: 0.9278 - accuracy: 0.5488 - precision_1: 0.6955 - recall_1: 0.2888 - val_loss: 0.9429 - val_accuracy: 0.5362 - val_precision_1: 0.6828 - val_recall_1: 0.2812\n",
      "Epoch 13/100\n",
      "128/128 [==============================] - 0s 2ms/step - loss: 0.9237 - accuracy: 0.5510 - precision_1: 0.6860 - recall_1: 0.3062 - val_loss: 0.9431 - val_accuracy: 0.5334 - val_precision_1: 0.6611 - val_recall_1: 0.3149\n",
      "Epoch 14/100\n",
      "128/128 [==============================] - 0s 2ms/step - loss: 0.9203 - accuracy: 0.5576 - precision_1: 0.6866 - recall_1: 0.3348 - val_loss: 0.9426 - val_accuracy: 0.5402 - val_precision_1: 0.6573 - val_recall_1: 0.3217\n",
      "Epoch 15/100\n",
      "128/128 [==============================] - 0s 2ms/step - loss: 0.9176 - accuracy: 0.5600 - precision_1: 0.6781 - recall_1: 0.3436 - val_loss: 0.9422 - val_accuracy: 0.5436 - val_precision_1: 0.6440 - val_recall_1: 0.3189\n",
      "Epoch 16/100\n",
      "128/128 [==============================] - 0s 2ms/step - loss: 0.9147 - accuracy: 0.5569 - precision_1: 0.6858 - recall_1: 0.3534 - val_loss: 0.9424 - val_accuracy: 0.5414 - val_precision_1: 0.6334 - val_recall_1: 0.3331\n",
      "Epoch 17/100\n",
      "128/128 [==============================] - 0s 2ms/step - loss: 0.9125 - accuracy: 0.5605 - precision_1: 0.6728 - recall_1: 0.3646 - val_loss: 0.9426 - val_accuracy: 0.5454 - val_precision_1: 0.6350 - val_recall_1: 0.3354\n",
      "Epoch 18/100\n",
      "128/128 [==============================] - 0s 2ms/step - loss: 0.9112 - accuracy: 0.5676 - precision_1: 0.6766 - recall_1: 0.3663 - val_loss: 0.9430 - val_accuracy: 0.5425 - val_precision_1: 0.6287 - val_recall_1: 0.3371\n",
      "Epoch 19/100\n",
      "128/128 [==============================] - 0s 2ms/step - loss: 0.9092 - accuracy: 0.5715 - precision_1: 0.6766 - recall_1: 0.3730 - val_loss: 0.9406 - val_accuracy: 0.5425 - val_precision_1: 0.6300 - val_recall_1: 0.3400\n",
      "Epoch 20/100\n",
      "128/128 [==============================] - 0s 2ms/step - loss: 0.9071 - accuracy: 0.5752 - precision_1: 0.6775 - recall_1: 0.3761 - val_loss: 0.9401 - val_accuracy: 0.5459 - val_precision_1: 0.6225 - val_recall_1: 0.3725\n",
      "Epoch 21/100\n",
      "128/128 [==============================] - 0s 2ms/step - loss: 0.9058 - accuracy: 0.5784 - precision_1: 0.6678 - recall_1: 0.3849 - val_loss: 0.9410 - val_accuracy: 0.5454 - val_precision_1: 0.6266 - val_recall_1: 0.3657\n",
      "Epoch 22/100\n",
      "128/128 [==============================] - 0s 2ms/step - loss: 0.9047 - accuracy: 0.5757 - precision_1: 0.6653 - recall_1: 0.3879 - val_loss: 0.9398 - val_accuracy: 0.5454 - val_precision_1: 0.6291 - val_recall_1: 0.3628\n",
      "Epoch 23/100\n",
      "128/128 [==============================] - 0s 2ms/step - loss: 0.9028 - accuracy: 0.5762 - precision_1: 0.6668 - recall_1: 0.3999 - val_loss: 0.9408 - val_accuracy: 0.5459 - val_precision_1: 0.6294 - val_recall_1: 0.3594\n",
      "Epoch 24/100\n",
      "128/128 [==============================] - 0s 2ms/step - loss: 0.9009 - accuracy: 0.5796 - precision_1: 0.6699 - recall_1: 0.3906 - val_loss: 0.9399 - val_accuracy: 0.5471 - val_precision_1: 0.6204 - val_recall_1: 0.3925\n",
      "Epoch 25/100\n",
      "128/128 [==============================] - 0s 2ms/step - loss: 0.8999 - accuracy: 0.5772 - precision_1: 0.6626 - recall_1: 0.4096 - val_loss: 0.9425 - val_accuracy: 0.5425 - val_precision_1: 0.6302 - val_recall_1: 0.3577\n",
      "Epoch 26/100\n",
      "128/128 [==============================] - 0s 2ms/step - loss: 0.9000 - accuracy: 0.5764 - precision_1: 0.6711 - recall_1: 0.3981 - val_loss: 0.9412 - val_accuracy: 0.5448 - val_precision_1: 0.6349 - val_recall_1: 0.3691\n",
      "Epoch 27/100\n",
      "128/128 [==============================] - 0s 2ms/step - loss: 0.8986 - accuracy: 0.5838 - precision_1: 0.6667 - recall_1: 0.4016 - val_loss: 0.9408 - val_accuracy: 0.5465 - val_precision_1: 0.6245 - val_recall_1: 0.3833\n",
      "Epoch 28/100\n",
      "128/128 [==============================] - 0s 2ms/step - loss: 0.8977 - accuracy: 0.5816 - precision_1: 0.6667 - recall_1: 0.4006 - val_loss: 0.9417 - val_accuracy: 0.5436 - val_precision_1: 0.6263 - val_recall_1: 0.3833\n",
      "Epoch 29/100\n",
      "128/128 [==============================] - 0s 2ms/step - loss: 0.8969 - accuracy: 0.5852 - precision_1: 0.6629 - recall_1: 0.4116 - val_loss: 0.9406 - val_accuracy: 0.5465 - val_precision_1: 0.6293 - val_recall_1: 0.3776\n",
      "Epoch 30/100\n",
      "128/128 [==============================] - 0s 2ms/step - loss: 0.8963 - accuracy: 0.5801 - precision_1: 0.6651 - recall_1: 0.4123 - val_loss: 0.9391 - val_accuracy: 0.5448 - val_precision_1: 0.6251 - val_recall_1: 0.3833\n",
      "Epoch 31/100\n",
      "128/128 [==============================] - 0s 2ms/step - loss: 0.8953 - accuracy: 0.5850 - precision_1: 0.6677 - recall_1: 0.4069 - val_loss: 0.9408 - val_accuracy: 0.5425 - val_precision_1: 0.6334 - val_recall_1: 0.3725\n",
      "Epoch 32/100\n",
      "128/128 [==============================] - 0s 2ms/step - loss: 0.8945 - accuracy: 0.5852 - precision_1: 0.6673 - recall_1: 0.4106 - val_loss: 0.9391 - val_accuracy: 0.5465 - val_precision_1: 0.6190 - val_recall_1: 0.3930\n",
      "Epoch 33/100\n",
      "128/128 [==============================] - 0s 2ms/step - loss: 0.8933 - accuracy: 0.5818 - precision_1: 0.6698 - recall_1: 0.4157 - val_loss: 0.9435 - val_accuracy: 0.5391 - val_precision_1: 0.6302 - val_recall_1: 0.3617\n",
      "Epoch 34/100\n",
      "128/128 [==============================] - 0s 2ms/step - loss: 0.8938 - accuracy: 0.5838 - precision_1: 0.6664 - recall_1: 0.4177 - val_loss: 0.9431 - val_accuracy: 0.5419 - val_precision_1: 0.6299 - val_recall_1: 0.3748\n",
      "Epoch 35/100\n",
      "128/128 [==============================] - 0s 2ms/step - loss: 0.8929 - accuracy: 0.5852 - precision_1: 0.6711 - recall_1: 0.4106 - val_loss: 0.9400 - val_accuracy: 0.5442 - val_precision_1: 0.6253 - val_recall_1: 0.3828\n",
      "Epoch 36/100\n"
     ]
    },
    {
     "name": "stdout",
     "output_type": "stream",
     "text": [
      "128/128 [==============================] - 0s 2ms/step - loss: 0.8923 - accuracy: 0.5838 - precision_1: 0.6718 - recall_1: 0.4135 - val_loss: 0.9413 - val_accuracy: 0.5465 - val_precision_1: 0.6257 - val_recall_1: 0.3976\n",
      "Epoch 37/100\n",
      "128/128 [==============================] - 0s 2ms/step - loss: 0.8917 - accuracy: 0.5840 - precision_1: 0.6674 - recall_1: 0.4236 - val_loss: 0.9419 - val_accuracy: 0.5459 - val_precision_1: 0.6307 - val_recall_1: 0.3896\n",
      "Epoch 38/100\n",
      "128/128 [==============================] - 0s 2ms/step - loss: 0.8917 - accuracy: 0.5843 - precision_1: 0.6682 - recall_1: 0.4216 - val_loss: 0.9414 - val_accuracy: 0.5431 - val_precision_1: 0.6278 - val_recall_1: 0.3993\n",
      "Epoch 39/100\n",
      "128/128 [==============================] - 0s 2ms/step - loss: 0.8908 - accuracy: 0.5850 - precision_1: 0.6690 - recall_1: 0.4231 - val_loss: 0.9444 - val_accuracy: 0.5465 - val_precision_1: 0.6354 - val_recall_1: 0.3788\n",
      "Epoch 40/100\n",
      "128/128 [==============================] - 0s 2ms/step - loss: 0.8904 - accuracy: 0.5869 - precision_1: 0.6725 - recall_1: 0.4128 - val_loss: 0.9433 - val_accuracy: 0.5488 - val_precision_1: 0.6302 - val_recall_1: 0.3948\n",
      "Epoch 41/100\n",
      "128/128 [==============================] - 0s 2ms/step - loss: 0.8898 - accuracy: 0.5840 - precision_1: 0.6677 - recall_1: 0.4260 - val_loss: 0.9442 - val_accuracy: 0.5459 - val_precision_1: 0.6289 - val_recall_1: 0.3993\n",
      "Epoch 42/100\n",
      "128/128 [==============================] - 0s 2ms/step - loss: 0.8901 - accuracy: 0.5845 - precision_1: 0.6730 - recall_1: 0.4238 - val_loss: 0.9430 - val_accuracy: 0.5448 - val_precision_1: 0.6291 - val_recall_1: 0.3919\n",
      "Epoch 43/100\n",
      "128/128 [==============================] - 0s 2ms/step - loss: 0.8889 - accuracy: 0.5860 - precision_1: 0.6779 - recall_1: 0.4216 - val_loss: 0.9437 - val_accuracy: 0.5482 - val_precision_1: 0.6252 - val_recall_1: 0.4044\n",
      "Epoch 44/100\n",
      "128/128 [==============================] - 0s 3ms/step - loss: 0.8881 - accuracy: 0.5852 - precision_1: 0.6700 - recall_1: 0.4246 - val_loss: 0.9438 - val_accuracy: 0.5511 - val_precision_1: 0.6312 - val_recall_1: 0.4022\n",
      "Epoch 45/100\n",
      "128/128 [==============================] - 0s 2ms/step - loss: 0.8882 - accuracy: 0.5891 - precision_1: 0.6715 - recall_1: 0.4265 - val_loss: 0.9457 - val_accuracy: 0.5425 - val_precision_1: 0.6335 - val_recall_1: 0.3925\n",
      "Epoch 46/100\n",
      "128/128 [==============================] - 0s 2ms/step - loss: 0.8873 - accuracy: 0.5872 - precision_1: 0.6696 - recall_1: 0.4209 - val_loss: 0.9435 - val_accuracy: 0.5471 - val_precision_1: 0.6334 - val_recall_1: 0.3942\n",
      "Epoch 47/100\n",
      "128/128 [==============================] - 0s 2ms/step - loss: 0.8869 - accuracy: 0.5867 - precision_1: 0.6720 - recall_1: 0.4285 - val_loss: 0.9446 - val_accuracy: 0.5454 - val_precision_1: 0.6376 - val_recall_1: 0.3925\n",
      "Epoch 48/100\n",
      "128/128 [==============================] - 0s 2ms/step - loss: 0.8874 - accuracy: 0.5820 - precision_1: 0.6747 - recall_1: 0.4270 - val_loss: 0.9446 - val_accuracy: 0.5448 - val_precision_1: 0.6366 - val_recall_1: 0.3948\n",
      "Epoch 49/100\n",
      "128/128 [==============================] - 0s 2ms/step - loss: 0.8870 - accuracy: 0.5882 - precision_1: 0.6735 - recall_1: 0.4287 - val_loss: 0.9439 - val_accuracy: 0.5465 - val_precision_1: 0.6313 - val_recall_1: 0.3908\n",
      "Epoch 50/100\n",
      "128/128 [==============================] - 0s 2ms/step - loss: 0.8859 - accuracy: 0.5879 - precision_1: 0.6759 - recall_1: 0.4238 - val_loss: 0.9461 - val_accuracy: 0.5505 - val_precision_1: 0.6365 - val_recall_1: 0.3936\n",
      "Epoch 51/100\n",
      "128/128 [==============================] - 0s 2ms/step - loss: 0.8856 - accuracy: 0.5845 - precision_1: 0.6758 - recall_1: 0.4236 - val_loss: 0.9471 - val_accuracy: 0.5493 - val_precision_1: 0.6339 - val_recall_1: 0.3970\n",
      "Epoch 52/100\n",
      "128/128 [==============================] - 0s 2ms/step - loss: 0.8853 - accuracy: 0.5882 - precision_1: 0.6729 - recall_1: 0.4236 - val_loss: 0.9451 - val_accuracy: 0.5511 - val_precision_1: 0.6359 - val_recall_1: 0.3976\n",
      "Epoch 53/100\n",
      "128/128 [==============================] - 0s 2ms/step - loss: 0.8841 - accuracy: 0.5862 - precision_1: 0.6797 - recall_1: 0.4241 - val_loss: 0.9443 - val_accuracy: 0.5476 - val_precision_1: 0.6251 - val_recall_1: 0.4005\n",
      "Epoch 54/100\n",
      "128/128 [==============================] - 0s 2ms/step - loss: 0.8845 - accuracy: 0.5879 - precision_1: 0.6768 - recall_1: 0.4209 - val_loss: 0.9481 - val_accuracy: 0.5528 - val_precision_1: 0.6259 - val_recall_1: 0.4056\n",
      "Epoch 55/100\n",
      "128/128 [==============================] - 0s 2ms/step - loss: 0.8851 - accuracy: 0.5852 - precision_1: 0.6784 - recall_1: 0.4287 - val_loss: 0.9454 - val_accuracy: 0.5511 - val_precision_1: 0.6272 - val_recall_1: 0.4079\n",
      "Epoch 56/100\n",
      "128/128 [==============================] - 0s 2ms/step - loss: 0.8838 - accuracy: 0.5869 - precision_1: 0.6763 - recall_1: 0.4292 - val_loss: 0.9457 - val_accuracy: 0.5505 - val_precision_1: 0.6302 - val_recall_1: 0.3948\n",
      "Epoch 57/100\n",
      "128/128 [==============================] - 0s 3ms/step - loss: 0.8839 - accuracy: 0.5896 - precision_1: 0.6791 - recall_1: 0.4312 - val_loss: 0.9445 - val_accuracy: 0.5528 - val_precision_1: 0.6321 - val_recall_1: 0.4027\n",
      "Epoch 58/100\n",
      "128/128 [==============================] - 0s 2ms/step - loss: 0.8829 - accuracy: 0.5879 - precision_1: 0.6776 - recall_1: 0.4302 - val_loss: 0.9465 - val_accuracy: 0.5522 - val_precision_1: 0.6243 - val_recall_1: 0.4039\n",
      "Epoch 59/100\n",
      "128/128 [==============================] - 0s 2ms/step - loss: 0.8831 - accuracy: 0.5874 - precision_1: 0.6732 - recall_1: 0.4358 - val_loss: 0.9462 - val_accuracy: 0.5528 - val_precision_1: 0.6301 - val_recall_1: 0.3936\n",
      "Epoch 60/100\n",
      "128/128 [==============================] - 0s 2ms/step - loss: 0.8823 - accuracy: 0.5891 - precision_1: 0.6784 - recall_1: 0.4292 - val_loss: 0.9474 - val_accuracy: 0.5488 - val_precision_1: 0.6336 - val_recall_1: 0.3868\n",
      "Epoch 61/100\n",
      "128/128 [==============================] - 0s 2ms/step - loss: 0.8827 - accuracy: 0.5891 - precision_1: 0.6771 - recall_1: 0.4292 - val_loss: 0.9482 - val_accuracy: 0.5545 - val_precision_1: 0.6215 - val_recall_1: 0.4056\n",
      "Epoch 62/100\n",
      "128/128 [==============================] - 0s 2ms/step - loss: 0.8817 - accuracy: 0.5884 - precision_1: 0.6736 - recall_1: 0.4326 - val_loss: 0.9474 - val_accuracy: 0.5476 - val_precision_1: 0.6403 - val_recall_1: 0.3839\n",
      "Epoch 63/100\n",
      "128/128 [==============================] - 0s 2ms/step - loss: 0.8813 - accuracy: 0.5891 - precision_1: 0.6806 - recall_1: 0.4290 - val_loss: 0.9486 - val_accuracy: 0.5499 - val_precision_1: 0.6364 - val_recall_1: 0.3913\n",
      "Epoch 64/100\n",
      "128/128 [==============================] - 0s 2ms/step - loss: 0.8815 - accuracy: 0.5894 - precision_1: 0.6798 - recall_1: 0.4356 - val_loss: 0.9495 - val_accuracy: 0.5459 - val_precision_1: 0.6350 - val_recall_1: 0.3851\n",
      "Epoch 65/100\n",
      "128/128 [==============================] - 0s 2ms/step - loss: 0.8814 - accuracy: 0.5935 - precision_1: 0.6786 - recall_1: 0.4260 - val_loss: 0.9498 - val_accuracy: 0.5516 - val_precision_1: 0.6286 - val_recall_1: 0.4056\n",
      "Epoch 66/100\n",
      "128/128 [==============================] - 0s 2ms/step - loss: 0.8804 - accuracy: 0.5899 - precision_1: 0.6794 - recall_1: 0.4334 - val_loss: 0.9490 - val_accuracy: 0.5539 - val_precision_1: 0.6271 - val_recall_1: 0.4010\n",
      "Epoch 67/100\n",
      "128/128 [==============================] - 0s 2ms/step - loss: 0.8809 - accuracy: 0.5940 - precision_1: 0.6746 - recall_1: 0.4319 - val_loss: 0.9509 - val_accuracy: 0.5505 - val_precision_1: 0.6312 - val_recall_1: 0.3896\n",
      "Epoch 68/100\n",
      "128/128 [==============================] - 0s 2ms/step - loss: 0.8795 - accuracy: 0.5906 - precision_1: 0.6822 - recall_1: 0.4326 - val_loss: 0.9468 - val_accuracy: 0.5533 - val_precision_1: 0.6338 - val_recall_1: 0.3851\n",
      "Epoch 69/100\n",
      "128/128 [==============================] - 0s 2ms/step - loss: 0.8795 - accuracy: 0.5943 - precision_1: 0.6760 - recall_1: 0.4348 - val_loss: 0.9502 - val_accuracy: 0.5499 - val_precision_1: 0.6342 - val_recall_1: 0.3828\n",
      "Epoch 70/100\n",
      "128/128 [==============================] - 0s 2ms/step - loss: 0.8794 - accuracy: 0.5913 - precision_1: 0.6781 - recall_1: 0.4353 - val_loss: 0.9483 - val_accuracy: 0.5550 - val_precision_1: 0.6322 - val_recall_1: 0.4079\n",
      "Epoch 71/100\n",
      "128/128 [==============================] - 0s 2ms/step - loss: 0.8786 - accuracy: 0.5940 - precision_1: 0.6753 - recall_1: 0.4334 - val_loss: 0.9485 - val_accuracy: 0.5573 - val_precision_1: 0.6259 - val_recall_1: 0.3999\n",
      "Epoch 72/100\n",
      "128/128 [==============================] - 0s 2ms/step - loss: 0.8788 - accuracy: 0.5889 - precision_1: 0.6788 - recall_1: 0.4392 - val_loss: 0.9477 - val_accuracy: 0.5562 - val_precision_1: 0.6318 - val_recall_1: 0.3993\n",
      "Epoch 73/100\n",
      "128/128 [==============================] - 0s 2ms/step - loss: 0.8785 - accuracy: 0.5931 - precision_1: 0.6770 - recall_1: 0.4346 - val_loss: 0.9492 - val_accuracy: 0.5613 - val_precision_1: 0.6308 - val_recall_1: 0.4084\n",
      "Epoch 74/100\n",
      "128/128 [==============================] - 0s 2ms/step - loss: 0.8779 - accuracy: 0.5928 - precision_1: 0.6770 - recall_1: 0.4424 - val_loss: 0.9518 - val_accuracy: 0.5556 - val_precision_1: 0.6310 - val_recall_1: 0.3999\n",
      "Epoch 75/100\n",
      "128/128 [==============================] - 0s 2ms/step - loss: 0.8780 - accuracy: 0.5899 - precision_1: 0.6802 - recall_1: 0.4400 - val_loss: 0.9524 - val_accuracy: 0.5556 - val_precision_1: 0.6228 - val_recall_1: 0.4079\n",
      "Epoch 76/100\n",
      "128/128 [==============================] - 0s 2ms/step - loss: 0.8774 - accuracy: 0.5935 - precision_1: 0.6793 - recall_1: 0.4331 - val_loss: 0.9498 - val_accuracy: 0.5568 - val_precision_1: 0.6237 - val_recall_1: 0.4141\n",
      "Epoch 77/100\n",
      "128/128 [==============================] - 0s 2ms/step - loss: 0.8765 - accuracy: 0.5921 - precision_1: 0.6823 - recall_1: 0.4390 - val_loss: 0.9503 - val_accuracy: 0.5556 - val_precision_1: 0.6219 - val_recall_1: 0.4090\n",
      "Epoch 78/100\n",
      "128/128 [==============================] - 0s 2ms/step - loss: 0.8771 - accuracy: 0.5928 - precision_1: 0.6745 - recall_1: 0.4429 - val_loss: 0.9537 - val_accuracy: 0.5505 - val_precision_1: 0.6346 - val_recall_1: 0.3833\n",
      "Epoch 79/100\n",
      "128/128 [==============================] - 0s 2ms/step - loss: 0.8772 - accuracy: 0.5953 - precision_1: 0.6797 - recall_1: 0.4365 - val_loss: 0.9509 - val_accuracy: 0.5568 - val_precision_1: 0.6278 - val_recall_1: 0.4050\n",
      "Epoch 80/100\n",
      "128/128 [==============================] - 0s 2ms/step - loss: 0.8761 - accuracy: 0.5928 - precision_1: 0.6783 - recall_1: 0.4368 - val_loss: 0.9490 - val_accuracy: 0.5556 - val_precision_1: 0.6275 - val_recall_1: 0.4084\n",
      "Epoch 81/100\n",
      "128/128 [==============================] - 0s 2ms/step - loss: 0.8764 - accuracy: 0.5955 - precision_1: 0.6758 - recall_1: 0.4461 - val_loss: 0.9518 - val_accuracy: 0.5505 - val_precision_1: 0.6353 - val_recall_1: 0.3896\n",
      "Epoch 82/100\n",
      "128/128 [==============================] - 0s 2ms/step - loss: 0.8757 - accuracy: 0.5923 - precision_1: 0.6833 - recall_1: 0.4385 - val_loss: 0.9507 - val_accuracy: 0.5562 - val_precision_1: 0.6342 - val_recall_1: 0.4044\n",
      "Epoch 83/100\n",
      "128/128 [==============================] - 0s 2ms/step - loss: 0.8758 - accuracy: 0.5962 - precision_1: 0.6820 - recall_1: 0.4385 - val_loss: 0.9504 - val_accuracy: 0.5556 - val_precision_1: 0.6276 - val_recall_1: 0.4153\n",
      "Epoch 84/100\n",
      "128/128 [==============================] - 0s 2ms/step - loss: 0.8750 - accuracy: 0.5965 - precision_1: 0.6761 - recall_1: 0.4507 - val_loss: 0.9543 - val_accuracy: 0.5511 - val_precision_1: 0.6309 - val_recall_1: 0.3890\n",
      "Epoch 85/100\n",
      "128/128 [==============================] - 0s 2ms/step - loss: 0.8748 - accuracy: 0.5955 - precision_1: 0.6838 - recall_1: 0.4363 - val_loss: 0.9536 - val_accuracy: 0.5493 - val_precision_1: 0.6264 - val_recall_1: 0.3902\n",
      "Epoch 86/100\n",
      "128/128 [==============================] - 0s 2ms/step - loss: 0.8746 - accuracy: 0.5960 - precision_1: 0.6753 - recall_1: 0.4441 - val_loss: 0.9554 - val_accuracy: 0.5556 - val_precision_1: 0.6274 - val_recall_1: 0.4073\n",
      "Epoch 87/100\n",
      "128/128 [==============================] - 0s 2ms/step - loss: 0.8748 - accuracy: 0.5970 - precision_1: 0.6822 - recall_1: 0.4468 - val_loss: 0.9529 - val_accuracy: 0.5562 - val_precision_1: 0.6261 - val_recall_1: 0.4107\n",
      "Epoch 88/100\n",
      "128/128 [==============================] - 0s 2ms/step - loss: 0.8738 - accuracy: 0.5928 - precision_1: 0.6827 - recall_1: 0.4404 - val_loss: 0.9524 - val_accuracy: 0.5573 - val_precision_1: 0.6273 - val_recall_1: 0.4119\n",
      "Epoch 89/100\n",
      "128/128 [==============================] - 0s 2ms/step - loss: 0.8740 - accuracy: 0.5916 - precision_1: 0.6776 - recall_1: 0.4461 - val_loss: 0.9559 - val_accuracy: 0.5550 - val_precision_1: 0.6252 - val_recall_1: 0.4102\n",
      "Epoch 90/100\n",
      "128/128 [==============================] - 0s 2ms/step - loss: 0.8733 - accuracy: 0.5975 - precision_1: 0.6786 - recall_1: 0.4446 - val_loss: 0.9552 - val_accuracy: 0.5482 - val_precision_1: 0.6204 - val_recall_1: 0.4027\n",
      "Epoch 91/100\n",
      "128/128 [==============================] - 0s 2ms/step - loss: 0.8731 - accuracy: 0.5957 - precision_1: 0.6825 - recall_1: 0.4441 - val_loss: 0.9571 - val_accuracy: 0.5545 - val_precision_1: 0.6304 - val_recall_1: 0.4027\n",
      "Epoch 92/100\n",
      "128/128 [==============================] - 0s 2ms/step - loss: 0.8727 - accuracy: 0.5960 - precision_1: 0.6802 - recall_1: 0.4453 - val_loss: 0.9535 - val_accuracy: 0.5516 - val_precision_1: 0.6313 - val_recall_1: 0.3936\n",
      "Epoch 93/100\n",
      "128/128 [==============================] - 0s 2ms/step - loss: 0.8721 - accuracy: 0.5945 - precision_1: 0.6863 - recall_1: 0.4456 - val_loss: 0.9563 - val_accuracy: 0.5550 - val_precision_1: 0.6175 - val_recall_1: 0.4136\n",
      "Epoch 94/100\n",
      "128/128 [==============================] - 0s 2ms/step - loss: 0.8722 - accuracy: 0.5977 - precision_1: 0.6787 - recall_1: 0.4468 - val_loss: 0.9562 - val_accuracy: 0.5499 - val_precision_1: 0.6334 - val_recall_1: 0.3913\n",
      "Epoch 95/100\n",
      "128/128 [==============================] - 0s 2ms/step - loss: 0.8715 - accuracy: 0.5994 - precision_1: 0.6853 - recall_1: 0.4463 - val_loss: 0.9554 - val_accuracy: 0.5482 - val_precision_1: 0.6314 - val_recall_1: 0.3851\n",
      "Epoch 96/100\n",
      "128/128 [==============================] - 0s 2ms/step - loss: 0.8728 - accuracy: 0.5955 - precision_1: 0.6794 - recall_1: 0.4422 - val_loss: 0.9542 - val_accuracy: 0.5476 - val_precision_1: 0.6170 - val_recall_1: 0.4090\n",
      "Epoch 97/100\n",
      "128/128 [==============================] - 0s 2ms/step - loss: 0.8716 - accuracy: 0.5982 - precision_1: 0.6844 - recall_1: 0.4488 - val_loss: 0.9576 - val_accuracy: 0.5511 - val_precision_1: 0.6297 - val_recall_1: 0.3948\n",
      "Epoch 98/100\n",
      "128/128 [==============================] - 0s 2ms/step - loss: 0.8711 - accuracy: 0.5997 - precision_1: 0.6860 - recall_1: 0.4478 - val_loss: 0.9541 - val_accuracy: 0.5511 - val_precision_1: 0.6347 - val_recall_1: 0.3925\n",
      "Epoch 99/100\n",
      "128/128 [==============================] - 0s 2ms/step - loss: 0.8719 - accuracy: 0.5979 - precision_1: 0.6833 - recall_1: 0.4431 - val_loss: 0.9565 - val_accuracy: 0.5585 - val_precision_1: 0.6219 - val_recall_1: 0.4204\n",
      "Epoch 100/100\n",
      "128/128 [==============================] - 0s 2ms/step - loss: 0.8706 - accuracy: 0.5979 - precision_1: 0.6859 - recall_1: 0.4485 - val_loss: 0.9567 - val_accuracy: 0.5476 - val_precision_1: 0.6343 - val_recall_1: 0.3879\n"
     ]
    }
   ],
   "source": [
    "W2VConcat_MLP.compile(optimizer='adam', loss=tf.keras.losses.CategoricalCrossentropy(), metrics=['accuracy', Precision(), Recall()])\n",
    "history = W2VConcat_MLP.fit(word2vec_concats_train, y_train_one_hot, validation_data=(word2vec_concats_test, y_test_one_hot), epochs=100)"
   ]
  },
  {
   "cell_type": "code",
   "execution_count": 54,
   "id": "a3efcecf",
   "metadata": {},
   "outputs": [
    {
     "data": {
      "image/png": "[encoded data removed]",
      "text/plain": [
       "<Figure size 1200x500 with 2 Axes>"
      ]
     },
     "metadata": {},
     "output_type": "display_data"
    }
   ],
   "source": [
    "plot_training_history(history)"
   ]
  },
  {
   "cell_type": "code",
   "execution_count": 55,
   "id": "154a3594",
   "metadata": {},
   "outputs": [
    {
     "name": "stdout",
     "output_type": "stream",
     "text": [
      "55/55 [==============================] - 0s 2ms/step - loss: 0.9567 - accuracy: 0.5476 - precision_1: 0.6343 - recall_1: 0.3879\n",
      "Test Accuracy: 0.54763263463974\n",
      "Test precision: 0.6343283653259277\n",
      "Test recal: 0.38790643215179443\n"
     ]
    }
   ],
   "source": [
    "loss, accuracy , precision, recall = W2VConcat_MLP.evaluate(word2vec_concats_test, y_test_one_hot)\n",
    "print(\"Test Accuracy:\", accuracy)\n",
    "print(\"Test precision:\", precision)\n",
    "print(\"Test recal:\", recall)"
   ]
  },
  {
   "cell_type": "markdown",
   "id": "576d1da1",
   "metadata": {},
   "source": [
    "> ##### 3.2.4 W2VCent_MLP fasttext centroid with MLP"
   ]
  },
  {
   "cell_type": "code",
   "execution_count": 56,
   "id": "cfd6d00a",
   "metadata": {},
   "outputs": [
    {
     "name": "stdout",
     "output_type": "stream",
     "text": [
      "Model: \"simple_model\"\n",
      "_________________________________________________________________\n",
      " Layer (type)                Output Shape              Param #   \n",
      "=================================================================\n",
      " input_layer (InputLayer)    [(None, 5)]               0         \n",
      "                                                                 \n",
      " hidden_layer (Dense)        (None, 5)                 30        \n",
      "                                                                 \n",
      " output_layer (Dense)        (None, 3)                 18        \n",
      "                                                                 \n",
      "=================================================================\n",
      "Total params: 48\n",
      "Trainable params: 48\n",
      "Non-trainable params: 0\n",
      "_________________________________________________________________\n"
     ]
    }
   ],
   "source": [
    "FTCent_MLP= create_MLP_model(fasttext_centroids_train.shape[1])\n",
    "FTCent_MLP.summary()"
   ]
  },
  {
   "cell_type": "code",
   "execution_count": 57,
   "id": "8a8b3c50",
   "metadata": {},
   "outputs": [
    {
     "name": "stdout",
     "output_type": "stream",
     "text": [
      "Epoch 1/100\n",
      "128/128 [==============================] - 1s 4ms/step - loss: 1.1814 - accuracy: 0.3094 - precision_2: 0.1786 - recall_2: 0.0024 - val_loss: 1.0687 - val_accuracy: 0.5277 - val_precision_2: 0.0000e+00 - val_recall_2: 0.0000e+00\n",
      "Epoch 2/100\n",
      "128/128 [==============================] - 0s 2ms/step - loss: 1.0523 - accuracy: 0.5341 - precision_2: 0.0000e+00 - recall_2: 0.0000e+00 - val_loss: 1.0363 - val_accuracy: 0.5282 - val_precision_2: 0.0000e+00 - val_recall_2: 0.0000e+00\n",
      "Epoch 3/100\n",
      "128/128 [==============================] - 0s 2ms/step - loss: 1.0267 - accuracy: 0.5366 - precision_2: 0.0000e+00 - recall_2: 0.0000e+00 - val_loss: 1.0161 - val_accuracy: 0.5294 - val_precision_2: 0.0000e+00 - val_recall_2: 0.0000e+00\n",
      "Epoch 4/100\n",
      "128/128 [==============================] - 0s 2ms/step - loss: 1.0099 - accuracy: 0.5356 - precision_2: 0.0000e+00 - recall_2: 0.0000e+00 - val_loss: 1.0026 - val_accuracy: 0.5334 - val_precision_2: 0.0000e+00 - val_recall_2: 0.0000e+00\n",
      "Epoch 5/100\n",
      "128/128 [==============================] - 0s 2ms/step - loss: 0.9985 - accuracy: 0.5363 - precision_2: 0.0000e+00 - recall_2: 0.0000e+00 - val_loss: 0.9934 - val_accuracy: 0.5345 - val_precision_2: 0.0000e+00 - val_recall_2: 0.0000e+00\n",
      "Epoch 6/100\n",
      "128/128 [==============================] - 0s 2ms/step - loss: 0.9908 - accuracy: 0.5366 - precision_2: 0.0000e+00 - recall_2: 0.0000e+00 - val_loss: 0.9871 - val_accuracy: 0.5345 - val_precision_2: 0.0000e+00 - val_recall_2: 0.0000e+00\n",
      "Epoch 7/100\n",
      "128/128 [==============================] - 0s 3ms/step - loss: 0.9855 - accuracy: 0.5368 - precision_2: 0.5506 - recall_2: 0.3023 - val_loss: 0.9828 - val_accuracy: 0.5351 - val_precision_2: 0.5521 - val_recall_2: 0.4991\n",
      "Epoch 8/100\n",
      "128/128 [==============================] - 0s 3ms/step - loss: 0.9820 - accuracy: 0.5363 - precision_2: 0.5521 - recall_2: 0.4962 - val_loss: 0.9797 - val_accuracy: 0.5334 - val_precision_2: 0.5531 - val_recall_2: 0.4963\n",
      "Epoch 9/100\n",
      "128/128 [==============================] - 0s 2ms/step - loss: 0.9795 - accuracy: 0.5358 - precision_2: 0.5540 - recall_2: 0.4945 - val_loss: 0.9773 - val_accuracy: 0.5317 - val_precision_2: 0.5546 - val_recall_2: 0.4900\n",
      "Epoch 10/100\n",
      "128/128 [==============================] - 0s 3ms/step - loss: 0.9778 - accuracy: 0.5361 - precision_2: 0.5538 - recall_2: 0.4908 - val_loss: 0.9758 - val_accuracy: 0.5299 - val_precision_2: 0.5553 - val_recall_2: 0.4894\n",
      "Epoch 11/100\n",
      "128/128 [==============================] - 0s 3ms/step - loss: 0.9768 - accuracy: 0.5356 - precision_2: 0.5551 - recall_2: 0.4857 - val_loss: 0.9746 - val_accuracy: 0.5299 - val_precision_2: 0.5575 - val_recall_2: 0.4843\n",
      "Epoch 12/100\n",
      "128/128 [==============================] - 0s 3ms/step - loss: 0.9761 - accuracy: 0.5351 - precision_2: 0.5546 - recall_2: 0.4908 - val_loss: 0.9740 - val_accuracy: 0.5294 - val_precision_2: 0.5549 - val_recall_2: 0.4900\n",
      "Epoch 13/100\n",
      "128/128 [==============================] - 0s 3ms/step - loss: 0.9754 - accuracy: 0.5358 - precision_2: 0.5537 - recall_2: 0.4906 - val_loss: 0.9735 - val_accuracy: 0.5294 - val_precision_2: 0.5589 - val_recall_2: 0.4735\n",
      "Epoch 14/100\n",
      "128/128 [==============================] - 0s 3ms/step - loss: 0.9753 - accuracy: 0.5361 - precision_2: 0.5549 - recall_2: 0.4784 - val_loss: 0.9730 - val_accuracy: 0.5294 - val_precision_2: 0.5560 - val_recall_2: 0.4872\n",
      "Epoch 15/100\n",
      "128/128 [==============================] - 0s 4ms/step - loss: 0.9750 - accuracy: 0.5353 - precision_2: 0.5560 - recall_2: 0.4796 - val_loss: 0.9727 - val_accuracy: 0.5299 - val_precision_2: 0.5578 - val_recall_2: 0.4792\n",
      "Epoch 16/100\n",
      "128/128 [==============================] - 0s 4ms/step - loss: 0.9749 - accuracy: 0.5356 - precision_2: 0.5545 - recall_2: 0.4840 - val_loss: 0.9724 - val_accuracy: 0.5305 - val_precision_2: 0.5572 - val_recall_2: 0.4809\n",
      "Epoch 17/100\n",
      "128/128 [==============================] - 0s 4ms/step - loss: 0.9747 - accuracy: 0.5353 - precision_2: 0.5547 - recall_2: 0.4845 - val_loss: 0.9723 - val_accuracy: 0.5305 - val_precision_2: 0.5557 - val_recall_2: 0.4894\n",
      "Epoch 18/100\n",
      "128/128 [==============================] - 0s 3ms/step - loss: 0.9746 - accuracy: 0.5353 - precision_2: 0.5533 - recall_2: 0.4823 - val_loss: 0.9722 - val_accuracy: 0.5299 - val_precision_2: 0.5578 - val_recall_2: 0.4786\n",
      "Epoch 19/100\n",
      "128/128 [==============================] - 0s 4ms/step - loss: 0.9745 - accuracy: 0.5351 - precision_2: 0.5561 - recall_2: 0.4837 - val_loss: 0.9719 - val_accuracy: 0.5294 - val_precision_2: 0.5576 - val_recall_2: 0.4832\n",
      "Epoch 20/100\n",
      "128/128 [==============================] - 1s 4ms/step - loss: 0.9743 - accuracy: 0.5356 - precision_2: 0.5552 - recall_2: 0.4786 - val_loss: 0.9717 - val_accuracy: 0.5311 - val_precision_2: 0.5559 - val_recall_2: 0.4877\n",
      "Epoch 21/100\n",
      "128/128 [==============================] - 0s 3ms/step - loss: 0.9744 - accuracy: 0.5341 - precision_2: 0.5529 - recall_2: 0.4891 - val_loss: 0.9715 - val_accuracy: 0.5294 - val_precision_2: 0.5577 - val_recall_2: 0.4855\n",
      "Epoch 22/100\n",
      "128/128 [==============================] - 0s 2ms/step - loss: 0.9741 - accuracy: 0.5356 - precision_2: 0.5571 - recall_2: 0.4774 - val_loss: 0.9714 - val_accuracy: 0.5294 - val_precision_2: 0.5576 - val_recall_2: 0.4803\n",
      "Epoch 23/100\n",
      "128/128 [==============================] - 0s 2ms/step - loss: 0.9742 - accuracy: 0.5353 - precision_2: 0.5561 - recall_2: 0.4837 - val_loss: 0.9712 - val_accuracy: 0.5294 - val_precision_2: 0.5592 - val_recall_2: 0.4740\n",
      "Epoch 24/100\n",
      "128/128 [==============================] - 0s 2ms/step - loss: 0.9740 - accuracy: 0.5353 - precision_2: 0.5563 - recall_2: 0.4793 - val_loss: 0.9711 - val_accuracy: 0.5334 - val_precision_2: 0.5549 - val_recall_2: 0.4900\n",
      "Epoch 25/100\n",
      "128/128 [==============================] - 0s 2ms/step - loss: 0.9736 - accuracy: 0.5353 - precision_2: 0.5551 - recall_2: 0.4766 - val_loss: 0.9709 - val_accuracy: 0.5334 - val_precision_2: 0.5551 - val_recall_2: 0.4889\n",
      "Epoch 26/100\n",
      "128/128 [==============================] - 0s 3ms/step - loss: 0.9735 - accuracy: 0.5351 - precision_2: 0.5568 - recall_2: 0.4815 - val_loss: 0.9705 - val_accuracy: 0.5317 - val_precision_2: 0.5569 - val_recall_2: 0.4855\n",
      "Epoch 27/100\n",
      "128/128 [==============================] - 0s 3ms/step - loss: 0.9733 - accuracy: 0.5351 - precision_2: 0.5582 - recall_2: 0.4818 - val_loss: 0.9702 - val_accuracy: 0.5317 - val_precision_2: 0.5582 - val_recall_2: 0.4815\n",
      "Epoch 28/100\n",
      "128/128 [==============================] - 0s 3ms/step - loss: 0.9733 - accuracy: 0.5346 - precision_2: 0.5564 - recall_2: 0.4825 - val_loss: 0.9700 - val_accuracy: 0.5311 - val_precision_2: 0.5580 - val_recall_2: 0.4826\n",
      "Epoch 29/100\n",
      "128/128 [==============================] - 0s 2ms/step - loss: 0.9729 - accuracy: 0.5351 - precision_2: 0.5559 - recall_2: 0.4806 - val_loss: 0.9697 - val_accuracy: 0.5322 - val_precision_2: 0.5580 - val_recall_2: 0.4832\n",
      "Epoch 30/100\n",
      "128/128 [==============================] - 0s 2ms/step - loss: 0.9731 - accuracy: 0.5363 - precision_2: 0.5562 - recall_2: 0.4864 - val_loss: 0.9693 - val_accuracy: 0.5305 - val_precision_2: 0.5606 - val_recall_2: 0.4723\n",
      "Epoch 31/100\n",
      "128/128 [==============================] - 0s 2ms/step - loss: 0.9728 - accuracy: 0.5356 - precision_2: 0.5576 - recall_2: 0.4769 - val_loss: 0.9692 - val_accuracy: 0.5339 - val_precision_2: 0.5569 - val_recall_2: 0.4855\n",
      "Epoch 32/100\n",
      "128/128 [==============================] - 0s 2ms/step - loss: 0.9726 - accuracy: 0.5361 - precision_2: 0.5554 - recall_2: 0.4803 - val_loss: 0.9689 - val_accuracy: 0.5339 - val_precision_2: 0.5570 - val_recall_2: 0.4849\n",
      "Epoch 33/100\n",
      "128/128 [==============================] - 0s 3ms/step - loss: 0.9724 - accuracy: 0.5348 - precision_2: 0.5575 - recall_2: 0.4791 - val_loss: 0.9685 - val_accuracy: 0.5334 - val_precision_2: 0.5569 - val_recall_2: 0.4832\n",
      "Epoch 34/100\n",
      "128/128 [==============================] - 0s 2ms/step - loss: 0.9722 - accuracy: 0.5361 - precision_2: 0.5564 - recall_2: 0.4840 - val_loss: 0.9682 - val_accuracy: 0.5317 - val_precision_2: 0.5613 - val_recall_2: 0.4729\n",
      "Epoch 35/100\n",
      "128/128 [==============================] - 0s 2ms/step - loss: 0.9718 - accuracy: 0.5358 - precision_2: 0.5576 - recall_2: 0.4828 - val_loss: 0.9678 - val_accuracy: 0.5322 - val_precision_2: 0.5590 - val_recall_2: 0.4780\n"
     ]
    },
    {
     "name": "stdout",
     "output_type": "stream",
     "text": [
      "Epoch 36/100\n",
      "128/128 [==============================] - 0s 2ms/step - loss: 0.9718 - accuracy: 0.5348 - precision_2: 0.5574 - recall_2: 0.4835 - val_loss: 0.9675 - val_accuracy: 0.5322 - val_precision_2: 0.5584 - val_recall_2: 0.4797\n",
      "Epoch 37/100\n",
      "128/128 [==============================] - 0s 3ms/step - loss: 0.9715 - accuracy: 0.5363 - precision_2: 0.5566 - recall_2: 0.4825 - val_loss: 0.9673 - val_accuracy: 0.5322 - val_precision_2: 0.5588 - val_recall_2: 0.4797\n",
      "Epoch 38/100\n",
      "128/128 [==============================] - 0s 2ms/step - loss: 0.9714 - accuracy: 0.5366 - precision_2: 0.5572 - recall_2: 0.4847 - val_loss: 0.9673 - val_accuracy: 0.5305 - val_precision_2: 0.5633 - val_recall_2: 0.4695\n",
      "Epoch 39/100\n",
      "128/128 [==============================] - 0s 2ms/step - loss: 0.9712 - accuracy: 0.5378 - precision_2: 0.5557 - recall_2: 0.4845 - val_loss: 0.9671 - val_accuracy: 0.5294 - val_precision_2: 0.5629 - val_recall_2: 0.4643\n",
      "Epoch 40/100\n",
      "128/128 [==============================] - 0s 2ms/step - loss: 0.9712 - accuracy: 0.5361 - precision_2: 0.5570 - recall_2: 0.4815 - val_loss: 0.9664 - val_accuracy: 0.5334 - val_precision_2: 0.5623 - val_recall_2: 0.4763\n",
      "Epoch 41/100\n",
      "128/128 [==============================] - 0s 2ms/step - loss: 0.9712 - accuracy: 0.5368 - precision_2: 0.5584 - recall_2: 0.4830 - val_loss: 0.9662 - val_accuracy: 0.5322 - val_precision_2: 0.5588 - val_recall_2: 0.4797\n",
      "Epoch 42/100\n",
      "128/128 [==============================] - 0s 2ms/step - loss: 0.9707 - accuracy: 0.5366 - precision_2: 0.5560 - recall_2: 0.4884 - val_loss: 0.9661 - val_accuracy: 0.5305 - val_precision_2: 0.5655 - val_recall_2: 0.4701\n",
      "Epoch 43/100\n",
      "128/128 [==============================] - 0s 2ms/step - loss: 0.9707 - accuracy: 0.5368 - precision_2: 0.5586 - recall_2: 0.4825 - val_loss: 0.9664 - val_accuracy: 0.5299 - val_precision_2: 0.5666 - val_recall_2: 0.4586\n",
      "Epoch 44/100\n",
      "128/128 [==============================] - 0s 2ms/step - loss: 0.9705 - accuracy: 0.5366 - precision_2: 0.5623 - recall_2: 0.4791 - val_loss: 0.9654 - val_accuracy: 0.5328 - val_precision_2: 0.5603 - val_recall_2: 0.4769\n",
      "Epoch 45/100\n",
      "128/128 [==============================] - 0s 2ms/step - loss: 0.9704 - accuracy: 0.5371 - precision_2: 0.5602 - recall_2: 0.4779 - val_loss: 0.9652 - val_accuracy: 0.5328 - val_precision_2: 0.5585 - val_recall_2: 0.4820\n",
      "Epoch 46/100\n",
      "128/128 [==============================] - 0s 2ms/step - loss: 0.9700 - accuracy: 0.5358 - precision_2: 0.5583 - recall_2: 0.4832 - val_loss: 0.9650 - val_accuracy: 0.5334 - val_precision_2: 0.5600 - val_recall_2: 0.4792\n",
      "Epoch 47/100\n",
      "128/128 [==============================] - 0s 2ms/step - loss: 0.9699 - accuracy: 0.5358 - precision_2: 0.5574 - recall_2: 0.4842 - val_loss: 0.9649 - val_accuracy: 0.5322 - val_precision_2: 0.5658 - val_recall_2: 0.4712\n",
      "Epoch 48/100\n",
      "128/128 [==============================] - 0s 2ms/step - loss: 0.9698 - accuracy: 0.5368 - precision_2: 0.5606 - recall_2: 0.4774 - val_loss: 0.9646 - val_accuracy: 0.5322 - val_precision_2: 0.5646 - val_recall_2: 0.4763\n",
      "Epoch 49/100\n",
      "128/128 [==============================] - 0s 2ms/step - loss: 0.9696 - accuracy: 0.5371 - precision_2: 0.5603 - recall_2: 0.4806 - val_loss: 0.9643 - val_accuracy: 0.5334 - val_precision_2: 0.5601 - val_recall_2: 0.4815\n",
      "Epoch 50/100\n",
      "128/128 [==============================] - 0s 2ms/step - loss: 0.9696 - accuracy: 0.5368 - precision_2: 0.5582 - recall_2: 0.4796 - val_loss: 0.9641 - val_accuracy: 0.5328 - val_precision_2: 0.5658 - val_recall_2: 0.4758\n",
      "Epoch 51/100\n",
      "128/128 [==============================] - 0s 2ms/step - loss: 0.9695 - accuracy: 0.5371 - precision_2: 0.5616 - recall_2: 0.4771 - val_loss: 0.9640 - val_accuracy: 0.5334 - val_precision_2: 0.5602 - val_recall_2: 0.4832\n",
      "Epoch 52/100\n",
      "128/128 [==============================] - 0s 3ms/step - loss: 0.9694 - accuracy: 0.5371 - precision_2: 0.5621 - recall_2: 0.4806 - val_loss: 0.9637 - val_accuracy: 0.5334 - val_precision_2: 0.5621 - val_recall_2: 0.4803\n",
      "Epoch 53/100\n",
      "128/128 [==============================] - 0s 3ms/step - loss: 0.9692 - accuracy: 0.5363 - precision_2: 0.5638 - recall_2: 0.4810 - val_loss: 0.9635 - val_accuracy: 0.5317 - val_precision_2: 0.5686 - val_recall_2: 0.4683\n",
      "Epoch 54/100\n",
      "128/128 [==============================] - 0s 2ms/step - loss: 0.9690 - accuracy: 0.5371 - precision_2: 0.5587 - recall_2: 0.4832 - val_loss: 0.9636 - val_accuracy: 0.5311 - val_precision_2: 0.5706 - val_recall_2: 0.4564\n",
      "Epoch 55/100\n",
      "128/128 [==============================] - 0s 2ms/step - loss: 0.9694 - accuracy: 0.5366 - precision_2: 0.5617 - recall_2: 0.4752 - val_loss: 0.9631 - val_accuracy: 0.5317 - val_precision_2: 0.5661 - val_recall_2: 0.4689\n",
      "Epoch 56/100\n",
      "128/128 [==============================] - 0s 3ms/step - loss: 0.9692 - accuracy: 0.5380 - precision_2: 0.5632 - recall_2: 0.4786 - val_loss: 0.9631 - val_accuracy: 0.5328 - val_precision_2: 0.5615 - val_recall_2: 0.4820\n",
      "Epoch 57/100\n",
      "128/128 [==============================] - 0s 3ms/step - loss: 0.9690 - accuracy: 0.5371 - precision_2: 0.5637 - recall_2: 0.4715 - val_loss: 0.9628 - val_accuracy: 0.5317 - val_precision_2: 0.5674 - val_recall_2: 0.4661\n",
      "Epoch 58/100\n",
      "128/128 [==============================] - 0s 3ms/step - loss: 0.9687 - accuracy: 0.5353 - precision_2: 0.5661 - recall_2: 0.4735 - val_loss: 0.9636 - val_accuracy: 0.5334 - val_precision_2: 0.5598 - val_recall_2: 0.4940\n",
      "Epoch 59/100\n",
      "128/128 [==============================] - 0s 3ms/step - loss: 0.9687 - accuracy: 0.5366 - precision_2: 0.5642 - recall_2: 0.4752 - val_loss: 0.9624 - val_accuracy: 0.5322 - val_precision_2: 0.5703 - val_recall_2: 0.4626\n",
      "Epoch 60/100\n",
      "128/128 [==============================] - 0s 3ms/step - loss: 0.9685 - accuracy: 0.5368 - precision_2: 0.5668 - recall_2: 0.4691 - val_loss: 0.9622 - val_accuracy: 0.5322 - val_precision_2: 0.5688 - val_recall_2: 0.4643\n",
      "Epoch 61/100\n",
      "128/128 [==============================] - 0s 3ms/step - loss: 0.9685 - accuracy: 0.5361 - precision_2: 0.5647 - recall_2: 0.4705 - val_loss: 0.9623 - val_accuracy: 0.5328 - val_precision_2: 0.5636 - val_recall_2: 0.4752\n",
      "Epoch 62/100\n",
      "128/128 [==============================] - 0s 3ms/step - loss: 0.9685 - accuracy: 0.5366 - precision_2: 0.5661 - recall_2: 0.4674 - val_loss: 0.9621 - val_accuracy: 0.5322 - val_precision_2: 0.5636 - val_recall_2: 0.4723\n",
      "Epoch 63/100\n",
      "128/128 [==============================] - 0s 3ms/step - loss: 0.9683 - accuracy: 0.5375 - precision_2: 0.5652 - recall_2: 0.4683 - val_loss: 0.9619 - val_accuracy: 0.5317 - val_precision_2: 0.5663 - val_recall_2: 0.4655\n",
      "Epoch 64/100\n",
      "128/128 [==============================] - 0s 3ms/step - loss: 0.9682 - accuracy: 0.5373 - precision_2: 0.5684 - recall_2: 0.4656 - val_loss: 0.9618 - val_accuracy: 0.5317 - val_precision_2: 0.5663 - val_recall_2: 0.4678\n",
      "Epoch 65/100\n",
      "128/128 [==============================] - 0s 3ms/step - loss: 0.9681 - accuracy: 0.5366 - precision_2: 0.5656 - recall_2: 0.4710 - val_loss: 0.9623 - val_accuracy: 0.5334 - val_precision_2: 0.5620 - val_recall_2: 0.4837\n",
      "Epoch 66/100\n",
      "128/128 [==============================] - 0s 3ms/step - loss: 0.9679 - accuracy: 0.5356 - precision_2: 0.5668 - recall_2: 0.4703 - val_loss: 0.9615 - val_accuracy: 0.5322 - val_precision_2: 0.5720 - val_recall_2: 0.4621\n",
      "Epoch 67/100\n",
      "128/128 [==============================] - 0s 2ms/step - loss: 0.9681 - accuracy: 0.5366 - precision_2: 0.5665 - recall_2: 0.4659 - val_loss: 0.9614 - val_accuracy: 0.5311 - val_precision_2: 0.5668 - val_recall_2: 0.4672\n",
      "Epoch 68/100\n",
      "128/128 [==============================] - 0s 2ms/step - loss: 0.9679 - accuracy: 0.5368 - precision_2: 0.5653 - recall_2: 0.4678 - val_loss: 0.9613 - val_accuracy: 0.5311 - val_precision_2: 0.5684 - val_recall_2: 0.4672\n",
      "Epoch 69/100\n",
      "128/128 [==============================] - 0s 2ms/step - loss: 0.9680 - accuracy: 0.5368 - precision_2: 0.5704 - recall_2: 0.4625 - val_loss: 0.9611 - val_accuracy: 0.5317 - val_precision_2: 0.5701 - val_recall_2: 0.4638\n",
      "Epoch 70/100\n",
      "128/128 [==============================] - 0s 2ms/step - loss: 0.9679 - accuracy: 0.5366 - precision_2: 0.5702 - recall_2: 0.4588 - val_loss: 0.9612 - val_accuracy: 0.5317 - val_precision_2: 0.5681 - val_recall_2: 0.4689\n",
      "Epoch 71/100\n"
     ]
    },
    {
     "name": "stdout",
     "output_type": "stream",
     "text": [
      "128/128 [==============================] - 0s 2ms/step - loss: 0.9675 - accuracy: 0.5366 - precision_2: 0.5675 - recall_2: 0.4691 - val_loss: 0.9612 - val_accuracy: 0.5317 - val_precision_2: 0.5809 - val_recall_2: 0.4404\n",
      "Epoch 72/100\n",
      "128/128 [==============================] - 0s 2ms/step - loss: 0.9679 - accuracy: 0.5368 - precision_2: 0.5694 - recall_2: 0.4615 - val_loss: 0.9609 - val_accuracy: 0.5305 - val_precision_2: 0.5694 - val_recall_2: 0.4678\n",
      "Epoch 73/100\n",
      "128/128 [==============================] - 0s 2ms/step - loss: 0.9679 - accuracy: 0.5375 - precision_2: 0.5727 - recall_2: 0.4661 - val_loss: 0.9607 - val_accuracy: 0.5322 - val_precision_2: 0.5716 - val_recall_2: 0.4598\n",
      "Epoch 74/100\n",
      "128/128 [==============================] - 0s 2ms/step - loss: 0.9673 - accuracy: 0.5351 - precision_2: 0.5714 - recall_2: 0.4581 - val_loss: 0.9625 - val_accuracy: 0.5357 - val_precision_2: 0.5591 - val_recall_2: 0.4883\n",
      "Epoch 75/100\n",
      "128/128 [==============================] - 0s 2ms/step - loss: 0.9678 - accuracy: 0.5356 - precision_2: 0.5671 - recall_2: 0.4549 - val_loss: 0.9607 - val_accuracy: 0.5305 - val_precision_2: 0.5684 - val_recall_2: 0.4695\n",
      "Epoch 76/100\n",
      "128/128 [==============================] - 0s 2ms/step - loss: 0.9674 - accuracy: 0.5363 - precision_2: 0.5676 - recall_2: 0.4642 - val_loss: 0.9604 - val_accuracy: 0.5322 - val_precision_2: 0.5759 - val_recall_2: 0.4586\n",
      "Epoch 77/100\n",
      "128/128 [==============================] - 0s 2ms/step - loss: 0.9674 - accuracy: 0.5351 - precision_2: 0.5720 - recall_2: 0.4588 - val_loss: 0.9603 - val_accuracy: 0.5311 - val_precision_2: 0.5709 - val_recall_2: 0.4638\n",
      "Epoch 78/100\n",
      "128/128 [==============================] - 0s 2ms/step - loss: 0.9672 - accuracy: 0.5378 - precision_2: 0.5672 - recall_2: 0.4678 - val_loss: 0.9603 - val_accuracy: 0.5322 - val_precision_2: 0.5841 - val_recall_2: 0.4438\n",
      "Epoch 79/100\n",
      "128/128 [==============================] - 0s 2ms/step - loss: 0.9677 - accuracy: 0.5351 - precision_2: 0.5737 - recall_2: 0.4434 - val_loss: 0.9603 - val_accuracy: 0.5311 - val_precision_2: 0.5701 - val_recall_2: 0.4638\n",
      "Epoch 80/100\n",
      "128/128 [==============================] - 0s 2ms/step - loss: 0.9676 - accuracy: 0.5351 - precision_2: 0.5668 - recall_2: 0.4678 - val_loss: 0.9601 - val_accuracy: 0.5311 - val_precision_2: 0.5731 - val_recall_2: 0.4626\n",
      "Epoch 81/100\n",
      "128/128 [==============================] - 0s 2ms/step - loss: 0.9678 - accuracy: 0.5344 - precision_2: 0.5712 - recall_2: 0.4561 - val_loss: 0.9600 - val_accuracy: 0.5322 - val_precision_2: 0.5775 - val_recall_2: 0.4507\n",
      "Epoch 82/100\n",
      "128/128 [==============================] - 0s 2ms/step - loss: 0.9671 - accuracy: 0.5366 - precision_2: 0.5716 - recall_2: 0.4576 - val_loss: 0.9613 - val_accuracy: 0.5317 - val_precision_2: 0.6007 - val_recall_2: 0.4136\n",
      "Epoch 83/100\n",
      "128/128 [==============================] - 0s 2ms/step - loss: 0.9672 - accuracy: 0.5366 - precision_2: 0.5727 - recall_2: 0.4593 - val_loss: 0.9599 - val_accuracy: 0.5328 - val_precision_2: 0.5826 - val_recall_2: 0.4444\n",
      "Epoch 84/100\n",
      "128/128 [==============================] - 0s 2ms/step - loss: 0.9672 - accuracy: 0.5353 - precision_2: 0.5699 - recall_2: 0.4607 - val_loss: 0.9602 - val_accuracy: 0.5311 - val_precision_2: 0.5927 - val_recall_2: 0.4267\n",
      "Epoch 85/100\n",
      "128/128 [==============================] - 0s 2ms/step - loss: 0.9675 - accuracy: 0.5368 - precision_2: 0.5691 - recall_2: 0.4551 - val_loss: 0.9600 - val_accuracy: 0.5317 - val_precision_2: 0.5926 - val_recall_2: 0.4273\n",
      "Epoch 86/100\n",
      "128/128 [==============================] - 0s 2ms/step - loss: 0.9673 - accuracy: 0.5348 - precision_2: 0.5723 - recall_2: 0.4512 - val_loss: 0.9600 - val_accuracy: 0.5299 - val_precision_2: 0.5689 - val_recall_2: 0.4661\n",
      "Epoch 87/100\n",
      "128/128 [==============================] - 0s 2ms/step - loss: 0.9676 - accuracy: 0.5368 - precision_2: 0.5707 - recall_2: 0.4532 - val_loss: 0.9598 - val_accuracy: 0.5311 - val_precision_2: 0.5720 - val_recall_2: 0.4643\n",
      "Epoch 88/100\n",
      "128/128 [==============================] - 0s 2ms/step - loss: 0.9672 - accuracy: 0.5356 - precision_2: 0.5709 - recall_2: 0.4581 - val_loss: 0.9595 - val_accuracy: 0.5334 - val_precision_2: 0.5782 - val_recall_2: 0.4512\n",
      "Epoch 89/100\n",
      "128/128 [==============================] - 0s 2ms/step - loss: 0.9671 - accuracy: 0.5356 - precision_2: 0.5704 - recall_2: 0.4568 - val_loss: 0.9594 - val_accuracy: 0.5328 - val_precision_2: 0.5815 - val_recall_2: 0.4495\n",
      "Epoch 90/100\n",
      "128/128 [==============================] - 0s 2ms/step - loss: 0.9671 - accuracy: 0.5351 - precision_2: 0.5753 - recall_2: 0.4473 - val_loss: 0.9594 - val_accuracy: 0.5345 - val_precision_2: 0.5834 - val_recall_2: 0.4410\n",
      "Epoch 91/100\n",
      "128/128 [==============================] - 0s 2ms/step - loss: 0.9670 - accuracy: 0.5348 - precision_2: 0.5709 - recall_2: 0.4512 - val_loss: 0.9595 - val_accuracy: 0.5317 - val_precision_2: 0.5739 - val_recall_2: 0.4609\n",
      "Epoch 92/100\n",
      "128/128 [==============================] - 0s 3ms/step - loss: 0.9669 - accuracy: 0.5353 - precision_2: 0.5716 - recall_2: 0.4517 - val_loss: 0.9593 - val_accuracy: 0.5339 - val_precision_2: 0.5762 - val_recall_2: 0.4529\n",
      "Epoch 93/100\n",
      "128/128 [==============================] - 0s 3ms/step - loss: 0.9671 - accuracy: 0.5371 - precision_2: 0.5754 - recall_2: 0.4488 - val_loss: 0.9593 - val_accuracy: 0.5339 - val_precision_2: 0.5803 - val_recall_2: 0.4512\n",
      "Epoch 94/100\n",
      "128/128 [==============================] - 0s 3ms/step - loss: 0.9673 - accuracy: 0.5358 - precision_2: 0.5711 - recall_2: 0.4588 - val_loss: 0.9593 - val_accuracy: 0.5351 - val_precision_2: 0.5840 - val_recall_2: 0.4444\n",
      "Epoch 95/100\n",
      "128/128 [==============================] - 0s 3ms/step - loss: 0.9671 - accuracy: 0.5366 - precision_2: 0.5752 - recall_2: 0.4441 - val_loss: 0.9592 - val_accuracy: 0.5345 - val_precision_2: 0.5823 - val_recall_2: 0.4478\n",
      "Epoch 96/100\n",
      "128/128 [==============================] - 0s 3ms/step - loss: 0.9674 - accuracy: 0.5363 - precision_2: 0.5726 - recall_2: 0.4561 - val_loss: 0.9592 - val_accuracy: 0.5339 - val_precision_2: 0.5796 - val_recall_2: 0.4529\n",
      "Epoch 97/100\n",
      "128/128 [==============================] - 0s 3ms/step - loss: 0.9669 - accuracy: 0.5373 - precision_2: 0.5721 - recall_2: 0.4581 - val_loss: 0.9594 - val_accuracy: 0.5345 - val_precision_2: 0.5935 - val_recall_2: 0.4238\n",
      "Epoch 98/100\n",
      "128/128 [==============================] - 0s 3ms/step - loss: 0.9669 - accuracy: 0.5375 - precision_2: 0.5731 - recall_2: 0.4507 - val_loss: 0.9593 - val_accuracy: 0.5351 - val_precision_2: 0.5913 - val_recall_2: 0.4250\n",
      "Epoch 99/100\n",
      "128/128 [==============================] - 0s 3ms/step - loss: 0.9677 - accuracy: 0.5361 - precision_2: 0.5702 - recall_2: 0.4419 - val_loss: 0.9590 - val_accuracy: 0.5345 - val_precision_2: 0.5833 - val_recall_2: 0.4472\n",
      "Epoch 100/100\n",
      "128/128 [==============================] - 0s 3ms/step - loss: 0.9671 - accuracy: 0.5373 - precision_2: 0.5758 - recall_2: 0.4466 - val_loss: 0.9591 - val_accuracy: 0.5334 - val_precision_2: 0.5755 - val_recall_2: 0.4546\n"
     ]
    }
   ],
   "source": [
    "FTCent_MLP.compile(optimizer='adam', loss=tf.keras.losses.CategoricalCrossentropy(), metrics=['accuracy', Precision(), Recall()])\n",
    "history = FTCent_MLP.fit(fasttext_centroids_train, y_train_one_hot, validation_data=(fasttext_centroids_test, y_test_one_hot), epochs=100)"
   ]
  },
  {
   "cell_type": "code",
   "execution_count": 58,
   "id": "ba785631",
   "metadata": {},
   "outputs": [
    {
     "data": {
      "image/png": "[encoded data removed]",
      "text/plain": [
       "<Figure size 1200x500 with 2 Axes>"
      ]
     },
     "metadata": {},
     "output_type": "display_data"
    }
   ],
   "source": [
    "plot_training_history(history)"
   ]
  },
  {
   "cell_type": "code",
   "execution_count": 59,
   "id": "11b8de3a",
   "metadata": {},
   "outputs": [
    {
     "name": "stdout",
     "output_type": "stream",
     "text": [
      "55/55 [==============================] - 0s 2ms/step - loss: 0.9591 - accuracy: 0.5334 - precision_2: 0.5755 - recall_2: 0.4546\n",
      "Test Accuracy: 0.5333713889122009\n",
      "Test precision: 0.5754512548446655\n",
      "Test recal: 0.4546491801738739\n"
     ]
    }
   ],
   "source": [
    "loss, accuracy , precision, recall = FTCent_MLP.evaluate(fasttext_centroids_test, y_test_one_hot)\n",
    "print(\"Test Accuracy:\", accuracy)\n",
    "print(\"Test precision:\", precision)\n",
    "print(\"Test recal:\", recall)"
   ]
  },
  {
   "cell_type": "markdown",
   "id": "9d7a7d24",
   "metadata": {},
   "source": [
    "> ##### 3.2.5 FTConcat_MLP fasttext concatenation with MLP"
   ]
  },
  {
   "cell_type": "code",
   "execution_count": 60,
   "id": "7eaaf4a6",
   "metadata": {},
   "outputs": [
    {
     "name": "stdout",
     "output_type": "stream",
     "text": [
      "Model: \"simple_model\"\n",
      "_________________________________________________________________\n",
      " Layer (type)                Output Shape              Param #   \n",
      "=================================================================\n",
      " input_layer (InputLayer)    [(None, 100)]             0         \n",
      "                                                                 \n",
      " hidden_layer (Dense)        (None, 5)                 505       \n",
      "                                                                 \n",
      " output_layer (Dense)        (None, 3)                 18        \n",
      "                                                                 \n",
      "=================================================================\n",
      "Total params: 523\n",
      "Trainable params: 523\n",
      "Non-trainable params: 0\n",
      "_________________________________________________________________\n"
     ]
    }
   ],
   "source": [
    "FTCancat_MLP= create_MLP_model(fasttext_concats_train.shape[1])\n",
    "FTCancat_MLP.summary()"
   ]
  },
  {
   "cell_type": "code",
   "execution_count": 61,
   "id": "4bd1dc5e",
   "metadata": {},
   "outputs": [
    {
     "name": "stdout",
     "output_type": "stream",
     "text": [
      "Epoch 1/100\n",
      "128/128 [==============================] - 1s 4ms/step - loss: 1.0483 - accuracy: 0.4943 - precision_3: 0.5740 - recall_3: 0.1499 - val_loss: 0.9906 - val_accuracy: 0.5271 - val_precision_3: 0.6109 - val_recall_3: 0.3143\n",
      "Epoch 2/100\n",
      "128/128 [==============================] - 0s 2ms/step - loss: 0.9826 - accuracy: 0.5212 - precision_3: 0.5875 - recall_3: 0.3292 - val_loss: 0.9599 - val_accuracy: 0.5260 - val_precision_3: 0.6192 - val_recall_3: 0.3600\n",
      "Epoch 3/100\n",
      "128/128 [==============================] - 0s 2ms/step - loss: 0.9601 - accuracy: 0.5334 - precision_3: 0.6131 - recall_3: 0.3414 - val_loss: 0.9494 - val_accuracy: 0.5299 - val_precision_3: 0.6469 - val_recall_3: 0.3166\n",
      "Epoch 4/100\n",
      "128/128 [==============================] - 0s 2ms/step - loss: 0.9502 - accuracy: 0.5334 - precision_3: 0.6320 - recall_3: 0.3272 - val_loss: 0.9456 - val_accuracy: 0.5271 - val_precision_3: 0.6201 - val_recall_3: 0.3845\n",
      "Epoch 5/100\n",
      "128/128 [==============================] - 0s 2ms/step - loss: 0.9447 - accuracy: 0.5417 - precision_3: 0.6302 - recall_3: 0.3363 - val_loss: 0.9414 - val_accuracy: 0.5334 - val_precision_3: 0.6687 - val_recall_3: 0.3052\n",
      "Epoch 6/100\n",
      "128/128 [==============================] - 0s 2ms/step - loss: 0.9425 - accuracy: 0.5344 - precision_3: 0.6438 - recall_3: 0.3258 - val_loss: 0.9380 - val_accuracy: 0.5345 - val_precision_3: 0.6537 - val_recall_3: 0.3457\n",
      "Epoch 7/100\n",
      "128/128 [==============================] - 0s 2ms/step - loss: 0.9371 - accuracy: 0.5390 - precision_3: 0.6544 - recall_3: 0.3260 - val_loss: 0.9400 - val_accuracy: 0.5339 - val_precision_3: 0.6309 - val_recall_3: 0.3793\n",
      "Epoch 8/100\n",
      "128/128 [==============================] - 0s 2ms/step - loss: 0.9362 - accuracy: 0.5407 - precision_3: 0.6469 - recall_3: 0.3387 - val_loss: 0.9340 - val_accuracy: 0.5351 - val_precision_3: 0.6763 - val_recall_3: 0.3195\n",
      "Epoch 9/100\n",
      "128/128 [==============================] - 0s 2ms/step - loss: 0.9333 - accuracy: 0.5417 - precision_3: 0.6480 - recall_3: 0.3372 - val_loss: 0.9334 - val_accuracy: 0.5339 - val_precision_3: 0.6605 - val_recall_3: 0.3263\n",
      "Epoch 10/100\n",
      "128/128 [==============================] - 0s 2ms/step - loss: 0.9323 - accuracy: 0.5473 - precision_3: 0.6474 - recall_3: 0.3363 - val_loss: 0.9326 - val_accuracy: 0.5391 - val_precision_3: 0.6751 - val_recall_3: 0.3189\n",
      "Epoch 11/100\n",
      "128/128 [==============================] - 0s 2ms/step - loss: 0.9297 - accuracy: 0.5429 - precision_3: 0.6563 - recall_3: 0.3446 - val_loss: 0.9316 - val_accuracy: 0.5454 - val_precision_3: 0.6548 - val_recall_3: 0.3571\n",
      "Epoch 12/100\n",
      "128/128 [==============================] - 0s 2ms/step - loss: 0.9299 - accuracy: 0.5537 - precision_3: 0.6525 - recall_3: 0.3380 - val_loss: 0.9320 - val_accuracy: 0.5436 - val_precision_3: 0.6655 - val_recall_3: 0.3394\n",
      "Epoch 13/100\n",
      "128/128 [==============================] - 0s 2ms/step - loss: 0.9272 - accuracy: 0.5527 - precision_3: 0.6544 - recall_3: 0.3514 - val_loss: 0.9348 - val_accuracy: 0.5414 - val_precision_3: 0.6576 - val_recall_3: 0.3463\n",
      "Epoch 14/100\n",
      "128/128 [==============================] - 0s 2ms/step - loss: 0.9259 - accuracy: 0.5561 - precision_3: 0.6531 - recall_3: 0.3536 - val_loss: 0.9334 - val_accuracy: 0.5402 - val_precision_3: 0.6566 - val_recall_3: 0.3468\n",
      "Epoch 15/100\n",
      "128/128 [==============================] - 0s 2ms/step - loss: 0.9260 - accuracy: 0.5522 - precision_3: 0.6545 - recall_3: 0.3475 - val_loss: 0.9281 - val_accuracy: 0.5488 - val_precision_3: 0.6498 - val_recall_3: 0.3600\n",
      "Epoch 16/100\n",
      "128/128 [==============================] - 0s 2ms/step - loss: 0.9237 - accuracy: 0.5537 - precision_3: 0.6560 - recall_3: 0.3558 - val_loss: 0.9291 - val_accuracy: 0.5459 - val_precision_3: 0.6365 - val_recall_3: 0.3725\n",
      "Epoch 17/100\n",
      "128/128 [==============================] - 0s 2ms/step - loss: 0.9236 - accuracy: 0.5608 - precision_3: 0.6513 - recall_3: 0.3553 - val_loss: 0.9306 - val_accuracy: 0.5454 - val_precision_3: 0.6535 - val_recall_3: 0.3400\n",
      "Epoch 18/100\n",
      "128/128 [==============================] - 0s 2ms/step - loss: 0.9207 - accuracy: 0.5576 - precision_3: 0.6529 - recall_3: 0.3597 - val_loss: 0.9263 - val_accuracy: 0.5488 - val_precision_3: 0.6579 - val_recall_3: 0.3565\n",
      "Epoch 19/100\n",
      "128/128 [==============================] - 0s 2ms/step - loss: 0.9195 - accuracy: 0.5642 - precision_3: 0.6541 - recall_3: 0.3602 - val_loss: 0.9255 - val_accuracy: 0.5505 - val_precision_3: 0.6633 - val_recall_3: 0.3349\n",
      "Epoch 20/100\n",
      "128/128 [==============================] - 0s 3ms/step - loss: 0.9183 - accuracy: 0.5681 - precision_3: 0.6593 - recall_3: 0.3624 - val_loss: 0.9262 - val_accuracy: 0.5482 - val_precision_3: 0.6501 - val_recall_3: 0.3571\n",
      "Epoch 21/100\n",
      "128/128 [==============================] - 0s 2ms/step - loss: 0.9164 - accuracy: 0.5703 - precision_3: 0.6572 - recall_3: 0.3695 - val_loss: 0.9271 - val_accuracy: 0.5488 - val_precision_3: 0.6336 - val_recall_3: 0.3788\n",
      "Epoch 22/100\n",
      "128/128 [==============================] - 0s 2ms/step - loss: 0.9165 - accuracy: 0.5657 - precision_3: 0.6556 - recall_3: 0.3725 - val_loss: 0.9267 - val_accuracy: 0.5511 - val_precision_3: 0.6705 - val_recall_3: 0.3366\n",
      "Epoch 23/100\n",
      "128/128 [==============================] - 0s 2ms/step - loss: 0.9145 - accuracy: 0.5732 - precision_3: 0.6610 - recall_3: 0.3639 - val_loss: 0.9318 - val_accuracy: 0.5436 - val_precision_3: 0.6321 - val_recall_3: 0.3657\n",
      "Epoch 24/100\n",
      "128/128 [==============================] - 0s 2ms/step - loss: 0.9145 - accuracy: 0.5701 - precision_3: 0.6585 - recall_3: 0.3734 - val_loss: 0.9266 - val_accuracy: 0.5516 - val_precision_3: 0.6413 - val_recall_3: 0.3754\n",
      "Epoch 25/100\n",
      "128/128 [==============================] - 0s 2ms/step - loss: 0.9121 - accuracy: 0.5725 - precision_3: 0.6587 - recall_3: 0.3752 - val_loss: 0.9318 - val_accuracy: 0.5488 - val_precision_3: 0.6261 - val_recall_3: 0.3908\n",
      "Epoch 26/100\n",
      "128/128 [==============================] - 0s 2ms/step - loss: 0.9136 - accuracy: 0.5720 - precision_3: 0.6602 - recall_3: 0.3749 - val_loss: 0.9283 - val_accuracy: 0.5511 - val_precision_3: 0.6383 - val_recall_3: 0.3725\n",
      "Epoch 27/100\n",
      "128/128 [==============================] - 0s 2ms/step - loss: 0.9125 - accuracy: 0.5703 - precision_3: 0.6542 - recall_3: 0.3835 - val_loss: 0.9279 - val_accuracy: 0.5488 - val_precision_3: 0.6390 - val_recall_3: 0.3736\n",
      "Epoch 28/100\n",
      "128/128 [==============================] - 0s 2ms/step - loss: 0.9119 - accuracy: 0.5742 - precision_3: 0.6540 - recall_3: 0.3749 - val_loss: 0.9289 - val_accuracy: 0.5556 - val_precision_3: 0.6331 - val_recall_3: 0.3868\n",
      "Epoch 29/100\n",
      "128/128 [==============================] - 0s 2ms/step - loss: 0.9107 - accuracy: 0.5715 - precision_3: 0.6549 - recall_3: 0.3842 - val_loss: 0.9262 - val_accuracy: 0.5488 - val_precision_3: 0.6583 - val_recall_3: 0.3594\n",
      "Epoch 30/100\n",
      "128/128 [==============================] - 0s 2ms/step - loss: 0.9110 - accuracy: 0.5745 - precision_3: 0.6621 - recall_3: 0.3800 - val_loss: 0.9300 - val_accuracy: 0.5493 - val_precision_3: 0.6553 - val_recall_3: 0.3406\n",
      "Epoch 31/100\n",
      "128/128 [==============================] - 0s 2ms/step - loss: 0.9088 - accuracy: 0.5789 - precision_3: 0.6633 - recall_3: 0.3859 - val_loss: 0.9289 - val_accuracy: 0.5522 - val_precision_3: 0.6361 - val_recall_3: 0.3759\n",
      "Epoch 32/100\n",
      "128/128 [==============================] - 0s 2ms/step - loss: 0.9094 - accuracy: 0.5796 - precision_3: 0.6557 - recall_3: 0.3903 - val_loss: 0.9275 - val_accuracy: 0.5533 - val_precision_3: 0.6397 - val_recall_3: 0.3788\n",
      "Epoch 33/100\n",
      "128/128 [==============================] - 0s 2ms/step - loss: 0.9070 - accuracy: 0.5808 - precision_3: 0.6625 - recall_3: 0.3874 - val_loss: 0.9316 - val_accuracy: 0.5454 - val_precision_3: 0.6497 - val_recall_3: 0.3503\n",
      "Epoch 34/100\n",
      "128/128 [==============================] - 0s 2ms/step - loss: 0.9065 - accuracy: 0.5818 - precision_3: 0.6586 - recall_3: 0.3874 - val_loss: 0.9283 - val_accuracy: 0.5516 - val_precision_3: 0.6368 - val_recall_3: 0.3851\n",
      "Epoch 35/100\n",
      "128/128 [==============================] - 0s 2ms/step - loss: 0.9056 - accuracy: 0.5784 - precision_3: 0.6618 - recall_3: 0.3920 - val_loss: 0.9305 - val_accuracy: 0.5488 - val_precision_3: 0.6316 - val_recall_3: 0.3942\n",
      "Epoch 36/100\n"
     ]
    },
    {
     "name": "stdout",
     "output_type": "stream",
     "text": [
      "128/128 [==============================] - 0s 2ms/step - loss: 0.9056 - accuracy: 0.5806 - precision_3: 0.6602 - recall_3: 0.3972 - val_loss: 0.9275 - val_accuracy: 0.5482 - val_precision_3: 0.6411 - val_recall_3: 0.3719\n",
      "Epoch 37/100\n",
      "128/128 [==============================] - 0s 2ms/step - loss: 0.9051 - accuracy: 0.5843 - precision_3: 0.6613 - recall_3: 0.3945 - val_loss: 0.9290 - val_accuracy: 0.5482 - val_precision_3: 0.6441 - val_recall_3: 0.3862\n",
      "Epoch 38/100\n",
      "128/128 [==============================] - 0s 2ms/step - loss: 0.9045 - accuracy: 0.5798 - precision_3: 0.6550 - recall_3: 0.4011 - val_loss: 0.9283 - val_accuracy: 0.5454 - val_precision_3: 0.6436 - val_recall_3: 0.3605\n",
      "Epoch 39/100\n",
      "128/128 [==============================] - 0s 3ms/step - loss: 0.9036 - accuracy: 0.5823 - precision_3: 0.6591 - recall_3: 0.3952 - val_loss: 0.9303 - val_accuracy: 0.5488 - val_precision_3: 0.6233 - val_recall_3: 0.4096\n",
      "Epoch 40/100\n",
      "128/128 [==============================] - 0s 2ms/step - loss: 0.9027 - accuracy: 0.5843 - precision_3: 0.6655 - recall_3: 0.4028 - val_loss: 0.9296 - val_accuracy: 0.5425 - val_precision_3: 0.6449 - val_recall_3: 0.3771\n",
      "Epoch 41/100\n",
      "128/128 [==============================] - 0s 2ms/step - loss: 0.9018 - accuracy: 0.5840 - precision_3: 0.6620 - recall_3: 0.4038 - val_loss: 0.9314 - val_accuracy: 0.5488 - val_precision_3: 0.6203 - val_recall_3: 0.4176\n",
      "Epoch 42/100\n",
      "128/128 [==============================] - 0s 2ms/step - loss: 0.9012 - accuracy: 0.5896 - precision_3: 0.6584 - recall_3: 0.4106 - val_loss: 0.9324 - val_accuracy: 0.5471 - val_precision_3: 0.6269 - val_recall_3: 0.3930\n",
      "Epoch 43/100\n",
      "128/128 [==============================] - 0s 2ms/step - loss: 0.9025 - accuracy: 0.5833 - precision_3: 0.6610 - recall_3: 0.4021 - val_loss: 0.9299 - val_accuracy: 0.5471 - val_precision_3: 0.6291 - val_recall_3: 0.3919\n",
      "Epoch 44/100\n",
      "128/128 [==============================] - 0s 2ms/step - loss: 0.9023 - accuracy: 0.5901 - precision_3: 0.6604 - recall_3: 0.4057 - val_loss: 0.9274 - val_accuracy: 0.5505 - val_precision_3: 0.6289 - val_recall_3: 0.3993\n",
      "Epoch 45/100\n",
      "128/128 [==============================] - 0s 2ms/step - loss: 0.9009 - accuracy: 0.5865 - precision_3: 0.6610 - recall_3: 0.4167 - val_loss: 0.9310 - val_accuracy: 0.5465 - val_precision_3: 0.6323 - val_recall_3: 0.3816\n",
      "Epoch 46/100\n",
      "128/128 [==============================] - 0s 2ms/step - loss: 0.9001 - accuracy: 0.5901 - precision_3: 0.6628 - recall_3: 0.4077 - val_loss: 0.9332 - val_accuracy: 0.5505 - val_precision_3: 0.6129 - val_recall_3: 0.4227\n",
      "Epoch 47/100\n",
      "128/128 [==============================] - 0s 2ms/step - loss: 0.9000 - accuracy: 0.5838 - precision_3: 0.6663 - recall_3: 0.4145 - val_loss: 0.9267 - val_accuracy: 0.5499 - val_precision_3: 0.6331 - val_recall_3: 0.3908\n",
      "Epoch 48/100\n",
      "128/128 [==============================] - 0s 2ms/step - loss: 0.8980 - accuracy: 0.5887 - precision_3: 0.6679 - recall_3: 0.4091 - val_loss: 0.9283 - val_accuracy: 0.5522 - val_precision_3: 0.6154 - val_recall_3: 0.4244\n",
      "Epoch 49/100\n",
      "128/128 [==============================] - 0s 2ms/step - loss: 0.8988 - accuracy: 0.5882 - precision_3: 0.6598 - recall_3: 0.4140 - val_loss: 0.9263 - val_accuracy: 0.5545 - val_precision_3: 0.6287 - val_recall_3: 0.4067\n",
      "Epoch 50/100\n",
      "128/128 [==============================] - 0s 2ms/step - loss: 0.8983 - accuracy: 0.5918 - precision_3: 0.6648 - recall_3: 0.4172 - val_loss: 0.9277 - val_accuracy: 0.5539 - val_precision_3: 0.6295 - val_recall_3: 0.4062\n",
      "Epoch 51/100\n",
      "128/128 [==============================] - 0s 2ms/step - loss: 0.8978 - accuracy: 0.5884 - precision_3: 0.6665 - recall_3: 0.4243 - val_loss: 0.9270 - val_accuracy: 0.5516 - val_precision_3: 0.6344 - val_recall_3: 0.3890\n",
      "Epoch 52/100\n",
      "128/128 [==============================] - 0s 2ms/step - loss: 0.8982 - accuracy: 0.5894 - precision_3: 0.6639 - recall_3: 0.4150 - val_loss: 0.9297 - val_accuracy: 0.5545 - val_precision_3: 0.6164 - val_recall_3: 0.4244\n",
      "Epoch 53/100\n",
      "128/128 [==============================] - 0s 2ms/step - loss: 0.8971 - accuracy: 0.5916 - precision_3: 0.6598 - recall_3: 0.4165 - val_loss: 0.9275 - val_accuracy: 0.5550 - val_precision_3: 0.6254 - val_recall_3: 0.4181\n",
      "Epoch 54/100\n",
      "128/128 [==============================] - 0s 2ms/step - loss: 0.8965 - accuracy: 0.5879 - precision_3: 0.6653 - recall_3: 0.4287 - val_loss: 0.9299 - val_accuracy: 0.5471 - val_precision_3: 0.6356 - val_recall_3: 0.3651\n",
      "Epoch 55/100\n",
      "128/128 [==============================] - 0s 2ms/step - loss: 0.8967 - accuracy: 0.5901 - precision_3: 0.6632 - recall_3: 0.4175 - val_loss: 0.9254 - val_accuracy: 0.5539 - val_precision_3: 0.6375 - val_recall_3: 0.3953\n",
      "Epoch 56/100\n",
      "128/128 [==============================] - 0s 2ms/step - loss: 0.8961 - accuracy: 0.5906 - precision_3: 0.6639 - recall_3: 0.4231 - val_loss: 0.9290 - val_accuracy: 0.5436 - val_precision_3: 0.6343 - val_recall_3: 0.3879\n",
      "Epoch 57/100\n",
      "128/128 [==============================] - 0s 2ms/step - loss: 0.8964 - accuracy: 0.5938 - precision_3: 0.6669 - recall_3: 0.4260 - val_loss: 0.9296 - val_accuracy: 0.5522 - val_precision_3: 0.6170 - val_recall_3: 0.4318\n",
      "Epoch 58/100\n",
      "128/128 [==============================] - 0s 2ms/step - loss: 0.8961 - accuracy: 0.5911 - precision_3: 0.6619 - recall_3: 0.4204 - val_loss: 0.9270 - val_accuracy: 0.5533 - val_precision_3: 0.6236 - val_recall_3: 0.4159\n",
      "Epoch 59/100\n",
      "128/128 [==============================] - 0s 2ms/step - loss: 0.8953 - accuracy: 0.5938 - precision_3: 0.6665 - recall_3: 0.4297 - val_loss: 0.9334 - val_accuracy: 0.5471 - val_precision_3: 0.6254 - val_recall_3: 0.3742\n",
      "Epoch 60/100\n",
      "128/128 [==============================] - 0s 2ms/step - loss: 0.8957 - accuracy: 0.5916 - precision_3: 0.6670 - recall_3: 0.4287 - val_loss: 0.9273 - val_accuracy: 0.5499 - val_precision_3: 0.6134 - val_recall_3: 0.4073\n",
      "Epoch 61/100\n",
      "128/128 [==============================] - 0s 2ms/step - loss: 0.8951 - accuracy: 0.5938 - precision_3: 0.6676 - recall_3: 0.4248 - val_loss: 0.9313 - val_accuracy: 0.5511 - val_precision_3: 0.6125 - val_recall_3: 0.4022\n",
      "Epoch 62/100\n",
      "128/128 [==============================] - 0s 2ms/step - loss: 0.8956 - accuracy: 0.5935 - precision_3: 0.6615 - recall_3: 0.4277 - val_loss: 0.9302 - val_accuracy: 0.5539 - val_precision_3: 0.6202 - val_recall_3: 0.4062\n",
      "Epoch 63/100\n",
      "128/128 [==============================] - 0s 2ms/step - loss: 0.8948 - accuracy: 0.5945 - precision_3: 0.6667 - recall_3: 0.4290 - val_loss: 0.9298 - val_accuracy: 0.5436 - val_precision_3: 0.6321 - val_recall_3: 0.3793\n",
      "Epoch 64/100\n",
      "128/128 [==============================] - 0s 2ms/step - loss: 0.8942 - accuracy: 0.5940 - precision_3: 0.6655 - recall_3: 0.4292 - val_loss: 0.9283 - val_accuracy: 0.5522 - val_precision_3: 0.6266 - val_recall_3: 0.4010\n",
      "Epoch 65/100\n",
      "128/128 [==============================] - 0s 2ms/step - loss: 0.8928 - accuracy: 0.5953 - precision_3: 0.6695 - recall_3: 0.4299 - val_loss: 0.9295 - val_accuracy: 0.5545 - val_precision_3: 0.6095 - val_recall_3: 0.4256\n",
      "Epoch 66/100\n",
      "128/128 [==============================] - 0s 2ms/step - loss: 0.8938 - accuracy: 0.5931 - precision_3: 0.6605 - recall_3: 0.4282 - val_loss: 0.9288 - val_accuracy: 0.5511 - val_precision_3: 0.6314 - val_recall_3: 0.3714\n",
      "Epoch 67/100\n",
      "128/128 [==============================] - 0s 2ms/step - loss: 0.8934 - accuracy: 0.5872 - precision_3: 0.6712 - recall_3: 0.4309 - val_loss: 0.9270 - val_accuracy: 0.5579 - val_precision_3: 0.6155 - val_recall_3: 0.4210\n",
      "Epoch 68/100\n",
      "128/128 [==============================] - 0s 2ms/step - loss: 0.8937 - accuracy: 0.5997 - precision_3: 0.6674 - recall_3: 0.4265 - val_loss: 0.9296 - val_accuracy: 0.5539 - val_precision_3: 0.6118 - val_recall_3: 0.4370\n",
      "Epoch 69/100\n",
      "128/128 [==============================] - 0s 2ms/step - loss: 0.8929 - accuracy: 0.5906 - precision_3: 0.6684 - recall_3: 0.4334 - val_loss: 0.9278 - val_accuracy: 0.5562 - val_precision_3: 0.6120 - val_recall_3: 0.4238\n",
      "Epoch 70/100\n",
      "128/128 [==============================] - 0s 2ms/step - loss: 0.8919 - accuracy: 0.5955 - precision_3: 0.6640 - recall_3: 0.4417 - val_loss: 0.9297 - val_accuracy: 0.5550 - val_precision_3: 0.6092 - val_recall_3: 0.4250\n",
      "Epoch 71/100\n",
      "128/128 [==============================] - 0s 2ms/step - loss: 0.8917 - accuracy: 0.5945 - precision_3: 0.6660 - recall_3: 0.4380 - val_loss: 0.9228 - val_accuracy: 0.5590 - val_precision_3: 0.6135 - val_recall_3: 0.4301\n",
      "Epoch 72/100\n",
      "128/128 [==============================] - 0s 2ms/step - loss: 0.8920 - accuracy: 0.5943 - precision_3: 0.6667 - recall_3: 0.4431 - val_loss: 0.9254 - val_accuracy: 0.5585 - val_precision_3: 0.6210 - val_recall_3: 0.4318\n",
      "Epoch 73/100\n",
      "128/128 [==============================] - 0s 2ms/step - loss: 0.8909 - accuracy: 0.5950 - precision_3: 0.6659 - recall_3: 0.4456 - val_loss: 0.9291 - val_accuracy: 0.5488 - val_precision_3: 0.6329 - val_recall_3: 0.3776\n",
      "Epoch 74/100\n",
      "128/128 [==============================] - 0s 2ms/step - loss: 0.8903 - accuracy: 0.5938 - precision_3: 0.6658 - recall_3: 0.4404 - val_loss: 0.9255 - val_accuracy: 0.5556 - val_precision_3: 0.6169 - val_recall_3: 0.4244\n",
      "Epoch 75/100\n",
      "128/128 [==============================] - 0s 2ms/step - loss: 0.8913 - accuracy: 0.5931 - precision_3: 0.6644 - recall_3: 0.4453 - val_loss: 0.9248 - val_accuracy: 0.5545 - val_precision_3: 0.6285 - val_recall_3: 0.3851\n",
      "Epoch 76/100\n",
      "128/128 [==============================] - 0s 2ms/step - loss: 0.8912 - accuracy: 0.5977 - precision_3: 0.6716 - recall_3: 0.4360 - val_loss: 0.9249 - val_accuracy: 0.5613 - val_precision_3: 0.6334 - val_recall_3: 0.3913\n",
      "Epoch 77/100\n",
      "128/128 [==============================] - 0s 2ms/step - loss: 0.8911 - accuracy: 0.5923 - precision_3: 0.6701 - recall_3: 0.4490 - val_loss: 0.9265 - val_accuracy: 0.5545 - val_precision_3: 0.6256 - val_recall_3: 0.3879\n",
      "Epoch 78/100\n",
      "128/128 [==============================] - 0s 2ms/step - loss: 0.8895 - accuracy: 0.5972 - precision_3: 0.6677 - recall_3: 0.4417 - val_loss: 0.9261 - val_accuracy: 0.5585 - val_precision_3: 0.6231 - val_recall_3: 0.4187\n",
      "Epoch 79/100\n",
      "128/128 [==============================] - 0s 2ms/step - loss: 0.8898 - accuracy: 0.5933 - precision_3: 0.6633 - recall_3: 0.4441 - val_loss: 0.9243 - val_accuracy: 0.5596 - val_precision_3: 0.6252 - val_recall_3: 0.4130\n",
      "Epoch 80/100\n",
      "128/128 [==============================] - 0s 2ms/step - loss: 0.8888 - accuracy: 0.5987 - precision_3: 0.6717 - recall_3: 0.4449 - val_loss: 0.9236 - val_accuracy: 0.5579 - val_precision_3: 0.6262 - val_recall_3: 0.4176\n",
      "Epoch 81/100\n",
      "128/128 [==============================] - 0s 2ms/step - loss: 0.8890 - accuracy: 0.5945 - precision_3: 0.6721 - recall_3: 0.4436 - val_loss: 0.9264 - val_accuracy: 0.5562 - val_precision_3: 0.6185 - val_recall_3: 0.4318\n",
      "Epoch 82/100\n",
      "128/128 [==============================] - 0s 2ms/step - loss: 0.8890 - accuracy: 0.5962 - precision_3: 0.6688 - recall_3: 0.4529 - val_loss: 0.9241 - val_accuracy: 0.5602 - val_precision_3: 0.6197 - val_recall_3: 0.4193\n",
      "Epoch 83/100\n",
      "128/128 [==============================] - 0s 2ms/step - loss: 0.8875 - accuracy: 0.5982 - precision_3: 0.6714 - recall_3: 0.4488 - val_loss: 0.9317 - val_accuracy: 0.5454 - val_precision_3: 0.6197 - val_recall_3: 0.4090\n",
      "Epoch 84/100\n",
      "128/128 [==============================] - 0s 3ms/step - loss: 0.8892 - accuracy: 0.5945 - precision_3: 0.6708 - recall_3: 0.4461 - val_loss: 0.9296 - val_accuracy: 0.5602 - val_precision_3: 0.6135 - val_recall_3: 0.4102\n",
      "Epoch 85/100\n",
      "128/128 [==============================] - 0s 3ms/step - loss: 0.8882 - accuracy: 0.5970 - precision_3: 0.6674 - recall_3: 0.4505 - val_loss: 0.9238 - val_accuracy: 0.5619 - val_precision_3: 0.6233 - val_recall_3: 0.4096\n",
      "Epoch 86/100\n",
      "128/128 [==============================] - 0s 2ms/step - loss: 0.8884 - accuracy: 0.5965 - precision_3: 0.6652 - recall_3: 0.4471 - val_loss: 0.9231 - val_accuracy: 0.5619 - val_precision_3: 0.6229 - val_recall_3: 0.4090\n",
      "Epoch 87/100\n",
      "128/128 [==============================] - 0s 2ms/step - loss: 0.8868 - accuracy: 0.5982 - precision_3: 0.6697 - recall_3: 0.4532 - val_loss: 0.9285 - val_accuracy: 0.5539 - val_precision_3: 0.6109 - val_recall_3: 0.4273\n",
      "Epoch 88/100\n",
      "128/128 [==============================] - 0s 2ms/step - loss: 0.8874 - accuracy: 0.5972 - precision_3: 0.6705 - recall_3: 0.4573 - val_loss: 0.9277 - val_accuracy: 0.5613 - val_precision_3: 0.6140 - val_recall_3: 0.4301\n",
      "Epoch 89/100\n",
      "128/128 [==============================] - 0s 2ms/step - loss: 0.8864 - accuracy: 0.6006 - precision_3: 0.6692 - recall_3: 0.4502 - val_loss: 0.9242 - val_accuracy: 0.5608 - val_precision_3: 0.6190 - val_recall_3: 0.4124\n",
      "Epoch 90/100\n",
      "128/128 [==============================] - 0s 2ms/step - loss: 0.8865 - accuracy: 0.5975 - precision_3: 0.6739 - recall_3: 0.4554 - val_loss: 0.9291 - val_accuracy: 0.5493 - val_precision_3: 0.6275 - val_recall_3: 0.4016\n",
      "Epoch 91/100\n",
      "128/128 [==============================] - 0s 2ms/step - loss: 0.8876 - accuracy: 0.5972 - precision_3: 0.6716 - recall_3: 0.4507 - val_loss: 0.9235 - val_accuracy: 0.5647 - val_precision_3: 0.6142 - val_recall_3: 0.4478\n",
      "Epoch 92/100\n",
      "128/128 [==============================] - 0s 2ms/step - loss: 0.8874 - accuracy: 0.5962 - precision_3: 0.6690 - recall_3: 0.4607 - val_loss: 0.9233 - val_accuracy: 0.5590 - val_precision_3: 0.6185 - val_recall_3: 0.4227\n",
      "Epoch 93/100\n",
      "128/128 [==============================] - 0s 2ms/step - loss: 0.8857 - accuracy: 0.6016 - precision_3: 0.6713 - recall_3: 0.4524 - val_loss: 0.9264 - val_accuracy: 0.5533 - val_precision_3: 0.6188 - val_recall_3: 0.4204\n",
      "Epoch 94/100\n",
      "128/128 [==============================] - 0s 2ms/step - loss: 0.8854 - accuracy: 0.5977 - precision_3: 0.6688 - recall_3: 0.4588 - val_loss: 0.9244 - val_accuracy: 0.5670 - val_precision_3: 0.6170 - val_recall_3: 0.4421\n",
      "Epoch 95/100\n",
      "128/128 [==============================] - 0s 2ms/step - loss: 0.8859 - accuracy: 0.5972 - precision_3: 0.6679 - recall_3: 0.4563 - val_loss: 0.9232 - val_accuracy: 0.5528 - val_precision_3: 0.6218 - val_recall_3: 0.4193\n",
      "Epoch 96/100\n",
      "128/128 [==============================] - 0s 2ms/step - loss: 0.8846 - accuracy: 0.5957 - precision_3: 0.6748 - recall_3: 0.4639 - val_loss: 0.9257 - val_accuracy: 0.5545 - val_precision_3: 0.6182 - val_recall_3: 0.4193\n",
      "Epoch 97/100\n",
      "128/128 [==============================] - 0s 2ms/step - loss: 0.8856 - accuracy: 0.6011 - precision_3: 0.6663 - recall_3: 0.4551 - val_loss: 0.9256 - val_accuracy: 0.5608 - val_precision_3: 0.6127 - val_recall_3: 0.4467\n",
      "Epoch 98/100\n",
      "128/128 [==============================] - 0s 3ms/step - loss: 0.8843 - accuracy: 0.5989 - precision_3: 0.6689 - recall_3: 0.4585 - val_loss: 0.9236 - val_accuracy: 0.5602 - val_precision_3: 0.6099 - val_recall_3: 0.4512\n",
      "Epoch 99/100\n",
      "128/128 [==============================] - 0s 2ms/step - loss: 0.8852 - accuracy: 0.5948 - precision_3: 0.6716 - recall_3: 0.4622 - val_loss: 0.9242 - val_accuracy: 0.5596 - val_precision_3: 0.6114 - val_recall_3: 0.4398\n",
      "Epoch 100/100\n",
      "128/128 [==============================] - 0s 2ms/step - loss: 0.8845 - accuracy: 0.6001 - precision_3: 0.6698 - recall_3: 0.4559 - val_loss: 0.9230 - val_accuracy: 0.5659 - val_precision_3: 0.6175 - val_recall_3: 0.4318\n"
     ]
    }
   ],
   "source": [
    "FTCancat_MLP.compile(optimizer='adam', loss=tf.keras.losses.CategoricalCrossentropy(), metrics=['accuracy', Precision(), Recall()])\n",
    "history = FTCancat_MLP.fit(fasttext_concats_train, y_train_one_hot, validation_data=(fasttext_concats_test, y_test_one_hot), epochs=100)"
   ]
  },
  {
   "cell_type": "code",
   "execution_count": 62,
   "id": "5f152930",
   "metadata": {},
   "outputs": [
    {
     "data": {
      "image/png": "[encoded data removed]",
      "text/plain": [
       "<Figure size 1200x500 with 2 Axes>"
      ]
     },
     "metadata": {},
     "output_type": "display_data"
    }
   ],
   "source": [
    "plot_training_history(history)"
   ]
  },
  {
   "cell_type": "code",
   "execution_count": 63,
   "id": "09142ca6",
   "metadata": {},
   "outputs": [
    {
     "name": "stdout",
     "output_type": "stream",
     "text": [
      "55/55 [==============================] - 0s 1ms/step - loss: 0.9230 - accuracy: 0.5659 - precision_3: 0.6175 - recall_3: 0.4318\n",
      "Test Accuracy: 0.5658870339393616\n",
      "Test precision: 0.6174551248550415\n",
      "Test recal: 0.43183115124702454\n"
     ]
    }
   ],
   "source": [
    "loss, accuracy , precision, recall = FTCancat_MLP.evaluate(fasttext_concats_test, y_test_one_hot)\n",
    "print(\"Test Accuracy:\", accuracy)\n",
    "print(\"Test precision:\", precision)\n",
    "print(\"Test recal:\", recall)"
   ]
  },
  {
   "cell_type": "markdown",
   "id": "6741f9d7",
   "metadata": {},
   "source": [
    "> ### 3.3 Matrix-based/CNN"
   ]
  },
  {
   "cell_type": "markdown",
   "id": "7193a52a",
   "metadata": {},
   "source": [
    "> ##### 3.3.1 Model creation function"
   ]
  },
  {
   "cell_type": "code",
   "execution_count": 64,
   "id": "80888a05",
   "metadata": {},
   "outputs": [],
   "source": [
    "from tensorflow.keras.layers import Conv1D, MaxPool1D, Flatten, Dense, Input\n",
    "from tensorflow.keras.models import Model"
   ]
  },
  {
   "cell_type": "code",
   "execution_count": 65,
   "id": "19a73dbc",
   "metadata": {},
   "outputs": [],
   "source": [
    "def create_cnn_model(input_shape):\n",
    "\n",
    "    input_layer = Input(shape=input_shape, name='input_layer')\n",
    "    conv_layer = Conv1D(filters=5, kernel_size=3, activation='relu', name='conv_layer')(input_layer)\n",
    "    maxpool_layer = MaxPool1D(pool_size=2, strides=1, name='maxpool_layer')(conv_layer)\n",
    "    flatten_layer = Flatten(name='flatten_layer')(maxpool_layer)\n",
    "    output_layer = Dense(len(label_binarizer.classes_), activation='softmax', name='output_layer')(flatten_layer)\n",
    "    model = Model(inputs=input_layer, outputs=output_layer, name='cnn_model')\n",
    "    return model"
   ]
  },
  {
   "cell_type": "markdown",
   "id": "d55f4b91",
   "metadata": {},
   "source": [
    "> ##### 3.3.2 W2VMat_CNN word2vec matrix with CNN "
   ]
  },
  {
   "cell_type": "code",
   "execution_count": 69,
   "id": "d8dc4835",
   "metadata": {},
   "outputs": [
    {
     "name": "stdout",
     "output_type": "stream",
     "text": [
      "Model: \"cnn_model\"\n",
      "_________________________________________________________________\n",
      " Layer (type)                Output Shape              Param #   \n",
      "=================================================================\n",
      " input_layer (InputLayer)    [(None, 20, 5)]           0         \n",
      "                                                                 \n",
      " conv_layer (Conv1D)         (None, 18, 5)             80        \n",
      "                                                                 \n",
      " maxpool_layer (MaxPooling1D  (None, 17, 5)            0         \n",
      " )                                                               \n",
      "                                                                 \n",
      " flatten_layer (Flatten)     (None, 85)                0         \n",
      "                                                                 \n",
      " output_layer (Dense)        (None, 3)                 258       \n",
      "                                                                 \n",
      "=================================================================\n",
      "Total params: 338\n",
      "Trainable params: 338\n",
      "Non-trainable params: 0\n",
      "_________________________________________________________________\n"
     ]
    }
   ],
   "source": [
    "W2VMat_CNN = create_cnn_model((word2vec_matrix_train.shape[1], word2vec_matrix_train.shape[2]))\n",
    "W2VMat_CNN.summary()"
   ]
  },
  {
   "cell_type": "code",
   "execution_count": 70,
   "id": "44d78411",
   "metadata": {},
   "outputs": [
    {
     "name": "stdout",
     "output_type": "stream",
     "text": [
      "Epoch 1/100\n",
      "128/128 [==============================] - 2s 7ms/step - loss: 1.0790 - accuracy: 0.4854 - precision_5: 0.4995 - recall_5: 0.2602 - val_loss: 1.0182 - val_accuracy: 0.5094 - val_precision_5: 0.5793 - val_recall_5: 0.2687\n",
      "Epoch 2/100\n",
      "128/128 [==============================] - 0s 4ms/step - loss: 0.9941 - accuracy: 0.5363 - precision_5: 0.5706 - recall_5: 0.3172 - val_loss: 0.9826 - val_accuracy: 0.5254 - val_precision_5: 0.5974 - val_recall_5: 0.3098\n",
      "Epoch 3/100\n",
      "128/128 [==============================] - 0s 4ms/step - loss: 0.9630 - accuracy: 0.5512 - precision_5: 0.5967 - recall_5: 0.3668 - val_loss: 0.9580 - val_accuracy: 0.5533 - val_precision_5: 0.6015 - val_recall_5: 0.4022\n",
      "Epoch 4/100\n",
      "128/128 [==============================] - 0s 4ms/step - loss: 0.9482 - accuracy: 0.5608 - precision_5: 0.6078 - recall_5: 0.3903 - val_loss: 0.9475 - val_accuracy: 0.5602 - val_precision_5: 0.6049 - val_recall_5: 0.4244\n",
      "Epoch 5/100\n",
      "128/128 [==============================] - 0s 4ms/step - loss: 0.9405 - accuracy: 0.5644 - precision_5: 0.6069 - recall_5: 0.4013 - val_loss: 0.9420 - val_accuracy: 0.5608 - val_precision_5: 0.6054 - val_recall_5: 0.3851\n",
      "Epoch 6/100\n",
      "128/128 [==============================] - 1s 5ms/step - loss: 0.9322 - accuracy: 0.5679 - precision_5: 0.6130 - recall_5: 0.4067 - val_loss: 0.9366 - val_accuracy: 0.5625 - val_precision_5: 0.6110 - val_recall_5: 0.4050\n",
      "Epoch 7/100\n",
      "128/128 [==============================] - 1s 4ms/step - loss: 0.9264 - accuracy: 0.5740 - precision_5: 0.6168 - recall_5: 0.4236 - val_loss: 0.9321 - val_accuracy: 0.5682 - val_precision_5: 0.6059 - val_recall_5: 0.4569\n",
      "Epoch 8/100\n",
      "128/128 [==============================] - 1s 4ms/step - loss: 0.9228 - accuracy: 0.5723 - precision_5: 0.6224 - recall_5: 0.4321 - val_loss: 0.9299 - val_accuracy: 0.5619 - val_precision_5: 0.6179 - val_recall_5: 0.4290\n",
      "Epoch 9/100\n",
      "128/128 [==============================] - 1s 4ms/step - loss: 0.9195 - accuracy: 0.5708 - precision_5: 0.6222 - recall_5: 0.4353 - val_loss: 0.9261 - val_accuracy: 0.5670 - val_precision_5: 0.6099 - val_recall_5: 0.4495\n",
      "Epoch 10/100\n",
      "128/128 [==============================] - 0s 4ms/step - loss: 0.9162 - accuracy: 0.5754 - precision_5: 0.6270 - recall_5: 0.4370 - val_loss: 0.9248 - val_accuracy: 0.5642 - val_precision_5: 0.6131 - val_recall_5: 0.4501\n",
      "Epoch 11/100\n",
      "128/128 [==============================] - 0s 3ms/step - loss: 0.9134 - accuracy: 0.5813 - precision_5: 0.6226 - recall_5: 0.4559 - val_loss: 0.9259 - val_accuracy: 0.5625 - val_precision_5: 0.6134 - val_recall_5: 0.4136\n",
      "Epoch 12/100\n",
      "128/128 [==============================] - 0s 3ms/step - loss: 0.9119 - accuracy: 0.5806 - precision_5: 0.6221 - recall_5: 0.4529 - val_loss: 0.9268 - val_accuracy: 0.5556 - val_precision_5: 0.6029 - val_recall_5: 0.4210\n",
      "Epoch 13/100\n",
      "128/128 [==============================] - 0s 3ms/step - loss: 0.9104 - accuracy: 0.5762 - precision_5: 0.6311 - recall_5: 0.4539 - val_loss: 0.9220 - val_accuracy: 0.5619 - val_precision_5: 0.6194 - val_recall_5: 0.4364\n",
      "Epoch 14/100\n",
      "128/128 [==============================] - 0s 3ms/step - loss: 0.9087 - accuracy: 0.5789 - precision_5: 0.6265 - recall_5: 0.4669 - val_loss: 0.9226 - val_accuracy: 0.5585 - val_precision_5: 0.6181 - val_recall_5: 0.4358\n",
      "Epoch 15/100\n",
      "128/128 [==============================] - 0s 3ms/step - loss: 0.9074 - accuracy: 0.5759 - precision_5: 0.6344 - recall_5: 0.4605 - val_loss: 0.9216 - val_accuracy: 0.5596 - val_precision_5: 0.6169 - val_recall_5: 0.4364\n",
      "Epoch 16/100\n",
      "128/128 [==============================] - 0s 3ms/step - loss: 0.9069 - accuracy: 0.5803 - precision_5: 0.6302 - recall_5: 0.4576 - val_loss: 0.9205 - val_accuracy: 0.5693 - val_precision_5: 0.6034 - val_recall_5: 0.4792\n",
      "Epoch 17/100\n",
      "128/128 [==============================] - 0s 2ms/step - loss: 0.9070 - accuracy: 0.5798 - precision_5: 0.6223 - recall_5: 0.4710 - val_loss: 0.9267 - val_accuracy: 0.5539 - val_precision_5: 0.6034 - val_recall_5: 0.4027\n",
      "Epoch 18/100\n",
      "128/128 [==============================] - 0s 3ms/step - loss: 0.9055 - accuracy: 0.5811 - precision_5: 0.6313 - recall_5: 0.4590 - val_loss: 0.9202 - val_accuracy: 0.5665 - val_precision_5: 0.6060 - val_recall_5: 0.4695\n",
      "Epoch 19/100\n",
      "128/128 [==============================] - 0s 2ms/step - loss: 0.9025 - accuracy: 0.5803 - precision_5: 0.6261 - recall_5: 0.4681 - val_loss: 0.9222 - val_accuracy: 0.5568 - val_precision_5: 0.6152 - val_recall_5: 0.4524\n",
      "Epoch 20/100\n",
      "128/128 [==============================] - 0s 3ms/step - loss: 0.9035 - accuracy: 0.5813 - precision_5: 0.6287 - recall_5: 0.4659 - val_loss: 0.9206 - val_accuracy: 0.5636 - val_precision_5: 0.6039 - val_recall_5: 0.4740\n",
      "Epoch 21/100\n",
      "128/128 [==============================] - 0s 3ms/step - loss: 0.9021 - accuracy: 0.5857 - precision_5: 0.6294 - recall_5: 0.4676 - val_loss: 0.9212 - val_accuracy: 0.5613 - val_precision_5: 0.6003 - val_recall_5: 0.4729\n",
      "Epoch 22/100\n",
      "128/128 [==============================] - 0s 3ms/step - loss: 0.9004 - accuracy: 0.5852 - precision_5: 0.6306 - recall_5: 0.4752 - val_loss: 0.9203 - val_accuracy: 0.5608 - val_precision_5: 0.6145 - val_recall_5: 0.4501\n",
      "Epoch 23/100\n",
      "128/128 [==============================] - 0s 3ms/step - loss: 0.8997 - accuracy: 0.5840 - precision_5: 0.6341 - recall_5: 0.4705 - val_loss: 0.9275 - val_accuracy: 0.5539 - val_precision_5: 0.6039 - val_recall_5: 0.4244\n",
      "Epoch 24/100\n",
      "128/128 [==============================] - 0s 3ms/step - loss: 0.9001 - accuracy: 0.5811 - precision_5: 0.6335 - recall_5: 0.4730 - val_loss: 0.9224 - val_accuracy: 0.5573 - val_precision_5: 0.6051 - val_recall_5: 0.4712\n",
      "Epoch 25/100\n",
      "128/128 [==============================] - 0s 3ms/step - loss: 0.8995 - accuracy: 0.5843 - precision_5: 0.6313 - recall_5: 0.4727 - val_loss: 0.9219 - val_accuracy: 0.5602 - val_precision_5: 0.6048 - val_recall_5: 0.4706\n",
      "Epoch 26/100\n",
      "128/128 [==============================] - 0s 3ms/step - loss: 0.8999 - accuracy: 0.5860 - precision_5: 0.6346 - recall_5: 0.4820 - val_loss: 0.9217 - val_accuracy: 0.5619 - val_precision_5: 0.6065 - val_recall_5: 0.4581\n",
      "Epoch 27/100\n",
      "128/128 [==============================] - 0s 3ms/step - loss: 0.8977 - accuracy: 0.5847 - precision_5: 0.6385 - recall_5: 0.4847 - val_loss: 0.9221 - val_accuracy: 0.5659 - val_precision_5: 0.5978 - val_recall_5: 0.4706\n",
      "Epoch 28/100\n",
      "128/128 [==============================] - 0s 2ms/step - loss: 0.8986 - accuracy: 0.5840 - precision_5: 0.6386 - recall_5: 0.4737 - val_loss: 0.9219 - val_accuracy: 0.5562 - val_precision_5: 0.6059 - val_recall_5: 0.4569\n",
      "Epoch 29/100\n",
      "128/128 [==============================] - 0s 2ms/step - loss: 0.8965 - accuracy: 0.5847 - precision_5: 0.6348 - recall_5: 0.4749 - val_loss: 0.9230 - val_accuracy: 0.5630 - val_precision_5: 0.6000 - val_recall_5: 0.4792\n",
      "Epoch 30/100\n",
      "128/128 [==============================] - 0s 3ms/step - loss: 0.8974 - accuracy: 0.5816 - precision_5: 0.6362 - recall_5: 0.4781 - val_loss: 0.9269 - val_accuracy: 0.5482 - val_precision_5: 0.6124 - val_recall_5: 0.4210\n",
      "Epoch 31/100\n",
      "128/128 [==============================] - 0s 3ms/step - loss: 0.8967 - accuracy: 0.5862 - precision_5: 0.6412 - recall_5: 0.4686 - val_loss: 0.9270 - val_accuracy: 0.5511 - val_precision_5: 0.6122 - val_recall_5: 0.4341\n",
      "Epoch 32/100\n",
      "128/128 [==============================] - 0s 3ms/step - loss: 0.8970 - accuracy: 0.5874 - precision_5: 0.6311 - recall_5: 0.4786 - val_loss: 0.9250 - val_accuracy: 0.5539 - val_precision_5: 0.6103 - val_recall_5: 0.4450\n",
      "Epoch 33/100\n",
      "128/128 [==============================] - 0s 3ms/step - loss: 0.8971 - accuracy: 0.5852 - precision_5: 0.6348 - recall_5: 0.4779 - val_loss: 0.9225 - val_accuracy: 0.5579 - val_precision_5: 0.6082 - val_recall_5: 0.4507\n",
      "Epoch 34/100\n",
      "128/128 [==============================] - 0s 3ms/step - loss: 0.8947 - accuracy: 0.5857 - precision_5: 0.6345 - recall_5: 0.4801 - val_loss: 0.9232 - val_accuracy: 0.5585 - val_precision_5: 0.6045 - val_recall_5: 0.4638\n",
      "Epoch 35/100\n",
      "128/128 [==============================] - 0s 3ms/step - loss: 0.8958 - accuracy: 0.5867 - precision_5: 0.6388 - recall_5: 0.4801 - val_loss: 0.9307 - val_accuracy: 0.5505 - val_precision_5: 0.6076 - val_recall_5: 0.4187\n",
      "Epoch 36/100\n"
     ]
    },
    {
     "name": "stdout",
     "output_type": "stream",
     "text": [
      "128/128 [==============================] - 0s 3ms/step - loss: 0.8957 - accuracy: 0.5872 - precision_5: 0.6331 - recall_5: 0.4735 - val_loss: 0.9269 - val_accuracy: 0.5590 - val_precision_5: 0.6078 - val_recall_5: 0.4535\n",
      "Epoch 37/100\n",
      "128/128 [==============================] - 0s 2ms/step - loss: 0.8942 - accuracy: 0.5884 - precision_5: 0.6377 - recall_5: 0.4847 - val_loss: 0.9264 - val_accuracy: 0.5545 - val_precision_5: 0.6092 - val_recall_5: 0.4392\n",
      "Epoch 38/100\n",
      "128/128 [==============================] - 0s 3ms/step - loss: 0.8946 - accuracy: 0.5882 - precision_5: 0.6339 - recall_5: 0.4832 - val_loss: 0.9238 - val_accuracy: 0.5568 - val_precision_5: 0.6096 - val_recall_5: 0.4472\n",
      "Epoch 39/100\n",
      "128/128 [==============================] - 0s 3ms/step - loss: 0.8937 - accuracy: 0.5828 - precision_5: 0.6400 - recall_5: 0.4747 - val_loss: 0.9238 - val_accuracy: 0.5625 - val_precision_5: 0.6017 - val_recall_5: 0.4723\n",
      "Epoch 40/100\n",
      "128/128 [==============================] - 0s 3ms/step - loss: 0.8932 - accuracy: 0.5887 - precision_5: 0.6385 - recall_5: 0.4759 - val_loss: 0.9235 - val_accuracy: 0.5613 - val_precision_5: 0.6049 - val_recall_5: 0.4604\n",
      "Epoch 41/100\n",
      "128/128 [==============================] - 0s 2ms/step - loss: 0.8939 - accuracy: 0.5857 - precision_5: 0.6343 - recall_5: 0.4718 - val_loss: 0.9228 - val_accuracy: 0.5630 - val_precision_5: 0.5964 - val_recall_5: 0.4780\n",
      "Epoch 42/100\n",
      "128/128 [==============================] - 0s 3ms/step - loss: 0.8925 - accuracy: 0.5882 - precision_5: 0.6449 - recall_5: 0.4730 - val_loss: 0.9244 - val_accuracy: 0.5585 - val_precision_5: 0.6067 - val_recall_5: 0.4558\n",
      "Epoch 43/100\n",
      "128/128 [==============================] - 0s 2ms/step - loss: 0.8924 - accuracy: 0.5889 - precision_5: 0.6447 - recall_5: 0.4766 - val_loss: 0.9239 - val_accuracy: 0.5596 - val_precision_5: 0.5990 - val_recall_5: 0.4746\n",
      "Epoch 44/100\n",
      "128/128 [==============================] - 0s 2ms/step - loss: 0.8937 - accuracy: 0.5872 - precision_5: 0.6386 - recall_5: 0.4850 - val_loss: 0.9247 - val_accuracy: 0.5596 - val_precision_5: 0.6003 - val_recall_5: 0.4746\n",
      "Epoch 45/100\n",
      "128/128 [==============================] - 0s 2ms/step - loss: 0.8914 - accuracy: 0.5894 - precision_5: 0.6406 - recall_5: 0.4820 - val_loss: 0.9301 - val_accuracy: 0.5602 - val_precision_5: 0.5993 - val_recall_5: 0.4872\n",
      "Epoch 46/100\n",
      "128/128 [==============================] - 0s 2ms/step - loss: 0.8930 - accuracy: 0.5891 - precision_5: 0.6357 - recall_5: 0.4835 - val_loss: 0.9248 - val_accuracy: 0.5573 - val_precision_5: 0.6061 - val_recall_5: 0.4546\n",
      "Epoch 47/100\n",
      "128/128 [==============================] - 0s 2ms/step - loss: 0.8922 - accuracy: 0.5874 - precision_5: 0.6398 - recall_5: 0.4744 - val_loss: 0.9334 - val_accuracy: 0.5471 - val_precision_5: 0.6120 - val_recall_5: 0.4256\n",
      "Epoch 48/100\n",
      "128/128 [==============================] - 0s 3ms/step - loss: 0.8923 - accuracy: 0.5913 - precision_5: 0.6413 - recall_5: 0.4705 - val_loss: 0.9235 - val_accuracy: 0.5579 - val_precision_5: 0.6084 - val_recall_5: 0.4564\n",
      "Epoch 49/100\n",
      "128/128 [==============================] - 0s 3ms/step - loss: 0.8910 - accuracy: 0.5891 - precision_5: 0.6418 - recall_5: 0.4837 - val_loss: 0.9276 - val_accuracy: 0.5590 - val_precision_5: 0.5990 - val_recall_5: 0.4780\n",
      "Epoch 50/100\n",
      "128/128 [==============================] - 0s 3ms/step - loss: 0.8909 - accuracy: 0.5911 - precision_5: 0.6417 - recall_5: 0.4830 - val_loss: 0.9266 - val_accuracy: 0.5613 - val_precision_5: 0.6031 - val_recall_5: 0.4723\n",
      "Epoch 51/100\n",
      "128/128 [==============================] - 0s 3ms/step - loss: 0.8904 - accuracy: 0.5889 - precision_5: 0.6378 - recall_5: 0.4798 - val_loss: 0.9255 - val_accuracy: 0.5590 - val_precision_5: 0.6006 - val_recall_5: 0.4632\n",
      "Epoch 52/100\n",
      "128/128 [==============================] - 0s 2ms/step - loss: 0.8898 - accuracy: 0.5945 - precision_5: 0.6379 - recall_5: 0.4786 - val_loss: 0.9254 - val_accuracy: 0.5636 - val_precision_5: 0.5996 - val_recall_5: 0.4775\n",
      "Epoch 53/100\n",
      "128/128 [==============================] - 0s 3ms/step - loss: 0.8903 - accuracy: 0.5909 - precision_5: 0.6399 - recall_5: 0.4793 - val_loss: 0.9254 - val_accuracy: 0.5608 - val_precision_5: 0.6006 - val_recall_5: 0.4786\n",
      "Epoch 54/100\n",
      "128/128 [==============================] - 0s 3ms/step - loss: 0.8893 - accuracy: 0.5916 - precision_5: 0.6474 - recall_5: 0.4845 - val_loss: 0.9303 - val_accuracy: 0.5573 - val_precision_5: 0.6093 - val_recall_5: 0.4404\n",
      "Epoch 55/100\n",
      "128/128 [==============================] - 0s 3ms/step - loss: 0.8896 - accuracy: 0.5909 - precision_5: 0.6449 - recall_5: 0.4815 - val_loss: 0.9254 - val_accuracy: 0.5613 - val_precision_5: 0.6044 - val_recall_5: 0.4706\n",
      "Epoch 56/100\n",
      "128/128 [==============================] - 0s 3ms/step - loss: 0.8888 - accuracy: 0.5918 - precision_5: 0.6418 - recall_5: 0.4876 - val_loss: 0.9249 - val_accuracy: 0.5573 - val_precision_5: 0.6052 - val_recall_5: 0.4643\n",
      "Epoch 57/100\n",
      "128/128 [==============================] - 0s 3ms/step - loss: 0.8895 - accuracy: 0.5894 - precision_5: 0.6455 - recall_5: 0.4784 - val_loss: 0.9266 - val_accuracy: 0.5568 - val_precision_5: 0.6073 - val_recall_5: 0.4489\n",
      "Epoch 58/100\n",
      "128/128 [==============================] - 0s 3ms/step - loss: 0.8897 - accuracy: 0.5938 - precision_5: 0.6415 - recall_5: 0.4784 - val_loss: 0.9260 - val_accuracy: 0.5568 - val_precision_5: 0.6107 - val_recall_5: 0.4564\n",
      "Epoch 59/100\n",
      "128/128 [==============================] - 0s 3ms/step - loss: 0.8885 - accuracy: 0.5887 - precision_5: 0.6428 - recall_5: 0.4749 - val_loss: 0.9265 - val_accuracy: 0.5585 - val_precision_5: 0.6069 - val_recall_5: 0.4535\n",
      "Epoch 60/100\n",
      "128/128 [==============================] - 0s 3ms/step - loss: 0.8885 - accuracy: 0.5901 - precision_5: 0.6440 - recall_5: 0.4857 - val_loss: 0.9272 - val_accuracy: 0.5556 - val_precision_5: 0.6080 - val_recall_5: 0.4353\n",
      "Epoch 61/100\n",
      "128/128 [==============================] - 0s 3ms/step - loss: 0.8888 - accuracy: 0.5899 - precision_5: 0.6460 - recall_5: 0.4776 - val_loss: 0.9271 - val_accuracy: 0.5613 - val_precision_5: 0.6081 - val_recall_5: 0.4683\n",
      "Epoch 62/100\n",
      "128/128 [==============================] - 0s 2ms/step - loss: 0.8888 - accuracy: 0.5874 - precision_5: 0.6454 - recall_5: 0.4744 - val_loss: 0.9257 - val_accuracy: 0.5602 - val_precision_5: 0.6012 - val_recall_5: 0.4712\n",
      "Epoch 63/100\n",
      "128/128 [==============================] - 0s 2ms/step - loss: 0.8887 - accuracy: 0.5921 - precision_5: 0.6439 - recall_5: 0.4869 - val_loss: 0.9334 - val_accuracy: 0.5516 - val_precision_5: 0.6145 - val_recall_5: 0.4256\n",
      "Epoch 64/100\n",
      "128/128 [==============================] - 0s 3ms/step - loss: 0.8878 - accuracy: 0.5957 - precision_5: 0.6388 - recall_5: 0.4754 - val_loss: 0.9264 - val_accuracy: 0.5550 - val_precision_5: 0.5981 - val_recall_5: 0.4746\n",
      "Epoch 65/100\n",
      "128/128 [==============================] - 0s 3ms/step - loss: 0.8892 - accuracy: 0.5928 - precision_5: 0.6439 - recall_5: 0.4766 - val_loss: 0.9273 - val_accuracy: 0.5613 - val_precision_5: 0.6095 - val_recall_5: 0.4524\n",
      "Epoch 66/100\n",
      "128/128 [==============================] - 0s 2ms/step - loss: 0.8886 - accuracy: 0.5906 - precision_5: 0.6439 - recall_5: 0.4847 - val_loss: 0.9289 - val_accuracy: 0.5533 - val_precision_5: 0.6110 - val_recall_5: 0.4301\n",
      "Epoch 67/100\n",
      "128/128 [==============================] - 0s 3ms/step - loss: 0.8878 - accuracy: 0.5945 - precision_5: 0.6421 - recall_5: 0.4867 - val_loss: 0.9291 - val_accuracy: 0.5499 - val_precision_5: 0.6126 - val_recall_5: 0.4284\n",
      "Epoch 68/100\n",
      "128/128 [==============================] - 0s 3ms/step - loss: 0.8882 - accuracy: 0.5945 - precision_5: 0.6474 - recall_5: 0.4774 - val_loss: 0.9265 - val_accuracy: 0.5596 - val_precision_5: 0.6016 - val_recall_5: 0.4729\n",
      "Epoch 69/100\n",
      "128/128 [==============================] - 0s 2ms/step - loss: 0.8890 - accuracy: 0.5945 - precision_5: 0.6433 - recall_5: 0.4786 - val_loss: 0.9271 - val_accuracy: 0.5608 - val_precision_5: 0.6014 - val_recall_5: 0.4735\n",
      "Epoch 70/100\n",
      "128/128 [==============================] - 0s 3ms/step - loss: 0.8869 - accuracy: 0.5926 - precision_5: 0.6394 - recall_5: 0.4886 - val_loss: 0.9280 - val_accuracy: 0.5585 - val_precision_5: 0.6030 - val_recall_5: 0.4524\n",
      "Epoch 71/100\n",
      "128/128 [==============================] - 0s 2ms/step - loss: 0.8865 - accuracy: 0.5957 - precision_5: 0.6462 - recall_5: 0.4798 - val_loss: 0.9307 - val_accuracy: 0.5619 - val_precision_5: 0.5999 - val_recall_5: 0.4849\n",
      "Epoch 72/100\n",
      "128/128 [==============================] - 0s 3ms/step - loss: 0.8869 - accuracy: 0.5953 - precision_5: 0.6462 - recall_5: 0.4825 - val_loss: 0.9310 - val_accuracy: 0.5573 - val_precision_5: 0.6090 - val_recall_5: 0.4495\n",
      "Epoch 73/100\n",
      "128/128 [==============================] - 0s 2ms/step - loss: 0.8875 - accuracy: 0.5935 - precision_5: 0.6438 - recall_5: 0.4747 - val_loss: 0.9282 - val_accuracy: 0.5573 - val_precision_5: 0.6026 - val_recall_5: 0.4723\n",
      "Epoch 74/100\n",
      "128/128 [==============================] - 0s 2ms/step - loss: 0.8868 - accuracy: 0.5953 - precision_5: 0.6457 - recall_5: 0.4742 - val_loss: 0.9261 - val_accuracy: 0.5550 - val_precision_5: 0.6043 - val_recall_5: 0.4643\n",
      "Epoch 75/100\n",
      "128/128 [==============================] - 0s 2ms/step - loss: 0.8873 - accuracy: 0.5965 - precision_5: 0.6385 - recall_5: 0.4864 - val_loss: 0.9282 - val_accuracy: 0.5568 - val_precision_5: 0.6125 - val_recall_5: 0.4410\n",
      "Epoch 76/100\n",
      "128/128 [==============================] - 0s 3ms/step - loss: 0.8877 - accuracy: 0.5931 - precision_5: 0.6459 - recall_5: 0.4747 - val_loss: 0.9270 - val_accuracy: 0.5613 - val_precision_5: 0.6051 - val_recall_5: 0.4598\n",
      "Epoch 77/100\n",
      "128/128 [==============================] - 0s 2ms/step - loss: 0.8871 - accuracy: 0.5931 - precision_5: 0.6474 - recall_5: 0.4759 - val_loss: 0.9276 - val_accuracy: 0.5585 - val_precision_5: 0.5991 - val_recall_5: 0.4809\n",
      "Epoch 78/100\n",
      "128/128 [==============================] - 0s 3ms/step - loss: 0.8869 - accuracy: 0.5921 - precision_5: 0.6447 - recall_5: 0.4828 - val_loss: 0.9328 - val_accuracy: 0.5533 - val_precision_5: 0.6107 - val_recall_5: 0.4295\n",
      "Epoch 79/100\n",
      "128/128 [==============================] - 0s 3ms/step - loss: 0.8867 - accuracy: 0.5935 - precision_5: 0.6472 - recall_5: 0.4779 - val_loss: 0.9276 - val_accuracy: 0.5550 - val_precision_5: 0.6118 - val_recall_5: 0.4432\n",
      "Epoch 80/100\n",
      "128/128 [==============================] - 0s 2ms/step - loss: 0.8864 - accuracy: 0.5950 - precision_5: 0.6426 - recall_5: 0.4801 - val_loss: 0.9297 - val_accuracy: 0.5516 - val_precision_5: 0.6130 - val_recall_5: 0.4318\n",
      "Epoch 81/100\n",
      "128/128 [==============================] - 0s 2ms/step - loss: 0.8856 - accuracy: 0.5975 - precision_5: 0.6502 - recall_5: 0.4759 - val_loss: 0.9269 - val_accuracy: 0.5556 - val_precision_5: 0.6009 - val_recall_5: 0.4758\n",
      "Epoch 82/100\n",
      "128/128 [==============================] - 0s 2ms/step - loss: 0.8853 - accuracy: 0.5926 - precision_5: 0.6449 - recall_5: 0.4828 - val_loss: 0.9288 - val_accuracy: 0.5556 - val_precision_5: 0.6025 - val_recall_5: 0.4712\n",
      "Epoch 83/100\n",
      "128/128 [==============================] - 0s 3ms/step - loss: 0.8853 - accuracy: 0.5965 - precision_5: 0.6422 - recall_5: 0.4766 - val_loss: 0.9273 - val_accuracy: 0.5596 - val_precision_5: 0.6025 - val_recall_5: 0.4746\n",
      "Epoch 84/100\n",
      "128/128 [==============================] - 0s 2ms/step - loss: 0.8858 - accuracy: 0.5960 - precision_5: 0.6446 - recall_5: 0.4776 - val_loss: 0.9266 - val_accuracy: 0.5522 - val_precision_5: 0.6026 - val_recall_5: 0.4575\n",
      "Epoch 85/100\n",
      "128/128 [==============================] - 0s 2ms/step - loss: 0.8858 - accuracy: 0.5928 - precision_5: 0.6438 - recall_5: 0.4850 - val_loss: 0.9294 - val_accuracy: 0.5562 - val_precision_5: 0.6047 - val_recall_5: 0.4598\n",
      "Epoch 86/100\n",
      "128/128 [==============================] - 0s 2ms/step - loss: 0.8857 - accuracy: 0.5962 - precision_5: 0.6426 - recall_5: 0.4820 - val_loss: 0.9268 - val_accuracy: 0.5522 - val_precision_5: 0.6045 - val_recall_5: 0.4438\n",
      "Epoch 87/100\n",
      "128/128 [==============================] - 0s 2ms/step - loss: 0.8864 - accuracy: 0.5957 - precision_5: 0.6477 - recall_5: 0.4735 - val_loss: 0.9271 - val_accuracy: 0.5596 - val_precision_5: 0.6033 - val_recall_5: 0.4615\n",
      "Epoch 88/100\n",
      "128/128 [==============================] - 0s 2ms/step - loss: 0.8854 - accuracy: 0.5940 - precision_5: 0.6442 - recall_5: 0.4852 - val_loss: 0.9310 - val_accuracy: 0.5511 - val_precision_5: 0.6182 - val_recall_5: 0.4221\n",
      "Epoch 89/100\n",
      "128/128 [==============================] - 0s 2ms/step - loss: 0.8856 - accuracy: 0.5984 - precision_5: 0.6488 - recall_5: 0.4762 - val_loss: 0.9284 - val_accuracy: 0.5516 - val_precision_5: 0.6008 - val_recall_5: 0.4507\n",
      "Epoch 90/100\n",
      "128/128 [==============================] - 0s 2ms/step - loss: 0.8853 - accuracy: 0.5926 - precision_5: 0.6411 - recall_5: 0.4835 - val_loss: 0.9273 - val_accuracy: 0.5596 - val_precision_5: 0.6019 - val_recall_5: 0.4581\n",
      "Epoch 91/100\n",
      "128/128 [==============================] - 0s 2ms/step - loss: 0.8847 - accuracy: 0.5975 - precision_5: 0.6510 - recall_5: 0.4730 - val_loss: 0.9266 - val_accuracy: 0.5579 - val_precision_5: 0.5974 - val_recall_5: 0.4775\n",
      "Epoch 92/100\n",
      "128/128 [==============================] - 0s 2ms/step - loss: 0.8856 - accuracy: 0.5926 - precision_5: 0.6430 - recall_5: 0.4832 - val_loss: 0.9264 - val_accuracy: 0.5528 - val_precision_5: 0.6022 - val_recall_5: 0.4586\n",
      "Epoch 93/100\n",
      "128/128 [==============================] - 0s 3ms/step - loss: 0.8860 - accuracy: 0.5928 - precision_5: 0.6429 - recall_5: 0.4776 - val_loss: 0.9273 - val_accuracy: 0.5545 - val_precision_5: 0.6015 - val_recall_5: 0.4598\n",
      "Epoch 94/100\n",
      "128/128 [==============================] - 0s 2ms/step - loss: 0.8854 - accuracy: 0.5943 - precision_5: 0.6434 - recall_5: 0.4806 - val_loss: 0.9311 - val_accuracy: 0.5568 - val_precision_5: 0.6073 - val_recall_5: 0.4489\n",
      "Epoch 95/100\n",
      "128/128 [==============================] - 0s 2ms/step - loss: 0.8855 - accuracy: 0.5921 - precision_5: 0.6458 - recall_5: 0.4869 - val_loss: 0.9314 - val_accuracy: 0.5579 - val_precision_5: 0.6141 - val_recall_5: 0.4358\n",
      "Epoch 96/100\n",
      "128/128 [==============================] - 0s 2ms/step - loss: 0.8860 - accuracy: 0.5945 - precision_5: 0.6489 - recall_5: 0.4754 - val_loss: 0.9274 - val_accuracy: 0.5562 - val_precision_5: 0.5997 - val_recall_5: 0.4683\n",
      "Epoch 97/100\n",
      "128/128 [==============================] - 0s 4ms/step - loss: 0.8850 - accuracy: 0.5943 - precision_5: 0.6501 - recall_5: 0.4781 - val_loss: 0.9287 - val_accuracy: 0.5585 - val_precision_5: 0.5957 - val_recall_5: 0.4866\n",
      "Epoch 98/100\n",
      "128/128 [==============================] - 0s 2ms/step - loss: 0.8852 - accuracy: 0.5975 - precision_5: 0.6476 - recall_5: 0.4781 - val_loss: 0.9283 - val_accuracy: 0.5573 - val_precision_5: 0.6051 - val_recall_5: 0.4484\n",
      "Epoch 99/100\n",
      "128/128 [==============================] - 0s 2ms/step - loss: 0.8841 - accuracy: 0.5972 - precision_5: 0.6492 - recall_5: 0.4793 - val_loss: 0.9310 - val_accuracy: 0.5482 - val_precision_5: 0.6147 - val_recall_5: 0.4295\n",
      "Epoch 100/100\n",
      "128/128 [==============================] - 0s 2ms/step - loss: 0.8849 - accuracy: 0.5979 - precision_5: 0.6468 - recall_5: 0.4837 - val_loss: 0.9271 - val_accuracy: 0.5625 - val_precision_5: 0.5983 - val_recall_5: 0.4792\n"
     ]
    }
   ],
   "source": [
    "W2VMat_CNN.compile(optimizer='adam', loss=tf.keras.losses.CategoricalCrossentropy(), metrics=['accuracy', Precision(), Recall()])\n",
    "history = W2VMat_CNN.fit(word2vec_matrix_train, y_train_one_hot, validation_data=(word2vec_matrix_test, y_test_one_hot), epochs=100)"
   ]
  },
  {
   "cell_type": "code",
   "execution_count": 71,
   "id": "ecb65220",
   "metadata": {},
   "outputs": [
    {
     "data": {
      "image/png": "[encoded data removed]",
      "text/plain": [
       "<Figure size 1200x500 with 2 Axes>"
      ]
     },
     "metadata": {},
     "output_type": "display_data"
    }
   ],
   "source": [
    "plot_training_history(history)"
   ]
  },
  {
   "cell_type": "code",
   "execution_count": 72,
   "id": "21ee2cfe",
   "metadata": {},
   "outputs": [
    {
     "name": "stdout",
     "output_type": "stream",
     "text": [
      "55/55 [==============================] - 0s 2ms/step - loss: 0.9271 - accuracy: 0.5625 - precision_5: 0.5983 - recall_5: 0.4792\n",
      "Test Accuracy: 0.5624643564224243\n",
      "Test precision: 0.5982906222343445\n",
      "Test recal: 0.4791785478591919\n"
     ]
    }
   ],
   "source": [
    "loss, accuracy , precision, recall = W2VMat_CNN.evaluate(word2vec_matrix_test, y_test_one_hot)\n",
    "print(\"Test Accuracy:\", accuracy)\n",
    "print(\"Test precision:\", precision)\n",
    "print(\"Test recal:\", recall)"
   ]
  },
  {
   "cell_type": "markdown",
   "id": "d1ffcdd7",
   "metadata": {},
   "source": [
    "> ##### 3.3.3 WFTMat_CNN fasttext matrix with CNN"
   ]
  },
  {
   "cell_type": "code",
   "execution_count": 73,
   "id": "418d70e0",
   "metadata": {},
   "outputs": [
    {
     "name": "stdout",
     "output_type": "stream",
     "text": [
      "Model: \"cnn_model\"\n",
      "_________________________________________________________________\n",
      " Layer (type)                Output Shape              Param #   \n",
      "=================================================================\n",
      " input_layer (InputLayer)    [(None, 20, 5)]           0         \n",
      "                                                                 \n",
      " conv_layer (Conv1D)         (None, 18, 5)             80        \n",
      "                                                                 \n",
      " maxpool_layer (MaxPooling1D  (None, 17, 5)            0         \n",
      " )                                                               \n",
      "                                                                 \n",
      " flatten_layer (Flatten)     (None, 85)                0         \n",
      "                                                                 \n",
      " output_layer (Dense)        (None, 3)                 258       \n",
      "                                                                 \n",
      "=================================================================\n",
      "Total params: 338\n",
      "Trainable params: 338\n",
      "Non-trainable params: 0\n",
      "_________________________________________________________________\n"
     ]
    }
   ],
   "source": [
    "FTMat_CNN = create_cnn_model((fasttext_matrix_train.shape[1], fasttext_matrix_train.shape[2]))\n",
    "FTMat_CNN.summary()"
   ]
  },
  {
   "cell_type": "code",
   "execution_count": 74,
   "id": "6d8484b5",
   "metadata": {
    "scrolled": true
   },
   "outputs": [
    {
     "name": "stdout",
     "output_type": "stream",
     "text": [
      "Epoch 1/100\n",
      "128/128 [==============================] - 2s 7ms/step - loss: 1.0817 - accuracy: 0.4762 - precision_6: 0.4946 - recall_6: 0.3272 - val_loss: 1.0188 - val_accuracy: 0.5043 - val_precision_6: 0.5526 - val_recall_6: 0.3657\n",
      "Epoch 2/100\n",
      "128/128 [==============================] - 0s 3ms/step - loss: 0.9884 - accuracy: 0.5358 - precision_6: 0.5852 - recall_6: 0.3588 - val_loss: 0.9696 - val_accuracy: 0.5374 - val_precision_6: 0.6017 - val_recall_6: 0.4084\n",
      "Epoch 3/100\n",
      "128/128 [==============================] - 0s 4ms/step - loss: 0.9628 - accuracy: 0.5473 - precision_6: 0.6066 - recall_6: 0.3918 - val_loss: 0.9557 - val_accuracy: 0.5431 - val_precision_6: 0.6129 - val_recall_6: 0.3839\n",
      "Epoch 4/100\n",
      "128/128 [==============================] - 1s 4ms/step - loss: 0.9538 - accuracy: 0.5439 - precision_6: 0.6194 - recall_6: 0.3769 - val_loss: 0.9498 - val_accuracy: 0.5476 - val_precision_6: 0.6112 - val_recall_6: 0.3748\n",
      "Epoch 5/100\n",
      "128/128 [==============================] - 1s 4ms/step - loss: 0.9468 - accuracy: 0.5554 - precision_6: 0.6242 - recall_6: 0.3818 - val_loss: 0.9459 - val_accuracy: 0.5471 - val_precision_6: 0.6182 - val_recall_6: 0.3953\n",
      "Epoch 6/100\n",
      "128/128 [==============================] - 1s 4ms/step - loss: 0.9421 - accuracy: 0.5583 - precision_6: 0.6239 - recall_6: 0.3903 - val_loss: 0.9464 - val_accuracy: 0.5459 - val_precision_6: 0.6160 - val_recall_6: 0.4136\n",
      "Epoch 7/100\n",
      "128/128 [==============================] - 1s 5ms/step - loss: 0.9392 - accuracy: 0.5549 - precision_6: 0.6232 - recall_6: 0.3972 - val_loss: 0.9505 - val_accuracy: 0.5459 - val_precision_6: 0.6352 - val_recall_6: 0.3377\n",
      "Epoch 8/100\n",
      "128/128 [==============================] - 1s 4ms/step - loss: 0.9346 - accuracy: 0.5635 - precision_6: 0.6372 - recall_6: 0.3930 - val_loss: 0.9410 - val_accuracy: 0.5476 - val_precision_6: 0.6092 - val_recall_6: 0.4073\n",
      "Epoch 9/100\n",
      "128/128 [==============================] - 0s 3ms/step - loss: 0.9325 - accuracy: 0.5630 - precision_6: 0.6299 - recall_6: 0.4025 - val_loss: 0.9388 - val_accuracy: 0.5545 - val_precision_6: 0.6322 - val_recall_6: 0.4010\n",
      "Epoch 10/100\n",
      "128/128 [==============================] - 0s 3ms/step - loss: 0.9298 - accuracy: 0.5644 - precision_6: 0.6378 - recall_6: 0.4052 - val_loss: 0.9390 - val_accuracy: 0.5436 - val_precision_6: 0.6327 - val_recall_6: 0.3822\n",
      "Epoch 11/100\n",
      "128/128 [==============================] - 0s 3ms/step - loss: 0.9272 - accuracy: 0.5622 - precision_6: 0.6350 - recall_6: 0.4096 - val_loss: 0.9396 - val_accuracy: 0.5636 - val_precision_6: 0.6308 - val_recall_6: 0.4153\n",
      "Epoch 12/100\n",
      "128/128 [==============================] - 0s 3ms/step - loss: 0.9246 - accuracy: 0.5693 - precision_6: 0.6380 - recall_6: 0.4094 - val_loss: 0.9364 - val_accuracy: 0.5556 - val_precision_6: 0.6227 - val_recall_6: 0.4256\n",
      "Epoch 13/100\n",
      "128/128 [==============================] - 0s 3ms/step - loss: 0.9238 - accuracy: 0.5684 - precision_6: 0.6417 - recall_6: 0.4121 - val_loss: 0.9357 - val_accuracy: 0.5579 - val_precision_6: 0.6364 - val_recall_6: 0.4044\n",
      "Epoch 14/100\n",
      "128/128 [==============================] - 0s 3ms/step - loss: 0.9195 - accuracy: 0.5740 - precision_6: 0.6481 - recall_6: 0.4175 - val_loss: 0.9360 - val_accuracy: 0.5568 - val_precision_6: 0.6131 - val_recall_6: 0.4529\n",
      "Epoch 15/100\n",
      "128/128 [==============================] - 0s 3ms/step - loss: 0.9207 - accuracy: 0.5681 - precision_6: 0.6444 - recall_6: 0.4224 - val_loss: 0.9319 - val_accuracy: 0.5625 - val_precision_6: 0.6287 - val_recall_6: 0.4250\n",
      "Epoch 16/100\n",
      "128/128 [==============================] - 0s 2ms/step - loss: 0.9177 - accuracy: 0.5735 - precision_6: 0.6432 - recall_6: 0.4272 - val_loss: 0.9323 - val_accuracy: 0.5573 - val_precision_6: 0.6384 - val_recall_6: 0.4079\n",
      "Epoch 17/100\n",
      "128/128 [==============================] - 0s 2ms/step - loss: 0.9188 - accuracy: 0.5742 - precision_6: 0.6469 - recall_6: 0.4233 - val_loss: 0.9320 - val_accuracy: 0.5619 - val_precision_6: 0.6262 - val_recall_6: 0.4330\n",
      "Epoch 18/100\n",
      "128/128 [==============================] - 0s 2ms/step - loss: 0.9153 - accuracy: 0.5774 - precision_6: 0.6525 - recall_6: 0.4290 - val_loss: 0.9318 - val_accuracy: 0.5602 - val_precision_6: 0.6296 - val_recall_6: 0.4227\n",
      "Epoch 19/100\n",
      "128/128 [==============================] - 0s 2ms/step - loss: 0.9155 - accuracy: 0.5776 - precision_6: 0.6383 - recall_6: 0.4272 - val_loss: 0.9324 - val_accuracy: 0.5653 - val_precision_6: 0.6254 - val_recall_6: 0.4581\n",
      "Epoch 20/100\n",
      "128/128 [==============================] - 0s 2ms/step - loss: 0.9150 - accuracy: 0.5776 - precision_6: 0.6421 - recall_6: 0.4265 - val_loss: 0.9302 - val_accuracy: 0.5647 - val_precision_6: 0.6379 - val_recall_6: 0.4301\n",
      "Epoch 21/100\n",
      "128/128 [==============================] - 0s 2ms/step - loss: 0.9138 - accuracy: 0.5784 - precision_6: 0.6452 - recall_6: 0.4336 - val_loss: 0.9310 - val_accuracy: 0.5602 - val_precision_6: 0.6271 - val_recall_6: 0.4432\n",
      "Epoch 22/100\n",
      "128/128 [==============================] - 0s 2ms/step - loss: 0.9109 - accuracy: 0.5808 - precision_6: 0.6475 - recall_6: 0.4326 - val_loss: 0.9309 - val_accuracy: 0.5653 - val_precision_6: 0.6350 - val_recall_6: 0.4427\n",
      "Epoch 23/100\n",
      "128/128 [==============================] - 0s 2ms/step - loss: 0.9102 - accuracy: 0.5818 - precision_6: 0.6513 - recall_6: 0.4380 - val_loss: 0.9326 - val_accuracy: 0.5687 - val_precision_6: 0.6296 - val_recall_6: 0.4489\n",
      "Epoch 24/100\n",
      "128/128 [==============================] - 0s 2ms/step - loss: 0.9095 - accuracy: 0.5813 - precision_6: 0.6518 - recall_6: 0.4290 - val_loss: 0.9290 - val_accuracy: 0.5636 - val_precision_6: 0.6356 - val_recall_6: 0.4438\n",
      "Epoch 25/100\n",
      "128/128 [==============================] - 0s 2ms/step - loss: 0.9091 - accuracy: 0.5825 - precision_6: 0.6467 - recall_6: 0.4387 - val_loss: 0.9308 - val_accuracy: 0.5596 - val_precision_6: 0.6341 - val_recall_6: 0.4221\n",
      "Epoch 26/100\n",
      "128/128 [==============================] - 0s 2ms/step - loss: 0.9077 - accuracy: 0.5754 - precision_6: 0.6441 - recall_6: 0.4444 - val_loss: 0.9311 - val_accuracy: 0.5602 - val_precision_6: 0.6448 - val_recall_6: 0.4153\n",
      "Epoch 27/100\n",
      "128/128 [==============================] - 0s 3ms/step - loss: 0.9086 - accuracy: 0.5855 - precision_6: 0.6471 - recall_6: 0.4336 - val_loss: 0.9319 - val_accuracy: 0.5705 - val_precision_6: 0.6248 - val_recall_6: 0.4740\n",
      "Epoch 28/100\n",
      "128/128 [==============================] - 0s 3ms/step - loss: 0.9082 - accuracy: 0.5801 - precision_6: 0.6446 - recall_6: 0.4414 - val_loss: 0.9278 - val_accuracy: 0.5653 - val_precision_6: 0.6375 - val_recall_6: 0.4324\n",
      "Epoch 29/100\n",
      "128/128 [==============================] - 0s 3ms/step - loss: 0.9077 - accuracy: 0.5830 - precision_6: 0.6471 - recall_6: 0.4412 - val_loss: 0.9268 - val_accuracy: 0.5647 - val_precision_6: 0.6437 - val_recall_6: 0.4370\n",
      "Epoch 30/100\n",
      "128/128 [==============================] - 0s 3ms/step - loss: 0.9069 - accuracy: 0.5840 - precision_6: 0.6507 - recall_6: 0.4424 - val_loss: 0.9328 - val_accuracy: 0.5739 - val_precision_6: 0.6260 - val_recall_6: 0.4718\n",
      "Epoch 31/100\n",
      "128/128 [==============================] - 0s 3ms/step - loss: 0.9084 - accuracy: 0.5828 - precision_6: 0.6446 - recall_6: 0.4373 - val_loss: 0.9246 - val_accuracy: 0.5625 - val_precision_6: 0.6434 - val_recall_6: 0.4364\n",
      "Epoch 32/100\n",
      "128/128 [==============================] - 0s 3ms/step - loss: 0.9056 - accuracy: 0.5852 - precision_6: 0.6496 - recall_6: 0.4417 - val_loss: 0.9298 - val_accuracy: 0.5585 - val_precision_6: 0.6404 - val_recall_6: 0.4216\n",
      "Epoch 33/100\n",
      "128/128 [==============================] - 0s 2ms/step - loss: 0.9058 - accuracy: 0.5843 - precision_6: 0.6505 - recall_6: 0.4429 - val_loss: 0.9250 - val_accuracy: 0.5653 - val_precision_6: 0.6437 - val_recall_6: 0.4370\n",
      "Epoch 34/100\n",
      "128/128 [==============================] - 0s 2ms/step - loss: 0.9037 - accuracy: 0.5852 - precision_6: 0.6455 - recall_6: 0.4417 - val_loss: 0.9261 - val_accuracy: 0.5705 - val_precision_6: 0.6355 - val_recall_6: 0.4575\n",
      "Epoch 35/100\n",
      "128/128 [==============================] - 0s 3ms/step - loss: 0.9052 - accuracy: 0.5806 - precision_6: 0.6504 - recall_6: 0.4427 - val_loss: 0.9264 - val_accuracy: 0.5693 - val_precision_6: 0.6336 - val_recall_6: 0.4626\n",
      "Epoch 36/100\n"
     ]
    },
    {
     "name": "stdout",
     "output_type": "stream",
     "text": [
      "128/128 [==============================] - 0s 3ms/step - loss: 0.9053 - accuracy: 0.5818 - precision_6: 0.6516 - recall_6: 0.4419 - val_loss: 0.9271 - val_accuracy: 0.5670 - val_precision_6: 0.6254 - val_recall_6: 0.4752\n",
      "Epoch 37/100\n",
      "128/128 [==============================] - 0s 3ms/step - loss: 0.9059 - accuracy: 0.5786 - precision_6: 0.6485 - recall_6: 0.4458 - val_loss: 0.9247 - val_accuracy: 0.5630 - val_precision_6: 0.6374 - val_recall_6: 0.4392\n",
      "Epoch 38/100\n",
      "128/128 [==============================] - 0s 3ms/step - loss: 0.9048 - accuracy: 0.5869 - precision_6: 0.6439 - recall_6: 0.4502 - val_loss: 0.9274 - val_accuracy: 0.5699 - val_precision_6: 0.6502 - val_recall_6: 0.4136\n",
      "Epoch 39/100\n",
      "128/128 [==============================] - 0s 3ms/step - loss: 0.9047 - accuracy: 0.5811 - precision_6: 0.6511 - recall_6: 0.4395 - val_loss: 0.9261 - val_accuracy: 0.5687 - val_precision_6: 0.6438 - val_recall_6: 0.4330\n",
      "Epoch 40/100\n",
      "128/128 [==============================] - 0s 2ms/step - loss: 0.9020 - accuracy: 0.5882 - precision_6: 0.6470 - recall_6: 0.4429 - val_loss: 0.9262 - val_accuracy: 0.5705 - val_precision_6: 0.6368 - val_recall_6: 0.4501\n",
      "Epoch 41/100\n",
      "128/128 [==============================] - 0s 3ms/step - loss: 0.9055 - accuracy: 0.5820 - precision_6: 0.6406 - recall_6: 0.4380 - val_loss: 0.9283 - val_accuracy: 0.5596 - val_precision_6: 0.6255 - val_recall_6: 0.4307\n",
      "Epoch 42/100\n",
      "128/128 [==============================] - 0s 3ms/step - loss: 0.9020 - accuracy: 0.5835 - precision_6: 0.6473 - recall_6: 0.4488 - val_loss: 0.9352 - val_accuracy: 0.5733 - val_precision_6: 0.6241 - val_recall_6: 0.4906\n",
      "Epoch 43/100\n",
      "128/128 [==============================] - 1s 4ms/step - loss: 0.9032 - accuracy: 0.5847 - precision_6: 0.6494 - recall_6: 0.4471 - val_loss: 0.9267 - val_accuracy: 0.5647 - val_precision_6: 0.6457 - val_recall_6: 0.4159\n",
      "Epoch 44/100\n",
      "128/128 [==============================] - 1s 4ms/step - loss: 0.9019 - accuracy: 0.5855 - precision_6: 0.6524 - recall_6: 0.4407 - val_loss: 0.9307 - val_accuracy: 0.5625 - val_precision_6: 0.6320 - val_recall_6: 0.4056\n",
      "Epoch 45/100\n",
      "128/128 [==============================] - 1s 4ms/step - loss: 0.9032 - accuracy: 0.5860 - precision_6: 0.6458 - recall_6: 0.4397 - val_loss: 0.9292 - val_accuracy: 0.5579 - val_precision_6: 0.6284 - val_recall_6: 0.4159\n",
      "Epoch 46/100\n",
      "128/128 [==============================] - 1s 4ms/step - loss: 0.9001 - accuracy: 0.5845 - precision_6: 0.6492 - recall_6: 0.4522 - val_loss: 0.9278 - val_accuracy: 0.5676 - val_precision_6: 0.6290 - val_recall_6: 0.4353\n",
      "Epoch 47/100\n",
      "128/128 [==============================] - 1s 4ms/step - loss: 0.9015 - accuracy: 0.5850 - precision_6: 0.6502 - recall_6: 0.4451 - val_loss: 0.9331 - val_accuracy: 0.5602 - val_precision_6: 0.6315 - val_recall_6: 0.3930\n",
      "Epoch 48/100\n",
      "128/128 [==============================] - 1s 4ms/step - loss: 0.9000 - accuracy: 0.5840 - precision_6: 0.6466 - recall_6: 0.4483 - val_loss: 0.9284 - val_accuracy: 0.5767 - val_precision_6: 0.6264 - val_recall_6: 0.4649\n",
      "Epoch 49/100\n",
      "128/128 [==============================] - 1s 4ms/step - loss: 0.9001 - accuracy: 0.5894 - precision_6: 0.6478 - recall_6: 0.4422 - val_loss: 0.9245 - val_accuracy: 0.5642 - val_precision_6: 0.6397 - val_recall_6: 0.4335\n",
      "Epoch 50/100\n",
      "128/128 [==============================] - 1s 4ms/step - loss: 0.9015 - accuracy: 0.5857 - precision_6: 0.6473 - recall_6: 0.4466 - val_loss: 0.9249 - val_accuracy: 0.5710 - val_precision_6: 0.6418 - val_recall_6: 0.4313\n",
      "Epoch 51/100\n",
      "128/128 [==============================] - 1s 5ms/step - loss: 0.8978 - accuracy: 0.5843 - precision_6: 0.6516 - recall_6: 0.4515 - val_loss: 0.9247 - val_accuracy: 0.5693 - val_precision_6: 0.6361 - val_recall_6: 0.4427\n",
      "Epoch 52/100\n",
      "128/128 [==============================] - 1s 4ms/step - loss: 0.8966 - accuracy: 0.5874 - precision_6: 0.6528 - recall_6: 0.4456 - val_loss: 0.9280 - val_accuracy: 0.5779 - val_precision_6: 0.6372 - val_recall_6: 0.4518\n",
      "Epoch 53/100\n",
      "128/128 [==============================] - 1s 4ms/step - loss: 0.9000 - accuracy: 0.5820 - precision_6: 0.6466 - recall_6: 0.4510 - val_loss: 0.9268 - val_accuracy: 0.5625 - val_precision_6: 0.6349 - val_recall_6: 0.4136\n",
      "Epoch 54/100\n",
      "128/128 [==============================] - 0s 3ms/step - loss: 0.8992 - accuracy: 0.5896 - precision_6: 0.6554 - recall_6: 0.4424 - val_loss: 0.9253 - val_accuracy: 0.5670 - val_precision_6: 0.6412 - val_recall_6: 0.4170\n",
      "Epoch 55/100\n",
      "128/128 [==============================] - 0s 3ms/step - loss: 0.8982 - accuracy: 0.5845 - precision_6: 0.6504 - recall_6: 0.4453 - val_loss: 0.9235 - val_accuracy: 0.5693 - val_precision_6: 0.6320 - val_recall_6: 0.4467\n",
      "Epoch 56/100\n",
      "128/128 [==============================] - 0s 3ms/step - loss: 0.8972 - accuracy: 0.5879 - precision_6: 0.6500 - recall_6: 0.4519 - val_loss: 0.9248 - val_accuracy: 0.5682 - val_precision_6: 0.6401 - val_recall_6: 0.4210\n",
      "Epoch 57/100\n",
      "128/128 [==============================] - 0s 3ms/step - loss: 0.8963 - accuracy: 0.5913 - precision_6: 0.6500 - recall_6: 0.4519 - val_loss: 0.9296 - val_accuracy: 0.5608 - val_precision_6: 0.6346 - val_recall_6: 0.3953\n",
      "Epoch 58/100\n",
      "128/128 [==============================] - 0s 3ms/step - loss: 0.8964 - accuracy: 0.5855 - precision_6: 0.6510 - recall_6: 0.4407 - val_loss: 0.9245 - val_accuracy: 0.5727 - val_precision_6: 0.6373 - val_recall_6: 0.4421\n",
      "Epoch 59/100\n",
      "128/128 [==============================] - 0s 3ms/step - loss: 0.8971 - accuracy: 0.5896 - precision_6: 0.6494 - recall_6: 0.4480 - val_loss: 0.9239 - val_accuracy: 0.5739 - val_precision_6: 0.6313 - val_recall_6: 0.4609\n",
      "Epoch 60/100\n",
      "128/128 [==============================] - 0s 3ms/step - loss: 0.8965 - accuracy: 0.5879 - precision_6: 0.6514 - recall_6: 0.4473 - val_loss: 0.9259 - val_accuracy: 0.5602 - val_precision_6: 0.6386 - val_recall_6: 0.4193\n",
      "Epoch 61/100\n",
      "128/128 [==============================] - 0s 3ms/step - loss: 0.8958 - accuracy: 0.5877 - precision_6: 0.6474 - recall_6: 0.4527 - val_loss: 0.9235 - val_accuracy: 0.5773 - val_precision_6: 0.6377 - val_recall_6: 0.4347\n",
      "Epoch 62/100\n",
      "128/128 [==============================] - 0s 2ms/step - loss: 0.8956 - accuracy: 0.5913 - precision_6: 0.6573 - recall_6: 0.4419 - val_loss: 0.9231 - val_accuracy: 0.5699 - val_precision_6: 0.6355 - val_recall_6: 0.4375\n",
      "Epoch 63/100\n",
      "128/128 [==============================] - 0s 2ms/step - loss: 0.8954 - accuracy: 0.5899 - precision_6: 0.6483 - recall_6: 0.4549 - val_loss: 0.9264 - val_accuracy: 0.5687 - val_precision_6: 0.6277 - val_recall_6: 0.4318\n",
      "Epoch 64/100\n",
      "128/128 [==============================] - 0s 3ms/step - loss: 0.8959 - accuracy: 0.5857 - precision_6: 0.6503 - recall_6: 0.4439 - val_loss: 0.9227 - val_accuracy: 0.5727 - val_precision_6: 0.6381 - val_recall_6: 0.4415\n",
      "Epoch 65/100\n",
      "128/128 [==============================] - 0s 3ms/step - loss: 0.8973 - accuracy: 0.5855 - precision_6: 0.6501 - recall_6: 0.4475 - val_loss: 0.9221 - val_accuracy: 0.5665 - val_precision_6: 0.6361 - val_recall_6: 0.4307\n",
      "Epoch 66/100\n",
      "128/128 [==============================] - 0s 3ms/step - loss: 0.8936 - accuracy: 0.5899 - precision_6: 0.6536 - recall_6: 0.4568 - val_loss: 0.9261 - val_accuracy: 0.5659 - val_precision_6: 0.6344 - val_recall_6: 0.4119\n",
      "Epoch 67/100\n",
      "128/128 [==============================] - 0s 3ms/step - loss: 0.8948 - accuracy: 0.5882 - precision_6: 0.6472 - recall_6: 0.4478 - val_loss: 0.9265 - val_accuracy: 0.5767 - val_precision_6: 0.6238 - val_recall_6: 0.4729\n",
      "Epoch 68/100\n",
      "128/128 [==============================] - 0s 3ms/step - loss: 0.8949 - accuracy: 0.5909 - precision_6: 0.6536 - recall_6: 0.4532 - val_loss: 0.9228 - val_accuracy: 0.5716 - val_precision_6: 0.6371 - val_recall_6: 0.4347\n",
      "Epoch 69/100\n",
      "128/128 [==============================] - 0s 3ms/step - loss: 0.8946 - accuracy: 0.5901 - precision_6: 0.6524 - recall_6: 0.4522 - val_loss: 0.9255 - val_accuracy: 0.5630 - val_precision_6: 0.6381 - val_recall_6: 0.4113\n",
      "Epoch 70/100\n",
      "128/128 [==============================] - 0s 3ms/step - loss: 0.8944 - accuracy: 0.5901 - precision_6: 0.6476 - recall_6: 0.4544 - val_loss: 0.9226 - val_accuracy: 0.5733 - val_precision_6: 0.6350 - val_recall_6: 0.4467\n",
      "Epoch 71/100\n",
      "128/128 [==============================] - 0s 3ms/step - loss: 0.8946 - accuracy: 0.5894 - precision_6: 0.6543 - recall_6: 0.4453 - val_loss: 0.9247 - val_accuracy: 0.5642 - val_precision_6: 0.6237 - val_recall_6: 0.4444\n",
      "Epoch 72/100\n",
      "128/128 [==============================] - 0s 3ms/step - loss: 0.8958 - accuracy: 0.5928 - precision_6: 0.6527 - recall_6: 0.4517 - val_loss: 0.9302 - val_accuracy: 0.5705 - val_precision_6: 0.6230 - val_recall_6: 0.4797\n",
      "Epoch 73/100\n",
      "128/128 [==============================] - 0s 3ms/step - loss: 0.8937 - accuracy: 0.5926 - precision_6: 0.6543 - recall_6: 0.4541 - val_loss: 0.9264 - val_accuracy: 0.5625 - val_precision_6: 0.6321 - val_recall_6: 0.4273\n",
      "Epoch 74/100\n",
      "128/128 [==============================] - 0s 3ms/step - loss: 0.8942 - accuracy: 0.5928 - precision_6: 0.6568 - recall_6: 0.4527 - val_loss: 0.9247 - val_accuracy: 0.5682 - val_precision_6: 0.6345 - val_recall_6: 0.4130\n",
      "Epoch 75/100\n",
      "128/128 [==============================] - 0s 3ms/step - loss: 0.8922 - accuracy: 0.5918 - precision_6: 0.6518 - recall_6: 0.4532 - val_loss: 0.9270 - val_accuracy: 0.5590 - val_precision_6: 0.6237 - val_recall_6: 0.4227\n",
      "Epoch 76/100\n",
      "128/128 [==============================] - 0s 3ms/step - loss: 0.8934 - accuracy: 0.5918 - precision_6: 0.6520 - recall_6: 0.4485 - val_loss: 0.9217 - val_accuracy: 0.5699 - val_precision_6: 0.6324 - val_recall_6: 0.4387\n",
      "Epoch 77/100\n",
      "128/128 [==============================] - 0s 2ms/step - loss: 0.8932 - accuracy: 0.5889 - precision_6: 0.6536 - recall_6: 0.4559 - val_loss: 0.9258 - val_accuracy: 0.5653 - val_precision_6: 0.6351 - val_recall_6: 0.4130\n",
      "Epoch 78/100\n",
      "128/128 [==============================] - 0s 3ms/step - loss: 0.8928 - accuracy: 0.5913 - precision_6: 0.6516 - recall_6: 0.4510 - val_loss: 0.9275 - val_accuracy: 0.5613 - val_precision_6: 0.6326 - val_recall_6: 0.4056\n",
      "Epoch 79/100\n",
      "128/128 [==============================] - 0s 2ms/step - loss: 0.8932 - accuracy: 0.5899 - precision_6: 0.6518 - recall_6: 0.4500 - val_loss: 0.9243 - val_accuracy: 0.5636 - val_precision_6: 0.6316 - val_recall_6: 0.4216\n",
      "Epoch 80/100\n",
      "128/128 [==============================] - 0s 2ms/step - loss: 0.8929 - accuracy: 0.5940 - precision_6: 0.6511 - recall_6: 0.4590 - val_loss: 0.9295 - val_accuracy: 0.5573 - val_precision_6: 0.6273 - val_recall_6: 0.4062\n",
      "Epoch 81/100\n",
      "128/128 [==============================] - 0s 2ms/step - loss: 0.8915 - accuracy: 0.5887 - precision_6: 0.6566 - recall_6: 0.4537 - val_loss: 0.9271 - val_accuracy: 0.5653 - val_precision_6: 0.6393 - val_recall_6: 0.3993\n",
      "Epoch 82/100\n",
      "128/128 [==============================] - 0s 3ms/step - loss: 0.8907 - accuracy: 0.5874 - precision_6: 0.6584 - recall_6: 0.4524 - val_loss: 0.9236 - val_accuracy: 0.5710 - val_precision_6: 0.6310 - val_recall_6: 0.4273\n",
      "Epoch 83/100\n",
      "128/128 [==============================] - 0s 2ms/step - loss: 0.8919 - accuracy: 0.5935 - precision_6: 0.6578 - recall_6: 0.4541 - val_loss: 0.9248 - val_accuracy: 0.5636 - val_precision_6: 0.6222 - val_recall_6: 0.4284\n",
      "Epoch 84/100\n",
      "128/128 [==============================] - 0s 2ms/step - loss: 0.8895 - accuracy: 0.5950 - precision_6: 0.6555 - recall_6: 0.4578 - val_loss: 0.9241 - val_accuracy: 0.5670 - val_precision_6: 0.6325 - val_recall_6: 0.4193\n",
      "Epoch 85/100\n",
      "128/128 [==============================] - 0s 2ms/step - loss: 0.8930 - accuracy: 0.5933 - precision_6: 0.6560 - recall_6: 0.4551 - val_loss: 0.9244 - val_accuracy: 0.5727 - val_precision_6: 0.6207 - val_recall_6: 0.4444\n",
      "Epoch 86/100\n",
      "128/128 [==============================] - 0s 2ms/step - loss: 0.8905 - accuracy: 0.5916 - precision_6: 0.6502 - recall_6: 0.4551 - val_loss: 0.9232 - val_accuracy: 0.5699 - val_precision_6: 0.6346 - val_recall_6: 0.4221\n",
      "Epoch 87/100\n",
      "128/128 [==============================] - 0s 2ms/step - loss: 0.8909 - accuracy: 0.5896 - precision_6: 0.6548 - recall_6: 0.4583 - val_loss: 0.9243 - val_accuracy: 0.5636 - val_precision_6: 0.6264 - val_recall_6: 0.4227\n",
      "Epoch 88/100\n",
      "128/128 [==============================] - 0s 2ms/step - loss: 0.8899 - accuracy: 0.5943 - precision_6: 0.6588 - recall_6: 0.4515 - val_loss: 0.9245 - val_accuracy: 0.5722 - val_precision_6: 0.6237 - val_recall_6: 0.4689\n",
      "Epoch 89/100\n",
      "128/128 [==============================] - 0s 2ms/step - loss: 0.8903 - accuracy: 0.5918 - precision_6: 0.6512 - recall_6: 0.4603 - val_loss: 0.9237 - val_accuracy: 0.5722 - val_precision_6: 0.6220 - val_recall_6: 0.4609\n",
      "Epoch 90/100\n",
      "128/128 [==============================] - 0s 2ms/step - loss: 0.8910 - accuracy: 0.5950 - precision_6: 0.6506 - recall_6: 0.4532 - val_loss: 0.9256 - val_accuracy: 0.5722 - val_precision_6: 0.6199 - val_recall_6: 0.4541\n",
      "Epoch 91/100\n",
      "128/128 [==============================] - 0s 2ms/step - loss: 0.8896 - accuracy: 0.5882 - precision_6: 0.6531 - recall_6: 0.4617 - val_loss: 0.9280 - val_accuracy: 0.5619 - val_precision_6: 0.6307 - val_recall_6: 0.4005\n",
      "Epoch 92/100\n",
      "128/128 [==============================] - 0s 2ms/step - loss: 0.8907 - accuracy: 0.5926 - precision_6: 0.6532 - recall_6: 0.4541 - val_loss: 0.9297 - val_accuracy: 0.5710 - val_precision_6: 0.6336 - val_recall_6: 0.4370\n",
      "Epoch 93/100\n",
      "128/128 [==============================] - 0s 2ms/step - loss: 0.8909 - accuracy: 0.5911 - precision_6: 0.6530 - recall_6: 0.4556 - val_loss: 0.9233 - val_accuracy: 0.5744 - val_precision_6: 0.6270 - val_recall_6: 0.4478\n",
      "Epoch 94/100\n",
      "128/128 [==============================] - 0s 2ms/step - loss: 0.8911 - accuracy: 0.5940 - precision_6: 0.6508 - recall_6: 0.4527 - val_loss: 0.9263 - val_accuracy: 0.5590 - val_precision_6: 0.6297 - val_recall_6: 0.4113\n",
      "Epoch 95/100\n",
      "128/128 [==============================] - 0s 2ms/step - loss: 0.8901 - accuracy: 0.5916 - precision_6: 0.6492 - recall_6: 0.4507 - val_loss: 0.9220 - val_accuracy: 0.5727 - val_precision_6: 0.6306 - val_recall_6: 0.4421\n",
      "Epoch 96/100\n",
      "128/128 [==============================] - 0s 2ms/step - loss: 0.8882 - accuracy: 0.5982 - precision_6: 0.6533 - recall_6: 0.4576 - val_loss: 0.9237 - val_accuracy: 0.5659 - val_precision_6: 0.6362 - val_recall_6: 0.4210\n",
      "Epoch 97/100\n",
      "128/128 [==============================] - 0s 2ms/step - loss: 0.8893 - accuracy: 0.5940 - precision_6: 0.6556 - recall_6: 0.4534 - val_loss: 0.9242 - val_accuracy: 0.5750 - val_precision_6: 0.6285 - val_recall_6: 0.4546\n",
      "Epoch 98/100\n",
      "128/128 [==============================] - 0s 2ms/step - loss: 0.8881 - accuracy: 0.5926 - precision_6: 0.6518 - recall_6: 0.4541 - val_loss: 0.9234 - val_accuracy: 0.5699 - val_precision_6: 0.6252 - val_recall_6: 0.4244\n",
      "Epoch 99/100\n",
      "128/128 [==============================] - 0s 2ms/step - loss: 0.8885 - accuracy: 0.5975 - precision_6: 0.6548 - recall_6: 0.4603 - val_loss: 0.9239 - val_accuracy: 0.5647 - val_precision_6: 0.6216 - val_recall_6: 0.4489\n",
      "Epoch 100/100\n",
      "128/128 [==============================] - 0s 3ms/step - loss: 0.8883 - accuracy: 0.5967 - precision_6: 0.6531 - recall_6: 0.4600 - val_loss: 0.9229 - val_accuracy: 0.5722 - val_precision_6: 0.6263 - val_recall_6: 0.4370\n"
     ]
    }
   ],
   "source": [
    "FTMat_CNN.compile(optimizer='adam', loss=tf.keras.losses.CategoricalCrossentropy(), metrics=['accuracy', Precision(), Recall()])\n",
    "history = FTMat_CNN.fit(fasttext_matrix_train, y_train_one_hot, validation_data=(fasttext_matrix_test, y_test_one_hot), epochs=100)"
   ]
  },
  {
   "cell_type": "code",
   "execution_count": 75,
   "id": "11fa111b",
   "metadata": {},
   "outputs": [
    {
     "data": {
      "image/png": "[encoded data removed]",
      "text/plain": [
       "<Figure size 1200x500 with 2 Axes>"
      ]
     },
     "metadata": {},
     "output_type": "display_data"
    }
   ],
   "source": [
    "plot_training_history(history)"
   ]
  },
  {
   "cell_type": "code",
   "execution_count": 76,
   "id": "91bc71a1",
   "metadata": {},
   "outputs": [
    {
     "name": "stdout",
     "output_type": "stream",
     "text": [
      "55/55 [==============================] - 0s 2ms/step - loss: 0.9229 - accuracy: 0.5722 - precision_6: 0.6263 - recall_6: 0.4370\n",
      "Test Accuracy: 0.5721620321273804\n",
      "Test precision: 0.626328706741333\n",
      "Test recal: 0.4369651973247528\n"
     ]
    }
   ],
   "source": [
    "loss, accuracy , precision, recall = FTMat_CNN.evaluate(fasttext_matrix_test, y_test_one_hot)\n",
    "print(\"Test Accuracy:\", accuracy)\n",
    "print(\"Test precision:\", precision)\n",
    "print(\"Test recal:\", recall)"
   ]
  },
  {
   "cell_type": "markdown",
   "id": "b1ad93bd",
   "metadata": {},
   "source": [
    "## 4. Testing models"
   ]
  },
  {
   "cell_type": "markdown",
   "id": "12b2467a",
   "metadata": {},
   "source": [
    "> ##### 4.1 TF_MNB"
   ]
  },
  {
   "cell_type": "code",
   "execution_count": 77,
   "id": "c06ca83c",
   "metadata": {},
   "outputs": [
    {
     "name": "stdout",
     "output_type": "stream",
     "text": [
      "m1 0.001140700000007655\n",
      "              precision    recall  f1-score   support\n",
      "\n",
      "    negative       0.42      0.50      0.46       258\n",
      "     neutral       0.75      0.76      0.76       939\n",
      "    positive       0.69      0.62      0.65       556\n",
      "\n",
      "    accuracy                           0.68      1753\n",
      "   macro avg       0.62      0.63      0.62      1753\n",
      "weighted avg       0.68      0.68      0.68      1753\n",
      "\n"
     ]
    }
   ],
   "source": [
    "import timeit\n",
    "from sklearn.metrics import classification_report\n",
    "\n",
    "t = timeit.default_timer()\n",
    "Ypred = TF_MNB.predict(X_test_count)\n",
    "print('m1', timeit.default_timer()-t)\n",
    "\n",
    "print(classification_report(y_test, Ypred, zero_division=0))"
   ]
  },
  {
   "cell_type": "markdown",
   "id": "15622c67",
   "metadata": {},
   "source": [
    "> ##### 4.2 W2VCent_MLP"
   ]
  },
  {
   "cell_type": "code",
   "execution_count": 78,
   "id": "6b26099d",
   "metadata": {},
   "outputs": [
    {
     "name": "stdout",
     "output_type": "stream",
     "text": [
      "55/55 [==============================] - 0s 913us/step\n",
      "W2VCent_MLP 0.21028339999998025\n",
      "              precision    recall  f1-score   support\n",
      "\n",
      "    negative       0.00      0.00      0.00       258\n",
      "     neutral       0.58      0.92      0.71       939\n",
      "    positive       0.41      0.20      0.27       556\n",
      "\n",
      "    accuracy                           0.56      1753\n",
      "   macro avg       0.33      0.37      0.33      1753\n",
      "weighted avg       0.44      0.56      0.47      1753\n",
      "\n"
     ]
    }
   ],
   "source": [
    "t = timeit.default_timer()\n",
    "Ypred = W2VCent_MLP.predict(word2vec_centroids_test)\n",
    "print('W2VCent_MLP', timeit.default_timer()-t)\n",
    "\n",
    "print(classification_report(y_test, label_binarizer.inverse_transform(Ypred), zero_division=0))"
   ]
  },
  {
   "cell_type": "markdown",
   "id": "883079a8",
   "metadata": {},
   "source": [
    "> ##### 4.3 W2VConcat_MLP"
   ]
  },
  {
   "cell_type": "code",
   "execution_count": 79,
   "id": "bf5f2893",
   "metadata": {},
   "outputs": [
    {
     "name": "stdout",
     "output_type": "stream",
     "text": [
      "55/55 [==============================] - 0s 913us/step\n",
      "W2VCent_MLP 0.19222650000000385\n",
      "              precision    recall  f1-score   support\n",
      "\n",
      "    negative       0.17      0.01      0.02       258\n",
      "     neutral       0.61      0.80      0.69       939\n",
      "    positive       0.41      0.37      0.38       556\n",
      "\n",
      "    accuracy                           0.55      1753\n",
      "   macro avg       0.39      0.39      0.37      1753\n",
      "weighted avg       0.48      0.55      0.50      1753\n",
      "\n"
     ]
    }
   ],
   "source": [
    "t = timeit.default_timer()\n",
    "Ypred = W2VConcat_MLP.predict(word2vec_concats_test)\n",
    "print('W2VCent_MLP', timeit.default_timer()-t)\n",
    "\n",
    "print(classification_report(y_test, label_binarizer.inverse_transform(Ypred), zero_division=0))"
   ]
  },
  {
   "cell_type": "markdown",
   "id": "e6e26fd1",
   "metadata": {},
   "source": [
    "> ##### 4.4 FTCent_MLP"
   ]
  },
  {
   "cell_type": "code",
   "execution_count": 80,
   "id": "3695d49a",
   "metadata": {},
   "outputs": [
    {
     "name": "stdout",
     "output_type": "stream",
     "text": [
      "55/55 [==============================] - 0s 997us/step\n",
      "FTCent_MLP 0.16314219999998159\n",
      "              precision    recall  f1-score   support\n",
      "\n",
      "    negative       1.00      0.00      0.01       258\n",
      "     neutral       0.55      0.97      0.70       939\n",
      "    positive       0.26      0.04      0.07       556\n",
      "\n",
      "    accuracy                           0.53      1753\n",
      "   macro avg       0.60      0.34      0.26      1753\n",
      "weighted avg       0.52      0.53      0.40      1753\n",
      "\n"
     ]
    }
   ],
   "source": [
    "t = timeit.default_timer()\n",
    "Ypred = FTCent_MLP.predict(fasttext_centroids_test)\n",
    "print('FTCent_MLP', timeit.default_timer()-t)\n",
    "\n",
    "print(classification_report(y_test, label_binarizer.inverse_transform(Ypred), zero_division=0))"
   ]
  },
  {
   "cell_type": "markdown",
   "id": "d1d1fa46",
   "metadata": {},
   "source": [
    "> ##### 4.5 FTCancat_MLP"
   ]
  },
  {
   "cell_type": "code",
   "execution_count": 81,
   "id": "cc1fd35b",
   "metadata": {},
   "outputs": [
    {
     "name": "stdout",
     "output_type": "stream",
     "text": [
      "55/55 [==============================] - 0s 1ms/step\n",
      "FTConcat_MLP 0.16715579999998909\n",
      "              precision    recall  f1-score   support\n",
      "\n",
      "    negative       0.50      0.00      0.01       258\n",
      "     neutral       0.60      0.89      0.71       939\n",
      "    positive       0.45      0.28      0.35       556\n",
      "\n",
      "    accuracy                           0.57      1753\n",
      "   macro avg       0.51      0.39      0.36      1753\n",
      "weighted avg       0.53      0.57      0.49      1753\n",
      "\n"
     ]
    }
   ],
   "source": [
    "t = timeit.default_timer()\n",
    "Ypred = FTCancat_MLP.predict(fasttext_concats_test)\n",
    "print('FTConcat_MLP', timeit.default_timer()-t)\n",
    "\n",
    "print(classification_report(y_test, label_binarizer.inverse_transform(Ypred), zero_division=0))"
   ]
  },
  {
   "cell_type": "markdown",
   "id": "275962e1",
   "metadata": {},
   "source": [
    "> ##### 4.6 W2VMat_CNN"
   ]
  },
  {
   "cell_type": "code",
   "execution_count": 82,
   "id": "ac67f6a5",
   "metadata": {},
   "outputs": [
    {
     "name": "stdout",
     "output_type": "stream",
     "text": [
      "55/55 [==============================] - 0s 988us/step\n",
      "W2VMat_CNN 0.1980115000000069\n",
      "              precision    recall  f1-score   support\n",
      "\n",
      "    negative       0.30      0.05      0.09       258\n",
      "     neutral       0.59      0.91      0.71       939\n",
      "    positive       0.48      0.22      0.30       556\n",
      "\n",
      "    accuracy                           0.56      1753\n",
      "   macro avg       0.45      0.39      0.37      1753\n",
      "weighted avg       0.51      0.56      0.49      1753\n",
      "\n"
     ]
    }
   ],
   "source": [
    "t = timeit.default_timer()\n",
    "Ypred = W2VMat_CNN.predict(word2vec_matrix_test)\n",
    "print('W2VMat_CNN', timeit.default_timer()-t)\n",
    "\n",
    "print(classification_report(y_test, label_binarizer.inverse_transform(Ypred), zero_division=0))"
   ]
  },
  {
   "cell_type": "markdown",
   "id": "44ade0cf",
   "metadata": {},
   "source": [
    "> ##### 4.7 FTMat_CNN"
   ]
  },
  {
   "cell_type": "code",
   "execution_count": 83,
   "id": "a33ab18b",
   "metadata": {},
   "outputs": [
    {
     "name": "stdout",
     "output_type": "stream",
     "text": [
      "55/55 [==============================] - 0s 1ms/step\n",
      "FTMat_CNN 0.19812230000002273\n",
      "              precision    recall  f1-score   support\n",
      "\n",
      "    negative       0.26      0.02      0.04       258\n",
      "     neutral       0.61      0.86      0.71       939\n",
      "    positive       0.46      0.35      0.40       556\n",
      "\n",
      "    accuracy                           0.57      1753\n",
      "   macro avg       0.45      0.41      0.38      1753\n",
      "weighted avg       0.51      0.57      0.51      1753\n",
      "\n"
     ]
    }
   ],
   "source": [
    "t = timeit.default_timer()\n",
    "Ypred = FTMat_CNN.predict(fasttext_matrix_test)\n",
    "print('FTMat_CNN', timeit.default_timer()-t)\n",
    "\n",
    "print(classification_report(y_test, label_binarizer.inverse_transform(Ypred), zero_division=0))"
   ]
  },
  {
   "cell_type": "code",
   "execution_count": null,
   "id": "3d9e91be",
   "metadata": {},
   "outputs": [],
   "source": []
  }
 ],
 "metadata": {
  "kernelspec": {
   "display_name": "Python 3 (ipykernel)",
   "language": "python",
   "name": "python3"
  },
  "language_info": {
   "codemirror_mode": {
    "name": "ipython",
    "version": 3
   },
   "file_extension": ".py",
   "mimetype": "text/x-python",
   "name": "python",
   "nbconvert_exporter": "python",
   "pygments_lexer": "ipython3",
   "version": "3.9.13"
  }
 },
 "nbformat": 4,
 "nbformat_minor": 5
}
