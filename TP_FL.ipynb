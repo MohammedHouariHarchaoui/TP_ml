{
  "cells": [
    {
      "cell_type": "markdown",
      "id": "4735aa11",
      "metadata": {
        "id": "4735aa11"
      },
      "source": [
        "# Introduction"
      ]
    },
    {
      "cell_type": "markdown",
      "id": "339e1dea",
      "metadata": {
        "id": "339e1dea"
      },
      "source": [
        "L'apprentissage fédéré (FL), proposé par Google au tout début, est récemment un domaine de recherche en plein essor de l'apprentissage automatique, qui vise à protéger la confidentialité des données individuelles dans les processus d'apprentissage automatique distribués, en particulier dans la ﬁnance, les soins de santé intelligents et l'edge computing. Différents de l'apprentissage automatique distribué traditionnel centré sur les données, les participants dans le cadre du FL utilisent des données localisées pour former des modèles locaux, puis exploitent des stratégies spéciﬁcales avec d'autres participants pour acquérir le modèle ﬁnal de manière collaborative, en évitant un comportement de partage direct des données.\n",
        "\n",
        "<img src='images\\FL.png'>\n",
        "\n",
        "Durant ce TP, nous allons implementer une tâche de classification sur l'ensemble des données MNIST en utilisant les algorithmes FedAVG et FedProx de l'apprentissage fédéré"
      ]
    },
    {
      "cell_type": "markdown",
      "id": "2020ecb1",
      "metadata": {
        "id": "2020ecb1"
      },
      "source": [
        "# 1. Importation des packages"
      ]
    },
    {
      "cell_type": "markdown",
      "id": "cb9b4afb",
      "metadata": {
        "id": "cb9b4afb"
      },
      "source": [
        "Nous allons travailler avec les package suivant:\n",
        "- PyTorch : PyTorch est une bibliothèque logicielle Python open source d'apprentissage automatique qui s'appuie sur Torch, développée par Meta. PyTorch permet d'effectuer les calculs tensoriels nécessaires notamment pour l'apprentissage profond (deep learning). Ces calculs sont optimisés et effectués soit par le processeur (CPU) soit, lorsque c'est possible, par un processeur graphique (GPU) supportant CUDA.\n",
        "- NumPy : NumPy est une bibliothèque pour langage de programmation Python, destinée à manipuler des matrices ou tableaux multidimensionnels ainsi que des fonctions mathématiques opérant sur ces tableaux.\n",
        "- Matplotlib :  Matplotlib est une bibliothèque du langage de programmation Python destinée à tracer et visualiser des données sous forme de graphiques"
      ]
    },
    {
      "cell_type": "code",
      "execution_count": 23,
      "id": "be0c9c2a",
      "metadata": {
        "id": "be0c9c2a"
      },
      "outputs": [],
      "source": [
        "import torch\n",
        "import random\n",
        "from torchvision import datasets, transforms\n",
        "import numpy as np\n",
        "from copy import deepcopy\n",
        "import copy\n",
        "import torch.nn as nn\n",
        "import matplotlib.pyplot as plt\n",
        "from torch.utils.data import DataLoader, random_split, TensorDataset, Dataset\n",
        "import timeit\n",
        "import pandas as pd"
      ]
    },
    {
      "cell_type": "markdown",
      "id": "418ed373",
      "metadata": {
        "id": "418ed373"
      },
      "source": [
        "# 2. Lecture des données"
      ]
    },
    {
      "cell_type": "markdown",
      "id": "18395e2f",
      "metadata": {
        "id": "18395e2f"
      },
      "source": [
        "L'ensemble de données utilisé est MNIST Handwritten Digit Classification Dataset. Il s'agit d'un jeu de données de 60 000 petites images carrées en niveaux de gris de 28×28 pixels représentant des chiffres uniques manuscrits compris entre 0 et 9.\n",
        "\n",
        "La tâche qui sera implementé consiste à classer une image donnée d'un chiffre manuscrit dans l'une des 10 classes représentant les valeurs entières de 0 à 9, inclusivement.\n",
        "\n",
        "Torchvision fournit de nombreux jeux de données intégrés dans le module torchvision.datasets, ainsi que des classes utilitaires pour construire vos propres jeux de données. On va utiliser **torchvision.datasets** pour obtenir le jeu de données de MNIST (qui sera enregistré dans le répartoire *data/mnist/*) comme suit :"
      ]
    },
    {
      "cell_type": "code",
      "execution_count": 24,
      "id": "ebb6b4de",
      "metadata": {
        "id": "ebb6b4de"
      },
      "outputs": [],
      "source": [
        "# Normaliser les images de MNIST\n",
        "trans_mnist = transforms.Compose([transforms.ToTensor(), transforms.Normalize((0.5,), (0.5,))])\n",
        "\n",
        "# Ensemble d'entrainement\n",
        "dataset = datasets.MNIST('../data/mnist/', train=True, download=True, transform=trans_mnist)\n",
        "\n",
        "# Ensemble de de test\n",
        "dataset_test = datasets.MNIST('../data/mnist/', train=False, download=True, transform=trans_mnist)"
      ]
    },
    {
      "cell_type": "code",
      "execution_count": 25,
      "id": "2e307bb7",
      "metadata": {
        "id": "2e307bb7",
        "outputId": "f5108d07-44dd-4d6c-839d-37622af52977",
        "colab": {
          "base_uri": "https://localhost:8080/",
          "height": 0
        }
      },
      "outputs": [
        {
          "output_type": "stream",
          "name": "stdout",
          "text": [
            "Le nombre de données d'entrainement :  60000\n"
          ]
        }
      ],
      "source": [
        "print(\"Le nombre de données d'entrainement : \", len(dataset))"
      ]
    },
    {
      "cell_type": "code",
      "execution_count": 26,
      "id": "cf4ef611",
      "metadata": {
        "id": "cf4ef611",
        "outputId": "5ab69547-7aba-4283-e5d0-2859c786860b",
        "colab": {
          "base_uri": "https://localhost:8080/",
          "height": 0
        }
      },
      "outputs": [
        {
          "output_type": "stream",
          "name": "stdout",
          "text": [
            "La taille d'une image est de :  [1, 28, 28]\n"
          ]
        }
      ],
      "source": [
        "print(\"La taille d'une image est de : \", list(dataset[0][0].shape))"
      ]
    },
    {
      "cell_type": "markdown",
      "id": "f66656b8",
      "metadata": {
        "id": "f66656b8"
      },
      "source": [
        "**Question** : Dans quel niveau de couleur les images sont-elles représentées ?  ***(1 pt)***  \n",
        "**Réponse** : Gris"
      ]
    },
    {
      "cell_type": "markdown",
      "id": "187f239b",
      "metadata": {
        "id": "187f239b"
      },
      "source": [
        "Visualisons maintenant une image de l'ensemble d'entrainement"
      ]
    },
    {
      "cell_type": "code",
      "execution_count": 69,
      "id": "a21f34b0",
      "metadata": {
        "id": "a21f34b0"
      },
      "outputs": [],
      "source": [
        "def afficher_images(data, n_row, n_col):\n",
        "    \"\"\"\n",
        "        Cette fonction permet d'afficher n_row*n_col de l'ensemble data\n",
        "    \"\"\"\n",
        "\n",
        "    plt.figure(figsize=(6, 6))\n",
        "    all_idxs = np.arange(len(dataset))\n",
        "\n",
        "    for j in range(1, n_row*n_col + 1):\n",
        "        plt.subplot(n_row, n_col, j)\n",
        "        indx_img = int(np.random.choice(all_idxs, 1, replace=False))\n",
        "        image = data[indx_img][0].reshape([28, 28])\n",
        "\n",
        "        plt.imshow(image, cmap = \"gray\")\n",
        "        plt.axis('off')\n",
        "\n",
        "        all_idxs = list(set(all_idxs) - {indx_img})\n"
      ]
    },
    {
      "cell_type": "code",
      "execution_count": 70,
      "id": "25a0e130",
      "metadata": {
        "id": "25a0e130",
        "outputId": "25293e98-ee70-484f-b3c3-b60165c437f7",
        "colab": {
          "base_uri": "https://localhost:8080/",
          "height": 499
        }
      },
      "outputs": [
        {
          "output_type": "display_data",
          "data": {
            "text/plain": [
              "<Figure size 600x600 with 16 Axes>"
            ],
            "image/png": "[encoded data removed]"
          },
          "metadata": {}
        }
      ],
      "source": [
        "afficher_images(dataset,4, 4)"
      ]
    },
    {
      "cell_type": "markdown",
      "id": "6b0513c7",
      "metadata": {
        "id": "6b0513c7"
      },
      "source": [
        "# 3. Répartition des données"
      ]
    },
    {
      "cell_type": "markdown",
      "id": "81da840e",
      "metadata": {
        "id": "81da840e"
      },
      "source": [
        "Dans la littérature il existe deux façons pour partitionner les données sur un ensemble de participants, on retrouve :\n",
        "\n",
        "- IID : Données indépendants et identiquement distribués.\n",
        "- Non IID : Données non indépendants et identiquement distribués.\n",
        "\n",
        "L'apprentissage fédéré généralement travaille avec des données non iid . C'est pour cette raison que la majorité des algorithmes d'apprentissage fédéré vérifie leur efficacité avec des ensemble de données non IID"
      ]
    },
    {
      "cell_type": "markdown",
      "id": "e63ed5e5",
      "metadata": {
        "id": "e63ed5e5"
      },
      "source": [
        "subset_dataset est une classe qui nous permet d'extraire une partie d'un dataset et le manipuler facilement (noter qu'elle hérite de **torch.utils.data.Dataset**)"
      ]
    },
    {
      "cell_type": "code",
      "execution_count": 29,
      "id": "77564208",
      "metadata": {
        "id": "77564208"
      },
      "outputs": [],
      "source": [
        "class subset_dataset(Dataset):\n",
        "    \"\"\"\n",
        "    Sous-ensemble d'un ensemble de données aux indices spécifiés.\n",
        "\n",
        "    Arguments :\n",
        "        dataset (Ensemble de données) : Le jeu de données complet\n",
        "        indices (séquence) : Indices dans l'ensemble entier sélectionnés pour le sous-ensemble\n",
        "        labels(sequence) : cibles comme requis pour les indices. seront de la même longueur que les indices\n",
        "    \"\"\"\n",
        "    def __init__(self, dataset, indices, labels):\n",
        "        self.dataset = torch.utils.data.Subset(dataset, indices)\n",
        "        self.targets = labels\n",
        "    def __getitem__(self, idx):\n",
        "        image = self.dataset[idx][0]\n",
        "        target = self.targets[idx]\n",
        "        return (image, target)\n",
        "\n",
        "    def __len__(self):\n",
        "        return len(self.targets)"
      ]
    },
    {
      "cell_type": "markdown",
      "id": "08f57683",
      "metadata": {
        "id": "08f57683"
      },
      "source": [
        "Commencons par implementer la fonction **division_iid**. Elle prend comme parametre :\n",
        "- dataset : l'ensemble de données\n",
        "- num_clients : le nombre de clients dont l'ensemble de données sera divisé\n",
        "- initial : on aura besoin de ce champ pour affecter un nom à chaque client, par example si initial = \"client\", les clients auront les noms : client_1, client_2 ... etc\n",
        "\n",
        "Chaque client recevera d'une manière aléatoire **len(dataset)/num_clients)** example d'entrainement\n",
        "\n",
        "\n",
        "**Completer le code suivant dans les cases appropriées** ***(1 pt)***"
      ]
    },
    {
      "cell_type": "code",
      "execution_count": 30,
      "id": "6d1a0445",
      "metadata": {
        "id": "6d1a0445"
      },
      "outputs": [],
      "source": [
        "def division_iid(dataset, num_clients, initial = \"client\"):\n",
        "    \"\"\"\n",
        "    Extraire de données de clients I.I.D. à partir d'un ensemble de données\n",
        "    return : dict des donnés des clients\n",
        "    \"\"\"\n",
        "\n",
        "    ### YOUR CODE HERE ###\n",
        "    # Hint : num_items : va contenir le nombre de données dévisé de manière équitable pour chaque client\n",
        "    num_items = len(dataset) // num_clients\n",
        "    ### END OF YOUR CODE ###\n",
        "\n",
        "    dict_users, all_idxs = {}, np.arange(len(dataset))\n",
        "\n",
        "    client_names = ['{}_{}'.format(initial, i+1) for i in range(num_clients)]\n",
        "\n",
        "    for i in range(num_clients):\n",
        "\n",
        "        ### YOUR CODE HERE ###\n",
        "        # Hint : choisir de manire alétoire num_items de all_indx\n",
        "        idx_clienti = np.random.choice(all_idxs, num_items, replace=False)\n",
        "        ### END OF YOUR CODE ###\n",
        "\n",
        "        labels_clienti = [dataset[i][1] for i in idx_clienti]\n",
        "\n",
        "        dict_users[client_names[i]] = subset_dataset(dataset, idx_clienti,labels_clienti)\n",
        "        all_idxs = list(set(all_idxs) - set(idx_clienti))\n",
        "\n",
        "    return dict_users\n"
      ]
    },
    {
      "cell_type": "markdown",
      "id": "be3f777e",
      "metadata": {
        "id": "be3f777e"
      },
      "source": [
        "Pour tester notre fonction, divisons l'ensemble de données **dataset** sur 10 clients de manière IID"
      ]
    },
    {
      "cell_type": "code",
      "execution_count": 31,
      "id": "5f18991a",
      "metadata": {
        "id": "5f18991a",
        "outputId": "df893dd4-785d-4bfb-9c88-9174239ecc10",
        "colab": {
          "base_uri": "https://localhost:8080/",
          "height": 0
        }
      },
      "outputs": [
        {
          "output_type": "execute_result",
          "data": {
            "text/plain": [
              "{'client_1': <__main__.subset_dataset at 0x7d759f827760>,\n",
              " 'client_2': <__main__.subset_dataset at 0x7d759c5dafe0>,\n",
              " 'client_3': <__main__.subset_dataset at 0x7d759c5dbfd0>,\n",
              " 'client_4': <__main__.subset_dataset at 0x7d759c5dbcd0>,\n",
              " 'client_5': <__main__.subset_dataset at 0x7d759c5daf80>,\n",
              " 'client_6': <__main__.subset_dataset at 0x7d759c5db0d0>,\n",
              " 'client_7': <__main__.subset_dataset at 0x7d759c5dab60>,\n",
              " 'client_8': <__main__.subset_dataset at 0x7d759c5db160>,\n",
              " 'client_9': <__main__.subset_dataset at 0x7d759c5db9a0>,\n",
              " 'client_10': <__main__.subset_dataset at 0x7d759c5db100>}"
            ]
          },
          "metadata": {},
          "execution_count": 31
        }
      ],
      "source": [
        "dict_usersiid = division_iid(dataset, 10, initial = \"client\")\n",
        "dict_usersiid"
      ]
    },
    {
      "cell_type": "markdown",
      "id": "ad2377fb",
      "metadata": {
        "id": "ad2377fb"
      },
      "source": [
        "Afin d'afficher le nombre de données distribuées sur chaque classe pour un client donné (cela nous va permettre de mieux visualiser la notion de données IID), nous utilisons la fonction suivante :"
      ]
    },
    {
      "cell_type": "code",
      "execution_count": 32,
      "id": "1785aa38",
      "metadata": {
        "id": "1785aa38"
      },
      "outputs": [],
      "source": [
        "def afficher_class(dict_users, client_name, num_class):\n",
        "    # une liste qui contient les index des données locale du client client_name\n",
        "    idxs = np.arange(len(dict_users[client_name]))\n",
        "\n",
        "    # une liste qui contient les labels de chaque image de l'ensemble locale du client_name\n",
        "    labels = dict_users[client_name].targets\n",
        "\n",
        "    # Ordonner les données par rapport à label afin d'utiliser la fonction extract de numpy\n",
        "    idxs_labels = np.vstack((idxs, labels))\n",
        "    idxs_labels = idxs_labels[:,idxs_labels[1,:].argsort()]\n",
        "\n",
        "    idxs = idxs_labels[0]\n",
        "    labels = idxs_labels[1]\n",
        "\n",
        "    unique_labels = np.arange(num_class)\n",
        "    nombre_donneesClasse = []\n",
        "\n",
        "    for i in unique_labels:\n",
        "        nombre_donneesClasse.append(len(np.extract(labels == i, idxs)))\n",
        "\n",
        "    plt.bar(unique_labels, nombre_donneesClasse, color = '#0000FF' )\n",
        "    plt.ylabel(\"Nombre de données\")\n",
        "    plt.xlabel(\"Numéro de la classe\")\n",
        "    plt.title(\"Histogramme\")"
      ]
    },
    {
      "cell_type": "code",
      "execution_count": 33,
      "id": "8df43cc9",
      "metadata": {
        "id": "8df43cc9",
        "outputId": "b72db942-b7a6-4eb6-b6b5-97ad31db4247",
        "colab": {
          "base_uri": "https://localhost:8080/",
          "height": 472
        }
      },
      "outputs": [
        {
          "output_type": "display_data",
          "data": {
            "text/plain": [
              "<Figure size 640x480 with 1 Axes>"
            ],
            "image/png": "[encoded data removed]"
          },
          "metadata": {}
        }
      ],
      "source": [
        "afficher_class(dict_usersiid, \"client_1\", 10)"
      ]
    },
    {
      "cell_type": "markdown",
      "id": "ea16ec16",
      "metadata": {
        "id": "ea16ec16"
      },
      "source": [
        "**Question** : Que remarquez vous ?  ***(1 pt)***\n",
        "**Réponse** : Le nombre des items pour chaque classe est légèrement différente, donc il s'agit des données équitablement distribué."
      ]
    },
    {
      "cell_type": "markdown",
      "id": "e2ea0b56",
      "metadata": {
        "id": "e2ea0b56"
      },
      "source": [
        "Passons maintenant à la fonction division_noniid. Elle prend comme parametre :\n",
        "\n",
        "- dataset : l'ensemble de données\n",
        "- num_class_partage : Le nombre de classes que chaque client peut exactement contenir, par exemple si num class partage = 2, le client i doit contenir les images de deux classes.\n",
        "- num_intra_clients : le nombre de client pour chaque num_class_partage\n",
        "\n",
        "\n",
        "**Completer le code suivant dans les cases appropriées** ***(3 pt)***"
      ]
    },
    {
      "cell_type": "code",
      "execution_count": 34,
      "id": "4a70c7ee",
      "metadata": {
        "id": "4a70c7ee"
      },
      "outputs": [],
      "source": [
        "def division_noniid(dataset, num_classe_partage, num_intra_clients):\n",
        "    \"\"\"\n",
        "    Extraire de données de clients I.I.D. à partir d'un ensemble de données\n",
        "    return : dict des donnés des clients\n",
        "    \"\"\"\n",
        "\n",
        "    all_idxs = np.arange(len(dataset))\n",
        "    dict_users, all_idxs = dict(), np.arange(len(dataset))\n",
        "    labels = np.array(dataset.targets)\n",
        "\n",
        "    idxs_labels = np.vstack((all_idxs, labels))\n",
        "    idxs_labels = idxs_labels[:,idxs_labels[1,:].argsort()]\n",
        "\n",
        "    unique_labels = np.unique(np.array(labels))\n",
        "    # on mélange les labels pour que le résultat finale ne soit pas biasé\n",
        "    random.shuffle(unique_labels)\n",
        "\n",
        "    all_idxs = idxs_labels[0]\n",
        "    labels = idxs_labels[1]\n",
        "\n",
        "    sub_lab_list = [unique_labels[i:i + num_classe_partage] for i in range(0, len(unique_labels), num_classe_partage)]\n",
        "\n",
        "    for item in sub_lab_list:\n",
        "\n",
        "        idx_clienti = np.extract([labels[i] in item for i in range(len(labels))], all_idxs)\n",
        "        labels_clienti = [dataset[i][1] for i in idx_clienti]\n",
        "\n",
        "\n",
        "        # Creation du nom de chaque client\n",
        "        initial = 'client'\n",
        "        for lab in item:\n",
        "            initial = initial + str(lab) + '_'\n",
        "\n",
        "        # Pour les clients intraclass la division sera iid donc on utilisera la fonction qu'on a déja implementé et on utilise aussi la classe subset_dataset\n",
        "\n",
        "        ### YOUR CODE HERE ###\n",
        "        # Hint : remplir l'argument de la fonction division_iid\n",
        "        intraclass_clients = division_iid(dataset=subset_dataset(dataset, idx_clienti, labels_clienti),\n",
        "                                 num_clients=num_intra_clients,\n",
        "                                 initial=initial)\n",
        "        ### END OF YOUR CODE ###\n",
        "\n",
        "        dict_users.update(intraclass_clients)\n",
        "\n",
        "    return dict_users"
      ]
    },
    {
      "cell_type": "markdown",
      "id": "1e5f3da8",
      "metadata": {
        "id": "1e5f3da8"
      },
      "source": [
        "Pour tester notre fonction, divisons l'ensemble de données dataset sur 10 clients de manière non-IID tel que :\n",
        "- Pour chaque deux classe (deux labels des images par example : 4 et 8) construire 2 clients de manière IID\n",
        "\n",
        "On aura ainsi (10/2) * 2 = 10 clients"
      ]
    },
    {
      "cell_type": "code",
      "execution_count": 35,
      "id": "e53ab0c3",
      "metadata": {
        "id": "e53ab0c3",
        "outputId": "55f84dc4-98f3-4f37-82dd-521b1136911c",
        "colab": {
          "base_uri": "https://localhost:8080/",
          "height": 0
        }
      },
      "outputs": [
        {
          "output_type": "execute_result",
          "data": {
            "text/plain": [
              "{'client3_9__1': <__main__.subset_dataset at 0x7d759c940310>,\n",
              " 'client3_9__2': <__main__.subset_dataset at 0x7d759c940460>,\n",
              " 'client6_4__1': <__main__.subset_dataset at 0x7d759c940040>,\n",
              " 'client6_4__2': <__main__.subset_dataset at 0x7d759c941750>,\n",
              " 'client1_0__1': <__main__.subset_dataset at 0x7d759c9417b0>,\n",
              " 'client1_0__2': <__main__.subset_dataset at 0x7d759c941810>,\n",
              " 'client5_7__1': <__main__.subset_dataset at 0x7d759c941c60>,\n",
              " 'client5_7__2': <__main__.subset_dataset at 0x7d759c941c30>,\n",
              " 'client2_8__1': <__main__.subset_dataset at 0x7d759c941c90>,\n",
              " 'client2_8__2': <__main__.subset_dataset at 0x7d759c941ea0>}"
            ]
          },
          "metadata": {},
          "execution_count": 35
        }
      ],
      "source": [
        "dict_users_non_iid = division_noniid(dataset, 2, 2)\n",
        "dict_users_non_iid"
      ]
    },
    {
      "cell_type": "markdown",
      "id": "0ad9590e",
      "metadata": {
        "id": "0ad9590e"
      },
      "source": [
        "client8_6__1 : le client numéro 1 contenant des images de labels 8 et 6"
      ]
    },
    {
      "cell_type": "markdown",
      "id": "eb7573f1",
      "metadata": {
        "id": "eb7573f1"
      },
      "source": [
        "Afin d'afficher le nombre de données distribuées sur chaque classe pour un client donné, nous alons utilisé la fonction déja implementée :"
      ]
    },
    {
      "cell_type": "code",
      "execution_count": 36,
      "id": "c936708d",
      "metadata": {
        "id": "c936708d",
        "outputId": "66a934f1-09ee-4b40-d871-88826cfca6ed",
        "colab": {
          "base_uri": "https://localhost:8080/",
          "height": 472
        }
      },
      "outputs": [
        {
          "output_type": "display_data",
          "data": {
            "text/plain": [
              "<Figure size 640x480 with 1 Axes>"
            ],
            "image/png": "[encoded data removed]"
          },
          "metadata": {}
        }
      ],
      "source": [
        "afficher_class(dict_users_non_iid, \"client1_0__1\", 10)"
      ]
    },
    {
      "cell_type": "markdown",
      "id": "3d852f99",
      "metadata": {
        "id": "3d852f99"
      },
      "source": [
        "**Question** : Que remarquez vous ?  ***(1 pt)***  \n",
        "**Réponse** :\n",
        "Les données ne sont pas réparties de manière équitable entre toutes les classes, mais plutôt entre seulement deux classes en raison du paramètre num_class_partage, qui est fixé à 2."
      ]
    },
    {
      "cell_type": "markdown",
      "id": "8dcafa8d",
      "metadata": {
        "id": "8dcafa8d"
      },
      "source": [
        "# 4. Création du modèle"
      ]
    },
    {
      "cell_type": "markdown",
      "id": "24b434d2",
      "metadata": {
        "id": "24b434d2"
      },
      "source": [
        "Dans cette section nous allons implémenter le modèle d'apprentissage automatique utilisé.\n",
        "On va utiliser un Cnn (convolutional neural network) avec deux couches convolutif 5*s5 avec 6 et 16 canaux respectivement. Suivi chacune par un MaxPooling 2*2 et deux couches entièrement connectées une avec 120 et 84 noeuds respectivement. Et enfin une couche de sortie avec 10 noeuds."
      ]
    },
    {
      "cell_type": "code",
      "execution_count": 37,
      "id": "0c6448da",
      "metadata": {
        "id": "0c6448da"
      },
      "outputs": [],
      "source": [
        "class CNN(nn.Module):\n",
        "    def __init__(self, num_channels, out_channels1, out_channels2, num_classes):\n",
        "\n",
        "        super(CNN, self).__init__()\n",
        "\n",
        "        self.conv1 = nn.Conv2d(in_channels = 1, out_channels = out_channels1, kernel_size=5, stride = 1)\n",
        "        self.maxpool1 = nn.MaxPool2d(kernel_size = 2)\n",
        "\n",
        "        self.conv2 = nn.Conv2d(in_channels = out_channels1, out_channels = out_channels2, kernel_size=5, stride = 1)\n",
        "        self.maxpool2 = nn.MaxPool2d(kernel_size = 2)\n",
        "\n",
        "\n",
        "        self.fc1 = nn.Linear(16 * 4 * 4, 120)\n",
        "        self.fc2 = nn.Linear(120, 84)\n",
        "        self.fc3 = nn.Linear(84, num_classes)\n",
        "\n",
        "    def forward(self,x):\n",
        "        #first Convolutional layers\n",
        "        x=self.conv1(x)\n",
        "        #activation function\n",
        "        x=torch.relu(x)\n",
        "        #max pooling\n",
        "        x=self.maxpool1(x)\n",
        "        #first Convolutional layers\n",
        "        x=self.conv2(x)\n",
        "        #activation function\n",
        "        x=torch.relu(x)\n",
        "        #max pooling\n",
        "        x=self.maxpool2(x)\n",
        "        #flatten output\n",
        "        x= torch.flatten(x,1)\n",
        "        #fully connected layer 1\n",
        "        x=self.fc1(x)\n",
        "        #activation function\n",
        "        x = torch.relu(x)\n",
        "        #fully connected layer 2\n",
        "        x= self.fc2(x)\n",
        "        #activation function\n",
        "        x = torch.relu(x)\n",
        "        #fully connected layer 3\n",
        "        x= self.fc3(x)\n",
        "\n",
        "        return x"
      ]
    },
    {
      "cell_type": "code",
      "execution_count": 38,
      "id": "8f52e734",
      "metadata": {
        "id": "8f52e734",
        "outputId": "8ab23b0b-8ac0-4fce-c181-41f610eb2528",
        "colab": {
          "base_uri": "https://localhost:8080/",
          "height": 0
        }
      },
      "outputs": [
        {
          "output_type": "stream",
          "name": "stdout",
          "text": [
            " Les parametres du modèle sont les suivants :  ['conv1.weight', 'conv1.bias', 'conv2.weight', 'conv2.bias', 'fc1.weight', 'fc1.bias', 'fc2.weight', 'fc2.bias', 'fc3.weight', 'fc3.bias']\n"
          ]
        }
      ],
      "source": [
        "model = CNN(num_channels =1,  out_channels1=6, out_channels2 = 16, num_classes = 10)\n",
        "print(\" Les parametres du modèle sont les suivants : \", list(model.state_dict().keys()))"
      ]
    },
    {
      "cell_type": "markdown",
      "id": "64616969",
      "metadata": {
        "id": "64616969"
      },
      "source": [
        "# 5. Les algorithmes de FL"
      ]
    },
    {
      "cell_type": "markdown",
      "id": "2cb05222",
      "metadata": {
        "id": "2cb05222"
      },
      "source": [
        "Dans ce TP, nous allons implementé deux algorithme les plus utilisée dans l'apprentissage fédéré : FedAVG et FedProx.\n",
        "\n",
        "Malgré le succès de FedAVG, l'algorithme s'est avéré défaillant dans des environnements avec des données non-IID (plus généralement dans des environnements hétérogènes : hétérogénéité statique ou de système). FedProx a donc été proposé pour contourner ses problèmes en rajoutant un terme proximale à la fonction objectif locale de chaque client comme suit :\n",
        "![FedPROX](./images/FedProx.PNG)\n",
        "\n",
        "L'algorithme de FedAvg est illustré comme suit :\n",
        "![FedAVG](./images/FedAVG.PNG)\n",
        "\n",
        "Pour FedProx on doit juste rajouter le terme proximale. Alors, Fedprox (mu = 0) est équivalent à FedAvg"
      ]
    },
    {
      "cell_type": "markdown",
      "id": "076ef258",
      "metadata": {
        "id": "076ef258"
      },
      "source": [
        "# 6. Implémentation de la Classe Client"
      ]
    },
    {
      "cell_type": "markdown",
      "id": "fff784c2",
      "metadata": {
        "id": "fff784c2"
      },
      "source": [
        "La classe Client comprend 5 parametres :\n",
        "- client_name : nom du client\n",
        "- local_data = L'ensemble de données locale sous forme de DataLoader (PyTorch fournit un outil intuitif et incroyablement polyvalent, la classe DataLoader, pour charger des données de manière significative)\n",
        "- local_model : Le modèle locale\n",
        "- loss_func : La fonction de perte\n",
        "- B : la taille du minibatch locale\n",
        "\n",
        "Cette classe comprend la fonction train qui représente l'entrainement locale de chaque client qui comprend les parametres :\n",
        "- learning_rate : le pas d'apprentissage utilisé dans stochastic gradient descent (SGD)\n",
        "- momentum : un parametre à rajouté lors de la création de l'optimize. Il permet d'échapper au min locale. Pour plus d'informations consulter [ce site](https://www.datasciencelearner.com/sgd-with-momentum/#:~:text=SGD%20with%20momentum%20is%20an%20optimizer%20that%20minimizes,without%20losing%20its%20advantage.%20SGD%20without%20momentum%20%3A)\n",
        "- E : le nombre d'époque d'entrainement locale.\n",
        "- verbos : pour l'affichage\n",
        "\n",
        "**Completer le code suivant dans les cases appropriées** ***(4 pt)***"
      ]
    },
    {
      "cell_type": "code",
      "execution_count": 39,
      "id": "14b91861",
      "metadata": {
        "id": "14b91861"
      },
      "outputs": [],
      "source": [
        "class Client(object):\n",
        "    def __init__(self, client_name, local_dataset,local_model, loss, B):\n",
        "        self.client_name = client_name\n",
        "        self.B = B\n",
        "        self.local_data = DataLoader(local_dataset, batch_size= B, shuffle=True)\n",
        "        self.local_model = local_model\n",
        "        self.loss_func = loss\n",
        "\n",
        "    def train(self, global_parameters, learning_rate, momentum, E, mu, verbos = 1):\n",
        "\n",
        "        ### YOUR CODE HERE ###\n",
        "        # Hint : utiliser la fonction load_state_dict pour intialiser les parametres du modèle locale par global_parameters\n",
        "        self.local_model.load_state_dict(global_parameters)\n",
        "        ### END OF YOUR CODE ###\n",
        "\n",
        "        # choix de l'optimizer\n",
        "        optimizer = torch.optim.SGD(self.local_model.parameters(), lr= learning_rate , momentum= momentum)\n",
        "\n",
        "        # Commencer l'entraineemnt locale\n",
        "        self.local_model.train()\n",
        "\n",
        "        for iter in range(E):\n",
        "            if (verbos == 1) :\n",
        "                print(\"Client : \",self.client_name,\" Iteration :\",iter+1)\n",
        "\n",
        "            for images, labels in self.local_data:\n",
        "                # Intialiser les gradients à 0\n",
        "                self.local_model.zero_grad()\n",
        "                # Calcul des probabilité pour les image du batch i\n",
        "                log_probs = self.local_model(images)\n",
        "                # Calcul de la perte\n",
        "                loss = self.loss_func(log_probs, labels)\n",
        "\n",
        "                # le rajout du terme proximale\n",
        "                if (mu != 0 and iter > 0):\n",
        "                        for w, w_t in zip(self.local_model.parameters(), global_parameters.values()):\n",
        "                            ### YOUR CODE HERE ###\n",
        "                            # Hint : Rajouter le terme proximale à la fonction de perte (utiliser des fonction de torch)\n",
        "                            loss += mu/2 * ( torch.norm( w - w_t ) ) ** 2\n",
        "\n",
        "                            ### END OF YOUR CODE ###\n",
        "\n",
        "                # Calcul des gradients\n",
        "                loss.backward()\n",
        "\n",
        "                # Mise à jour des paramèteres\n",
        "                optimizer.step()\n",
        "\n",
        "        return self.local_model.state_dict()\n",
        "\n",
        "    def get_size(self):\n",
        "        return len(self.local_data)"
      ]
    },
    {
      "cell_type": "markdown",
      "id": "5ba551a2",
      "metadata": {
        "id": "5ba551a2"
      },
      "source": [
        "# 7. Implémentation de la classe Server"
      ]
    },
    {
      "cell_type": "markdown",
      "id": "3f5097c3",
      "metadata": {
        "id": "3f5097c3"
      },
      "source": [
        "Le serveur est chargé de sélectionner une fraction des clients, souvent appelée **Active clients**. Il va ensuite leur envoyer les paramètres du modèle global. Chaque client va entrainer son propre modèle et renvoyer les paramètres locaux au serveur qui les agrège."
      ]
    },
    {
      "cell_type": "markdown",
      "id": "1b05523b",
      "metadata": {
        "id": "1b05523b"
      },
      "source": [
        "On aura ainsi besoin des fonction suivantes :\n",
        "- create_clients : elle va créer des instance de la classe Client\n",
        "- select_active_clients : sélectioner la fraction des clients actives à un tour d'entrainement\n",
        "- weight_scalling_factor : determiner le factor attribuer à un client donné\n",
        "- scale_model_weights : multiplier les parameteres locaux de chaque client par son facteur\n",
        "- sum_scaled_weights : agrégation des différents paramètres\n",
        "\n",
        "**Completer le code suivant dans les cases appropriées** ***(4 pt)***"
      ]
    },
    {
      "cell_type": "code",
      "execution_count": 46,
      "id": "bfde6f25",
      "metadata": {
        "id": "bfde6f25"
      },
      "outputs": [],
      "source": [
        "class Server(object):\n",
        "\n",
        "    def __init__(self, num_clients, global_model, dict_clients, loss_fct, B, dataset_test):\n",
        "        self.K = num_clients # the number of clients\n",
        "        self.model = global_model # the global model\n",
        "        self.list_clients =  [] # a list containing the @ of clients\n",
        "        self.dict_clients = dict_clients\n",
        "        self.create_clients(self.dict_clients, self.model, loss_fct, B)\n",
        "        self.B = B\n",
        "        self.dataset_test = dataset_test\n",
        "\n",
        "    def create_clients(self, data, local_model, loss, B):\n",
        "        '''Création des clients'''\n",
        "\n",
        "        for client_name in self.dict_clients.keys(): # For each client\n",
        "            client = Client(client_name, self.dict_clients[client_name],local_model, loss, B) # Create an object\n",
        "            self.list_clients.append(client) # appeand it to the client list\n",
        "\n",
        "    def select_active_clients(self, comm_round, C, drop_percent = 0):\n",
        "        '''Sélectioner la fraction des clients actives à un tour d'entrainement'''\n",
        "        m = int(max(C*self.K, 1)) # max between c*k and 1\n",
        "        np.random.seed(comm_round) # make sure for each comparison, we are selecting the same clients each round\n",
        "\n",
        "        ### YOUR CODE HERE ###\n",
        "        # Hint : choisiser de manière alétoire m clients parmis K de la liste self.list_clients\n",
        "        client_choiced = np.random.choice(self.list_clients, m ,replace = False)\n",
        "        ### END OF YOUR CODE ###\n",
        "        active_clients = np.random.choice(client_choiced, round(m * (1-drop_percent)), replace=False) # active clients\n",
        "\n",
        "        return active_clients\n",
        "\n",
        "    def weight_scalling_factor(self, client, active_clients):\n",
        "        '''Determiner le factor attribuer à un client donné'''\n",
        "        #first calculate the total training data points across clinets\n",
        "        global_count = sum([client_obj.get_size() for client_obj in active_clients])\n",
        "\n",
        "        # get the total number of data points held by a client\n",
        "        local_count = client.get_size()\n",
        "\n",
        "        return local_count/global_count\n",
        "\n",
        "    def scale_model_weights(self, weight, scalar):\n",
        "        '''multiplier les parameteres locaux de chaque client par son facteur'''\n",
        "        w_scaled = copy.deepcopy(weight)\n",
        "        for k in weight.keys():\n",
        "            w_scaled[k] = scalar*self.model.state_dict()[k]\n",
        "        return w_scaled\n",
        "\n",
        "    def sum_scaled_weights(self, scaled_weight_list):\n",
        "        '''agrégation des différents paramètres'''\n",
        "        w_avg = copy.deepcopy(scaled_weight_list[0])\n",
        "        for k in w_avg.keys():\n",
        "            tmp = torch.zeros_like(scaled_weight_list[0][k], dtype = torch.float32)\n",
        "            for i in range(len(scaled_weight_list)):\n",
        "                tmp += scaled_weight_list[i][k]\n",
        "            w_avg[k].copy_(tmp)\n",
        "        return w_avg\n",
        "\n",
        "\n",
        "    def global_train(self, comms_round, lr, momt, C, E, mu, verbose_test = 1, verbose = 0, drop_percent =0):\n",
        "        '''Entrainement du modèle globale'''\n",
        "\n",
        "        rounds = []\n",
        "        accuarcy = []\n",
        "        loss = []\n",
        "\n",
        "        self.model.train()\n",
        "\n",
        "        # Pour chaque tour d'entrainnement\n",
        "        for comm_round in range(comms_round):\n",
        "            rounds.append(comm_round+1)\n",
        "\n",
        "            if (verbose == 1):\n",
        "                print(\"*************************************************************************************\")\n",
        "                print(\"Tour de communication numéro : \", comm_round + 1)\n",
        "\n",
        "            # Recevoir les parametres du modele globale (en premier on aura les parametres initilialisé)\n",
        "            global_weights = self.model.state_dict()\n",
        "\n",
        "            # Liste pour connecter les parametres du modele * poids de chaque client\n",
        "            scaled_local_weight_list = []\n",
        "\n",
        "            # Choisir une portion C de client\n",
        "            active_clients = self.select_active_clients(comm_round, C, drop_percent)\n",
        "\n",
        "            ### YOUR CODE HERE ###\n",
        "            # Hint : Pour chaque client selectionée\n",
        "            for client in active_clients:\n",
        "            ### END OF YOUR CODE ###\n",
        "                if (verbose == 1):\n",
        "                     print(\"Entrainnement locale du client : \", client.client_name)\n",
        "\n",
        "                # Entrainnement sur les données des clients locale\n",
        "                client_w = client.train(global_weights, lr, momt, E, mu, verbose)\n",
        "\n",
        "                # Avoir les parametres du modele locale *  factor\n",
        "                client_scaling_factor = self.weight_scalling_factor(client, active_clients) #nk/n'\n",
        "\n",
        "                client_scaled_weight = self.scale_model_weights(client_w, client_scaling_factor) #weights*factor\n",
        "                scaled_local_weight_list.append(client_scaled_weight) #enregistrement dans la liste\n",
        "\n",
        "\n",
        "            ### YOUR CODE HERE ###\n",
        "            # Hint : utiliser une fonction déja implementée dans cette classe pour calculer la moyenne des parameters\n",
        "            average_weights = self.sum_scaled_weights(scaled_local_weight_list)\n",
        "\n",
        "            ### END OF YOUR CODE ###\n",
        "\n",
        "\n",
        "            ### YOUR CODE HERE ###\n",
        "            # Hint : utiliser une fonction load_state_dict pour coopier average_weights dans le modèle globale\n",
        "            self.model.load_state_dict(average_weights)\n",
        "\n",
        "            ### END OF YOUR CODE ###\n",
        "\n",
        "\n",
        "            acc_test, loss_test = self.test(self.model, self.dataset_test, self.B)\n",
        "\n",
        "\n",
        "            # Tester le modele gloable chaque round\n",
        "            if (verbose_test == 1):\n",
        "                print(\"Tour d'entrainement n :\", (comm_round+1),\", Test accuarcy : \", acc_test.numpy() ,\", Test loss :\", loss_test)\n",
        "                print(\"*************************************************************************************\")\n",
        "\n",
        "            accuarcy.append(acc_test.numpy())\n",
        "            loss.append(loss_test)\n",
        "\n",
        "        return self.model.state_dict(), accuarcy, loss\n",
        "\n",
        "\n",
        "    def test(self, net_g, datatest, B):\n",
        "        '''Evaluation du modèle globale avec les données de test'''\n",
        "\n",
        "        net_g.eval()\n",
        "\n",
        "        # testing\n",
        "        test_loss = 0\n",
        "        correct = 0\n",
        "        data_loader = DataLoader(datatest, batch_size= B)\n",
        "        l = len(data_loader)\n",
        "        with torch.no_grad():\n",
        "            for idx, (data, target) in enumerate(data_loader):\n",
        "                log_probs = net_g(data)\n",
        "                # sum up batch loss\n",
        "                test_loss += nn.functional.cross_entropy(log_probs, target, reduction='sum').item()\n",
        "\n",
        "                # get the index of the max log-probability\n",
        "                y_pred = log_probs.data.max(1, keepdim=True)[1]\n",
        "                correct += y_pred.eq(target.data.view_as(y_pred)).long().cpu().sum()\n",
        "\n",
        "            test_loss /= len(data_loader.dataset)\n",
        "            accuracy = 100.00 * correct / len(data_loader.dataset)\n",
        "\n",
        "        return accuracy, test_loss"
      ]
    },
    {
      "cell_type": "markdown",
      "id": "00d412bf",
      "metadata": {
        "id": "00d412bf"
      },
      "source": [
        "# 8. Evaluation"
      ]
    },
    {
      "cell_type": "markdown",
      "id": "d991ee1c",
      "metadata": {
        "id": "d991ee1c"
      },
      "source": [
        "## 8.1 données IID"
      ]
    },
    {
      "cell_type": "markdown",
      "id": "3e316f6b",
      "metadata": {
        "id": "3e316f6b"
      },
      "source": [
        "Commencons par tester notre algorithme sur un ensemble de données IID.\n",
        "Pour la suite des tests, on prend B = 50 et E = 5."
      ]
    },
    {
      "cell_type": "markdown",
      "id": "dd9c7f81",
      "metadata": {
        "id": "dd9c7f81"
      },
      "source": [
        "Entrainons notre algorithme sur un environnement avec 10 clients et C = 0.3 (Fraction des clients sélectionnée à chaque tour) :"
      ]
    },
    {
      "cell_type": "code",
      "execution_count": 44,
      "id": "41ff905f",
      "metadata": {
        "id": "41ff905f"
      },
      "outputs": [],
      "source": [
        "time_list_iid = []"
      ]
    },
    {
      "cell_type": "code",
      "execution_count": 47,
      "id": "047239fa",
      "metadata": {
        "id": "047239fa",
        "outputId": "977bcfb4-16f9-46a6-c9ee-68301e9fb716",
        "colab": {
          "base_uri": "https://localhost:8080/",
          "height": 0
        }
      },
      "outputs": [
        {
          "output_type": "stream",
          "name": "stdout",
          "text": [
            "Tour d'entrainement n : 1 , Test accuarcy :  96.84 , Test loss : 0.09828722028266638\n",
            "*************************************************************************************\n",
            "Tour d'entrainement n : 2 , Test accuarcy :  98.04 , Test loss : 0.05666850007723551\n",
            "*************************************************************************************\n",
            "Tour d'entrainement n : 3 , Test accuarcy :  98.58 , Test loss : 0.0441040856646141\n",
            "*************************************************************************************\n",
            "Tour d'entrainement n : 4 , Test accuarcy :  98.65 , Test loss : 0.044071603522764055\n",
            "*************************************************************************************\n",
            "Tour d'entrainement n : 5 , Test accuarcy :  98.66 , Test loss : 0.04493757656564485\n",
            "*************************************************************************************\n"
          ]
        }
      ],
      "source": [
        "model1 = CNN(num_channels =1,  out_channels1=6, out_channels2 = 16, num_classes = 10)\n",
        "\n",
        "# Create the server object\n",
        "server_k10_iid = Server(num_clients = 10, global_model = model1, dict_clients = dict_usersiid, loss_fct =  nn.CrossEntropyLoss(),  B = 50, dataset_test = dataset_test)\n",
        "\n",
        "# Lancement de FedAVG\n",
        "temps_debut = timeit.default_timer()\n",
        "global_model_k10_iid , test_accuracy_k10_iid , loss_k10_iid = server_k10_iid.global_train(comms_round = 5,  lr = 0.01, momt = 0.8, C = 0.3, E = 5, mu =0,verbose_test = 1, verbose = 0)\n",
        "temps_fin = timeit.default_timer() - temps_debut\n",
        "time_list_iid.append(temps_fin)\n",
        "\n",
        "\n",
        "# Cela peut prendre du Temps"
      ]
    },
    {
      "cell_type": "code",
      "execution_count": 48,
      "id": "3c108d3a",
      "metadata": {
        "id": "3c108d3a",
        "outputId": "462c631c-eb45-46fa-b472-da1d54587b86",
        "colab": {
          "base_uri": "https://localhost:8080/",
          "height": 0
        }
      },
      "outputs": [
        {
          "output_type": "execute_result",
          "data": {
            "text/plain": [
              "[array(96.84, dtype=float32),\n",
              " array(98.04, dtype=float32),\n",
              " array(98.58, dtype=float32),\n",
              " array(98.65, dtype=float32),\n",
              " array(98.66, dtype=float32)]"
            ]
          },
          "metadata": {},
          "execution_count": 48
        }
      ],
      "source": [
        "test_accuracy_k10_iid"
      ]
    },
    {
      "cell_type": "code",
      "execution_count": 49,
      "id": "4fa51326",
      "metadata": {
        "id": "4fa51326",
        "outputId": "164d56a0-7623-4490-9ac3-b1776ec639a1",
        "colab": {
          "base_uri": "https://localhost:8080/",
          "height": 0
        }
      },
      "outputs": [
        {
          "output_type": "execute_result",
          "data": {
            "text/plain": [
              "[171.66580153099994]"
            ]
          },
          "metadata": {},
          "execution_count": 49
        }
      ],
      "source": [
        "time_list_iid"
      ]
    },
    {
      "cell_type": "markdown",
      "id": "e134d8b8",
      "metadata": {
        "id": "e134d8b8"
      },
      "source": [
        "Entrainons maintenant notre algorithme sur un environnement avec 100 clients et C = 0.1 (Fraction des clients sélectionnées à chaque tour) :"
      ]
    },
    {
      "cell_type": "code",
      "execution_count": 50,
      "id": "bd88129e",
      "metadata": {
        "id": "bd88129e"
      },
      "outputs": [],
      "source": [
        "# On dévise d'abbord notre dataset sur 100 de manière IID\n",
        "dict_usersiid_100 = division_iid(dataset, 100, initial = \"client\")\n"
      ]
    },
    {
      "cell_type": "code",
      "execution_count": 51,
      "id": "b6904f5a",
      "metadata": {
        "id": "b6904f5a",
        "outputId": "006e4d4f-2c9f-43bf-e200-2d65bb319abb",
        "colab": {
          "base_uri": "https://localhost:8080/",
          "height": 0
        }
      },
      "outputs": [
        {
          "output_type": "stream",
          "name": "stdout",
          "text": [
            "Tour d'entrainement n : 1 , Test accuarcy :  98.55 , Test loss : 0.0523755592376634\n",
            "*************************************************************************************\n",
            "Tour d'entrainement n : 2 , Test accuarcy :  98.63 , Test loss : 0.049726282927519426\n",
            "*************************************************************************************\n",
            "Tour d'entrainement n : 3 , Test accuarcy :  98.62 , Test loss : 0.04741393450215328\n",
            "*************************************************************************************\n",
            "Tour d'entrainement n : 4 , Test accuarcy :  98.45 , Test loss : 0.05269323190230498\n",
            "*************************************************************************************\n",
            "Tour d'entrainement n : 5 , Test accuarcy :  98.65 , Test loss : 0.04597820257044295\n",
            "*************************************************************************************\n"
          ]
        }
      ],
      "source": [
        "model2 = CNN(num_channels =1,  out_channels1=6, out_channels2 = 16, num_classes = 10)\n",
        "\n",
        "# Create the server object\n",
        "server_k100_iid = Server(num_clients = 100, global_model = model2, dict_clients = dict_usersiid_100, loss_fct =  nn.CrossEntropyLoss(),  B = 50, dataset_test = dataset_test)\n",
        "\n",
        "# Lancement de FedAVG\n",
        "temps_debut = timeit.default_timer()\n",
        "global_model_k100_iid , test_accuracy_k100_iid , loss_k100_iid = server_k10_iid.global_train(comms_round = 5,  lr = 0.01, momt = 0.8, C = 0.1, E = 5, mu =0, verbose_test = 1, verbose = 0)\n",
        "temps_fin = timeit.default_timer() - temps_debut\n",
        "time_list_iid.append(temps_fin)"
      ]
    },
    {
      "cell_type": "code",
      "execution_count": 53,
      "id": "16ef5a62",
      "metadata": {
        "id": "16ef5a62",
        "outputId": "3c56f8a4-1cc1-49ad-ff0f-01289507a698",
        "colab": {
          "base_uri": "https://localhost:8080/",
          "height": 455
        }
      },
      "outputs": [
        {
          "output_type": "display_data",
          "data": {
            "text/plain": [
              "<Figure size 640x480 with 1 Axes>"
            ],
            "image/png": "[encoded data removed]"
          },
          "metadata": {}
        }
      ],
      "source": [
        "rounds = np.arange(5) + 1\n",
        "plt.plot(rounds, test_accuracy_k10_iid, color=\"#305f72\", label='iid, K=10, C = 0.3')\n",
        "plt.plot(rounds, test_accuracy_k100_iid, color=\"#F2C75B\", label='iid, K=100, C = 0.1')\n",
        "\n",
        "plt.xlabel(\"#Rounds\")\n",
        "plt.ylabel(\"Accuracy\")\n",
        "plt.legend()\n",
        "plt.show()"
      ]
    },
    {
      "cell_type": "markdown",
      "id": "8cf26f71",
      "metadata": {
        "id": "8cf26f71"
      },
      "source": [
        "**Question** : Que remarquez vous ?    ***(1 pt)***   \n",
        "**Réponse** :\n",
        "Le graphe en bleu représente l'utilisation de 10 clients avec 3 clients par tour, tandis que le graphe jaune illustre l'utilisation de 100 clients avec 10 clients par tour. Les deux graphes convergent lorsque les données sont indépendantes et identiquement distribuées (IID).\n",
        "\n",
        "Le graphe jaune atteint une convergence plus rapide en raison du nombre important de clients initiale, cependant, l'accuracy demeure limitée. En revanche, le graphe bleu présente une augmentation progressive de l'accuracy au fil des itérations. Finalement, après un nombre suffisant d'itérations, l'accuracy du graphe bleu parvient à égaler celle du graphe jaune."
      ]
    },
    {
      "cell_type": "markdown",
      "id": "b13af051",
      "metadata": {
        "id": "b13af051"
      },
      "source": [
        "## 8.2 données non IID"
      ]
    },
    {
      "cell_type": "markdown",
      "id": "18398c72",
      "metadata": {
        "id": "18398c72"
      },
      "source": [
        "Entrainons notre algorithme sur un environnement avec 10 clients et C = 0.3 (Fraction des clients sélectionnées à chaque tour) :"
      ]
    },
    {
      "cell_type": "code",
      "execution_count": 54,
      "id": "50c3943b",
      "metadata": {
        "id": "50c3943b"
      },
      "outputs": [],
      "source": [
        "time_list_non_iid = []"
      ]
    },
    {
      "cell_type": "code",
      "execution_count": 55,
      "id": "28dc1488",
      "metadata": {
        "id": "28dc1488",
        "outputId": "6883c4bc-7ad9-48d4-d306-60f9015c1d9a",
        "colab": {
          "base_uri": "https://localhost:8080/",
          "height": 0
        }
      },
      "outputs": [
        {
          "output_type": "stream",
          "name": "stdout",
          "text": [
            "Tour d'entrainement n : 1 , Test accuarcy :  42.27 , Test loss : 2.147727626800537\n",
            "*************************************************************************************\n",
            "Tour d'entrainement n : 2 , Test accuarcy :  31.47 , Test loss : 2.248576501464844\n",
            "*************************************************************************************\n",
            "Tour d'entrainement n : 3 , Test accuarcy :  25.29 , Test loss : 2.821478108215332\n",
            "*************************************************************************************\n",
            "Tour d'entrainement n : 4 , Test accuarcy :  39.59 , Test loss : 3.3844213470458984\n",
            "*************************************************************************************\n",
            "Tour d'entrainement n : 5 , Test accuarcy :  44.7 , Test loss : 1.7277204895019531\n",
            "*************************************************************************************\n"
          ]
        }
      ],
      "source": [
        "model3 = CNN(num_channels =1,  out_channels1=6, out_channels2 = 16, num_classes = 10)\n",
        "\n",
        "# Create the server object\n",
        "server_k10_non_iid = Server(num_clients = 10, global_model = model3, dict_clients = dict_users_non_iid, loss_fct =  nn.CrossEntropyLoss(),  B = 50, dataset_test = dataset_test)\n",
        "\n",
        "# Lancement de FedAVG\n",
        "temps_debut = timeit.default_timer()\n",
        "global_model_k10_non_iid , test_accuracy_k10_non_iid , loss_k10_non_iid = server_k10_non_iid.global_train(comms_round = 5,  lr = 0.01, momt = 0.8, C = 0.3, E = 5, mu =0,verbose_test = 1, verbose = 0)\n",
        "temps_fin = timeit.default_timer() - temps_debut\n",
        "time_list_non_iid.append(temps_fin)\n",
        "\n",
        "\n",
        "# Cela peut prendre du Temps"
      ]
    },
    {
      "cell_type": "code",
      "execution_count": 56,
      "id": "a0f7cd4d",
      "metadata": {
        "id": "a0f7cd4d",
        "outputId": "071bed71-214a-4251-8fad-70e0cc262fdf",
        "colab": {
          "base_uri": "https://localhost:8080/",
          "height": 0
        }
      },
      "outputs": [
        {
          "output_type": "stream",
          "name": "stdout",
          "text": [
            "Tour d'entrainement n : 1 , Test accuarcy :  30.64 , Test loss : 2.176297622680664\n",
            "*************************************************************************************\n",
            "Tour d'entrainement n : 2 , Test accuarcy :  25.92 , Test loss : 2.1498023834228515\n",
            "*************************************************************************************\n",
            "Tour d'entrainement n : 3 , Test accuarcy :  20.95 , Test loss : 2.627139582824707\n",
            "*************************************************************************************\n",
            "Tour d'entrainement n : 4 , Test accuarcy :  39.02 , Test loss : 2.904259194946289\n",
            "*************************************************************************************\n",
            "Tour d'entrainement n : 5 , Test accuarcy :  45.51 , Test loss : 1.5715747978210448\n",
            "*************************************************************************************\n"
          ]
        }
      ],
      "source": [
        "model4 = CNN(num_channels =1,  out_channels1=6, out_channels2 = 16, num_classes = 10)\n",
        "\n",
        "# Create the server object\n",
        "server_k10_non_iid_prox = Server(num_clients = 10, global_model = model4, dict_clients = dict_users_non_iid, loss_fct =  nn.CrossEntropyLoss(),  B = 50, dataset_test = dataset_test)\n",
        "\n",
        "# Lancement de FedAVG\n",
        "temps_debut = timeit.default_timer()\n",
        "global_model_k10_non_iid_prox , test_accuracy_k10_non_iid_prox , loss_k10_non_iid_prox = server_k10_non_iid_prox.global_train(comms_round = 5,  lr = 0.01, momt = 0.8, C = 0.3, E = 5, mu =1,verbose_test = 1, verbose = 0)\n",
        "temps_fin = timeit.default_timer() - temps_debut\n",
        "time_list_non_iid.append(temps_fin)\n",
        "\n",
        "\n",
        "# Cela peut prendre du Temps"
      ]
    },
    {
      "cell_type": "code",
      "execution_count": 57,
      "id": "79111d99",
      "metadata": {
        "id": "79111d99",
        "outputId": "addb1dec-0af7-4116-cfa3-f3ac9fccb511",
        "colab": {
          "base_uri": "https://localhost:8080/",
          "height": 449
        }
      },
      "outputs": [
        {
          "output_type": "display_data",
          "data": {
            "text/plain": [
              "<Figure size 640x480 with 1 Axes>"
            ],
            "image/png": "[encoded data removed]"
          },
          "metadata": {}
        }
      ],
      "source": [
        "plt.plot(rounds, test_accuracy_k10_non_iid, color=\"#C72C41\", label='non_iid FedAvg (mu = 0)')\n",
        "plt.plot(rounds, test_accuracy_k10_non_iid_prox, color=\"#1B7979\", label='non_iid FedProx (mu = 1)')\n",
        "\n",
        "plt.xlabel(\"#Rounds\")\n",
        "plt.ylabel(\"Accuracy\")\n",
        "plt.legend()\n",
        "plt.show()"
      ]
    },
    {
      "cell_type": "markdown",
      "id": "574b0d13",
      "metadata": {
        "id": "574b0d13"
      },
      "source": [
        "**Question** : Que remarquez vous ? ***(1 pt)***   \n",
        "**Réponse** : Les deux méthodes ont donné de mauvais résultats en raison des données non iid au niveau des clients. Mais, Fedprox a donné de meilleurs résultats que Fedavg. parce que c'est une amélioration de FedAvg (mu)"
      ]
    },
    {
      "cell_type": "code",
      "execution_count": 63,
      "id": "72f20da7",
      "metadata": {
        "id": "72f20da7",
        "outputId": "97f51055-4d55-4bce-ae96-b4bfe3086059",
        "colab": {
          "base_uri": "https://localhost:8080/",
          "height": 175
        }
      },
      "outputs": [
        {
          "output_type": "execute_result",
          "data": {
            "text/plain": [
              "  Répartition    K    C  Test Accuracy        Time\n",
              "0         iid   10  0.3      98.660004  171.665802\n",
              "1         iid  100  0.1      98.650002  186.874701\n",
              "2     non_iid   10  0.3      44.700001  183.148169\n",
              "3     non_idd   10  0.3      45.509998  186.874701"
            ],
            "text/html": [
              "\n",
              "  <div id=\"df-64b7ec26-c6cb-4dad-9ccf-846928d20b09\" class=\"colab-df-container\">\n",
              "    <div>\n",
              "<style scoped>\n",
              "    .dataframe tbody tr th:only-of-type {\n",
              "        vertical-align: middle;\n",
              "    }\n",
              "\n",
              "    .dataframe tbody tr th {\n",
              "        vertical-align: top;\n",
              "    }\n",
              "\n",
              "    .dataframe thead th {\n",
              "        text-align: right;\n",
              "    }\n",
              "</style>\n",
              "<table border=\"1\" class=\"dataframe\">\n",
              "  <thead>\n",
              "    <tr style=\"text-align: right;\">\n",
              "      <th></th>\n",
              "      <th>Répartition</th>\n",
              "      <th>K</th>\n",
              "      <th>C</th>\n",
              "      <th>Test Accuracy</th>\n",
              "      <th>Time</th>\n",
              "    </tr>\n",
              "  </thead>\n",
              "  <tbody>\n",
              "    <tr>\n",
              "      <th>0</th>\n",
              "      <td>iid</td>\n",
              "      <td>10</td>\n",
              "      <td>0.3</td>\n",
              "      <td>98.660004</td>\n",
              "      <td>171.665802</td>\n",
              "    </tr>\n",
              "    <tr>\n",
              "      <th>1</th>\n",
              "      <td>iid</td>\n",
              "      <td>100</td>\n",
              "      <td>0.1</td>\n",
              "      <td>98.650002</td>\n",
              "      <td>186.874701</td>\n",
              "    </tr>\n",
              "    <tr>\n",
              "      <th>2</th>\n",
              "      <td>non_iid</td>\n",
              "      <td>10</td>\n",
              "      <td>0.3</td>\n",
              "      <td>44.700001</td>\n",
              "      <td>183.148169</td>\n",
              "    </tr>\n",
              "    <tr>\n",
              "      <th>3</th>\n",
              "      <td>non_idd</td>\n",
              "      <td>10</td>\n",
              "      <td>0.3</td>\n",
              "      <td>45.509998</td>\n",
              "      <td>186.874701</td>\n",
              "    </tr>\n",
              "  </tbody>\n",
              "</table>\n",
              "</div>\n",
              "    <div class=\"colab-df-buttons\">\n",
              "\n",
              "  <div class=\"colab-df-container\">\n",
              "    <button class=\"colab-df-convert\" onclick=\"convertToInteractive('df-64b7ec26-c6cb-4dad-9ccf-846928d20b09')\"\n",
              "            title=\"Convert this dataframe to an interactive table.\"\n",
              "            style=\"display:none;\">\n",
              "\n",
              "  <svg xmlns=\"http://www.w3.org/2000/svg\" height=\"24px\" viewBox=\"0 -960 960 960\">\n",
              "    <path d=\"M120-120v-720h720v720H120Zm60-500h600v-160H180v160Zm220 220h160v-160H400v160Zm0 220h160v-160H400v160ZM180-400h160v-160H180v160Zm440 0h160v-160H620v160ZM180-180h160v-160H180v160Zm440 0h160v-160H620v160Z\"/>\n",
              "  </svg>\n",
              "    </button>\n",
              "\n",
              "  <style>\n",
              "    .colab-df-container {\n",
              "      display:flex;\n",
              "      gap: 12px;\n",
              "    }\n",
              "\n",
              "    .colab-df-convert {\n",
              "      background-color: #E8F0FE;\n",
              "      border: none;\n",
              "      border-radius: 50%;\n",
              "      cursor: pointer;\n",
              "      display: none;\n",
              "      fill: #1967D2;\n",
              "      height: 32px;\n",
              "      padding: 0 0 0 0;\n",
              "      width: 32px;\n",
              "    }\n",
              "\n",
              "    .colab-df-convert:hover {\n",
              "      background-color: #E2EBFA;\n",
              "      box-shadow: 0px 1px 2px rgba(60, 64, 67, 0.3), 0px 1px 3px 1px rgba(60, 64, 67, 0.15);\n",
              "      fill: #174EA6;\n",
              "    }\n",
              "\n",
              "    .colab-df-buttons div {\n",
              "      margin-bottom: 4px;\n",
              "    }\n",
              "\n",
              "    [theme=dark] .colab-df-convert {\n",
              "      background-color: #3B4455;\n",
              "      fill: #D2E3FC;\n",
              "    }\n",
              "\n",
              "    [theme=dark] .colab-df-convert:hover {\n",
              "      background-color: #434B5C;\n",
              "      box-shadow: 0px 1px 3px 1px rgba(0, 0, 0, 0.15);\n",
              "      filter: drop-shadow(0px 1px 2px rgba(0, 0, 0, 0.3));\n",
              "      fill: #FFFFFF;\n",
              "    }\n",
              "  </style>\n",
              "\n",
              "    <script>\n",
              "      const buttonEl =\n",
              "        document.querySelector('#df-64b7ec26-c6cb-4dad-9ccf-846928d20b09 button.colab-df-convert');\n",
              "      buttonEl.style.display =\n",
              "        google.colab.kernel.accessAllowed ? 'block' : 'none';\n",
              "\n",
              "      async function convertToInteractive(key) {\n",
              "        const element = document.querySelector('#df-64b7ec26-c6cb-4dad-9ccf-846928d20b09');\n",
              "        const dataTable =\n",
              "          await google.colab.kernel.invokeFunction('convertToInteractive',\n",
              "                                                    [key], {});\n",
              "        if (!dataTable) return;\n",
              "\n",
              "        const docLinkHtml = 'Like what you see? Visit the ' +\n",
              "          '<a target=\"_blank\" href=https://colab.research.google.com/notebooks/data_table.ipynb>data table notebook</a>'\n",
              "          + ' to learn more about interactive tables.';\n",
              "        element.innerHTML = '';\n",
              "        dataTable['output_type'] = 'display_data';\n",
              "        await google.colab.output.renderOutput(dataTable, element);\n",
              "        const docLink = document.createElement('div');\n",
              "        docLink.innerHTML = docLinkHtml;\n",
              "        element.appendChild(docLink);\n",
              "      }\n",
              "    </script>\n",
              "  </div>\n",
              "\n",
              "\n",
              "<div id=\"df-4bf6d892-b240-4a94-b9f9-2cad9d67fe20\">\n",
              "  <button class=\"colab-df-quickchart\" onclick=\"quickchart('df-4bf6d892-b240-4a94-b9f9-2cad9d67fe20')\"\n",
              "            title=\"Suggest charts\"\n",
              "            style=\"display:none;\">\n",
              "\n",
              "<svg xmlns=\"http://www.w3.org/2000/svg\" height=\"24px\"viewBox=\"0 0 24 24\"\n",
              "     width=\"24px\">\n",
              "    <g>\n",
              "        <path d=\"M19 3H5c-1.1 0-2 .9-2 2v14c0 1.1.9 2 2 2h14c1.1 0 2-.9 2-2V5c0-1.1-.9-2-2-2zM9 17H7v-7h2v7zm4 0h-2V7h2v10zm4 0h-2v-4h2v4z\"/>\n",
              "    </g>\n",
              "</svg>\n",
              "  </button>\n",
              "\n",
              "<style>\n",
              "  .colab-df-quickchart {\n",
              "      --bg-color: #E8F0FE;\n",
              "      --fill-color: #1967D2;\n",
              "      --hover-bg-color: #E2EBFA;\n",
              "      --hover-fill-color: #174EA6;\n",
              "      --disabled-fill-color: #AAA;\n",
              "      --disabled-bg-color: #DDD;\n",
              "  }\n",
              "\n",
              "  [theme=dark] .colab-df-quickchart {\n",
              "      --bg-color: #3B4455;\n",
              "      --fill-color: #D2E3FC;\n",
              "      --hover-bg-color: #434B5C;\n",
              "      --hover-fill-color: #FFFFFF;\n",
              "      --disabled-bg-color: #3B4455;\n",
              "      --disabled-fill-color: #666;\n",
              "  }\n",
              "\n",
              "  .colab-df-quickchart {\n",
              "    background-color: var(--bg-color);\n",
              "    border: none;\n",
              "    border-radius: 50%;\n",
              "    cursor: pointer;\n",
              "    display: none;\n",
              "    fill: var(--fill-color);\n",
              "    height: 32px;\n",
              "    padding: 0;\n",
              "    width: 32px;\n",
              "  }\n",
              "\n",
              "  .colab-df-quickchart:hover {\n",
              "    background-color: var(--hover-bg-color);\n",
              "    box-shadow: 0 1px 2px rgba(60, 64, 67, 0.3), 0 1px 3px 1px rgba(60, 64, 67, 0.15);\n",
              "    fill: var(--button-hover-fill-color);\n",
              "  }\n",
              "\n",
              "  .colab-df-quickchart-complete:disabled,\n",
              "  .colab-df-quickchart-complete:disabled:hover {\n",
              "    background-color: var(--disabled-bg-color);\n",
              "    fill: var(--disabled-fill-color);\n",
              "    box-shadow: none;\n",
              "  }\n",
              "\n",
              "  .colab-df-spinner {\n",
              "    border: 2px solid var(--fill-color);\n",
              "    border-color: transparent;\n",
              "    border-bottom-color: var(--fill-color);\n",
              "    animation:\n",
              "      spin 1s steps(1) infinite;\n",
              "  }\n",
              "\n",
              "  @keyframes spin {\n",
              "    0% {\n",
              "      border-color: transparent;\n",
              "      border-bottom-color: var(--fill-color);\n",
              "      border-left-color: var(--fill-color);\n",
              "    }\n",
              "    20% {\n",
              "      border-color: transparent;\n",
              "      border-left-color: var(--fill-color);\n",
              "      border-top-color: var(--fill-color);\n",
              "    }\n",
              "    30% {\n",
              "      border-color: transparent;\n",
              "      border-left-color: var(--fill-color);\n",
              "      border-top-color: var(--fill-color);\n",
              "      border-right-color: var(--fill-color);\n",
              "    }\n",
              "    40% {\n",
              "      border-color: transparent;\n",
              "      border-right-color: var(--fill-color);\n",
              "      border-top-color: var(--fill-color);\n",
              "    }\n",
              "    60% {\n",
              "      border-color: transparent;\n",
              "      border-right-color: var(--fill-color);\n",
              "    }\n",
              "    80% {\n",
              "      border-color: transparent;\n",
              "      border-right-color: var(--fill-color);\n",
              "      border-bottom-color: var(--fill-color);\n",
              "    }\n",
              "    90% {\n",
              "      border-color: transparent;\n",
              "      border-bottom-color: var(--fill-color);\n",
              "    }\n",
              "  }\n",
              "</style>\n",
              "\n",
              "  <script>\n",
              "    async function quickchart(key) {\n",
              "      const quickchartButtonEl =\n",
              "        document.querySelector('#' + key + ' button');\n",
              "      quickchartButtonEl.disabled = true;  // To prevent multiple clicks.\n",
              "      quickchartButtonEl.classList.add('colab-df-spinner');\n",
              "      try {\n",
              "        const charts = await google.colab.kernel.invokeFunction(\n",
              "            'suggestCharts', [key], {});\n",
              "      } catch (error) {\n",
              "        console.error('Error during call to suggestCharts:', error);\n",
              "      }\n",
              "      quickchartButtonEl.classList.remove('colab-df-spinner');\n",
              "      quickchartButtonEl.classList.add('colab-df-quickchart-complete');\n",
              "    }\n",
              "    (() => {\n",
              "      let quickchartButtonEl =\n",
              "        document.querySelector('#df-4bf6d892-b240-4a94-b9f9-2cad9d67fe20 button');\n",
              "      quickchartButtonEl.style.display =\n",
              "        google.colab.kernel.accessAllowed ? 'block' : 'none';\n",
              "    })();\n",
              "  </script>\n",
              "</div>\n",
              "    </div>\n",
              "  </div>\n"
            ]
          },
          "metadata": {},
          "execution_count": 63
        }
      ],
      "source": [
        "pd.DataFrame({\n",
        "    \"Répartition\" : [\"iid\", \"iid\", \"non_iid\", \"non_idd\"],\n",
        "    \"K\" : [10, 100, 10, 10],\n",
        "    \"C\" : [0.3, 0.1, 0.3, 0.3],\n",
        "    \"Test Accuracy\" : [float(test_accuracy_k10_iid[4]), float(test_accuracy_k100_iid[4]), float(test_accuracy_k10_non_iid[4]), float(test_accuracy_k10_non_iid_prox[4])],\n",
        "    \"Time\" : [time_list_iid[0], time_list_non_iid[1], time_list_non_iid[0], time_list_non_iid[1]]\n",
        "})"
      ]
    },
    {
      "cell_type": "markdown",
      "id": "f74702a5",
      "metadata": {
        "id": "f74702a5"
      },
      "source": [
        "**Question** : Pourquoi FedAvg avec 10 clients prends plus de temps que FedAvg avec 100 cliens dans des données idd (un simple calcul mathétmatique) ? ***(1.5 pt)***     \n",
        "**Réponse** :\n",
        "- Étant donné que les données sont indépendantes et identiquement distribuées (IID), tous les clients partagent la même charge de travail. Par conséquent, l'algorithme FedAvg avec 100 clients sera plus rapide, car chaque client a une quantité moindre de données à traiter. Cela s'explique par le fait que FedAvg doit attendre que tous les clients aient terminé le calcul de leurs pertes individuelles avant de pouvoir calculer la moyenne des pertes.\n",
        "\n",
        "  La charge de travail pour chaque client est définie comme Données/(C*K), où C est le nombre de clients et K est le nombre d'itérations. Ainsi, dans le cas de 10 clients avec C=0.3, le temps nécessaire sera plus élevé que celui pour 100 clients avec C=0.1, car la charge de travail par client sera plus importante pour le scénario avec 10 clients lors de l'utilisation de FedAvg.\n",
        "\n"
      ]
    },
    {
      "cell_type": "markdown",
      "id": "3baadcf9",
      "metadata": {
        "id": "3baadcf9"
      },
      "source": [
        "# Conclusion\n",
        "\n",
        "**Question** : Nous remarquons que même si nous utilisons d'autres techniques comme FedProx, la performance de l'apprentissage fédéré dans les environnements hétérogènes reste limitée. C'est pourquoi d'autres techniques intelligentes ont été proposées. Nommez deux d'entre elles et comment peuvent-elles être utilisées ?***(1.5 pt)***    \n",
        "\n",
        "\n",
        "**Réponse** :\n",
        "- Utilisation de l'apprentissage fédéré via le renforcement pour améliorer la convergence et assurer la stabilité.\n",
        "  \n",
        "-  transfert learning des poids d'un client à des données différentes, avec une immobilisation des dernières couches.\n",
        "\n",
        "- Groupement des clients en communauté selon la similitude de leurs dataset."
      ]
    }
  ],
  "metadata": {
    "kernelspec": {
      "display_name": "Python 3",
      "name": "python3"
    },
    "language_info": {
      "codemirror_mode": {
        "name": "ipython",
        "version": 3
      },
      "file_extension": ".py",
      "mimetype": "text/x-python",
      "name": "python",
      "nbconvert_exporter": "python",
      "pygments_lexer": "ipython3",
      "version": "3.10.7"
    },
    "colab": {
      "provenance": [],
      "gpuType": "T4"
    },
    "accelerator": "GPU"
  },
  "nbformat": 4,
  "nbformat_minor": 5
}